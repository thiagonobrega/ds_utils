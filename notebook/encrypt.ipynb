{
 "cells": [
  {
   "cell_type": "markdown",
   "metadata": {},
   "source": [
    "Anonimiza e compara todos os datasets"
   ]
  },
  {
   "cell_type": "markdown",
   "metadata": {},
   "source": [
    "# Metodos e Imports"
   ]
  },
  {
   "cell_type": "code",
   "execution_count": 1,
   "metadata": {},
   "outputs": [],
   "source": [
    "import zipfile\n",
    "import os\n",
    "import sys\n",
    "import math\n",
    "\n",
    "from collections import defaultdict\n",
    "\n",
    "import pandas as pd\n",
    "import numpy as np\n",
    "from bitarray import bitarray\n",
    "import ngram\n",
    "from tqdm.notebook import trange, tqdm\n",
    "\n",
    "sys.path.append(\"../libs/\")\n",
    "\n",
    "from datasetutil import open_processed_ds , gerar_gabarito\n",
    "from bloomfilter import BloomFilter\n",
    "from encrypt import compare_ds , get_max_length_of_record\n"
   ]
  },
  {
   "cell_type": "code",
   "execution_count": 9,
   "metadata": {},
   "outputs": [],
   "source": [
    "def salvar_comparacoes(dfa,dfb,gs,list_atts,names_atts,outdir,filename):\n",
    "    assert len(list_atts) == len(names_atts)\n",
    "\n",
    "    stats = []\n",
    "\n",
    "    # compaacoes\n",
    "    #salvar resultados\n",
    "    outfile = outdir + filename + '.zip'\n",
    "    with zipfile.ZipFile(outfile, 'w' , zipfile.ZIP_DEFLATED) as csv_zip:\n",
    "        \n",
    "        for i in range(0,len(list_atts)):\n",
    "            atts = list_atts[i]\n",
    "            ds, stat = compare_ds(dfa,dfb,atts,gs)\n",
    "            \n",
    "            print(len(ds[ds.is_match == 1]))\n",
    "            \n",
    "            att = names_atts[i]\n",
    "            infile_ = filename + '-atts-' + att +'.csv'\n",
    "            csv_zip.writestr(infile_, ds .to_csv(sep=';',index=False))\n",
    "            \n",
    "            del ds\n",
    "            stats.append(stat)\n",
    "            \n",
    "        csv_zip.writestr('estatiscas.txt', pd.DataFrame(stats) .to_csv(sep=';',index=False))\n",
    "    \n",
    "    #salvar resultados\n",
    "#     outfile = outdir + filename + '.zip'\n",
    "#     with zipfile.ZipFile(outfile, 'w' , zipfile.ZIP_DEFLATED) as csv_zip:\n",
    "\n",
    "#         for i in range(0,len(names_atts)):\n",
    "#             att = names_atts[i]\n",
    "#             infile_ = filename + '-atts-' + att +'.csv'\n",
    "#             csv_zip.writestr(infile_, dss[i] .to_csv(sep=';',index=False))"
   ]
  },
  {
   "cell_type": "markdown",
   "metadata": {},
   "source": [
    "# Global Variables"
   ]
  },
  {
   "cell_type": "code",
   "execution_count": 3,
   "metadata": {},
   "outputs": [],
   "source": [
    "datasets_dir = \"D:\\Dados\\OneDrive\\Doutorado\\Datasets\\\\\""
   ]
  },
  {
   "cell_type": "markdown",
   "metadata": {
    "heading_collapsed": true
   },
   "source": [
    "# Census"
   ]
  },
  {
   "cell_type": "code",
   "execution_count": null,
   "metadata": {
    "hidden": true
   },
   "outputs": [],
   "source": [
    "ds_dir = \"hpi.de_naumann\\census\\\\\"\n",
    "ds_file = \"processed_census.zip\"\n",
    "\n",
    "zdf = datasets_dir + ds_dir + ds_file\n",
    "\n",
    "a,b,gold = open_processed_ds(zdf)"
   ]
  },
  {
   "cell_type": "code",
   "execution_count": null,
   "metadata": {
    "hidden": true,
    "pycharm": {
     "name": "#%%\n"
    }
   },
   "outputs": [],
   "source": [
    "a.zip_code = a.zip_code.astype(str)\n",
    "b.zip_code = b.zip_code.astype(str)\n",
    "\n",
    "gabarito = gerar_gabarito(gold)\n",
    "# 1 , 2, 3, 4 (mais ou menos)\n",
    "zatts_list  = [ [1,2] , [1,2,4] , [1,2,4,5] , [1,3,2,4,5] ]\n",
    "zatts_names = [ '1' , '2' , '3' , '4' ]"
   ]
  },
  {
   "cell_type": "code",
   "execution_count": null,
   "metadata": {
    "hidden": true
   },
   "outputs": [],
   "source": [
    "salvar_comparacoes(a,b,gabarito,zatts_list,zatts_names,datasets_dir+ds_dir,'census_comparison')"
   ]
  },
  {
   "cell_type": "markdown",
   "metadata": {},
   "source": [
    "# NC Voters"
   ]
  },
  {
   "cell_type": "code",
   "execution_count": 4,
   "metadata": {},
   "outputs": [],
   "source": [
    "ds_dir = \"NCVR\\\\\""
   ]
  },
  {
   "cell_type": "markdown",
   "metadata": {
    "heading_collapsed": true
   },
   "source": [
    "## 5000"
   ]
  },
  {
   "cell_type": "code",
   "execution_count": null,
   "metadata": {
    "hidden": true
   },
   "outputs": [],
   "source": [
    "ds_file = \"ncvoters_5000_0.1.zip\"\n",
    "\n",
    "zdf = datasets_dir + ds_dir + ds_file\n",
    "\n",
    "a,b,gold = open_processed_ds(zdf)"
   ]
  },
  {
   "cell_type": "code",
   "execution_count": null,
   "metadata": {
    "hidden": true
   },
   "outputs": [],
   "source": [
    "a.zip_code = a.zip_code.astype(str)\n",
    "b.zip_code = b.zip_code.astype(str)\n",
    "\n",
    "gabarito = gerar_gabarito(gold)\n",
    "# 1 , 2, 3, 4 (mais ou menos)\n",
    "zatts_list  = [ [2,3,4] , [2,3,4,5] , [2,3,4,5,8] , [2,3,4,5,8,7] ]\n",
    "zatts_names = [ '1' , '2' , '3' , '4' ]"
   ]
  },
  {
   "cell_type": "code",
   "execution_count": null,
   "metadata": {
    "hidden": true
   },
   "outputs": [],
   "source": [
    "salvar_comparacoes(a,b,gabarito,zatts_list,zatts_names,datasets_dir+ds_dir,'ncvoters_5000_0_1')"
   ]
  },
  {
   "cell_type": "markdown",
   "metadata": {
    "heading_collapsed": true
   },
   "source": [
    "## 3000"
   ]
  },
  {
   "cell_type": "code",
   "execution_count": 6,
   "metadata": {
    "hidden": true
   },
   "outputs": [],
   "source": [
    "ds_file = \"ncvoters_3000_0.1.zip\"\n",
    "\n",
    "zdf = datasets_dir + ds_dir + ds_file\n",
    "\n",
    "a,b,gold = open_processed_ds(zdf)"
   ]
  },
  {
   "cell_type": "code",
   "execution_count": 7,
   "metadata": {
    "hidden": true
   },
   "outputs": [],
   "source": [
    "a.zip_code = a.zip_code.astype(str)\n",
    "b.zip_code = b.zip_code.astype(str)\n",
    "\n",
    "gabarito = gerar_gabarito(gold)\n",
    "# 1 , 2, 3, 4 (mais ou menos)\n",
    "zatts_list  = [ [2,3,4] , [2,3,4,5] , [2,3,4,5,8] , [2,3,4,5,8,7] ]\n",
    "zatts_names = [ '1' , '2' , '3' , '4' ]"
   ]
  },
  {
   "cell_type": "code",
   "execution_count": 8,
   "metadata": {
    "hidden": true
   },
   "outputs": [
    {
     "data": {
      "application/vnd.jupyter.widget-view+json": {
       "model_id": "",
       "version_major": 2,
       "version_minor": 0
      },
      "text/plain": [
       "HBox(children=(FloatProgress(value=0.0, max=5000.0), HTML(value='')))"
      ]
     },
     "metadata": {},
     "output_type": "display_data"
    },
    {
     "name": "stdout",
     "output_type": "stream",
     "text": [
      "\n"
     ]
    },
    {
     "data": {
      "application/vnd.jupyter.widget-view+json": {
       "model_id": "452ea6b9a2db412d8c951fd1df8aafeb",
       "version_major": 2,
       "version_minor": 0
      },
      "text/plain": [
       "HBox(children=(FloatProgress(value=0.0, max=5000.0), HTML(value='')))"
      ]
     },
     "metadata": {},
     "output_type": "display_data"
    },
    {
     "name": "stdout",
     "output_type": "stream",
     "text": [
      "\n"
     ]
    },
    {
     "ename": "KeyboardInterrupt",
     "evalue": "",
     "output_type": "error",
     "traceback": [
      "\u001b[1;31m---------------------------------------------------------------------------\u001b[0m",
      "\u001b[1;31mKeyboardInterrupt\u001b[0m                         Traceback (most recent call last)",
      "\u001b[1;32m<ipython-input-8-775aec9024b2>\u001b[0m in \u001b[0;36m<module>\u001b[1;34m\u001b[0m\n\u001b[1;32m----> 1\u001b[1;33m \u001b[0msalvar_comparacoes\u001b[0m\u001b[1;33m(\u001b[0m\u001b[0ma\u001b[0m\u001b[1;33m,\u001b[0m\u001b[0mb\u001b[0m\u001b[1;33m,\u001b[0m\u001b[0mgabarito\u001b[0m\u001b[1;33m,\u001b[0m\u001b[0mzatts_list\u001b[0m\u001b[1;33m,\u001b[0m\u001b[0mzatts_names\u001b[0m\u001b[1;33m,\u001b[0m\u001b[0mdatasets_dir\u001b[0m\u001b[1;33m+\u001b[0m\u001b[0mds_dir\u001b[0m\u001b[1;33m,\u001b[0m\u001b[1;34m'ncvoters_3000_0_1'\u001b[0m\u001b[1;33m)\u001b[0m\u001b[1;33m\u001b[0m\u001b[1;33m\u001b[0m\u001b[0m\n\u001b[0m",
      "\u001b[1;32m<ipython-input-3-4568c92abcab>\u001b[0m in \u001b[0;36msalvar_comparacoes\u001b[1;34m(dfa, dfb, gs, list_atts, names_atts, outdir, filename)\u001b[0m\n\u001b[0;32m     11\u001b[0m         \u001b[1;32mfor\u001b[0m \u001b[0mi\u001b[0m \u001b[1;32min\u001b[0m \u001b[0mrange\u001b[0m\u001b[1;33m(\u001b[0m\u001b[1;36m0\u001b[0m\u001b[1;33m,\u001b[0m\u001b[0mlen\u001b[0m\u001b[1;33m(\u001b[0m\u001b[0mlist_atts\u001b[0m\u001b[1;33m)\u001b[0m\u001b[1;33m)\u001b[0m\u001b[1;33m:\u001b[0m\u001b[1;33m\u001b[0m\u001b[1;33m\u001b[0m\u001b[0m\n\u001b[0;32m     12\u001b[0m             \u001b[0matts\u001b[0m \u001b[1;33m=\u001b[0m \u001b[0mlist_atts\u001b[0m\u001b[1;33m[\u001b[0m\u001b[0mi\u001b[0m\u001b[1;33m]\u001b[0m\u001b[1;33m\u001b[0m\u001b[1;33m\u001b[0m\u001b[0m\n\u001b[1;32m---> 13\u001b[1;33m             \u001b[0mds\u001b[0m\u001b[1;33m,\u001b[0m \u001b[0mstat\u001b[0m \u001b[1;33m=\u001b[0m \u001b[0mcompare_ds\u001b[0m\u001b[1;33m(\u001b[0m\u001b[0mdfa\u001b[0m\u001b[1;33m,\u001b[0m\u001b[0mdfb\u001b[0m\u001b[1;33m,\u001b[0m\u001b[0matts\u001b[0m\u001b[1;33m,\u001b[0m\u001b[0mgs\u001b[0m\u001b[1;33m)\u001b[0m\u001b[1;33m\u001b[0m\u001b[1;33m\u001b[0m\u001b[0m\n\u001b[0m\u001b[0;32m     14\u001b[0m \u001b[1;33m\u001b[0m\u001b[0m\n\u001b[0;32m     15\u001b[0m             \u001b[0matt\u001b[0m \u001b[1;33m=\u001b[0m \u001b[0mnames_atts\u001b[0m\u001b[1;33m[\u001b[0m\u001b[0mi\u001b[0m\u001b[1;33m]\u001b[0m\u001b[1;33m\u001b[0m\u001b[1;33m\u001b[0m\u001b[0m\n",
      "\u001b[1;32mD:\\Dados\\OneDrive\\Doutorado\\workspace\\utils\\libs\\encrypt.py\u001b[0m in \u001b[0;36mcompare_ds\u001b[1;34m(dfa, dfb, atts, golds, bigrams)\u001b[0m\n\u001b[0;32m    117\u001b[0m \u001b[1;33m\u001b[0m\u001b[0m\n\u001b[0;32m    118\u001b[0m             \u001b[0mdice\u001b[0m \u001b[1;33m=\u001b[0m \u001b[0mdice_coefficient\u001b[0m\u001b[1;33m(\u001b[0m\u001b[0mbf1\u001b[0m\u001b[1;33m,\u001b[0m \u001b[0mbf2\u001b[0m\u001b[1;33m)\u001b[0m\u001b[1;33m\u001b[0m\u001b[1;33m\u001b[0m\u001b[0m\n\u001b[1;32m--> 119\u001b[1;33m             \u001b[0mjac\u001b[0m \u001b[1;33m=\u001b[0m \u001b[0mjaccard_coefficient\u001b[0m\u001b[1;33m(\u001b[0m\u001b[0mbf1\u001b[0m\u001b[1;33m,\u001b[0m \u001b[0mbf2\u001b[0m\u001b[1;33m)\u001b[0m\u001b[1;33m\u001b[0m\u001b[1;33m\u001b[0m\u001b[0m\n\u001b[0m\u001b[0;32m    120\u001b[0m             \u001b[0mol\u001b[0m \u001b[1;33m=\u001b[0m \u001b[0moverlap_coefficient\u001b[0m\u001b[1;33m(\u001b[0m\u001b[0mbf1\u001b[0m\u001b[1;33m,\u001b[0m \u001b[0mbf2\u001b[0m\u001b[1;33m)\u001b[0m\u001b[1;33m\u001b[0m\u001b[1;33m\u001b[0m\u001b[0m\n\u001b[0;32m    121\u001b[0m             \u001b[0mha\u001b[0m \u001b[1;33m=\u001b[0m \u001b[0mhamming_coefficient\u001b[0m\u001b[1;33m(\u001b[0m\u001b[0mbf1\u001b[0m\u001b[1;33m,\u001b[0m \u001b[0mbf2\u001b[0m\u001b[1;33m)\u001b[0m\u001b[1;33m\u001b[0m\u001b[1;33m\u001b[0m\u001b[0m\n",
      "\u001b[1;32mD:\\Dados\\OneDrive\\Doutorado\\workspace\\utils\\libs\\bloomfilter.py\u001b[0m in \u001b[0;36mjaccard_coefficient\u001b[1;34m(filter1, filter2)\u001b[0m\n\u001b[0;32m    265\u001b[0m     \u001b[1;31m# 1 -http://blog.demofox.org/2015/02/08/estimating-set-membership-with-a-bloom-filter/\u001b[0m\u001b[1;33m\u001b[0m\u001b[1;33m\u001b[0m\u001b[1;33m\u001b[0m\u001b[0m\n\u001b[0;32m    266\u001b[0m \u001b[1;33m\u001b[0m\u001b[0m\n\u001b[1;32m--> 267\u001b[1;33m     \u001b[0minter\u001b[0m \u001b[1;33m=\u001b[0m \u001b[0mfilter1\u001b[0m\u001b[1;33m.\u001b[0m\u001b[0mintersection\u001b[0m\u001b[1;33m(\u001b[0m\u001b[0mfilter2\u001b[0m\u001b[1;33m)\u001b[0m\u001b[1;33m.\u001b[0m\u001b[0mfilter\u001b[0m\u001b[1;33m.\u001b[0m\u001b[0mcount\u001b[0m\u001b[1;33m(\u001b[0m\u001b[1;32mTrue\u001b[0m\u001b[1;33m)\u001b[0m\u001b[1;33m\u001b[0m\u001b[1;33m\u001b[0m\u001b[0m\n\u001b[0m\u001b[0;32m    268\u001b[0m     \u001b[0munion\u001b[0m \u001b[1;33m=\u001b[0m \u001b[0mfilter1\u001b[0m\u001b[1;33m.\u001b[0m\u001b[0munion\u001b[0m\u001b[1;33m(\u001b[0m\u001b[0mfilter2\u001b[0m\u001b[1;33m)\u001b[0m\u001b[1;33m.\u001b[0m\u001b[0mfilter\u001b[0m\u001b[1;33m.\u001b[0m\u001b[0mcount\u001b[0m\u001b[1;33m(\u001b[0m\u001b[1;32mTrue\u001b[0m\u001b[1;33m)\u001b[0m\u001b[1;33m\u001b[0m\u001b[1;33m\u001b[0m\u001b[0m\n\u001b[0;32m    269\u001b[0m \u001b[1;33m\u001b[0m\u001b[0m\n",
      "\u001b[1;32mD:\\Dados\\OneDrive\\Doutorado\\workspace\\utils\\libs\\bloomfilter.py\u001b[0m in \u001b[0;36mintersection\u001b[1;34m(self, other)\u001b[0m\n\u001b[0;32m     80\u001b[0m             \u001b[0mself\u001b[0m\u001b[1;33m.\u001b[0m\u001b[0merror_rate\u001b[0m \u001b[1;33m!=\u001b[0m \u001b[0mother\u001b[0m\u001b[1;33m.\u001b[0m\u001b[0merror_rate\u001b[0m\u001b[1;33m:\u001b[0m\u001b[1;33m\u001b[0m\u001b[1;33m\u001b[0m\u001b[0m\n\u001b[0;32m     81\u001b[0m             \u001b[1;32mraise\u001b[0m \u001b[0mValueError\u001b[0m\u001b[1;33m(\u001b[0m\u001b[1;34m\"Intersecting filters requires both filters to have equal capacity and error rate\"\u001b[0m\u001b[1;33m)\u001b[0m\u001b[1;33m\u001b[0m\u001b[1;33m\u001b[0m\u001b[0m\n\u001b[1;32m---> 82\u001b[1;33m         \u001b[0mnew_bloom\u001b[0m \u001b[1;33m=\u001b[0m \u001b[0mself\u001b[0m\u001b[1;33m.\u001b[0m\u001b[0mcopy\u001b[0m\u001b[1;33m(\u001b[0m\u001b[1;33m)\u001b[0m\u001b[1;33m\u001b[0m\u001b[1;33m\u001b[0m\u001b[0m\n\u001b[0m\u001b[0;32m     83\u001b[0m         \u001b[0mnew_bloom\u001b[0m\u001b[1;33m.\u001b[0m\u001b[0mfilter\u001b[0m \u001b[1;33m=\u001b[0m \u001b[0mnew_bloom\u001b[0m\u001b[1;33m.\u001b[0m\u001b[0mfilter\u001b[0m \u001b[1;33m&\u001b[0m \u001b[0mother\u001b[0m\u001b[1;33m.\u001b[0m\u001b[0mfilter\u001b[0m\u001b[1;33m\u001b[0m\u001b[1;33m\u001b[0m\u001b[0m\n\u001b[0;32m     84\u001b[0m         \u001b[1;32mreturn\u001b[0m \u001b[0mnew_bloom\u001b[0m\u001b[1;33m\u001b[0m\u001b[1;33m\u001b[0m\u001b[0m\n",
      "\u001b[1;32mD:\\Dados\\OneDrive\\Doutorado\\workspace\\utils\\libs\\bloomfilter.py\u001b[0m in \u001b[0;36mcopy\u001b[1;34m(self)\u001b[0m\n\u001b[0;32m    104\u001b[0m             \u001b[0mReturn\u001b[0m \u001b[0ma\u001b[0m \u001b[0mcopy\u001b[0m \u001b[0mof\u001b[0m \u001b[0mthis\u001b[0m \u001b[0mbloom\u001b[0m \u001b[0mfilter\u001b[0m\u001b[1;33m.\u001b[0m\u001b[1;33m\u001b[0m\u001b[1;33m\u001b[0m\u001b[0m\n\u001b[0;32m    105\u001b[0m         \"\"\"\n\u001b[1;32m--> 106\u001b[1;33m         \u001b[0mnew_filter\u001b[0m \u001b[1;33m=\u001b[0m \u001b[0mBloomFilter\u001b[0m\u001b[1;33m(\u001b[0m\u001b[0mself\u001b[0m\u001b[1;33m.\u001b[0m\u001b[0mcapacity\u001b[0m\u001b[1;33m,\u001b[0m \u001b[0mself\u001b[0m\u001b[1;33m.\u001b[0m\u001b[0merror_rate\u001b[0m\u001b[1;33m)\u001b[0m\u001b[1;33m\u001b[0m\u001b[1;33m\u001b[0m\u001b[0m\n\u001b[0m\u001b[0;32m    107\u001b[0m         \u001b[0mnew_filter\u001b[0m\u001b[1;33m.\u001b[0m\u001b[0mfilter\u001b[0m \u001b[1;33m=\u001b[0m \u001b[0mself\u001b[0m\u001b[1;33m.\u001b[0m\u001b[0mfilter\u001b[0m\u001b[1;33m.\u001b[0m\u001b[0mcopy\u001b[0m\u001b[1;33m(\u001b[0m\u001b[1;33m)\u001b[0m\u001b[1;33m\u001b[0m\u001b[1;33m\u001b[0m\u001b[0m\n\u001b[0;32m    108\u001b[0m         \u001b[1;32mreturn\u001b[0m \u001b[0mnew_filter\u001b[0m\u001b[1;33m\u001b[0m\u001b[1;33m\u001b[0m\u001b[0m\n",
      "\u001b[1;32mD:\\Dados\\OneDrive\\Doutorado\\workspace\\utils\\libs\\bloomfilter.py\u001b[0m in \u001b[0;36m__init__\u001b[1;34m(self, cap, fpr, bfpower, bs)\u001b[0m\n\u001b[0;32m     40\u001b[0m \u001b[1;33m\u001b[0m\u001b[0m\n\u001b[0;32m     41\u001b[0m         \u001b[1;31m# Build the empty bloom filter\u001b[0m\u001b[1;33m\u001b[0m\u001b[1;33m\u001b[0m\u001b[1;33m\u001b[0m\u001b[0m\n\u001b[1;32m---> 42\u001b[1;33m         \u001b[0mself\u001b[0m\u001b[1;33m.\u001b[0m\u001b[0mfilter\u001b[0m \u001b[1;33m=\u001b[0m \u001b[0mbitarray\u001b[0m\u001b[1;33m.\u001b[0m\u001b[0mbitarray\u001b[0m\u001b[1;33m(\u001b[0m\u001b[0mself\u001b[0m\u001b[1;33m.\u001b[0m\u001b[0mbit_size\u001b[0m\u001b[1;33m)\u001b[0m\u001b[1;33m\u001b[0m\u001b[1;33m\u001b[0m\u001b[0m\n\u001b[0m\u001b[0;32m     43\u001b[0m         \u001b[0mself\u001b[0m\u001b[1;33m.\u001b[0m\u001b[0mfilter\u001b[0m\u001b[1;33m.\u001b[0m\u001b[0msetall\u001b[0m\u001b[1;33m(\u001b[0m\u001b[1;32mFalse\u001b[0m\u001b[1;33m)\u001b[0m\u001b[1;33m\u001b[0m\u001b[1;33m\u001b[0m\u001b[0m\n\u001b[0;32m     44\u001b[0m \u001b[1;33m\u001b[0m\u001b[0m\n",
      "\u001b[1;31mKeyboardInterrupt\u001b[0m: "
     ]
    }
   ],
   "source": [
    "salvar_comparacoes(a,b,gabarito,zatts_list,zatts_names,datasets_dir+ds_dir,'ncvoters_3000_0_1')"
   ]
  },
  {
   "cell_type": "markdown",
   "metadata": {},
   "source": [
    "## 1700"
   ]
  },
  {
   "cell_type": "code",
   "execution_count": 6,
   "metadata": {},
   "outputs": [],
   "source": [
    "ds_file = \"ncvoters_1700_0.1.zip\"\n",
    "\n",
    "zdf = datasets_dir + ds_dir + ds_file\n",
    "\n",
    "a,b,gold = open_processed_ds(zdf)"
   ]
  },
  {
   "cell_type": "code",
   "execution_count": 7,
   "metadata": {},
   "outputs": [],
   "source": [
    "a.zip_code = a.zip_code.astype(str)\n",
    "b.zip_code = b.zip_code.astype(str)\n",
    "\n",
    "gabarito = gerar_gabarito(gold)\n",
    "# 1 , 2, 3, 4 (mais ou menos)\n",
    "zatts_list  = [ [2,3,4] , [2,3,4,5] , [2,3,4,5,8] , [2,3,4,5,8,7] ]\n",
    "zatts_names = [ '1' , '2' , '3' , '4' ]"
   ]
  },
  {
   "cell_type": "code",
   "execution_count": 10,
   "metadata": {},
   "outputs": [
    {
     "data": {
      "application/vnd.jupyter.widget-view+json": {
       "model_id": "7e1f2a098e2946ceabf4dc34941cd1ac",
       "version_major": 2,
       "version_minor": 0
      },
      "text/plain": [
       "HBox(children=(FloatProgress(value=0.0, max=1700.0), HTML(value='')))"
      ]
     },
     "metadata": {},
     "output_type": "display_data"
    },
    {
     "name": "stdout",
     "output_type": "stream",
     "text": [
      "\n",
      "170\n"
     ]
    },
    {
     "data": {
      "application/vnd.jupyter.widget-view+json": {
       "model_id": "1ae57e4ae2d0496c8b201097f94dfcb2",
       "version_major": 2,
       "version_minor": 0
      },
      "text/plain": [
       "HBox(children=(FloatProgress(value=0.0, max=1700.0), HTML(value='')))"
      ]
     },
     "metadata": {},
     "output_type": "display_data"
    },
    {
     "name": "stdout",
     "output_type": "stream",
     "text": [
      "\n",
      "170\n"
     ]
    },
    {
     "data": {
      "application/vnd.jupyter.widget-view+json": {
       "model_id": "5d0bf3dacff241a38fa9831473806fe5",
       "version_major": 2,
       "version_minor": 0
      },
      "text/plain": [
       "HBox(children=(FloatProgress(value=0.0, max=1700.0), HTML(value='')))"
      ]
     },
     "metadata": {},
     "output_type": "display_data"
    },
    {
     "name": "stdout",
     "output_type": "stream",
     "text": [
      "\n",
      "170\n"
     ]
    },
    {
     "data": {
      "application/vnd.jupyter.widget-view+json": {
       "model_id": "3c48a792622748b984e833f6b2e070a4",
       "version_major": 2,
       "version_minor": 0
      },
      "text/plain": [
       "HBox(children=(FloatProgress(value=0.0, max=1700.0), HTML(value='')))"
      ]
     },
     "metadata": {},
     "output_type": "display_data"
    },
    {
     "name": "stdout",
     "output_type": "stream",
     "text": [
      "\n",
      "170\n"
     ]
    }
   ],
   "source": [
    "salvar_comparacoes(a,b,gabarito,zatts_list,zatts_names,datasets_dir+ds_dir,'comparison_ncvoters_1700_0_1')"
   ]
  },
  {
   "cell_type": "markdown",
   "metadata": {
    "heading_collapsed": true
   },
   "source": [
    "# TSE"
   ]
  },
  {
   "cell_type": "code",
   "execution_count": null,
   "metadata": {
    "hidden": true
   },
   "outputs": [],
   "source": [
    "ds_dir = \"tse\\\\\""
   ]
  },
  {
   "cell_type": "markdown",
   "metadata": {
    "heading_collapsed": true,
    "hidden": true
   },
   "source": [
    "## 2k"
   ]
  },
  {
   "cell_type": "code",
   "execution_count": 4,
   "metadata": {
    "hidden": true
   },
   "outputs": [],
   "source": [
    "ds_file = \"processed_tse-2k-8.zip\"\n",
    "\n",
    "zdf = datasets_dir + ds_dir + ds_file\n",
    "\n",
    "a,b,gold = open_processed_ds(zdf)"
   ]
  },
  {
   "cell_type": "code",
   "execution_count": 5,
   "metadata": {
    "hidden": true
   },
   "outputs": [],
   "source": [
    "gabarito = gerar_gabarito(gold)\n",
    "# 1 , 2, 3, 4 (mais ou menos)\n",
    "zatts_list  = [ [1] , [1,5] , [1,5,6] , [1,5,6,3] ]\n",
    "zatts_names = [ '1' , '2' , '3' , '4' ]"
   ]
  },
  {
   "cell_type": "code",
   "execution_count": 6,
   "metadata": {
    "hidden": true,
    "scrolled": true
   },
   "outputs": [
    {
     "data": {
      "application/vnd.jupyter.widget-view+json": {
       "model_id": "311663ad08ba4d58a73a4cdf671380f6",
       "version_major": 2,
       "version_minor": 0
      },
      "text/plain": [
       "HBox(children=(FloatProgress(value=0.0, max=2001.0), HTML(value='')))"
      ]
     },
     "metadata": {},
     "output_type": "display_data"
    },
    {
     "name": "stdout",
     "output_type": "stream",
     "text": [
      "\n"
     ]
    },
    {
     "data": {
      "application/vnd.jupyter.widget-view+json": {
       "model_id": "347c9bf755c4460c9c77021bd1f06bc7",
       "version_major": 2,
       "version_minor": 0
      },
      "text/plain": [
       "HBox(children=(FloatProgress(value=0.0, max=2001.0), HTML(value='')))"
      ]
     },
     "metadata": {},
     "output_type": "display_data"
    },
    {
     "name": "stdout",
     "output_type": "stream",
     "text": [
      "\n"
     ]
    },
    {
     "data": {
      "application/vnd.jupyter.widget-view+json": {
       "model_id": "a0352d64eafd4224bb970572f45c72f8",
       "version_major": 2,
       "version_minor": 0
      },
      "text/plain": [
       "HBox(children=(FloatProgress(value=0.0, max=2001.0), HTML(value='')))"
      ]
     },
     "metadata": {},
     "output_type": "display_data"
    },
    {
     "name": "stdout",
     "output_type": "stream",
     "text": [
      "\n"
     ]
    },
    {
     "data": {
      "application/vnd.jupyter.widget-view+json": {
       "model_id": "2e79679533e5491590f8b1e9e1ba7d57",
       "version_major": 2,
       "version_minor": 0
      },
      "text/plain": [
       "HBox(children=(FloatProgress(value=0.0, max=2001.0), HTML(value='')))"
      ]
     },
     "metadata": {},
     "output_type": "display_data"
    },
    {
     "name": "stdout",
     "output_type": "stream",
     "text": [
      "\n"
     ]
    }
   ],
   "source": [
    "salvar_comparacoes(a,b,gabarito,zatts_list,zatts_names,datasets_dir+ds_dir,'tse_2k_comparison')"
   ]
  },
  {
   "cell_type": "markdown",
   "metadata": {
    "heading_collapsed": true,
    "hidden": true
   },
   "source": [
    "## 10k\n",
    "\n",
    "nao rodou"
   ]
  },
  {
   "cell_type": "code",
   "execution_count": 4,
   "metadata": {
    "hidden": true
   },
   "outputs": [],
   "source": [
    "ds_file = \"processed_tse-10k-8.zip\"\n",
    "\n",
    "zdf = datasets_dir + ds_dir + ds_file\n",
    "\n",
    "a,b,gold = open_processed_ds(zdf)"
   ]
  },
  {
   "cell_type": "code",
   "execution_count": 5,
   "metadata": {
    "hidden": true
   },
   "outputs": [],
   "source": [
    "gabarito = gerar_gabarito(gold)\n",
    "# 1 , 2, 3, 4 (mais ou menos)\n",
    "zatts_list  = [ [1] , [1,5] , [1,5,6] , [1,5,6,3] ]\n",
    "zatts_names = [ '1' , '2' , '3' , '4' ]"
   ]
  },
  {
   "cell_type": "code",
   "execution_count": 6,
   "metadata": {
    "hidden": true
   },
   "outputs": [
    {
     "data": {
      "application/vnd.jupyter.widget-view+json": {
       "model_id": "311663ad08ba4d58a73a4cdf671380f6",
       "version_major": 2,
       "version_minor": 0
      },
      "text/plain": [
       "HBox(children=(FloatProgress(value=0.0, max=2001.0), HTML(value='')))"
      ]
     },
     "metadata": {},
     "output_type": "display_data"
    },
    {
     "name": "stdout",
     "output_type": "stream",
     "text": [
      "\n"
     ]
    },
    {
     "data": {
      "application/vnd.jupyter.widget-view+json": {
       "model_id": "347c9bf755c4460c9c77021bd1f06bc7",
       "version_major": 2,
       "version_minor": 0
      },
      "text/plain": [
       "HBox(children=(FloatProgress(value=0.0, max=2001.0), HTML(value='')))"
      ]
     },
     "metadata": {},
     "output_type": "display_data"
    },
    {
     "name": "stdout",
     "output_type": "stream",
     "text": [
      "\n"
     ]
    },
    {
     "data": {
      "application/vnd.jupyter.widget-view+json": {
       "model_id": "a0352d64eafd4224bb970572f45c72f8",
       "version_major": 2,
       "version_minor": 0
      },
      "text/plain": [
       "HBox(children=(FloatProgress(value=0.0, max=2001.0), HTML(value='')))"
      ]
     },
     "metadata": {},
     "output_type": "display_data"
    },
    {
     "name": "stdout",
     "output_type": "stream",
     "text": [
      "\n"
     ]
    },
    {
     "data": {
      "application/vnd.jupyter.widget-view+json": {
       "model_id": "2e79679533e5491590f8b1e9e1ba7d57",
       "version_major": 2,
       "version_minor": 0
      },
      "text/plain": [
       "HBox(children=(FloatProgress(value=0.0, max=2001.0), HTML(value='')))"
      ]
     },
     "metadata": {},
     "output_type": "display_data"
    },
    {
     "name": "stdout",
     "output_type": "stream",
     "text": [
      "\n"
     ]
    }
   ],
   "source": [
    "salvar_comparacoes(a,b,gabarito,zatts_list,zatts_names,datasets_dir+ds_dir,'tse_10k_comparison')"
   ]
  },
  {
   "cell_type": "code",
   "execution_count": null,
   "metadata": {
    "hidden": true
   },
   "outputs": [],
   "source": [
    "# encryptData('Ola Mundo',12)"
   ]
  }
 ],
 "metadata": {
  "kernelspec": {
   "display_name": "Python 3",
   "language": "python",
   "name": "python3"
  },
  "language_info": {
   "codemirror_mode": {
    "name": "ipython",
    "version": 3
   },
   "file_extension": ".py",
   "mimetype": "text/x-python",
   "name": "python",
   "nbconvert_exporter": "python",
   "pygments_lexer": "ipython3",
   "version": "3.7.7"
  },
  "latex_envs": {
   "LaTeX_envs_menu_present": true,
   "autoclose": false,
   "autocomplete": true,
   "bibliofile": "biblio.bib",
   "cite_by": "apalike",
   "current_citInitial": 1,
   "eqLabelWithNumbers": true,
   "eqNumInitial": 1,
   "hotkeys": {
    "equation": "Ctrl-E",
    "itemize": "Ctrl-I"
   },
   "labels_anchors": false,
   "latex_user_defs": false,
   "report_style_numbering": false,
   "user_envs_cfg": false
  },
  "toc": {
   "base_numbering": 1,
   "nav_menu": {},
   "number_sections": true,
   "sideBar": true,
   "skip_h1_title": false,
   "title_cell": "Table of Contents",
   "title_sidebar": "Contents",
   "toc_cell": false,
   "toc_position": {},
   "toc_section_display": true,
   "toc_window_display": false
  }
 },
 "nbformat": 4,
 "nbformat_minor": 1
}
