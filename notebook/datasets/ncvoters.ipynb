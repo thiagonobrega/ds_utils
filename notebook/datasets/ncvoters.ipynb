{
 "cells": [
  {
   "cell_type": "code",
   "execution_count": 1,
   "metadata": {},
   "outputs": [],
   "source": [
    "import sys\n",
    "import zipfile\n",
    "import os\n",
    "from random import sample \n",
    "\n",
    "import numpy as np\n",
    "import pandas as pd\n",
    "from IPython.display import display, HTML\n",
    "\n",
    "sys.path.append(\"../../libs/\")\n",
    "\n",
    "from datasetutil import gerar_estatiscas_df, substituir_valores_nulos , verify_gg4cc , save_zip2"
   ]
  },
  {
   "cell_type": "markdown",
   "metadata": {},
   "source": [
    "## Metodos"
   ]
  },
  {
   "cell_type": "code",
   "execution_count": 2,
   "metadata": {
    "pycharm": {
     "name": "#%%\n"
    }
   },
   "outputs": [],
   "source": [
    "def read(zinput):\n",
    "    '''\n",
    "        Ler zip com os datasets\n",
    "    '''\n",
    "    zf = zipfile.ZipFile(zinput) \n",
    "\n",
    "    scol = [68,2,10,11,9,28,29,13,14,15,1,16]\n",
    "\n",
    "    df = pd.read_csv(zf.open(zipfile.ZipFile.namelist(zf)[0]),header=0,\n",
    "                encoding=\"iso-8859-1\",sep=\"\\t\",\n",
    "                usecols=scol,\n",
    "    #             chunksize=640000000,\n",
    "                error_bad_lines=False)#,\n",
    "#             nrows=15)\n",
    "    return df.iloc[:, [11,1,3,4,2,9,10,5,6,0,7,8,]]\n",
    "\n",
    "# df.iloc[:, [68,2,10,11,9,28,29,13,14,15,1,16]]"
   ]
  },
  {
   "cell_type": "code",
   "execution_count": 3,
   "metadata": {},
   "outputs": [],
   "source": [
    "def gerar_ds(set_a,set_b,n=5000,m=.5):\n",
    "    '''\n",
    "    Recupera um conjunto com os ids das entidades que serão utilizadas no \n",
    "    conjunto a, conjunto b e gabarito\n",
    "    \n",
    "    '''\n",
    "    \n",
    "    um = 1 - m\n",
    "    \n",
    "    total_m = int(n * m)\n",
    "    total_um = int(n * um)\n",
    "    \n",
    "    inter_ab = list(set_a & set_b)\n",
    "    \n",
    "    nb = set_a.difference(inter_ab)\n",
    "    na = set_b.difference(inter_ab)\n",
    "    \n",
    "    matches = sample(inter_ab, total_m)\n",
    "    unmatch_a = sample(nb, total_um)\n",
    "    unmatch_b = sample(na, total_um)\n",
    "    \n",
    "    return matches + unmatch_a, matches + unmatch_b , matches"
   ]
  },
  {
   "cell_type": "code",
   "execution_count": 4,
   "metadata": {},
   "outputs": [],
   "source": [
    "def popular_ds(dsa,dsb,list_a,list_b,gab):\n",
    "    '''\n",
    "        Monta o dataset com base nas listas\n",
    "        \n",
    "        @return dataset a\n",
    "        @return dataset b\n",
    "        @return goldstanrd\n",
    "    '''\n",
    "    za = dsa[dsa.ncid.isin(list_a)]\n",
    "    zb = dsb[dsb.ncid.isin(list_b)]\n",
    "\n",
    "    gs = pd.DataFrame(list(zip(gab)),columns=['id1'])\n",
    "    gs['id2'] = gs.id1\n",
    "    return za, zb , gs\n",
    "\n",
    "def save_all(dsa,dsb,gs,outfile):\n",
    "    '''\n",
    "    Salva tudo em um zip\n",
    "    '''\n",
    "    \n",
    "    n_a = dsa.isnull().sum()\n",
    "    s_a = dsa.describe(include='object')\n",
    "    n_b = dsb.isnull().sum()\n",
    "    s_b = dsb.describe(include='object')\n",
    "    \n",
    "    sa = gerar_estatiscas_df(n_a,s_a)\n",
    "    sb = gerar_estatiscas_df(n_b,s_b)\n",
    "    \n",
    "    dfa = substituir_valores_nulos(dsa)\n",
    "    dfb = substituir_valores_nulos(dsb)\n",
    "    \n",
    "    save_zip2(dfa,dfb,gs,sa,sb,outfile)"
   ]
  },
  {
   "cell_type": "markdown",
   "metadata": {},
   "source": [
    "## Leitura dos dados"
   ]
  },
  {
   "cell_type": "code",
   "execution_count": 5,
   "metadata": {},
   "outputs": [],
   "source": [
    "ds_files = 'D:\\Dados\\OneDrive\\Doutorado\\Datasets\\\\NCVR\\\\'\n",
    "fa = 'ncvoter_Statewide_18102016.zip'\n",
    "fb = 'ncvoter_Statewide_31052020.zip'"
   ]
  },
  {
   "cell_type": "code",
   "execution_count": 6,
   "metadata": {},
   "outputs": [],
   "source": [
    "a = read(ds_files + fa)"
   ]
  },
  {
   "cell_type": "code",
   "execution_count": 7,
   "metadata": {},
   "outputs": [],
   "source": [
    "b = read(ds_files + fb)"
   ]
  },
  {
   "cell_type": "markdown",
   "metadata": {},
   "source": [
    "## gerando os datasets"
   ]
  },
  {
   "cell_type": "code",
   "execution_count": 8,
   "metadata": {},
   "outputs": [],
   "source": [
    "sa = set(a.ncid.unique())\n",
    "sb = set(b.ncid.unique())"
   ]
  },
  {
   "cell_type": "code",
   "execution_count": 10,
   "metadata": {},
   "outputs": [
    {
     "name": "stderr",
     "output_type": "stream",
     "text": [
      "../../libs\\datasetutil.py:78: SettingWithCopyWarning: \n",
      "A value is trying to be set on a copy of a slice from a DataFrame.\n",
      "Try using .loc[row_indexer,col_indexer] = value instead\n",
      "\n",
      "See the caveats in the documentation: https://pandas.pydata.org/pandas-docs/stable/user_guide/indexing.html#returning-a-view-versus-a-copy\n",
      "  df[c] = df[c].fillna(strrpl)\n"
     ]
    },
    {
     "name": "stdout",
     "output_type": "stream",
     "text": [
      "D:\\Dados\\OneDrive\\Doutorado\\Datasets\\NCVR\\ncvoters_1700_0.1.zip\n",
      "D:\\Dados\\OneDrive\\Doutorado\\Datasets\\NCVR\\ncvoters_1700_0.01.zip\n"
     ]
    }
   ],
   "source": [
    "n = 1700\n",
    "ds_files = 'D:\\Dados\\OneDrive\\Doutorado\\Datasets\\\\NCVR\\\\'\n",
    "\n",
    "prefix = 'ncvoters_'\n",
    "sufix = '.zip'\n",
    "\n",
    "for i in [.1,.01]:\n",
    "    la,lb , gab = gerar_ds(sa,sb,m=i,n=n)\n",
    "    dsa , dsb , gs = popular_ds(a,b,la,lb,gab)\n",
    "    of = ds_files + prefix + str(n) +\"_\"+ str(i)+sufix\n",
    "    save_all(dsa,dsb,gs,of)\n",
    "    print(of)\n",
    "    "
   ]
  },
  {
   "cell_type": "markdown",
   "metadata": {
    "heading_collapsed": true
   },
   "source": [
    "## Scratch"
   ]
  },
  {
   "cell_type": "code",
   "execution_count": 128,
   "metadata": {
    "hidden": true
   },
   "outputs": [
    {
     "data": {
      "text/html": [
       "<div>\n",
       "<style scoped>\n",
       "    .dataframe tbody tr th:only-of-type {\n",
       "        vertical-align: middle;\n",
       "    }\n",
       "\n",
       "    .dataframe tbody tr th {\n",
       "        vertical-align: top;\n",
       "    }\n",
       "\n",
       "    .dataframe thead th {\n",
       "        text-align: right;\n",
       "    }\n",
       "</style>\n",
       "<table border=\"1\" class=\"dataframe\">\n",
       "  <thead>\n",
       "    <tr style=\"text-align: right;\">\n",
       "      <th></th>\n",
       "      <th>ncid</th>\n",
       "      <th>voter_reg_num</th>\n",
       "      <th>first_name</th>\n",
       "      <th>middle_name</th>\n",
       "      <th>last_name</th>\n",
       "      <th>gender_code</th>\n",
       "      <th>birth_age</th>\n",
       "      <th>res_street_address</th>\n",
       "      <th>res_city_desc</th>\n",
       "      <th>county_desc</th>\n",
       "      <th>state_cd</th>\n",
       "      <th>zip_code</th>\n",
       "    </tr>\n",
       "  </thead>\n",
       "  <tbody>\n",
       "    <tr>\n",
       "      <th>5485994</th>\n",
       "      <td>DE306001</td>\n",
       "      <td>347016</td>\n",
       "      <td>PATIENCE</td>\n",
       "      <td>MARIE</td>\n",
       "      <td>ALLEY</td>\n",
       "      <td>F</td>\n",
       "      <td>22</td>\n",
       "      <td>301  MCCAULEY ST</td>\n",
       "      <td>CHAPEL HILL</td>\n",
       "      <td>ORANGE</td>\n",
       "      <td>NC</td>\n",
       "      <td>27516.0</td>\n",
       "    </tr>\n",
       "  </tbody>\n",
       "</table>\n",
       "</div>"
      ],
      "text/plain": [
       "             ncid  voter_reg_num first_name middle_name last_name gender_code  \\\n",
       "5485994  DE306001         347016   PATIENCE       MARIE     ALLEY           F   \n",
       "\n",
       "         birth_age   res_street_address res_city_desc county_desc state_cd  \\\n",
       "5485994         22  301  MCCAULEY ST      CHAPEL HILL      ORANGE       NC   \n",
       "\n",
       "         zip_code  \n",
       "5485994   27516.0  "
      ]
     },
     "execution_count": 128,
     "metadata": {},
     "output_type": "execute_result"
    }
   ],
   "source": [
    "b[b.ncid == inter_ab[1090]]"
   ]
  },
  {
   "cell_type": "code",
   "execution_count": null,
   "metadata": {
    "hidden": true
   },
   "outputs": [],
   "source": []
  },
  {
   "cell_type": "code",
   "execution_count": 100,
   "metadata": {
    "hidden": true
   },
   "outputs": [
    {
     "data": {
      "text/plain": [
       "5000"
      ]
     },
     "execution_count": 100,
     "metadata": {},
     "output_type": "execute_result"
    }
   ],
   "source": [
    "def "
   ]
  },
  {
   "cell_type": "code",
   "execution_count": 102,
   "metadata": {
    "hidden": true
   },
   "outputs": [],
   "source": [
    "za = a[a.ncid.isin(z)]"
   ]
  },
  {
   "cell_type": "code",
   "execution_count": 125,
   "metadata": {
    "hidden": true
   },
   "outputs": [],
   "source": [
    "m = pd.DataFrame(list(zip(gab)),columns=['id1'])\n",
    "m['id2'] = m.id1"
   ]
  },
  {
   "cell_type": "code",
   "execution_count": 126,
   "metadata": {
    "hidden": true
   },
   "outputs": [
    {
     "data": {
      "text/html": [
       "<div>\n",
       "<style scoped>\n",
       "    .dataframe tbody tr th:only-of-type {\n",
       "        vertical-align: middle;\n",
       "    }\n",
       "\n",
       "    .dataframe tbody tr th {\n",
       "        vertical-align: top;\n",
       "    }\n",
       "\n",
       "    .dataframe thead th {\n",
       "        text-align: right;\n",
       "    }\n",
       "</style>\n",
       "<table border=\"1\" class=\"dataframe\">\n",
       "  <thead>\n",
       "    <tr style=\"text-align: right;\">\n",
       "      <th></th>\n",
       "      <th>id1</th>\n",
       "      <th>id2</th>\n",
       "    </tr>\n",
       "  </thead>\n",
       "  <tbody>\n",
       "    <tr>\n",
       "      <th>0</th>\n",
       "      <td>AW150460</td>\n",
       "      <td>AW150460</td>\n",
       "    </tr>\n",
       "    <tr>\n",
       "      <th>1</th>\n",
       "      <td>AM5954</td>\n",
       "      <td>AM5954</td>\n",
       "    </tr>\n",
       "    <tr>\n",
       "      <th>2</th>\n",
       "      <td>BY646962</td>\n",
       "      <td>BY646962</td>\n",
       "    </tr>\n",
       "    <tr>\n",
       "      <th>3</th>\n",
       "      <td>BN472840</td>\n",
       "      <td>BN472840</td>\n",
       "    </tr>\n",
       "    <tr>\n",
       "      <th>4</th>\n",
       "      <td>EH196985</td>\n",
       "      <td>EH196985</td>\n",
       "    </tr>\n",
       "    <tr>\n",
       "      <th>...</th>\n",
       "      <td>...</td>\n",
       "      <td>...</td>\n",
       "    </tr>\n",
       "    <tr>\n",
       "      <th>2495</th>\n",
       "      <td>BE263779</td>\n",
       "      <td>BE263779</td>\n",
       "    </tr>\n",
       "    <tr>\n",
       "      <th>2496</th>\n",
       "      <td>AR4636</td>\n",
       "      <td>AR4636</td>\n",
       "    </tr>\n",
       "    <tr>\n",
       "      <th>2497</th>\n",
       "      <td>DC9586</td>\n",
       "      <td>DC9586</td>\n",
       "    </tr>\n",
       "    <tr>\n",
       "      <th>2498</th>\n",
       "      <td>DT32478</td>\n",
       "      <td>DT32478</td>\n",
       "    </tr>\n",
       "    <tr>\n",
       "      <th>2499</th>\n",
       "      <td>DZ27310</td>\n",
       "      <td>DZ27310</td>\n",
       "    </tr>\n",
       "  </tbody>\n",
       "</table>\n",
       "<p>2500 rows × 2 columns</p>\n",
       "</div>"
      ],
      "text/plain": [
       "           id1       id2\n",
       "0     AW150460  AW150460\n",
       "1       AM5954    AM5954\n",
       "2     BY646962  BY646962\n",
       "3     BN472840  BN472840\n",
       "4     EH196985  EH196985\n",
       "...        ...       ...\n",
       "2495  BE263779  BE263779\n",
       "2496    AR4636    AR4636\n",
       "2497    DC9586    DC9586\n",
       "2498   DT32478   DT32478\n",
       "2499   DZ27310   DZ27310\n",
       "\n",
       "[2500 rows x 2 columns]"
      ]
     },
     "execution_count": 126,
     "metadata": {},
     "output_type": "execute_result"
    }
   ],
   "source": [
    "m"
   ]
  },
  {
   "cell_type": "code",
   "execution_count": null,
   "metadata": {
    "hidden": true
   },
   "outputs": [],
   "source": []
  }
 ],
 "metadata": {
  "kernelspec": {
   "display_name": "Python 3",
   "language": "python",
   "name": "python3"
  },
  "language_info": {
   "codemirror_mode": {
    "name": "ipython",
    "version": 3
   },
   "file_extension": ".py",
   "mimetype": "text/x-python",
   "name": "python",
   "nbconvert_exporter": "python",
   "pygments_lexer": "ipython3",
   "version": "3.7.7"
  },
  "latex_envs": {
   "LaTeX_envs_menu_present": true,
   "autoclose": false,
   "autocomplete": true,
   "bibliofile": "biblio.bib",
   "cite_by": "apalike",
   "current_citInitial": 1,
   "eqLabelWithNumbers": true,
   "eqNumInitial": 1,
   "hotkeys": {
    "equation": "Ctrl-E",
    "itemize": "Ctrl-I"
   },
   "labels_anchors": false,
   "latex_user_defs": false,
   "report_style_numbering": false,
   "user_envs_cfg": false
  },
  "toc": {
   "base_numbering": 1,
   "nav_menu": {},
   "number_sections": true,
   "sideBar": true,
   "skip_h1_title": false,
   "title_cell": "Table of Contents",
   "title_sidebar": "Contents",
   "toc_cell": false,
   "toc_position": {},
   "toc_section_display": true,
   "toc_window_display": false
  }
 },
 "nbformat": 4,
 "nbformat_minor": 1
}