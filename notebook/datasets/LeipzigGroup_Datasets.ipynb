{
 "cells": [
  {
   "cell_type": "code",
   "execution_count": 1,
   "metadata": {
    "slideshow": {
     "slide_type": "skip"
    }
   },
   "outputs": [],
   "source": [
    "import sys\n",
    "import zipfile\n",
    "import os\n",
    "\n",
    "import numpy as np\n",
    "import pandas as pd\n",
    "from IPython.display import display, HTML\n",
    "\n",
    "sys.path.append(\"../../libs/\")\n",
    "\n",
    "from datasetutil import gerar_estatiscas_df, substituir_valores_nulos , verify_gg4cc , save_zip"
   ]
  },
  {
   "cell_type": "code",
   "execution_count": 2,
   "metadata": {
    "slideshow": {
     "slide_type": "skip"
    }
   },
   "outputs": [
    {
     "data": {
      "text/html": [
       "<style>\n",
       ".output {\n",
       "    flex-direction: row;\n",
       "}\n",
       "</style>"
      ],
      "text/plain": [
       "<IPython.core.display.HTML object>"
      ]
     },
     "execution_count": 2,
     "metadata": {},
     "output_type": "execute_result"
    }
   ],
   "source": [
    "\n",
    "CSS = \"\"\"\n",
    ".output {\n",
    "    flex-direction: row;\n",
    "}\n",
    "\"\"\"\n",
    "\n",
    "HTML('<style>{}</style>'.format(CSS))"
   ]
  },
  {
   "cell_type": "markdown",
   "metadata": {},
   "source": [
    "# Metodos"
   ]
  },
  {
   "cell_type": "code",
   "execution_count": 3,
   "metadata": {},
   "outputs": [],
   "source": [
    "def read(zinput,nome_arquivo,\n",
    "         file_format=\".csv\",\n",
    "         separador=',',codificacao=\"iso-8859-1\"):\n",
    "    '''\n",
    "        Ler zip com os datasets\n",
    "    '''\n",
    "    zf = zipfile.ZipFile(zinput) \n",
    "\n",
    "    for file in zipfile.ZipFile.namelist(zf):\n",
    "        if file == nome_arquivo+file_format:\n",
    "            df = pd.read_csv(zf.open(file), header=0, encoding=codificacao,\n",
    "                             sep=separador,error_bad_lines=False)#,\n",
    "#             chunksize=640000000,\n",
    "#             nrows=15)\n",
    "            return df\n",
    "# df.iloc[:, [68,2,10,11,9,28,29,13,14,15,1,16]]"
   ]
  },
  {
   "cell_type": "markdown",
   "metadata": {},
   "source": [
    "# Produtos"
   ]
  },
  {
   "cell_type": "markdown",
   "metadata": {
    "slideshow": {
     "slide_type": "slide"
    }
   },
   "source": [
    "## Abt-buy\n",
    "\n",
    "Leipzig group"
   ]
  },
  {
   "cell_type": "code",
   "execution_count": 94,
   "metadata": {
    "slideshow": {
     "slide_type": "skip"
    }
   },
   "outputs": [],
   "source": [
    "base_dir = 'D:'+os.sep+'Dados'+os.sep+'OneDrive'+os.sep+'Doutorado'+os.sep\n",
    "ds_files = 'D:\\Dados\\OneDrive\\Doutorado\\Datasets\\Leipzig\\\\'\n",
    "out_file = base_dir + 'workspace'+os.sep+'tl_pprl2'+os.sep+'datasets'+os.sep+'abt-buy'+os.sep\n",
    "\n",
    "inputZip = 'Abt-Buy.zip'\n",
    "ds1_name = 'Abt'\n",
    "ds2_name = 'Buy'\n",
    "gs_name ='abt_buy_perfectMapping'\n",
    "\n",
    "\n",
    "zip_file = 'processed_abt-buy.zip'\n",
    "\n",
    "ds1 = read(ds_files+inputZip,ds1_name)\n",
    "ds2 = read(ds_files+inputZip,ds2_name)\n",
    "gs = read(ds_files+inputZip,gs_name)"
   ]
  },
  {
   "cell_type": "markdown",
   "metadata": {
    "heading_collapsed": true,
    "slideshow": {
     "slide_type": "slide"
    }
   },
   "source": [
    "### Estatisticas"
   ]
  },
  {
   "cell_type": "code",
   "execution_count": 95,
   "metadata": {
    "hidden": true
   },
   "outputs": [],
   "source": [
    "# ds1.pop('description')\n",
    "# ds1.pop('price')\n",
    "# ds2.pop('description')\n",
    "# z = ds2.pop('price')\n",
    "# del z"
   ]
  },
  {
   "cell_type": "code",
   "execution_count": 96,
   "metadata": {
    "hidden": true,
    "slideshow": {
     "slide_type": "skip"
    }
   },
   "outputs": [],
   "source": [
    "nan_list1 = ds1.isnull().sum()\n",
    "nan_list2 = ds2.isnull().sum()\n",
    "\n",
    "estatiscas1 = ds1.describe(include='object')\n",
    "estatiscas2 = ds2.describe(include='object')\n",
    "\n",
    "sdf1 = gerar_estatiscas_df(nan_list1,estatiscas1)\n",
    "sdf1['ds'] = ds1_name\n",
    "\n",
    "sdf2 = gerar_estatiscas_df(nan_list2,estatiscas2)\n",
    "sdf2['ds'] = ds2_name\n",
    "\n",
    "estatiscas = pd.concat([sdf1,sdf2]).to_csv(ds_files+'stats_abt-buy.csv',sep=';')"
   ]
  },
  {
   "cell_type": "markdown",
   "metadata": {
    "hidden": true,
    "slideshow": {
     "slide_type": "subslide"
    }
   },
   "source": [
    "Dataset para deduplicação com:"
   ]
  },
  {
   "cell_type": "code",
   "execution_count": 97,
   "metadata": {
    "hidden": true
   },
   "outputs": [
    {
     "data": {
      "text/html": [
       "<div>\n",
       "<style scoped>\n",
       "    .dataframe tbody tr th:only-of-type {\n",
       "        vertical-align: middle;\n",
       "    }\n",
       "\n",
       "    .dataframe tbody tr th {\n",
       "        vertical-align: top;\n",
       "    }\n",
       "\n",
       "    .dataframe thead th {\n",
       "        text-align: right;\n",
       "    }\n",
       "</style>\n",
       "<table border=\"1\" class=\"dataframe\">\n",
       "  <thead>\n",
       "    <tr style=\"text-align: right;\">\n",
       "      <th></th>\n",
       "      <th>name</th>\n",
       "      <th>description</th>\n",
       "      <th>price</th>\n",
       "      <th>ds</th>\n",
       "    </tr>\n",
       "    <tr>\n",
       "      <th>metrica</th>\n",
       "      <th></th>\n",
       "      <th></th>\n",
       "      <th></th>\n",
       "      <th></th>\n",
       "    </tr>\n",
       "  </thead>\n",
       "  <tbody>\n",
       "    <tr>\n",
       "      <th>count</th>\n",
       "      <td>1081</td>\n",
       "      <td>1081</td>\n",
       "      <td>418</td>\n",
       "      <td>Abt</td>\n",
       "    </tr>\n",
       "    <tr>\n",
       "      <th>unique</th>\n",
       "      <td>1081</td>\n",
       "      <td>1081</td>\n",
       "      <td>166</td>\n",
       "      <td>Abt</td>\n",
       "    </tr>\n",
       "    <tr>\n",
       "      <th>top</th>\n",
       "      <td>Garmin Nuvi 255W GPS Navigation System - 01000...</td>\n",
       "      <td>Peerless 32' - 50' Articulating Flat Panel TV ...</td>\n",
       "      <td>$49.00</td>\n",
       "      <td>Abt</td>\n",
       "    </tr>\n",
       "    <tr>\n",
       "      <th>freq</th>\n",
       "      <td>1</td>\n",
       "      <td>1</td>\n",
       "      <td>18</td>\n",
       "      <td>Abt</td>\n",
       "    </tr>\n",
       "    <tr>\n",
       "      <th>nan</th>\n",
       "      <td>0</td>\n",
       "      <td>0</td>\n",
       "      <td>0</td>\n",
       "      <td>Abt</td>\n",
       "    </tr>\n",
       "  </tbody>\n",
       "</table>\n",
       "</div>"
      ],
      "text/plain": [
       "                                                      name  \\\n",
       "metrica                                                      \n",
       "count                                                 1081   \n",
       "unique                                                1081   \n",
       "top      Garmin Nuvi 255W GPS Navigation System - 01000...   \n",
       "freq                                                     1   \n",
       "nan                                                      0   \n",
       "\n",
       "                                               description   price   ds  \n",
       "metrica                                                                  \n",
       "count                                                 1081     418  Abt  \n",
       "unique                                                1081     166  Abt  \n",
       "top      Peerless 32' - 50' Articulating Flat Panel TV ...  $49.00  Abt  \n",
       "freq                                                     1      18  Abt  \n",
       "nan                                                      0       0  Abt  "
      ]
     },
     "metadata": {},
     "output_type": "display_data"
    },
    {
     "data": {
      "text/html": [
       "<div>\n",
       "<style scoped>\n",
       "    .dataframe tbody tr th:only-of-type {\n",
       "        vertical-align: middle;\n",
       "    }\n",
       "\n",
       "    .dataframe tbody tr th {\n",
       "        vertical-align: top;\n",
       "    }\n",
       "\n",
       "    .dataframe thead th {\n",
       "        text-align: right;\n",
       "    }\n",
       "</style>\n",
       "<table border=\"1\" class=\"dataframe\">\n",
       "  <thead>\n",
       "    <tr style=\"text-align: right;\">\n",
       "      <th></th>\n",
       "      <th>name</th>\n",
       "      <th>description</th>\n",
       "      <th>manufacturer</th>\n",
       "      <th>price</th>\n",
       "      <th>ds</th>\n",
       "    </tr>\n",
       "    <tr>\n",
       "      <th>metrica</th>\n",
       "      <th></th>\n",
       "      <th></th>\n",
       "      <th></th>\n",
       "      <th></th>\n",
       "      <th></th>\n",
       "    </tr>\n",
       "  </thead>\n",
       "  <tbody>\n",
       "    <tr>\n",
       "      <th>count</th>\n",
       "      <td>1092</td>\n",
       "      <td>651</td>\n",
       "      <td>1086</td>\n",
       "      <td>590</td>\n",
       "      <td>Buy</td>\n",
       "    </tr>\n",
       "    <tr>\n",
       "      <th>unique</th>\n",
       "      <td>1079</td>\n",
       "      <td>559</td>\n",
       "      <td>116</td>\n",
       "      <td>526</td>\n",
       "      <td>Buy</td>\n",
       "    </tr>\n",
       "    <tr>\n",
       "      <th>top</th>\n",
       "      <td>LG 5.6 cu.ft. Freestanding Electric Range</td>\n",
       "      <td>Black</td>\n",
       "      <td>Sony</td>\n",
       "      <td>$499.00</td>\n",
       "      <td>Buy</td>\n",
       "    </tr>\n",
       "    <tr>\n",
       "      <th>freq</th>\n",
       "      <td>5</td>\n",
       "      <td>11</td>\n",
       "      <td>170</td>\n",
       "      <td>5</td>\n",
       "      <td>Buy</td>\n",
       "    </tr>\n",
       "    <tr>\n",
       "      <th>nan</th>\n",
       "      <td>0</td>\n",
       "      <td>0</td>\n",
       "      <td>441</td>\n",
       "      <td>6</td>\n",
       "      <td>Buy</td>\n",
       "    </tr>\n",
       "  </tbody>\n",
       "</table>\n",
       "</div>"
      ],
      "text/plain": [
       "                                              name description manufacturer  \\\n",
       "metrica                                                                       \n",
       "count                                         1092         651         1086   \n",
       "unique                                        1079         559          116   \n",
       "top      LG 5.6 cu.ft. Freestanding Electric Range       Black         Sony   \n",
       "freq                                             5          11          170   \n",
       "nan                                              0           0          441   \n",
       "\n",
       "           price   ds  \n",
       "metrica                \n",
       "count        590  Buy  \n",
       "unique       526  Buy  \n",
       "top      $499.00  Buy  \n",
       "freq           5  Buy  \n",
       "nan            6  Buy  "
      ]
     },
     "metadata": {},
     "output_type": "display_data"
    }
   ],
   "source": [
    "display(sdf1)\n",
    "display(sdf2)"
   ]
  },
  {
   "cell_type": "markdown",
   "metadata": {
    "heading_collapsed": true,
    "slideshow": {
     "slide_type": "slide"
    }
   },
   "source": [
    "### Problemas nos dados\n"
   ]
  },
  {
   "cell_type": "markdown",
   "metadata": {
    "hidden": true
   },
   "source": [
    "sem valores nulos"
   ]
  },
  {
   "cell_type": "code",
   "execution_count": 98,
   "metadata": {
    "hidden": true,
    "slideshow": {
     "slide_type": "skip"
    }
   },
   "outputs": [],
   "source": [
    "#df = substituir_valores_nulos(df)"
   ]
  },
  {
   "cell_type": "code",
   "execution_count": 99,
   "metadata": {
    "hidden": true,
    "slideshow": {
     "slide_type": "skip"
    }
   },
   "outputs": [],
   "source": [
    "gs.columns = ['id1','id2']\n",
    "da, db = verify_gg4cc(gs)"
   ]
  },
  {
   "cell_type": "markdown",
   "metadata": {
    "hidden": true,
    "slideshow": {
     "slide_type": "subslide"
    }
   },
   "source": [
    "O gabarito não é de um dataset clean-clean"
   ]
  },
  {
   "cell_type": "code",
   "execution_count": 100,
   "metadata": {
    "hidden": true,
    "slideshow": {
     "slide_type": "fragment"
    }
   },
   "outputs": [
    {
     "data": {
      "text/html": [
       "<div>\n",
       "<style scoped>\n",
       "    .dataframe tbody tr th:only-of-type {\n",
       "        vertical-align: middle;\n",
       "    }\n",
       "\n",
       "    .dataframe tbody tr th {\n",
       "        vertical-align: top;\n",
       "    }\n",
       "\n",
       "    .dataframe thead th {\n",
       "        text-align: right;\n",
       "    }\n",
       "</style>\n",
       "<table border=\"1\" class=\"dataframe\">\n",
       "  <thead>\n",
       "    <tr style=\"text-align: right;\">\n",
       "      <th></th>\n",
       "      <th>id1</th>\n",
       "      <th>id2</th>\n",
       "    </tr>\n",
       "  </thead>\n",
       "  <tbody>\n",
       "    <tr>\n",
       "      <th>40</th>\n",
       "      <td>32625</td>\n",
       "      <td>201935116</td>\n",
       "    </tr>\n",
       "    <tr>\n",
       "      <th>41</th>\n",
       "      <td>32625</td>\n",
       "      <td>201935171</td>\n",
       "    </tr>\n",
       "    <tr>\n",
       "      <th>61</th>\n",
       "      <td>22042</td>\n",
       "      <td>202145734</td>\n",
       "    </tr>\n",
       "    <tr>\n",
       "      <th>62</th>\n",
       "      <td>22042</td>\n",
       "      <td>202238311</td>\n",
       "    </tr>\n",
       "    <tr>\n",
       "      <th>66</th>\n",
       "      <td>23006</td>\n",
       "      <td>202456880</td>\n",
       "    </tr>\n",
       "  </tbody>\n",
       "</table>\n",
       "</div>"
      ],
      "text/plain": [
       "      id1        id2\n",
       "40  32625  201935116\n",
       "41  32625  201935171\n",
       "61  22042  202145734\n",
       "62  22042  202238311\n",
       "66  23006  202456880"
      ]
     },
     "metadata": {},
     "output_type": "display_data"
    },
    {
     "data": {
      "text/html": [
       "<div>\n",
       "<style scoped>\n",
       "    .dataframe tbody tr th:only-of-type {\n",
       "        vertical-align: middle;\n",
       "    }\n",
       "\n",
       "    .dataframe tbody tr th {\n",
       "        vertical-align: top;\n",
       "    }\n",
       "\n",
       "    .dataframe thead th {\n",
       "        text-align: right;\n",
       "    }\n",
       "</style>\n",
       "<table border=\"1\" class=\"dataframe\">\n",
       "  <thead>\n",
       "    <tr style=\"text-align: right;\">\n",
       "      <th></th>\n",
       "      <th>id1</th>\n",
       "      <th>id2</th>\n",
       "    </tr>\n",
       "  </thead>\n",
       "  <tbody>\n",
       "    <tr>\n",
       "      <th>82</th>\n",
       "      <td>23651</td>\n",
       "      <td>202784323</td>\n",
       "    </tr>\n",
       "    <tr>\n",
       "      <th>83</th>\n",
       "      <td>37360</td>\n",
       "      <td>202784323</td>\n",
       "    </tr>\n",
       "    <tr>\n",
       "      <th>510</th>\n",
       "      <td>32628</td>\n",
       "      <td>207554111</td>\n",
       "    </tr>\n",
       "    <tr>\n",
       "      <th>511</th>\n",
       "      <td>32630</td>\n",
       "      <td>207554111</td>\n",
       "    </tr>\n",
       "    <tr>\n",
       "      <th>601</th>\n",
       "      <td>34815</td>\n",
       "      <td>208033806</td>\n",
       "    </tr>\n",
       "  </tbody>\n",
       "</table>\n",
       "</div>"
      ],
      "text/plain": [
       "       id1        id2\n",
       "82   23651  202784323\n",
       "83   37360  202784323\n",
       "510  32628  207554111\n",
       "511  32630  207554111\n",
       "601  34815  208033806"
      ]
     },
     "metadata": {},
     "output_type": "display_data"
    }
   ],
   "source": [
    "display(da.head(5))\n",
    "display(db.head(5))"
   ]
  },
  {
   "cell_type": "markdown",
   "metadata": {
    "slideshow": {
     "slide_type": "slide"
    }
   },
   "source": [
    "### Solução do problema"
   ]
  },
  {
   "cell_type": "code",
   "execution_count": 101,
   "metadata": {},
   "outputs": [],
   "source": [
    "remover_da_lista2 = []\n",
    "remover_da_lista1 = []\n",
    "\n",
    "for i in da.id1.unique():\n",
    "    remover_da_lista2.append(da[da.id1 == i].id2.values[-1])\n",
    "\n",
    "for i in db.id2.unique():\n",
    "    remover_da_lista1.append(db[db.id2 == i].id1.values[-1])"
   ]
  },
  {
   "cell_type": "markdown",
   "metadata": {},
   "source": [
    "Removendo as entidades do DS"
   ]
  },
  {
   "cell_type": "code",
   "execution_count": 102,
   "metadata": {},
   "outputs": [],
   "source": [
    "cds1 = ds1[~ds1.id.isin(remover_da_lista1)]\n",
    "cds2 = ds2[~ds2.id.isin(remover_da_lista2)]"
   ]
  },
  {
   "cell_type": "markdown",
   "metadata": {},
   "source": [
    "Limpando o gabarito"
   ]
  },
  {
   "cell_type": "code",
   "execution_count": 103,
   "metadata": {
    "slideshow": {
     "slide_type": "subslide"
    }
   },
   "outputs": [],
   "source": [
    "gs = gs[~gs.id1.isin(remover_da_lista1)]\n",
    "gs = gs[~gs.id2.isin(remover_da_lista2)]"
   ]
  },
  {
   "cell_type": "code",
   "execution_count": 104,
   "metadata": {},
   "outputs": [
    {
     "data": {
      "text/html": [
       "<div>\n",
       "<style scoped>\n",
       "    .dataframe tbody tr th:only-of-type {\n",
       "        vertical-align: middle;\n",
       "    }\n",
       "\n",
       "    .dataframe tbody tr th {\n",
       "        vertical-align: top;\n",
       "    }\n",
       "\n",
       "    .dataframe thead th {\n",
       "        text-align: right;\n",
       "    }\n",
       "</style>\n",
       "<table border=\"1\" class=\"dataframe\">\n",
       "  <thead>\n",
       "    <tr style=\"text-align: right;\">\n",
       "      <th></th>\n",
       "      <th>id1</th>\n",
       "      <th>id2</th>\n",
       "    </tr>\n",
       "  </thead>\n",
       "  <tbody>\n",
       "  </tbody>\n",
       "</table>\n",
       "</div>"
      ],
      "text/plain": [
       "Empty DataFrame\n",
       "Columns: [id1, id2]\n",
       "Index: []"
      ]
     },
     "metadata": {},
     "output_type": "display_data"
    },
    {
     "data": {
      "text/html": [
       "<div>\n",
       "<style scoped>\n",
       "    .dataframe tbody tr th:only-of-type {\n",
       "        vertical-align: middle;\n",
       "    }\n",
       "\n",
       "    .dataframe tbody tr th {\n",
       "        vertical-align: top;\n",
       "    }\n",
       "\n",
       "    .dataframe thead th {\n",
       "        text-align: right;\n",
       "    }\n",
       "</style>\n",
       "<table border=\"1\" class=\"dataframe\">\n",
       "  <thead>\n",
       "    <tr style=\"text-align: right;\">\n",
       "      <th></th>\n",
       "      <th>id1</th>\n",
       "      <th>id2</th>\n",
       "    </tr>\n",
       "  </thead>\n",
       "  <tbody>\n",
       "  </tbody>\n",
       "</table>\n",
       "</div>"
      ],
      "text/plain": [
       "Empty DataFrame\n",
       "Columns: [id1, id2]\n",
       "Index: []"
      ]
     },
     "metadata": {},
     "output_type": "display_data"
    }
   ],
   "source": [
    "da, db = verify_gg4cc(gs)\n",
    "display(da.head(5))\n",
    "display(db.head(5))"
   ]
  },
  {
   "cell_type": "markdown",
   "metadata": {},
   "source": [
    "Dados limpos, agora salvando"
   ]
  },
  {
   "cell_type": "code",
   "execution_count": 105,
   "metadata": {
    "slideshow": {
     "slide_type": "skip"
    }
   },
   "outputs": [],
   "source": [
    "save_zip(cds1,cds2,gs,estatiscas,out_file + zip_file)"
   ]
  },
  {
   "cell_type": "markdown",
   "metadata": {
    "heading_collapsed": true
   },
   "source": [
    "# Citacoes"
   ]
  },
  {
   "cell_type": "markdown",
   "metadata": {
    "heading_collapsed": true,
    "hidden": true
   },
   "source": [
    "## DBLP-ACM"
   ]
  },
  {
   "cell_type": "code",
   "execution_count": 10,
   "metadata": {
    "hidden": true
   },
   "outputs": [],
   "source": [
    "base_dir = 'D:'+os.sep+'Dados'+os.sep+'OneDrive'+os.sep+'Doutorado'+os.sep\n",
    "ds_files = 'D:\\Dados\\OneDrive\\Doutorado\\Datasets\\Leipzig\\\\'\n",
    "out_file = base_dir + 'workspace'+os.sep+'tl_pprl2'+os.sep+'datasets'+os.sep+'dblp-acm'+os.sep\n",
    "\n",
    "inputZip = 'DBLP-ACM.zip'\n",
    "ds1_name = 'DBLP2'\n",
    "ds2_name = 'ACM'\n",
    "gs_name ='DBLP-ACM_perfectMapping'\n",
    "\n",
    "\n",
    "zip_file = 'processed_DBLP-ACM.zip'\n",
    "\n",
    "ds1 = read(ds_files+inputZip,ds1_name)\n",
    "ds2 = read(ds_files+inputZip,ds2_name)\n",
    "gs = read(ds_files+inputZip,gs_name)"
   ]
  },
  {
   "cell_type": "markdown",
   "metadata": {
    "hidden": true
   },
   "source": [
    "### Limpando"
   ]
  },
  {
   "cell_type": "code",
   "execution_count": 11,
   "metadata": {
    "hidden": true
   },
   "outputs": [],
   "source": [
    "# ds1.pop('title')\n",
    "# z = ds2.pop('title')\n",
    "# del z\n",
    "ds1.title = ds1.title.astype(str)\n",
    "ds2.title = ds2.title.astype(str)\n",
    "ds1.year = ds1.year.astype(str)\n",
    "ds2.year = ds2.year.astype(str)\n",
    "ds1.id = ds1.id.astype(str)\n",
    "ds2.id = ds2.id.astype(str)"
   ]
  },
  {
   "cell_type": "markdown",
   "metadata": {
    "hidden": true
   },
   "source": [
    "### Estatisticas"
   ]
  },
  {
   "cell_type": "code",
   "execution_count": 12,
   "metadata": {
    "hidden": true
   },
   "outputs": [
    {
     "data": {
      "text/html": [
       "<div>\n",
       "<style scoped>\n",
       "    .dataframe tbody tr th:only-of-type {\n",
       "        vertical-align: middle;\n",
       "    }\n",
       "\n",
       "    .dataframe tbody tr th {\n",
       "        vertical-align: top;\n",
       "    }\n",
       "\n",
       "    .dataframe thead th {\n",
       "        text-align: right;\n",
       "    }\n",
       "</style>\n",
       "<table border=\"1\" class=\"dataframe\">\n",
       "  <thead>\n",
       "    <tr style=\"text-align: right;\">\n",
       "      <th></th>\n",
       "      <th>id</th>\n",
       "      <th>title</th>\n",
       "      <th>authors</th>\n",
       "      <th>venue</th>\n",
       "      <th>year</th>\n",
       "      <th>ds</th>\n",
       "    </tr>\n",
       "    <tr>\n",
       "      <th>metrica</th>\n",
       "      <th></th>\n",
       "      <th></th>\n",
       "      <th></th>\n",
       "      <th></th>\n",
       "      <th></th>\n",
       "      <th></th>\n",
       "    </tr>\n",
       "  </thead>\n",
       "  <tbody>\n",
       "    <tr>\n",
       "      <th>count</th>\n",
       "      <td>2616</td>\n",
       "      <td>2616</td>\n",
       "      <td>2616</td>\n",
       "      <td>2616</td>\n",
       "      <td>2616</td>\n",
       "      <td>DBLP2</td>\n",
       "    </tr>\n",
       "    <tr>\n",
       "      <th>unique</th>\n",
       "      <td>2616</td>\n",
       "      <td>2521</td>\n",
       "      <td>2316</td>\n",
       "      <td>5</td>\n",
       "      <td>10</td>\n",
       "      <td>DBLP2</td>\n",
       "    </tr>\n",
       "    <tr>\n",
       "      <th>top</th>\n",
       "      <td>journals/sigmod/Danish98</td>\n",
       "      <td>Editor's Notes</td>\n",
       "      <td>Richard T. Snodgrass</td>\n",
       "      <td>VLDB</td>\n",
       "      <td>2003</td>\n",
       "      <td>DBLP2</td>\n",
       "    </tr>\n",
       "    <tr>\n",
       "      <th>freq</th>\n",
       "      <td>1</td>\n",
       "      <td>30</td>\n",
       "      <td>25</td>\n",
       "      <td>877</td>\n",
       "      <td>346</td>\n",
       "      <td>DBLP2</td>\n",
       "    </tr>\n",
       "    <tr>\n",
       "      <th>nan</th>\n",
       "      <td>0</td>\n",
       "      <td>0</td>\n",
       "      <td>0</td>\n",
       "      <td>0</td>\n",
       "      <td>0</td>\n",
       "      <td>DBLP2</td>\n",
       "    </tr>\n",
       "  </tbody>\n",
       "</table>\n",
       "</div>"
      ],
      "text/plain": [
       "                               id           title               authors venue  \\\n",
       "metrica                                                                         \n",
       "count                        2616            2616                  2616  2616   \n",
       "unique                       2616            2521                  2316     5   \n",
       "top      journals/sigmod/Danish98  Editor's Notes  Richard T. Snodgrass  VLDB   \n",
       "freq                            1              30                    25   877   \n",
       "nan                             0               0                     0     0   \n",
       "\n",
       "         year     ds  \n",
       "metrica               \n",
       "count    2616  DBLP2  \n",
       "unique     10  DBLP2  \n",
       "top      2003  DBLP2  \n",
       "freq      346  DBLP2  \n",
       "nan         0  DBLP2  "
      ]
     },
     "metadata": {},
     "output_type": "display_data"
    },
    {
     "data": {
      "text/html": [
       "<div>\n",
       "<style scoped>\n",
       "    .dataframe tbody tr th:only-of-type {\n",
       "        vertical-align: middle;\n",
       "    }\n",
       "\n",
       "    .dataframe tbody tr th {\n",
       "        vertical-align: top;\n",
       "    }\n",
       "\n",
       "    .dataframe thead th {\n",
       "        text-align: right;\n",
       "    }\n",
       "</style>\n",
       "<table border=\"1\" class=\"dataframe\">\n",
       "  <thead>\n",
       "    <tr style=\"text-align: right;\">\n",
       "      <th></th>\n",
       "      <th>id</th>\n",
       "      <th>title</th>\n",
       "      <th>authors</th>\n",
       "      <th>venue</th>\n",
       "      <th>year</th>\n",
       "      <th>ds</th>\n",
       "    </tr>\n",
       "    <tr>\n",
       "      <th>metrica</th>\n",
       "      <th></th>\n",
       "      <th></th>\n",
       "      <th></th>\n",
       "      <th></th>\n",
       "      <th></th>\n",
       "      <th></th>\n",
       "    </tr>\n",
       "  </thead>\n",
       "  <tbody>\n",
       "    <tr>\n",
       "      <th>count</th>\n",
       "      <td>2294</td>\n",
       "      <td>2294</td>\n",
       "      <td>2280</td>\n",
       "      <td>2294</td>\n",
       "      <td>2294</td>\n",
       "      <td>ACM</td>\n",
       "    </tr>\n",
       "    <tr>\n",
       "      <th>unique</th>\n",
       "      <td>2294</td>\n",
       "      <td>2230</td>\n",
       "      <td>2008</td>\n",
       "      <td>5</td>\n",
       "      <td>10</td>\n",
       "      <td>ACM</td>\n",
       "    </tr>\n",
       "    <tr>\n",
       "      <th>top</th>\n",
       "      <td>277632</td>\n",
       "      <td>Book reviews</td>\n",
       "      <td>Karl Aberer</td>\n",
       "      <td>International Conference on Management of Data</td>\n",
       "      <td>2001</td>\n",
       "      <td>ACM</td>\n",
       "    </tr>\n",
       "    <tr>\n",
       "      <th>freq</th>\n",
       "      <td>1</td>\n",
       "      <td>8</td>\n",
       "      <td>16</td>\n",
       "      <td>797</td>\n",
       "      <td>282</td>\n",
       "      <td>ACM</td>\n",
       "    </tr>\n",
       "    <tr>\n",
       "      <th>nan</th>\n",
       "      <td>0</td>\n",
       "      <td>0</td>\n",
       "      <td>14</td>\n",
       "      <td>0</td>\n",
       "      <td>0</td>\n",
       "      <td>ACM</td>\n",
       "    </tr>\n",
       "  </tbody>\n",
       "</table>\n",
       "</div>"
      ],
      "text/plain": [
       "             id         title      authors  \\\n",
       "metrica                                      \n",
       "count      2294          2294         2280   \n",
       "unique     2294          2230         2008   \n",
       "top      277632  Book reviews  Karl Aberer   \n",
       "freq          1             8           16   \n",
       "nan           0             0           14   \n",
       "\n",
       "                                                  venue  year   ds  \n",
       "metrica                                                             \n",
       "count                                              2294  2294  ACM  \n",
       "unique                                                5    10  ACM  \n",
       "top      International Conference on Management of Data  2001  ACM  \n",
       "freq                                                797   282  ACM  \n",
       "nan                                                   0     0  ACM  "
      ]
     },
     "metadata": {},
     "output_type": "display_data"
    }
   ],
   "source": [
    "nan_list1 = ds1.isnull().sum()\n",
    "nan_list2 = ds2.isnull().sum()\n",
    "\n",
    "estatiscas1 = ds1.describe(include='object')\n",
    "estatiscas2 = ds2.describe(include='object')\n",
    "\n",
    "sdf1 = gerar_estatiscas_df(nan_list1,estatiscas1)\n",
    "sdf1['ds'] = ds1_name\n",
    "\n",
    "sdf2 = gerar_estatiscas_df(nan_list2,estatiscas2)\n",
    "sdf2['ds'] = ds2_name\n",
    "\n",
    "estatiscas = pd.concat([sdf1,sdf2])#.to_csv(ds_files+'stats_abt-buy.csv',sep=';')\n",
    "\n",
    "display(sdf1)\n",
    "display(sdf2)"
   ]
  },
  {
   "cell_type": "markdown",
   "metadata": {
    "hidden": true
   },
   "source": [
    "### Limpando os dados\n",
    "\n",
    "Sem valores nulos"
   ]
  },
  {
   "cell_type": "code",
   "execution_count": 13,
   "metadata": {
    "hidden": true
   },
   "outputs": [
    {
     "data": {
      "text/html": [
       "<div>\n",
       "<style scoped>\n",
       "    .dataframe tbody tr th:only-of-type {\n",
       "        vertical-align: middle;\n",
       "    }\n",
       "\n",
       "    .dataframe tbody tr th {\n",
       "        vertical-align: top;\n",
       "    }\n",
       "\n",
       "    .dataframe thead th {\n",
       "        text-align: right;\n",
       "    }\n",
       "</style>\n",
       "<table border=\"1\" class=\"dataframe\">\n",
       "  <thead>\n",
       "    <tr style=\"text-align: right;\">\n",
       "      <th></th>\n",
       "      <th>id1</th>\n",
       "      <th>id2</th>\n",
       "    </tr>\n",
       "  </thead>\n",
       "  <tbody>\n",
       "  </tbody>\n",
       "</table>\n",
       "</div>"
      ],
      "text/plain": [
       "Empty DataFrame\n",
       "Columns: [id1, id2]\n",
       "Index: []"
      ]
     },
     "metadata": {},
     "output_type": "display_data"
    },
    {
     "data": {
      "text/html": [
       "<div>\n",
       "<style scoped>\n",
       "    .dataframe tbody tr th:only-of-type {\n",
       "        vertical-align: middle;\n",
       "    }\n",
       "\n",
       "    .dataframe tbody tr th {\n",
       "        vertical-align: top;\n",
       "    }\n",
       "\n",
       "    .dataframe thead th {\n",
       "        text-align: right;\n",
       "    }\n",
       "</style>\n",
       "<table border=\"1\" class=\"dataframe\">\n",
       "  <thead>\n",
       "    <tr style=\"text-align: right;\">\n",
       "      <th></th>\n",
       "      <th>id1</th>\n",
       "      <th>id2</th>\n",
       "    </tr>\n",
       "  </thead>\n",
       "  <tbody>\n",
       "  </tbody>\n",
       "</table>\n",
       "</div>"
      ],
      "text/plain": [
       "Empty DataFrame\n",
       "Columns: [id1, id2]\n",
       "Index: []"
      ]
     },
     "metadata": {},
     "output_type": "display_data"
    }
   ],
   "source": [
    "gs.columns = ['id1','id2']\n",
    "gs.id1 = gs.id1.astype(str)\n",
    "gs.id2 = gs.id2.astype(str)\n",
    "da, db = verify_gg4cc(gs)\n",
    "display(da.head(5))\n",
    "display(db.head(5))"
   ]
  },
  {
   "cell_type": "markdown",
   "metadata": {
    "hidden": true
   },
   "source": [
    "Dataset clean-clean"
   ]
  },
  {
   "cell_type": "markdown",
   "metadata": {
    "hidden": true
   },
   "source": [
    "### Salvando os dados"
   ]
  },
  {
   "cell_type": "code",
   "execution_count": 14,
   "metadata": {
    "hidden": true
   },
   "outputs": [],
   "source": [
    "save_zip(ds1,ds2,gs,estatiscas,out_file + zip_file)"
   ]
  },
  {
   "cell_type": "markdown",
   "metadata": {
    "hidden": true
   },
   "source": [
    "## DBLP1-Scholar"
   ]
  },
  {
   "cell_type": "code",
   "execution_count": 53,
   "metadata": {
    "hidden": true
   },
   "outputs": [],
   "source": [
    "base_dir = 'D:'+os.sep+'Dados'+os.sep+'OneDrive'+os.sep+'Doutorado'+os.sep\n",
    "ds_files = 'D:\\Dados\\OneDrive\\Doutorado\\Datasets\\Leipzig\\\\'\n",
    "out_file = base_dir + 'workspace'+os.sep+'tl_pprl2'+os.sep+'datasets'+os.sep+'dblp-acm'+os.sep\n",
    "\n",
    "inputZip = 'DBLP-Scholar.zip'\n",
    "ds1_name = 'DBLP1'\n",
    "ds2_name = 'Scholar'\n",
    "gs_name ='DBLP-Scholar_perfectMapping'\n",
    "\n",
    "\n",
    "zip_file = 'processed_DBLP-Scholar.zip'\n",
    "\n",
    "ds1 = read(ds_files+inputZip,ds1_name)\n",
    "ds2 = read(ds_files+inputZip,ds2_name)\n",
    "gs = read(ds_files+inputZip,gs_name)"
   ]
  },
  {
   "cell_type": "markdown",
   "metadata": {
    "hidden": true
   },
   "source": [
    "### Limpando"
   ]
  },
  {
   "cell_type": "code",
   "execution_count": 54,
   "metadata": {
    "hidden": true
   },
   "outputs": [],
   "source": [
    "# ds1.pop('title')\n",
    "# z = ds2.pop('title')\n",
    "# del z\n",
    "ds2.columns = ['id','title','authors','venue','year']\n",
    "ds1.title = ds1.title.astype(str)\n",
    "ds2.title = ds2.title.astype(str)\n",
    "ds1.year = ds1.year.astype(str)\n",
    "\n",
    "#nan em coluna de interiro\n",
    "ds2.year = ds2.year.fillna(-1)\n",
    "ds2.year = ds2.year.astype(int)\n",
    "ds2.year = ds2.year.astype(str)\n",
    "ds2.year = ds2.year.replace('-1', np.nan)\n",
    "\n",
    "ds1.id = ds1.id.astype(str)\n",
    "ds2.id = ds2.id.astype(str)"
   ]
  },
  {
   "cell_type": "markdown",
   "metadata": {
    "hidden": true
   },
   "source": [
    "### Estatisticas"
   ]
  },
  {
   "cell_type": "code",
   "execution_count": 55,
   "metadata": {
    "hidden": true
   },
   "outputs": [
    {
     "data": {
      "text/html": [
       "<div>\n",
       "<style scoped>\n",
       "    .dataframe tbody tr th:only-of-type {\n",
       "        vertical-align: middle;\n",
       "    }\n",
       "\n",
       "    .dataframe tbody tr th {\n",
       "        vertical-align: top;\n",
       "    }\n",
       "\n",
       "    .dataframe thead th {\n",
       "        text-align: right;\n",
       "    }\n",
       "</style>\n",
       "<table border=\"1\" class=\"dataframe\">\n",
       "  <thead>\n",
       "    <tr style=\"text-align: right;\">\n",
       "      <th></th>\n",
       "      <th>id</th>\n",
       "      <th>title</th>\n",
       "      <th>authors</th>\n",
       "      <th>venue</th>\n",
       "      <th>year</th>\n",
       "      <th>ds</th>\n",
       "    </tr>\n",
       "    <tr>\n",
       "      <th>metrica</th>\n",
       "      <th></th>\n",
       "      <th></th>\n",
       "      <th></th>\n",
       "      <th></th>\n",
       "      <th></th>\n",
       "      <th></th>\n",
       "    </tr>\n",
       "  </thead>\n",
       "  <tbody>\n",
       "    <tr>\n",
       "      <th>count</th>\n",
       "      <td>2616</td>\n",
       "      <td>2616</td>\n",
       "      <td>2398</td>\n",
       "      <td>2405</td>\n",
       "      <td>2616</td>\n",
       "      <td>DBLP1</td>\n",
       "    </tr>\n",
       "    <tr>\n",
       "      <th>unique</th>\n",
       "      <td>2616</td>\n",
       "      <td>2521</td>\n",
       "      <td>2084</td>\n",
       "      <td>6</td>\n",
       "      <td>10</td>\n",
       "      <td>DBLP1</td>\n",
       "    </tr>\n",
       "    <tr>\n",
       "      <th>top</th>\n",
       "      <td>conf/vldb/ChatziantoniouR97</td>\n",
       "      <td>Editor's Notes</td>\n",
       "      <td>M Franklin</td>\n",
       "      <td>VLDB</td>\n",
       "      <td>2003</td>\n",
       "      <td>DBLP1</td>\n",
       "    </tr>\n",
       "    <tr>\n",
       "      <th>freq</th>\n",
       "      <td>1</td>\n",
       "      <td>30</td>\n",
       "      <td>11</td>\n",
       "      <td>861</td>\n",
       "      <td>346</td>\n",
       "      <td>DBLP1</td>\n",
       "    </tr>\n",
       "    <tr>\n",
       "      <th>nan</th>\n",
       "      <td>0</td>\n",
       "      <td>0</td>\n",
       "      <td>218</td>\n",
       "      <td>211</td>\n",
       "      <td>0</td>\n",
       "      <td>DBLP1</td>\n",
       "    </tr>\n",
       "  </tbody>\n",
       "</table>\n",
       "</div>"
      ],
      "text/plain": [
       "                                  id           title     authors venue  year  \\\n",
       "metrica                                                                        \n",
       "count                           2616            2616        2398  2405  2616   \n",
       "unique                          2616            2521        2084     6    10   \n",
       "top      conf/vldb/ChatziantoniouR97  Editor's Notes  M Franklin  VLDB  2003   \n",
       "freq                               1              30          11   861   346   \n",
       "nan                                0               0         218   211     0   \n",
       "\n",
       "            ds  \n",
       "metrica         \n",
       "count    DBLP1  \n",
       "unique   DBLP1  \n",
       "top      DBLP1  \n",
       "freq     DBLP1  \n",
       "nan      DBLP1  "
      ]
     },
     "metadata": {},
     "output_type": "display_data"
    },
    {
     "data": {
      "text/html": [
       "<div>\n",
       "<style scoped>\n",
       "    .dataframe tbody tr th:only-of-type {\n",
       "        vertical-align: middle;\n",
       "    }\n",
       "\n",
       "    .dataframe tbody tr th {\n",
       "        vertical-align: top;\n",
       "    }\n",
       "\n",
       "    .dataframe thead th {\n",
       "        text-align: right;\n",
       "    }\n",
       "</style>\n",
       "<table border=\"1\" class=\"dataframe\">\n",
       "  <thead>\n",
       "    <tr style=\"text-align: right;\">\n",
       "      <th></th>\n",
       "      <th>id</th>\n",
       "      <th>title</th>\n",
       "      <th>authors</th>\n",
       "      <th>venue</th>\n",
       "      <th>year</th>\n",
       "      <th>ds</th>\n",
       "    </tr>\n",
       "    <tr>\n",
       "      <th>metrica</th>\n",
       "      <th></th>\n",
       "      <th></th>\n",
       "      <th></th>\n",
       "      <th></th>\n",
       "      <th></th>\n",
       "      <th></th>\n",
       "    </tr>\n",
       "  </thead>\n",
       "  <tbody>\n",
       "    <tr>\n",
       "      <th>count</th>\n",
       "      <td>64263</td>\n",
       "      <td>64263</td>\n",
       "      <td>64262</td>\n",
       "      <td>49266</td>\n",
       "      <td>29473</td>\n",
       "      <td>Scholar</td>\n",
       "    </tr>\n",
       "    <tr>\n",
       "      <th>unique</th>\n",
       "      <td>64263</td>\n",
       "      <td>63188</td>\n",
       "      <td>55883</td>\n",
       "      <td>12580</td>\n",
       "      <td>127</td>\n",
       "      <td>Scholar</td>\n",
       "    </tr>\n",
       "    <tr>\n",
       "      <th>top</th>\n",
       "      <td>jlgqeX_SCwIJ</td>\n",
       "      <td>Foreword</td>\n",
       "      <td>ACMS Anthology</td>\n",
       "      <td>LECTURE NOTES IN COMPUTER SCIENCE,</td>\n",
       "      <td>2000</td>\n",
       "      <td>Scholar</td>\n",
       "    </tr>\n",
       "    <tr>\n",
       "      <th>freq</th>\n",
       "      <td>1</td>\n",
       "      <td>50</td>\n",
       "      <td>107</td>\n",
       "      <td>964</td>\n",
       "      <td>2110</td>\n",
       "      <td>Scholar</td>\n",
       "    </tr>\n",
       "    <tr>\n",
       "      <th>nan</th>\n",
       "      <td>0</td>\n",
       "      <td>0</td>\n",
       "      <td>1</td>\n",
       "      <td>14997</td>\n",
       "      <td>34790</td>\n",
       "      <td>Scholar</td>\n",
       "    </tr>\n",
       "  </tbody>\n",
       "</table>\n",
       "</div>"
      ],
      "text/plain": [
       "                   id     title         authors  \\\n",
       "metrica                                           \n",
       "count           64263     64263           64262   \n",
       "unique          64263     63188           55883   \n",
       "top      jlgqeX_SCwIJ  Foreword  ACMS Anthology   \n",
       "freq                1        50             107   \n",
       "nan                 0         0               1   \n",
       "\n",
       "                                      venue   year       ds  \n",
       "metrica                                                      \n",
       "count                                 49266  29473  Scholar  \n",
       "unique                                12580    127  Scholar  \n",
       "top      LECTURE NOTES IN COMPUTER SCIENCE,   2000  Scholar  \n",
       "freq                                    964   2110  Scholar  \n",
       "nan                                   14997  34790  Scholar  "
      ]
     },
     "metadata": {},
     "output_type": "display_data"
    }
   ],
   "source": [
    "nan_list1 = ds1.isnull().sum()\n",
    "nan_list2 = ds2.isnull().sum()\n",
    "\n",
    "estatiscas1 = ds1.describe(include='object')\n",
    "estatiscas2 = ds2.describe(include='object')\n",
    "\n",
    "sdf1 = gerar_estatiscas_df(nan_list1,estatiscas1)\n",
    "sdf1['ds'] = ds1_name\n",
    "\n",
    "sdf2 = gerar_estatiscas_df(nan_list2,estatiscas2)\n",
    "sdf2['ds'] = ds2_name\n",
    "\n",
    "estatiscas = pd.concat([sdf1,sdf2])#.to_csv(ds_files+'stats_abt-buy.csv',sep=';')\n",
    "\n",
    "display(sdf1)\n",
    "display(sdf2)"
   ]
  },
  {
   "cell_type": "markdown",
   "metadata": {
    "hidden": true
   },
   "source": [
    "### Limpando os dados\n",
    "\n",
    "Sem valores nulos"
   ]
  },
  {
   "cell_type": "code",
   "execution_count": 56,
   "metadata": {
    "hidden": true
   },
   "outputs": [
    {
     "data": {
      "text/html": [
       "<div>\n",
       "<style scoped>\n",
       "    .dataframe tbody tr th:only-of-type {\n",
       "        vertical-align: middle;\n",
       "    }\n",
       "\n",
       "    .dataframe tbody tr th {\n",
       "        vertical-align: top;\n",
       "    }\n",
       "\n",
       "    .dataframe thead th {\n",
       "        text-align: right;\n",
       "    }\n",
       "</style>\n",
       "<table border=\"1\" class=\"dataframe\">\n",
       "  <thead>\n",
       "    <tr style=\"text-align: right;\">\n",
       "      <th></th>\n",
       "      <th>id1</th>\n",
       "      <th>id2</th>\n",
       "    </tr>\n",
       "  </thead>\n",
       "  <tbody>\n",
       "    <tr>\n",
       "      <th>1</th>\n",
       "      <td>conf/sigmod/AbadiCCCCEGHMRSSTXYZ03</td>\n",
       "      <td>eBnT7lhV2LwJ</td>\n",
       "    </tr>\n",
       "    <tr>\n",
       "      <th>2</th>\n",
       "      <td>conf/sigmod/AbadiCCCCEGHMRSSTXYZ03</td>\n",
       "      <td>gBVNSFeS4P8J</td>\n",
       "    </tr>\n",
       "    <tr>\n",
       "      <th>3</th>\n",
       "      <td>conf/sigmod/AbadiCCCCEGHMRSSTXYZ03</td>\n",
       "      <td>VuY9Y49GqXgJ</td>\n",
       "    </tr>\n",
       "    <tr>\n",
       "      <th>4</th>\n",
       "      <td>conf/sigmod/AbiteboulBCMM03</td>\n",
       "      <td>AxpQwgyRyLgJ</td>\n",
       "    </tr>\n",
       "    <tr>\n",
       "      <th>5</th>\n",
       "      <td>conf/sigmod/AbiteboulBCMM03</td>\n",
       "      <td>Rjb06zlxbLIJ</td>\n",
       "    </tr>\n",
       "  </tbody>\n",
       "</table>\n",
       "</div>"
      ],
      "text/plain": [
       "                                  id1           id2\n",
       "1  conf/sigmod/AbadiCCCCEGHMRSSTXYZ03  eBnT7lhV2LwJ\n",
       "2  conf/sigmod/AbadiCCCCEGHMRSSTXYZ03  gBVNSFeS4P8J\n",
       "3  conf/sigmod/AbadiCCCCEGHMRSSTXYZ03  VuY9Y49GqXgJ\n",
       "4         conf/sigmod/AbiteboulBCMM03  AxpQwgyRyLgJ\n",
       "5         conf/sigmod/AbiteboulBCMM03  Rjb06zlxbLIJ"
      ]
     },
     "metadata": {},
     "output_type": "display_data"
    },
    {
     "data": {
      "text/html": [
       "<div>\n",
       "<style scoped>\n",
       "    .dataframe tbody tr th:only-of-type {\n",
       "        vertical-align: middle;\n",
       "    }\n",
       "\n",
       "    .dataframe tbody tr th {\n",
       "        vertical-align: top;\n",
       "    }\n",
       "\n",
       "    .dataframe thead th {\n",
       "        text-align: right;\n",
       "    }\n",
       "</style>\n",
       "<table border=\"1\" class=\"dataframe\">\n",
       "  <thead>\n",
       "    <tr style=\"text-align: right;\">\n",
       "      <th></th>\n",
       "      <th>id1</th>\n",
       "      <th>id2</th>\n",
       "    </tr>\n",
       "  </thead>\n",
       "  <tbody>\n",
       "    <tr>\n",
       "      <th>2</th>\n",
       "      <td>conf/sigmod/AbadiCCCCEGHMRSSTXYZ03</td>\n",
       "      <td>gBVNSFeS4P8J</td>\n",
       "    </tr>\n",
       "    <tr>\n",
       "      <th>190</th>\n",
       "      <td>conf/sigmod/BarbaraI94</td>\n",
       "      <td>7N0H3ra1FFsJ</td>\n",
       "    </tr>\n",
       "    <tr>\n",
       "      <th>191</th>\n",
       "      <td>conf/sigmod/BarbaraI94</td>\n",
       "      <td>bMUUwjP72hwJ</td>\n",
       "    </tr>\n",
       "    <tr>\n",
       "      <th>192</th>\n",
       "      <td>conf/sigmod/BarbaraI94</td>\n",
       "      <td>bTYTn8VG5hIJ</td>\n",
       "    </tr>\n",
       "    <tr>\n",
       "      <th>193</th>\n",
       "      <td>conf/sigmod/BarbaraI94</td>\n",
       "      <td>F7azEOfg-Q0J</td>\n",
       "    </tr>\n",
       "  </tbody>\n",
       "</table>\n",
       "</div>"
      ],
      "text/plain": [
       "                                    id1           id2\n",
       "2    conf/sigmod/AbadiCCCCEGHMRSSTXYZ03  gBVNSFeS4P8J\n",
       "190              conf/sigmod/BarbaraI94  7N0H3ra1FFsJ\n",
       "191              conf/sigmod/BarbaraI94  bMUUwjP72hwJ\n",
       "192              conf/sigmod/BarbaraI94  bTYTn8VG5hIJ\n",
       "193              conf/sigmod/BarbaraI94  F7azEOfg-Q0J"
      ]
     },
     "metadata": {},
     "output_type": "display_data"
    }
   ],
   "source": [
    "gs.columns = ['id1','id2']\n",
    "gs.id1 = gs.id1.astype(str)\n",
    "gs.id2 = gs.id2.astype(str)\n",
    "da, db = verify_gg4cc(gs)\n",
    "display(da.head(5))\n",
    "display(db.head(5))"
   ]
  },
  {
   "cell_type": "markdown",
   "metadata": {
    "hidden": true,
    "slideshow": {
     "slide_type": "slide"
    }
   },
   "source": [
    "### Removendo duplicados"
   ]
  },
  {
   "cell_type": "code",
   "execution_count": 77,
   "metadata": {
    "hidden": true
   },
   "outputs": [],
   "source": [
    "remover_da_lista2 = []\n",
    "remover_da_lista1 = []\n",
    "\n",
    "for i in da.id1.unique():\n",
    "    remover_da_lista2.append(da[da.id1 == i].id2.values[-1])\n",
    "\n",
    "for i in db.id2.unique():\n",
    "    remover_da_lista1.append(db[db.id2 == i].id1.values[-1])"
   ]
  },
  {
   "cell_type": "markdown",
   "metadata": {
    "hidden": true
   },
   "source": [
    "Removendo as entidades do DS"
   ]
  },
  {
   "cell_type": "code",
   "execution_count": 78,
   "metadata": {
    "hidden": true
   },
   "outputs": [],
   "source": [
    "cds1 = ds1[~ds1.id.isin(remover_da_lista1)]\n",
    "cds2 = ds2[~ds2.id.isin(remover_da_lista2)]"
   ]
  },
  {
   "cell_type": "markdown",
   "metadata": {
    "hidden": true
   },
   "source": [
    "Limpando o gabarito"
   ]
  },
  {
   "cell_type": "code",
   "execution_count": 79,
   "metadata": {
    "hidden": true,
    "slideshow": {
     "slide_type": "subslide"
    }
   },
   "outputs": [],
   "source": [
    "gs = gs[~gs.id1.isin(remover_da_lista1)]\n",
    "gs = gs[~gs.id2.isin(remover_da_lista2)]"
   ]
  },
  {
   "cell_type": "code",
   "execution_count": 82,
   "metadata": {
    "hidden": true
   },
   "outputs": [
    {
     "data": {
      "text/html": [
       "<div>\n",
       "<style scoped>\n",
       "    .dataframe tbody tr th:only-of-type {\n",
       "        vertical-align: middle;\n",
       "    }\n",
       "\n",
       "    .dataframe tbody tr th {\n",
       "        vertical-align: top;\n",
       "    }\n",
       "\n",
       "    .dataframe thead th {\n",
       "        text-align: right;\n",
       "    }\n",
       "</style>\n",
       "<table border=\"1\" class=\"dataframe\">\n",
       "  <thead>\n",
       "    <tr style=\"text-align: right;\">\n",
       "      <th></th>\n",
       "      <th>id1</th>\n",
       "      <th>id2</th>\n",
       "    </tr>\n",
       "  </thead>\n",
       "  <tbody>\n",
       "    <tr>\n",
       "      <th>11</th>\n",
       "      <td>conf/sigmod/AcharyaAFZ95</td>\n",
       "      <td>_-yXA5HLnqoJ</td>\n",
       "    </tr>\n",
       "    <tr>\n",
       "      <th>12</th>\n",
       "      <td>conf/sigmod/AcharyaAFZ95</td>\n",
       "      <td>0lAHCM-lcjIJ</td>\n",
       "    </tr>\n",
       "    <tr>\n",
       "      <th>13</th>\n",
       "      <td>conf/sigmod/AcharyaAFZ95</td>\n",
       "      <td>2fO9nM2FoGYJ</td>\n",
       "    </tr>\n",
       "    <tr>\n",
       "      <th>14</th>\n",
       "      <td>conf/sigmod/AcharyaAFZ95</td>\n",
       "      <td>cHxtmO9talkJ</td>\n",
       "    </tr>\n",
       "    <tr>\n",
       "      <th>52</th>\n",
       "      <td>conf/sigmod/AdaliCPS96</td>\n",
       "      <td>_CkpzhLiR30J</td>\n",
       "    </tr>\n",
       "    <tr>\n",
       "      <th>...</th>\n",
       "      <td>...</td>\n",
       "      <td>...</td>\n",
       "    </tr>\n",
       "    <tr>\n",
       "      <th>1714</th>\n",
       "      <td>conf/sigmod/SaltenisJLL00</td>\n",
       "      <td>Klh7nU-G4-IJ</td>\n",
       "    </tr>\n",
       "    <tr>\n",
       "      <th>1715</th>\n",
       "      <td>conf/sigmod/SaltenisJLL00</td>\n",
       "      <td>LMm4_4_uNNoJ</td>\n",
       "    </tr>\n",
       "    <tr>\n",
       "      <th>1716</th>\n",
       "      <td>conf/sigmod/SaltenisJLL00</td>\n",
       "      <td>odsY0ehPPhIJ</td>\n",
       "    </tr>\n",
       "    <tr>\n",
       "      <th>1799</th>\n",
       "      <td>conf/sigmod/SrikantA96</td>\n",
       "      <td>9t4Mce85HT4J</td>\n",
       "    </tr>\n",
       "    <tr>\n",
       "      <th>1800</th>\n",
       "      <td>conf/sigmod/SrikantA96</td>\n",
       "      <td>Cm66C3yYtdgJ</td>\n",
       "    </tr>\n",
       "  </tbody>\n",
       "</table>\n",
       "<p>150 rows × 2 columns</p>\n",
       "</div>"
      ],
      "text/plain": [
       "                            id1           id2\n",
       "11     conf/sigmod/AcharyaAFZ95  _-yXA5HLnqoJ\n",
       "12     conf/sigmod/AcharyaAFZ95  0lAHCM-lcjIJ\n",
       "13     conf/sigmod/AcharyaAFZ95  2fO9nM2FoGYJ\n",
       "14     conf/sigmod/AcharyaAFZ95  cHxtmO9talkJ\n",
       "52       conf/sigmod/AdaliCPS96  _CkpzhLiR30J\n",
       "...                         ...           ...\n",
       "1714  conf/sigmod/SaltenisJLL00  Klh7nU-G4-IJ\n",
       "1715  conf/sigmod/SaltenisJLL00  LMm4_4_uNNoJ\n",
       "1716  conf/sigmod/SaltenisJLL00  odsY0ehPPhIJ\n",
       "1799     conf/sigmod/SrikantA96  9t4Mce85HT4J\n",
       "1800     conf/sigmod/SrikantA96  Cm66C3yYtdgJ\n",
       "\n",
       "[150 rows x 2 columns]"
      ]
     },
     "metadata": {},
     "output_type": "display_data"
    },
    {
     "data": {
      "text/html": [
       "<div>\n",
       "<style scoped>\n",
       "    .dataframe tbody tr th:only-of-type {\n",
       "        vertical-align: middle;\n",
       "    }\n",
       "\n",
       "    .dataframe tbody tr th {\n",
       "        vertical-align: top;\n",
       "    }\n",
       "\n",
       "    .dataframe thead th {\n",
       "        text-align: right;\n",
       "    }\n",
       "</style>\n",
       "<table border=\"1\" class=\"dataframe\">\n",
       "  <thead>\n",
       "    <tr style=\"text-align: right;\">\n",
       "      <th></th>\n",
       "      <th>id1</th>\n",
       "      <th>id2</th>\n",
       "    </tr>\n",
       "  </thead>\n",
       "  <tbody>\n",
       "  </tbody>\n",
       "</table>\n",
       "</div>"
      ],
      "text/plain": [
       "Empty DataFrame\n",
       "Columns: [id1, id2]\n",
       "Index: []"
      ]
     },
     "metadata": {},
     "output_type": "display_data"
    }
   ],
   "source": [
    "da, db = verify_gg4cc(gs)\n",
    "display(da.head(150))\n",
    "display(db.head(5))"
   ]
  },
  {
   "cell_type": "markdown",
   "metadata": {
    "hidden": true
   },
   "source": [
    "nao e possivel limpar"
   ]
  },
  {
   "cell_type": "markdown",
   "metadata": {
    "hidden": true
   },
   "source": [
    "### Salvando os dados"
   ]
  },
  {
   "cell_type": "code",
   "execution_count": 26,
   "metadata": {
    "hidden": true
   },
   "outputs": [],
   "source": [
    "save_zip(ds1,ds2,gs,estatiscas,out_file + zip_file)"
   ]
  }
 ],
 "metadata": {
  "kernelspec": {
   "display_name": "Python 3",
   "language": "python",
   "name": "python3"
  },
  "language_info": {
   "codemirror_mode": {
    "name": "ipython",
    "version": 3
   },
   "file_extension": ".py",
   "mimetype": "text/x-python",
   "name": "python",
   "nbconvert_exporter": "python",
   "pygments_lexer": "ipython3",
   "version": "3.7.7"
  },
  "latex_envs": {
   "LaTeX_envs_menu_present": true,
   "autoclose": false,
   "autocomplete": true,
   "bibliofile": "biblio.bib",
   "cite_by": "apalike",
   "current_citInitial": 1,
   "eqLabelWithNumbers": true,
   "eqNumInitial": 1,
   "hotkeys": {
    "equation": "Ctrl-E",
    "itemize": "Ctrl-I"
   },
   "labels_anchors": false,
   "latex_user_defs": false,
   "report_style_numbering": false,
   "user_envs_cfg": false
  },
  "toc": {
   "base_numbering": 1,
   "nav_menu": {},
   "number_sections": true,
   "sideBar": true,
   "skip_h1_title": false,
   "title_cell": "Table of Contents",
   "title_sidebar": "Contents",
   "toc_cell": false,
   "toc_position": {},
   "toc_section_display": true,
   "toc_window_display": true
  }
 },
 "nbformat": 4,
 "nbformat_minor": 1
}
