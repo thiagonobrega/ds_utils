{
 "cells": [
  {
   "cell_type": "markdown",
   "metadata": {
    "slideshow": {
     "slide_type": "skip"
    }
   },
   "source": [
    "## Imports"
   ]
  },
  {
   "cell_type": "code",
   "execution_count": 1,
   "metadata": {
    "slideshow": {
     "slide_type": "skip"
    }
   },
   "outputs": [],
   "source": [
    "import zipfile\n",
    "import os\n",
    "import sys\n",
    "import random\n",
    "\n",
    "import pandas as pd\n",
    "import numpy as np\n",
    "\n",
    "\n",
    "sys.path.append(\"../../libs/\")\n",
    "\n",
    "from datasetutil import gerar_estatiscas_df, substituir_valores_nulos , verify_gg4cc , save_zip2"
   ]
  },
  {
   "cell_type": "markdown",
   "metadata": {
    "pycharm": {
     "is_executing": true
    },
    "slideshow": {
     "slide_type": "skip"
    }
   },
   "source": [
    "## Metodos"
   ]
  },
  {
   "cell_type": "code",
   "execution_count": 2,
   "metadata": {
    "pycharm": {
     "is_executing": true
    },
    "slideshow": {
     "slide_type": "skip"
    }
   },
   "outputs": [],
   "source": [
    "def read_data(ano,ds_files):\n",
    "    zipf = 'consulta_cand_'+ano+'.zip' #2012\n",
    "    zf = zipfile.ZipFile(ds_files+zipf) \n",
    "    first = True\n",
    "\n",
    "    nl = zipfile.ZipFile.namelist(zf)\n",
    "    for i in range(0,len(nl)):\n",
    "        fn = nl[i]\n",
    "        if ('txt' in fn) or ('csv' in fn):\n",
    "            if not 'BRASIL' in fn:\n",
    "#                 print(fn)\n",
    "                z = pd.read_csv(zf.open(fn),header=0,encoding=\"iso-8859-1\",sep=\";\",\n",
    "                    error_bad_lines=False)\n",
    "                if first:\n",
    "                    first = False\n",
    "                    df = z\n",
    "                else:\n",
    "                    df = pd.concat([df, z])\n",
    "    return df"
   ]
  },
  {
   "cell_type": "code",
   "execution_count": 3,
   "metadata": {
    "slideshow": {
     "slide_type": "skip"
    }
   },
   "outputs": [],
   "source": [
    "def computar_divergencias(a,b,inter,debug=-1):\n",
    "\n",
    "    atts = a.columns\n",
    "\n",
    "    resumo = []\n",
    "    \n",
    "    if debug <= -1:\n",
    "        l = len(inter)\n",
    "    else:\n",
    "        l = debug\n",
    "\n",
    "    for cpf in list(inter)[0:l]:\n",
    "        ra = a[a.NR_CPF_CANDIDATO == cpf]\n",
    "        rb = b[b.NR_CPF_CANDIDATO == cpf]\n",
    "        linha = {'cpf' : cpf}\n",
    "        if debug > -1:\n",
    "            print(ra.iloc[0][2] +'-'+ rb.iloc[0][2])\n",
    "        for att in range(2,len(a.columns)):\n",
    "            if (ra.iloc[0][att] != rb.iloc[0][att] ):\n",
    "                linha[atts[att]] = 1\n",
    "                if debug > -1:\n",
    "                    print('\\t['+atts[att]+'] ' + ra.iloc[0][att] +' -> '+  rb.iloc[0][att])\n",
    "        resumo.append(linha)\n",
    "        if debug > -1:\n",
    "            print(' ')\n",
    "    \n",
    "    return pd.DataFrame(resumo).fillna(0)"
   ]
  },
  {
   "cell_type": "markdown",
   "metadata": {
    "slideshow": {
     "slide_type": "skip"
    }
   },
   "source": [
    "## Leitura dos dados"
   ]
  },
  {
   "cell_type": "code",
   "execution_count": 4,
   "metadata": {
    "slideshow": {
     "slide_type": "skip"
    }
   },
   "outputs": [],
   "source": [
    "ds_files = 'D:\\Dados\\OneDrive\\Doutorado\\Datasets\\\\tse\\\\'"
   ]
  },
  {
   "cell_type": "code",
   "execution_count": 5,
   "metadata": {
    "slideshow": {
     "slide_type": "skip"
    }
   },
   "outputs": [],
   "source": [
    "# df08 = read_data('2008',ds_files)\n",
    "# len(df08)\n",
    "# df12 = read_data('2012',ds_files)\n",
    "# len(df12)\n",
    "# df = df08[df08[5] =='PB']\n",
    "# df = df[df[7] =='CAMPINA GRANDE']\n",
    "\n",
    "# # df = df12[df12[5] =='PB']\n",
    "# # df = df[df[7] =='CAMPINA GRANDE']\n",
    "# df.head(4).iloc[:,[21,20,22,23,5,7,10,14,13,25,36,30,32,34,36,37,39,27]]\n",
    "# df.head(4).iloc[:,[21,5,7,10,14,13,25,36,30,32,34,36,37,39,27]]\n",
    "# # nomes = ['UF','MUNICIPIO','ESTADO_CIVIL','NOME','APELIDO' ,'CPF1','PROFISSAO' ,'NASIMENTO','SEXO' ,'EDUCACAO','ESTADO_CIVIL' ,'NATURALIDADE','ESTADO' ,'CIDADE','CPF2' ,'','' ,'','' ,'',]\n",
    "# # df.iloc[:, [5,7,10,14,13,25,36,30,32,34,36,37,39,27]]"
   ]
  },
  {
   "cell_type": "code",
   "execution_count": 6,
   "metadata": {
    "slideshow": {
     "slide_type": "skip"
    }
   },
   "outputs": [],
   "source": [
    "df14 = read_data('2014',ds_files)\n",
    "df18 = read_data('2018',ds_files)\n",
    "\n",
    "df14 = df14.iloc[:, [20,40,17,42,46,48,50,34,10,39,38,35,37,44,21]]\n",
    "df18 = df18.iloc[:, [20,40,17,42,46,48,50,34,10,39,38,35,37,44,21]]"
   ]
  },
  {
   "cell_type": "code",
   "execution_count": 8,
   "metadata": {
    "slideshow": {
     "slide_type": "skip"
    }
   },
   "outputs": [],
   "source": [
    "inter = set(df14.iloc[:, 0 ]) & set(df18.iloc[:, 0 ])"
   ]
  },
  {
   "cell_type": "code",
   "execution_count": 9,
   "metadata": {
    "slideshow": {
     "slide_type": "skip"
    }
   },
   "outputs": [],
   "source": [
    "a = df14\n",
    "b = df18\n",
    "\n",
    "inter_a = df14[df14.NR_CPF_CANDIDATO.isin(list(inter))]\n",
    "inter_b = df18[df18.NR_CPF_CANDIDATO.isin(list(inter))]\n",
    "\n",
    "only_a = df14[~df14.NR_CPF_CANDIDATO.isin(list(inter))]\n",
    "only_b = df18[~df18.NR_CPF_CANDIDATO.isin(list(inter))]"
   ]
  },
  {
   "cell_type": "code",
   "execution_count": 10,
   "metadata": {},
   "outputs": [
    {
     "name": "stdout",
     "output_type": "stream",
     "text": [
      "a = 26276\n",
      "b = 29145\n",
      "a ∩ b = 4190\n",
      "4266 4234\n"
     ]
    }
   ],
   "source": [
    "print('a =',len(a))\n",
    "print('b =',len(b))\n",
    "print('a ∩ b =',len(inter))\n",
    "print(len(inter_a),len(inter_b)) # dois cpf"
   ]
  },
  {
   "cell_type": "code",
   "execution_count": 32,
   "metadata": {},
   "outputs": [],
   "source": []
  },
  {
   "cell_type": "code",
   "execution_count": 11,
   "metadata": {},
   "outputs": [],
   "source": [
    "porcentagem_match = len(inter)/ (len(a) + len(b))\n",
    "porcentagem_unmatch = 1 - (porcentagem_match)\n",
    "\n",
    "n = 2000\n",
    "m = int(n * porcentagem_match)\n",
    "um = int(n * porcentagem_unmatch)\n",
    "\n",
    "int(um/2)\n",
    "\n",
    "random_inter = random.sample(inter,m)\n",
    "dups_a = a[a.NR_CPF_CANDIDATO.isin(list(random_inter))]\n",
    "dups_b = b[b.NR_CPF_CANDIDATO.isin(list(random_inter))]\n",
    "\n",
    "\n",
    "sdfa = pd.concat([only_a.sample(int(um/2)),\n",
    "               only_b.sample(int(um/2)),\n",
    "               dups_a\n",
    "              ])\n",
    "\n",
    "sdfb = pd.concat([only_a.sample(int(um/2)),\n",
    "               only_b.sample(int(um/2)),\n",
    "               dups_b\n",
    "              ])"
   ]
  },
  {
   "cell_type": "code",
   "execution_count": 21,
   "metadata": {},
   "outputs": [
    {
     "data": {
      "text/html": [
       "<div>\n",
       "<style scoped>\n",
       "    .dataframe tbody tr th:only-of-type {\n",
       "        vertical-align: middle;\n",
       "    }\n",
       "\n",
       "    .dataframe tbody tr th {\n",
       "        vertical-align: top;\n",
       "    }\n",
       "\n",
       "    .dataframe thead th {\n",
       "        text-align: right;\n",
       "    }\n",
       "</style>\n",
       "<table border=\"1\" class=\"dataframe\">\n",
       "  <thead>\n",
       "    <tr style=\"text-align: right;\">\n",
       "      <th></th>\n",
       "      <th>NR_CPF_CANDIDATO</th>\n",
       "      <th>NR_TITULO_ELEITORAL_CANDIDATO</th>\n",
       "      <th>NM_CANDIDATO</th>\n",
       "      <th>DS_GENERO</th>\n",
       "      <th>DS_ESTADO_CIVIL</th>\n",
       "      <th>DS_COR_RACA</th>\n",
       "      <th>DS_OCUPACAO</th>\n",
       "      <th>DS_NACIONALIDADE</th>\n",
       "      <th>SG_UF</th>\n",
       "      <th>NR_IDADE_DATA_POSSE</th>\n",
       "      <th>DT_NASCIMENTO</th>\n",
       "      <th>SG_UF_NASCIMENTO</th>\n",
       "      <th>NM_MUNICIPIO_NASCIMENTO</th>\n",
       "      <th>DS_GRAU_INSTRUCAO</th>\n",
       "      <th>NM_EMAIL</th>\n",
       "    </tr>\n",
       "  </thead>\n",
       "  <tbody>\n",
       "    <tr>\n",
       "      <th>123</th>\n",
       "      <td>61275468268</td>\n",
       "      <td>3695262437</td>\n",
       "      <td>JANILSON LOPES LEITE</td>\n",
       "      <td>MASCULINO</td>\n",
       "      <td>CASADO(A)</td>\n",
       "      <td>PARDA</td>\n",
       "      <td>MÉDICO</td>\n",
       "      <td>BRASILEIRA NATA</td>\n",
       "      <td>AC</td>\n",
       "      <td>37.0</td>\n",
       "      <td>02/01/1978</td>\n",
       "      <td>AC</td>\n",
       "      <td>TARAUACA</td>\n",
       "      <td>SUPERIOR COMPLETO</td>\n",
       "      <td>PCDOBACRI@GMAIL.COM</td>\n",
       "    </tr>\n",
       "  </tbody>\n",
       "</table>\n",
       "</div>"
      ],
      "text/plain": [
       "    NR_CPF_CANDIDATO  NR_TITULO_ELEITORAL_CANDIDATO          NM_CANDIDATO  \\\n",
       "123      61275468268                     3695262437  JANILSON LOPES LEITE   \n",
       "\n",
       "     DS_GENERO DS_ESTADO_CIVIL DS_COR_RACA DS_OCUPACAO DS_NACIONALIDADE SG_UF  \\\n",
       "123  MASCULINO       CASADO(A)       PARDA      MÉDICO  BRASILEIRA NATA    AC   \n",
       "\n",
       "     NR_IDADE_DATA_POSSE DT_NASCIMENTO SG_UF_NASCIMENTO  \\\n",
       "123                 37.0    02/01/1978               AC   \n",
       "\n",
       "    NM_MUNICIPIO_NASCIMENTO  DS_GRAU_INSTRUCAO             NM_EMAIL  \n",
       "123                TARAUACA  SUPERIOR COMPLETO  PCDOBACRI@GMAIL.COM  "
      ]
     },
     "execution_count": 21,
     "metadata": {},
     "output_type": "execute_result"
    }
   ],
   "source": [
    "dups_a[dups_a.NR_CPF_CANDIDATO == dups_b.NR_CPF_CANDIDATO.values[0]]"
   ]
  },
  {
   "cell_type": "markdown",
   "metadata": {},
   "source": [
    "gerando gabarito"
   ]
  },
  {
   "cell_type": "code",
   "execution_count": 12,
   "metadata": {},
   "outputs": [],
   "source": [
    "linhas = []\n",
    "for id_ in dups_a.NR_CPF_CANDIDATO.unique():\n",
    "    linha = {'id1':id_,'id2':id_}\n",
    "    linhas.append(linha)\n",
    "\n",
    "gabarito = pd.DataFrame(linhas)"
   ]
  },
  {
   "cell_type": "markdown",
   "metadata": {},
   "source": [
    "estatisticas"
   ]
  },
  {
   "cell_type": "code",
   "execution_count": 13,
   "metadata": {},
   "outputs": [],
   "source": [
    "nan_list = sdfa.isnull().sum()\n",
    "estatiscas = sdfa.describe(include='object')\n",
    "est_a = gerar_estatiscas_df(nan_list,estatiscas)\n",
    "\n",
    "nan_list = sdfb.isnull().sum()\n",
    "estatiscas = sdfb.describe(include='object')\n",
    "est_b = gerar_estatiscas_df(nan_list,estatiscas)"
   ]
  },
  {
   "cell_type": "markdown",
   "metadata": {},
   "source": [
    "dados"
   ]
  },
  {
   "cell_type": "code",
   "execution_count": 14,
   "metadata": {},
   "outputs": [],
   "source": [
    "sdfa = sdfa.iloc[:,[0,2,3,4,7,11,12]]\n",
    "sdfb = sdfb.iloc[:,[0,2,3,4,7,11,12]]\n",
    "# sdfa"
   ]
  },
  {
   "cell_type": "code",
   "execution_count": 15,
   "metadata": {},
   "outputs": [],
   "source": [
    "of = ds_files + 'processed_tse-2k-8.zip'\n",
    "save_zip2(sdfa,sdfb,gabarito,est_a,est_b,of)"
   ]
  },
  {
   "cell_type": "code",
   "execution_count": 16,
   "metadata": {},
   "outputs": [],
   "source": [
    "z = computar_divergencias(sdfa,sdfb,random_inter)\n",
    "z.to_csv(ds_files+'sujeira_processed_tse-10k-8.csv', index=False)"
   ]
  },
  {
   "cell_type": "code",
   "execution_count": 17,
   "metadata": {},
   "outputs": [
    {
     "data": {
      "text/plain": [
       "cpf                        5.860563e+12\n",
       "NM_MUNICIPIO_NASCIMENTO    4.200000e+01\n",
       "DS_ESTADO_CIVIL            1.900000e+01\n",
       "SG_UF_NASCIMENTO           8.000000e+00\n",
       "dtype: float64"
      ]
     },
     "execution_count": 17,
     "metadata": {},
     "output_type": "execute_result"
    }
   ],
   "source": [
    "z.sum()"
   ]
  },
  {
   "cell_type": "markdown",
   "metadata": {
    "heading_collapsed": true,
    "slideshow": {
     "slide_type": "slide"
    }
   },
   "source": [
    "# Estatisticas"
   ]
  },
  {
   "cell_type": "code",
   "execution_count": 8,
   "metadata": {
    "hidden": true,
    "slideshow": {
     "slide_type": "skip"
    }
   },
   "outputs": [],
   "source": [
    "a = df14[df14.NR_CPF_CANDIDATO.isin(list(inter))]\n",
    "b = df18[df18.NR_CPF_CANDIDATO.isin(list(inter))]\n",
    "\n",
    "del a['NR_IDADE_DATA_POSSE']\n",
    "del b['NR_IDADE_DATA_POSSE']\n",
    "del a['NM_EMAIL']\n",
    "del b['NM_EMAIL']"
   ]
  },
  {
   "cell_type": "code",
   "execution_count": 11,
   "metadata": {
    "hidden": true
   },
   "outputs": [
    {
     "name": "stdout",
     "output_type": "stream",
     "text": [
      "a = 4266\n",
      "b = 4234\n",
      "a ∩ b = 4190\n"
     ]
    }
   ],
   "source": [
    "print('a =',len(a))\n",
    "print('b =',len(b))\n",
    "print('a ∩ b =',len(inter))"
   ]
  },
  {
   "cell_type": "code",
   "execution_count": 9,
   "metadata": {
    "hidden": true,
    "slideshow": {
     "slide_type": "subslide"
    }
   },
   "outputs": [
    {
     "name": "stdout",
     "output_type": "stream",
     "text": [
      "a = 26276\n",
      "b = 29145\n",
      "a ∩ b = 4266\n"
     ]
    }
   ],
   "source": [
    "print('a =',len(df14))\n",
    "print('b =',len(df18))\n",
    "print('a ∩ b =',len(a))"
   ]
  },
  {
   "cell_type": "code",
   "execution_count": 10,
   "metadata": {
    "hidden": true,
    "slideshow": {
     "slide_type": "skip"
    }
   },
   "outputs": [],
   "source": [
    "resumo = computar_divergencias(a,b,inter)"
   ]
  },
  {
   "cell_type": "markdown",
   "metadata": {
    "hidden": true,
    "slideshow": {
     "slide_type": "slide"
    }
   },
   "source": [
    "### Estatiscas da Intercessão"
   ]
  },
  {
   "cell_type": "code",
   "execution_count": 40,
   "metadata": {
    "hidden": true,
    "slideshow": {
     "slide_type": "subslide"
    }
   },
   "outputs": [
    {
     "data": {
      "text/plain": [
       "(DS_COR_RACA                1125.0\n",
       " DS_OCUPACAO                2356.0\n",
       " SG_UF_NASCIMENTO            240.0\n",
       " NM_MUNICIPIO_NASCIMENTO    1331.0\n",
       " NM_CANDIDATO                885.0\n",
       " DS_GRAU_INSTRUCAO          1002.0\n",
       " DS_ESTADO_CIVIL             719.0\n",
       " DT_NASCIMENTO                92.0\n",
       " SG_UF                        36.0\n",
       " DS_NACIONALIDADE             20.0\n",
       " DS_GENERO                     5.0\n",
       " dtype: float64,\n",
       " 4190)"
      ]
     },
     "execution_count": 40,
     "metadata": {},
     "output_type": "execute_result"
    }
   ],
   "source": [
    "resumo.drop('cpf',1).sum(), len(resumo)"
   ]
  },
  {
   "cell_type": "code",
   "execution_count": 12,
   "metadata": {
    "hidden": true,
    "slideshow": {
     "slide_type": "subslide"
    }
   },
   "outputs": [
    {
     "name": "stdout",
     "output_type": "stream",
     "text": [
      "PAULO JOSÉ ARAUJO CORREA-PAULO JOSÉ ARAUJO CORREA\n",
      "LUIZ GARIBALDE RABELO DE MENDONÇA-LUIZ GARIBALDE RABELO DE MENDONÇA\n",
      "\t[DS_COR_RACA] BRANCA -> PARDA\n",
      "ANTONIO GOMES DA SILVA-ANTONIO GOMES DA SILVA\n",
      "\t[DS_COR_RACA] PRETA -> PARDA\n",
      "\t[DS_OCUPACAO] CABELEIREIRO E BARBEIRO -> SACERDOTE OU MEMBRO DE ORDEM OU SEITA RELIGIOSA\n",
      "\t[SG_UF_NASCIMENTO] AL -> SP\n",
      "\t[NM_MUNICIPIO_NASCIMENTO] ARAPIRACA -> BOTUCATU\n",
      "JOAO PAULO DE MENEZES FURTADO-JOÃO PAULO DE MENEZES FURTADO\n",
      "\t[NM_CANDIDATO] JOAO PAULO DE MENEZES FURTADO -> JOÃO PAULO DE MENEZES FURTADO\n",
      "\t[DS_COR_RACA] BRANCA -> PARDA\n",
      "\t[DS_OCUPACAO] OUTROS -> COMERCIANTE\n",
      "\t[DS_GRAU_INSTRUCAO] SUPERIOR INCOMPLETO -> ENSINO MÉDIO COMPLETO\n",
      "MARCIA FARIA MAIA MENDES-MARCIA FARIA MAIA\n",
      "\t[NM_CANDIDATO] MARCIA FARIA MAIA MENDES -> MARCIA FARIA MAIA\n",
      "ROSANGELA APARECIDA DA SILVA BARROS-ROSANGELA APARECIDA BARROS CURADO\n",
      "\t[NM_CANDIDATO] ROSANGELA APARECIDA DA SILVA BARROS -> ROSANGELA APARECIDA BARROS CURADO\n",
      "\t[DS_ESTADO_CIVIL] CASADO(A) -> DIVORCIADO(A)\n",
      "\t[DS_COR_RACA] PARDA -> BRANCA\n",
      "JOÃO CARLOS FRANÇA DE PAULA SANTOS-JOÃO CARLOS FRANÇA DE PAULA SANTOS\n",
      "EDISON RIBEIRO-EDISON RIBEIRO\n",
      "\t[DS_ESTADO_CIVIL] CASADO(A) -> SOLTEIRO(A)\n",
      "\t[DS_COR_RACA] PARDA -> BRANCA\n",
      "\t[SG_UF_NASCIMENTO] MG -> SP\n",
      "\t[NM_MUNICIPIO_NASCIMENTO] CAMPO DO MEIO -> SÃO PAULO\n",
      "ANTÔNIO FELICIANO DA SILVA-ANTONIO FELICIANO DA SILVA\n",
      "\t[NM_CANDIDATO] ANTÔNIO FELICIANO DA SILVA -> ANTONIO FELICIANO DA SILVA\n",
      "\t[SG_UF_NASCIMENTO] MA -> PI\n",
      "\t[NM_MUNICIPIO_NASCIMENTO] POÇÃO DE PEDRAS -> PICOS\n",
      "\t[DS_GRAU_INSTRUCAO] ENSINO FUNDAMENTAL COMPLETO -> ENSINO FUNDAMENTAL INCOMPLETO\n",
      "RUBEM NUNES MARTINS-RUBEM NUNES MARTINS\n",
      "\t[NM_MUNICIPIO_NASCIMENTO] SANTA CRUZ DO PIAUI -> SANTA CRUZ DO PIAUÍ\n"
     ]
    }
   ],
   "source": [
    "z = computar_divergencias(a,b,inter,debug=10)"
   ]
  }
 ],
 "metadata": {
  "kernelspec": {
   "display_name": "Python 3",
   "language": "python",
   "name": "python3"
  },
  "language_info": {
   "codemirror_mode": {
    "name": "ipython",
    "version": 3
   },
   "file_extension": ".py",
   "mimetype": "text/x-python",
   "name": "python",
   "nbconvert_exporter": "python",
   "pygments_lexer": "ipython3",
   "version": "3.7.7"
  },
  "latex_envs": {
   "LaTeX_envs_menu_present": true,
   "autoclose": false,
   "autocomplete": true,
   "bibliofile": "biblio.bib",
   "cite_by": "apalike",
   "current_citInitial": 1,
   "eqLabelWithNumbers": true,
   "eqNumInitial": 1,
   "hotkeys": {
    "equation": "Ctrl-E",
    "itemize": "Ctrl-I"
   },
   "labels_anchors": false,
   "latex_user_defs": false,
   "report_style_numbering": false,
   "user_envs_cfg": false
  },
  "toc": {
   "base_numbering": 1,
   "nav_menu": {},
   "number_sections": true,
   "sideBar": true,
   "skip_h1_title": false,
   "title_cell": "Table of Contents",
   "title_sidebar": "Contents",
   "toc_cell": false,
   "toc_position": {},
   "toc_section_display": true,
   "toc_window_display": false
  }
 },
 "nbformat": 4,
 "nbformat_minor": 1
}
