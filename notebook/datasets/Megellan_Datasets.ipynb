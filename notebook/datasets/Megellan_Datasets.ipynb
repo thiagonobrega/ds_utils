{
 "cells": [
  {
   "cell_type": "code",
   "execution_count": 1,
   "metadata": {
    "slideshow": {
     "slide_type": "skip"
    }
   },
   "outputs": [],
   "source": [
    "import sys\n",
    "import zipfile\n",
    "import os\n",
    "\n",
    "import numpy as np\n",
    "import pandas as pd\n",
    "from IPython.display import display, HTML\n",
    "\n",
    "sys.path.append(\"../../libs/\")\n",
    "\n",
    "from datasetutil import gerar_estatiscas_df, substituir_valores_nulos , verify_gg4cc , save_zip"
   ]
  },
  {
   "cell_type": "code",
   "execution_count": 7,
   "metadata": {
    "slideshow": {
     "slide_type": "skip"
    }
   },
   "outputs": [
    {
     "data": {
      "text/html": [
       "<style>\n",
       ".output {\n",
       "    flex-direction: row;\n",
       "}\n",
       "</style>"
      ],
      "text/plain": [
       "<IPython.core.display.HTML object>"
      ]
     },
     "execution_count": 7,
     "metadata": {},
     "output_type": "execute_result"
    }
   ],
   "source": [
    "\n",
    "CSS = \"\"\"\n",
    ".output {\n",
    "    flex-direction: row;\n",
    "}\n",
    "\"\"\"\n",
    "\n",
    "HTML('<style>{}</style>'.format(CSS))"
   ]
  },
  {
   "cell_type": "markdown",
   "metadata": {},
   "source": [
    "# Metodos"
   ]
  },
  {
   "cell_type": "code",
   "execution_count": 36,
   "metadata": {},
   "outputs": [],
   "source": [
    "def read(zinput,nome_arquivo,\n",
    "         file_format=\".csv\",\n",
    "         separador=',',codificacao=\"iso-8859-1\",quote='True',skip_coments=False):\n",
    "    '''\n",
    "        Ler zip com os datasets\n",
    "    '''\n",
    "    zf = zipfile.ZipFile(zinput) \n",
    "\n",
    "    for file in zipfile.ZipFile.namelist(zf):\n",
    "        if file == nome_arquivo+file_format:\n",
    "            if quote == 'True':\n",
    "                df = pd.read_csv(zf.open(file), header=0, encoding=codificacao,\n",
    "                                 sep=separador,error_bad_lines=False)#,\n",
    "            else:\n",
    "                df = pd.read_csv(zf.open(file), header=0, encoding=codificacao,\n",
    "                                 sep=separador,error_bad_lines=False,\n",
    "                                 quotechar = quote)\n",
    "            if skip_coments:\n",
    "                df = pd.read_csv(zf.open(file), header=0, encoding=codificacao,\n",
    "                                 sep=separador,error_bad_lines=False,comment='#')\n",
    "                \n",
    "#             chunksize=640000000,\n",
    "#             nrows=15)\n",
    "            return df\n",
    "# df.iloc[:, [68,2,10,11,9,28,29,13,14,15,1,16]]"
   ]
  },
  {
   "cell_type": "code",
   "execution_count": 124,
   "metadata": {},
   "outputs": [],
   "source": [
    "def procurar_duplicados(_df,a='id'):\n",
    "    counts = _df[a].value_counts()\n",
    "    return _df[_df[a].isin(counts.index[counts > 1])]"
   ]
  },
  {
   "cell_type": "code",
   "execution_count": 125,
   "metadata": {},
   "outputs": [],
   "source": [
    "def retornar_ds_limpo(_df,chave='id'):\n",
    "    saida = []\n",
    "    \n",
    "    for k in _df[chave].unique():\n",
    "        if len(saida) == 0:\n",
    "            saida = _df[_df[chave] == k].head(1)\n",
    "        else:\n",
    "            saida = pd.concat([saida,_df[_df[chave] == k].head(1)])\n",
    "    return saida"
   ]
  },
  {
   "cell_type": "markdown",
   "metadata": {},
   "source": [
    "# Magellan"
   ]
  },
  {
   "cell_type": "markdown",
   "metadata": {},
   "source": [
    "## restaurantes"
   ]
  },
  {
   "cell_type": "markdown",
   "metadata": {
    "heading_collapsed": true
   },
   "source": [
    "### restaurantes4"
   ]
  },
  {
   "cell_type": "code",
   "execution_count": 121,
   "metadata": {
    "hidden": true
   },
   "outputs": [],
   "source": [
    "base_dir = 'D:'+os.sep+'Dados'+os.sep+'OneDrive'+os.sep+'Doutorado'+os.sep\n",
    "ds_files = base_dir + 'Datasets' + os.sep + 'Magellan Data Repository' + os.sep +'Magellan' + os.sep\n",
    "out_file = base_dir + 'workspace'+os.sep+'tl_pprl2'+os.sep+'datasets'+os.sep+'restaurants'+os.sep\n",
    "\n",
    "inputZip = 'yelp_yellowpages.zip'\n",
    "data = 'labeled_data'\n",
    "\n",
    "\n",
    "zip_file = 'processed_yelp-yellowpages.zip'\n",
    "\n",
    "df = read(ds_files+inputZip,data,skip_coments=True)"
   ]
  },
  {
   "cell_type": "code",
   "execution_count": 122,
   "metadata": {
    "hidden": true
   },
   "outputs": [],
   "source": [
    "# gabarito\n",
    "gs = df[df.gold==1].iloc[:,[1,2]]\n",
    "\n",
    "\n",
    "colunas =  [ 'id','address','city','name','phone','state','zipcode' ]\n",
    "n_atibutos = len(colunas) -1\n",
    "\n",
    "inicio_atributos_ds1 = 3\n",
    "fim_atributos_ds1 = inicio_atributos_ds1 + n_atibutos\n",
    "\n",
    "\n",
    "atts = [1] + list(range(inicio_atributos_ds1,fim_atributos_ds1))\n",
    "ds1 = df.iloc[:,atts]\n",
    "\n",
    "atts = [2] + list(range(fim_atributos_ds1,fim_atributos_ds1+n_atibutos))\n",
    "ds2 = df.iloc[:,atts]\n",
    "\n",
    "ds1.columns = colunas\n",
    "ds2.columns = colunas"
   ]
  },
  {
   "cell_type": "code",
   "execution_count": 123,
   "metadata": {
    "hidden": true
   },
   "outputs": [
    {
     "name": "stderr",
     "output_type": "stream",
     "text": [
      "D:\\Programas\\Anaconda3\\envs\\utils\\lib\\site-packages\\pandas\\core\\generic.py:5303: SettingWithCopyWarning: \n",
      "A value is trying to be set on a copy of a slice from a DataFrame.\n",
      "Try using .loc[row_indexer,col_indexer] = value instead\n",
      "\n",
      "See the caveats in the documentation: https://pandas.pydata.org/pandas-docs/stable/user_guide/indexing.html#returning-a-view-versus-a-copy\n",
      "  self[name] = value\n"
     ]
    }
   ],
   "source": [
    "#nan em coluna de interiro\n",
    "ds2.zipcode = ds2.zipcode.fillna(-1)\n",
    "ds2.zipcode = ds2.zipcode.astype(int)\n",
    "ds2.zipcode = ds2.zipcode.astype(str)\n",
    "ds2.zipcode = ds2.zipcode.replace('-1', np.nan)\n",
    "\n",
    "ds1.zipcode = ds1.zipcode.fillna(-1)\n",
    "ds1.zipcode = ds1.zipcode.astype(int)\n",
    "ds1.zipcode = ds1.zipcode.astype(str)\n",
    "ds1.zipcode = ds1.zipcode.replace('-1', np.nan)\n"
   ]
  },
  {
   "cell_type": "code",
   "execution_count": 126,
   "metadata": {
    "hidden": true
   },
   "outputs": [],
   "source": [
    "ds1 = retornar_ds_limpo(ds1)\n",
    "ds2 = retornar_ds_limpo(ds2)"
   ]
  },
  {
   "cell_type": "markdown",
   "metadata": {
    "hidden": true
   },
   "source": [
    "#### Estatisticas"
   ]
  },
  {
   "cell_type": "code",
   "execution_count": 127,
   "metadata": {
    "hidden": true
   },
   "outputs": [
    {
     "data": {
      "text/html": [
       "<div>\n",
       "<style scoped>\n",
       "    .dataframe tbody tr th:only-of-type {\n",
       "        vertical-align: middle;\n",
       "    }\n",
       "\n",
       "    .dataframe tbody tr th {\n",
       "        vertical-align: top;\n",
       "    }\n",
       "\n",
       "    .dataframe thead th {\n",
       "        text-align: right;\n",
       "    }\n",
       "</style>\n",
       "<table border=\"1\" class=\"dataframe\">\n",
       "  <thead>\n",
       "    <tr style=\"text-align: right;\">\n",
       "      <th></th>\n",
       "      <th>address</th>\n",
       "      <th>city</th>\n",
       "      <th>name</th>\n",
       "      <th>phone</th>\n",
       "      <th>state</th>\n",
       "      <th>zipcode</th>\n",
       "      <th>ds</th>\n",
       "    </tr>\n",
       "    <tr>\n",
       "      <th>metrica</th>\n",
       "      <th></th>\n",
       "      <th></th>\n",
       "      <th></th>\n",
       "      <th></th>\n",
       "      <th></th>\n",
       "      <th></th>\n",
       "      <th></th>\n",
       "    </tr>\n",
       "  </thead>\n",
       "  <tbody>\n",
       "    <tr>\n",
       "      <th>count</th>\n",
       "      <td>323</td>\n",
       "      <td>315</td>\n",
       "      <td>315</td>\n",
       "      <td>315</td>\n",
       "      <td>315</td>\n",
       "      <td>315</td>\n",
       "      <td>fodors</td>\n",
       "    </tr>\n",
       "    <tr>\n",
       "      <th>unique</th>\n",
       "      <td>233</td>\n",
       "      <td>44</td>\n",
       "      <td>236</td>\n",
       "      <td>241</td>\n",
       "      <td>10</td>\n",
       "      <td>63</td>\n",
       "      <td>fodors</td>\n",
       "    </tr>\n",
       "    <tr>\n",
       "      <th>top</th>\n",
       "      <td>1360 El Camino Real</td>\n",
       "      <td>Menlo Park</td>\n",
       "      <td>Iron Gate Restaurant</td>\n",
       "      <td>(650) 592-7893</td>\n",
       "      <td>CA</td>\n",
       "      <td>94025</td>\n",
       "      <td>fodors</td>\n",
       "    </tr>\n",
       "    <tr>\n",
       "      <th>freq</th>\n",
       "      <td>13</td>\n",
       "      <td>48</td>\n",
       "      <td>13</td>\n",
       "      <td>13</td>\n",
       "      <td>226</td>\n",
       "      <td>48</td>\n",
       "      <td>fodors</td>\n",
       "    </tr>\n",
       "    <tr>\n",
       "      <th>nan</th>\n",
       "      <td>0</td>\n",
       "      <td>0</td>\n",
       "      <td>8</td>\n",
       "      <td>8</td>\n",
       "      <td>8</td>\n",
       "      <td>8</td>\n",
       "      <td>fodors</td>\n",
       "    </tr>\n",
       "  </tbody>\n",
       "</table>\n",
       "</div>"
      ],
      "text/plain": [
       "                     address        city                  name  \\\n",
       "metrica                                                          \n",
       "count                    323         315                   315   \n",
       "unique                   233          44                   236   \n",
       "top      1360 El Camino Real  Menlo Park  Iron Gate Restaurant   \n",
       "freq                      13          48                    13   \n",
       "nan                        0           0                     8   \n",
       "\n",
       "                  phone state zipcode      ds  \n",
       "metrica                                        \n",
       "count               315   315     315  fodors  \n",
       "unique              241    10      63  fodors  \n",
       "top      (650) 592-7893    CA   94025  fodors  \n",
       "freq                 13   226      48  fodors  \n",
       "nan                   8     8       8  fodors  "
      ]
     },
     "metadata": {},
     "output_type": "display_data"
    },
    {
     "data": {
      "text/html": [
       "<div>\n",
       "<style scoped>\n",
       "    .dataframe tbody tr th:only-of-type {\n",
       "        vertical-align: middle;\n",
       "    }\n",
       "\n",
       "    .dataframe tbody tr th {\n",
       "        vertical-align: top;\n",
       "    }\n",
       "\n",
       "    .dataframe thead th {\n",
       "        text-align: right;\n",
       "    }\n",
       "</style>\n",
       "<table border=\"1\" class=\"dataframe\">\n",
       "  <thead>\n",
       "    <tr style=\"text-align: right;\">\n",
       "      <th></th>\n",
       "      <th>address</th>\n",
       "      <th>city</th>\n",
       "      <th>name</th>\n",
       "      <th>phone</th>\n",
       "      <th>state</th>\n",
       "      <th>zipcode</th>\n",
       "      <th>ds</th>\n",
       "    </tr>\n",
       "    <tr>\n",
       "      <th>metrica</th>\n",
       "      <th></th>\n",
       "      <th></th>\n",
       "      <th></th>\n",
       "      <th></th>\n",
       "      <th></th>\n",
       "      <th></th>\n",
       "      <th></th>\n",
       "    </tr>\n",
       "  </thead>\n",
       "  <tbody>\n",
       "    <tr>\n",
       "      <th>count</th>\n",
       "      <td>238</td>\n",
       "      <td>238</td>\n",
       "      <td>238</td>\n",
       "      <td>237</td>\n",
       "      <td>238</td>\n",
       "      <td>238</td>\n",
       "      <td>zagats</td>\n",
       "    </tr>\n",
       "    <tr>\n",
       "      <th>unique</th>\n",
       "      <td>209</td>\n",
       "      <td>47</td>\n",
       "      <td>219</td>\n",
       "      <td>220</td>\n",
       "      <td>9</td>\n",
       "      <td>61</td>\n",
       "      <td>zagats</td>\n",
       "    </tr>\n",
       "    <tr>\n",
       "      <th>top</th>\n",
       "      <td>1 S County Rd</td>\n",
       "      <td>Menlo Park</td>\n",
       "      <td>Pizza My Heart</td>\n",
       "      <td>(858) 792-8466</td>\n",
       "      <td>CA</td>\n",
       "      <td>94025</td>\n",
       "      <td>zagats</td>\n",
       "    </tr>\n",
       "    <tr>\n",
       "      <th>freq</th>\n",
       "      <td>5</td>\n",
       "      <td>36</td>\n",
       "      <td>2</td>\n",
       "      <td>2</td>\n",
       "      <td>151</td>\n",
       "      <td>36</td>\n",
       "      <td>zagats</td>\n",
       "    </tr>\n",
       "    <tr>\n",
       "      <th>nan</th>\n",
       "      <td>0</td>\n",
       "      <td>8</td>\n",
       "      <td>8</td>\n",
       "      <td>8</td>\n",
       "      <td>9</td>\n",
       "      <td>8</td>\n",
       "      <td>zagats</td>\n",
       "    </tr>\n",
       "  </tbody>\n",
       "</table>\n",
       "</div>"
      ],
      "text/plain": [
       "               address        city            name           phone state  \\\n",
       "metrica                                                                    \n",
       "count              238         238             238             237   238   \n",
       "unique             209          47             219             220     9   \n",
       "top      1 S County Rd  Menlo Park  Pizza My Heart  (858) 792-8466    CA   \n",
       "freq                 5          36               2               2   151   \n",
       "nan                  0           8               8               8     9   \n",
       "\n",
       "        zipcode      ds  \n",
       "metrica                  \n",
       "count       238  zagats  \n",
       "unique       61  zagats  \n",
       "top       94025  zagats  \n",
       "freq         36  zagats  \n",
       "nan           8  zagats  "
      ]
     },
     "metadata": {},
     "output_type": "display_data"
    }
   ],
   "source": [
    "nan_list1 = ds1.isnull().sum()\n",
    "nan_list2 = ds2.isnull().sum()\n",
    "\n",
    "estatiscas1 = ds1.describe(include='object')\n",
    "estatiscas2 = ds2.describe(include='object')\n",
    "\n",
    "sdf1 = gerar_estatiscas_df(nan_list1,estatiscas1)\n",
    "sdf1['ds'] = ds1_name\n",
    "\n",
    "sdf2 = gerar_estatiscas_df(nan_list2,estatiscas2)\n",
    "sdf2['ds'] = ds2_name\n",
    "\n",
    "estatiscas = pd.concat([sdf1,sdf2])#.to_csv(ds_files+'stats_abt-buy.csv',sep=';')\n",
    "\n",
    "display(sdf1)\n",
    "display(sdf2)"
   ]
  },
  {
   "cell_type": "markdown",
   "metadata": {
    "hidden": true
   },
   "source": [
    "#### Limpando os dados\n",
    "\n",
    "Sem valores nulos"
   ]
  },
  {
   "cell_type": "code",
   "execution_count": 128,
   "metadata": {
    "hidden": true
   },
   "outputs": [
    {
     "data": {
      "text/html": [
       "<div>\n",
       "<style scoped>\n",
       "    .dataframe tbody tr th:only-of-type {\n",
       "        vertical-align: middle;\n",
       "    }\n",
       "\n",
       "    .dataframe tbody tr th {\n",
       "        vertical-align: top;\n",
       "    }\n",
       "\n",
       "    .dataframe thead th {\n",
       "        text-align: right;\n",
       "    }\n",
       "</style>\n",
       "<table border=\"1\" class=\"dataframe\">\n",
       "  <thead>\n",
       "    <tr style=\"text-align: right;\">\n",
       "      <th></th>\n",
       "      <th>id1</th>\n",
       "      <th>id2</th>\n",
       "    </tr>\n",
       "  </thead>\n",
       "  <tbody>\n",
       "  </tbody>\n",
       "</table>\n",
       "</div>"
      ],
      "text/plain": [
       "Empty DataFrame\n",
       "Columns: [id1, id2]\n",
       "Index: []"
      ]
     },
     "metadata": {},
     "output_type": "display_data"
    },
    {
     "data": {
      "text/html": [
       "<div>\n",
       "<style scoped>\n",
       "    .dataframe tbody tr th:only-of-type {\n",
       "        vertical-align: middle;\n",
       "    }\n",
       "\n",
       "    .dataframe tbody tr th {\n",
       "        vertical-align: top;\n",
       "    }\n",
       "\n",
       "    .dataframe thead th {\n",
       "        text-align: right;\n",
       "    }\n",
       "</style>\n",
       "<table border=\"1\" class=\"dataframe\">\n",
       "  <thead>\n",
       "    <tr style=\"text-align: right;\">\n",
       "      <th></th>\n",
       "      <th>id1</th>\n",
       "      <th>id2</th>\n",
       "    </tr>\n",
       "  </thead>\n",
       "  <tbody>\n",
       "    <tr>\n",
       "      <th>0</th>\n",
       "      <td>20</td>\n",
       "      <td>71</td>\n",
       "    </tr>\n",
       "    <tr>\n",
       "      <th>8</th>\n",
       "      <td>80</td>\n",
       "      <td>71</td>\n",
       "    </tr>\n",
       "    <tr>\n",
       "      <th>52</th>\n",
       "      <td>685</td>\n",
       "      <td>1211</td>\n",
       "    </tr>\n",
       "    <tr>\n",
       "      <th>53</th>\n",
       "      <td>690</td>\n",
       "      <td>1742</td>\n",
       "    </tr>\n",
       "    <tr>\n",
       "      <th>107</th>\n",
       "      <td>1123</td>\n",
       "      <td>738</td>\n",
       "    </tr>\n",
       "  </tbody>\n",
       "</table>\n",
       "</div>"
      ],
      "text/plain": [
       "      id1   id2\n",
       "0      20    71\n",
       "8      80    71\n",
       "52    685  1211\n",
       "53    690  1742\n",
       "107  1123   738"
      ]
     },
     "metadata": {},
     "output_type": "display_data"
    }
   ],
   "source": [
    "gs.columns = ['id1','id2']\n",
    "gs.id1 = gs.id1.astype(str)\n",
    "gs.id2 = gs.id2.astype(str)\n",
    "da, db = verify_gg4cc(gs)\n",
    "display(da.head(5))\n",
    "display(db.head(5))"
   ]
  },
  {
   "cell_type": "code",
   "execution_count": 129,
   "metadata": {
    "hidden": true
   },
   "outputs": [
    {
     "name": "stdout",
     "output_type": "stream",
     "text": [
      "['80', '1641', '1646', '1609', '1364', '1482', '2257', '2194', '3380', '4843']\n",
      "[]\n"
     ]
    }
   ],
   "source": [
    "remover_da_lista2 = []\n",
    "remover_da_lista1 = []\n",
    "\n",
    "for i in da.id1.unique():\n",
    "    remover_da_lista2.append(da[da.id1 == i].id2.values[-1])\n",
    "\n",
    "for i in db.id2.unique():\n",
    "    remover_da_lista1.append(db[db.id2 == i].id1.values[-1])\n",
    "\n",
    "print(remover_da_lista1)\n",
    "print(remover_da_lista2)"
   ]
  },
  {
   "cell_type": "code",
   "execution_count": 130,
   "metadata": {
    "hidden": true
   },
   "outputs": [],
   "source": [
    "cds1 = ds1[~ds1.id.isin(remover_da_lista1)]\n",
    "cds2 = ds2[~ds2.id.isin(remover_da_lista2)]\n",
    "\n",
    "gs = gs[~gs.id1.isin(remover_da_lista1)]\n",
    "gs = gs[~gs.id2.isin(remover_da_lista2)]\n",
    "\n",
    "ds1 = cds1\n",
    "ds2 = cds2"
   ]
  },
  {
   "cell_type": "code",
   "execution_count": 120,
   "metadata": {
    "hidden": true
   },
   "outputs": [
    {
     "data": {
      "text/html": [
       "<div>\n",
       "<style scoped>\n",
       "    .dataframe tbody tr th:only-of-type {\n",
       "        vertical-align: middle;\n",
       "    }\n",
       "\n",
       "    .dataframe tbody tr th {\n",
       "        vertical-align: top;\n",
       "    }\n",
       "\n",
       "    .dataframe thead th {\n",
       "        text-align: right;\n",
       "    }\n",
       "</style>\n",
       "<table border=\"1\" class=\"dataframe\">\n",
       "  <thead>\n",
       "    <tr style=\"text-align: right;\">\n",
       "      <th></th>\n",
       "      <th>id1</th>\n",
       "      <th>id2</th>\n",
       "    </tr>\n",
       "  </thead>\n",
       "  <tbody>\n",
       "  </tbody>\n",
       "</table>\n",
       "</div>"
      ],
      "text/plain": [
       "Empty DataFrame\n",
       "Columns: [id1, id2]\n",
       "Index: []"
      ]
     },
     "metadata": {},
     "output_type": "display_data"
    },
    {
     "data": {
      "text/html": [
       "<div>\n",
       "<style scoped>\n",
       "    .dataframe tbody tr th:only-of-type {\n",
       "        vertical-align: middle;\n",
       "    }\n",
       "\n",
       "    .dataframe tbody tr th {\n",
       "        vertical-align: top;\n",
       "    }\n",
       "\n",
       "    .dataframe thead th {\n",
       "        text-align: right;\n",
       "    }\n",
       "</style>\n",
       "<table border=\"1\" class=\"dataframe\">\n",
       "  <thead>\n",
       "    <tr style=\"text-align: right;\">\n",
       "      <th></th>\n",
       "      <th>id1</th>\n",
       "      <th>id2</th>\n",
       "    </tr>\n",
       "  </thead>\n",
       "  <tbody>\n",
       "  </tbody>\n",
       "</table>\n",
       "</div>"
      ],
      "text/plain": [
       "Empty DataFrame\n",
       "Columns: [id1, id2]\n",
       "Index: []"
      ]
     },
     "metadata": {},
     "output_type": "display_data"
    }
   ],
   "source": [
    "da, db = verify_gg4cc(gs)\n",
    "display(da.head(5))\n",
    "display(db.head(5))"
   ]
  },
  {
   "cell_type": "markdown",
   "metadata": {
    "hidden": true
   },
   "source": [
    "Dataset clean-clean"
   ]
  },
  {
   "cell_type": "code",
   "execution_count": 134,
   "metadata": {
    "hidden": true
   },
   "outputs": [],
   "source": [
    "save_zip(ds1,ds2,gs,estatiscas,out_file + zip_file)"
   ]
  },
  {
   "cell_type": "markdown",
   "metadata": {},
   "source": [
    "### restaurantes1"
   ]
  },
  {
   "cell_type": "code",
   "execution_count": 147,
   "metadata": {},
   "outputs": [],
   "source": [
    "base_dir = 'D:'+os.sep+'Dados'+os.sep+'OneDrive'+os.sep+'Doutorado'+os.sep\n",
    "ds_files = base_dir + 'Datasets' + os.sep + 'Magellan Data Repository' + os.sep +'Magellan' + os.sep\n",
    "out_file = base_dir + 'workspace'+os.sep+'tl_pprl2'+os.sep+'datasets'+os.sep+'restaurants'+os.sep\n",
    "\n",
    "inputZip = 'yelp_zomato_big.zip'\n",
    "data = 'labeled_data'\n",
    "\n",
    "\n",
    "zip_file = 'processed_yelp-zomato.zip'\n",
    "\n",
    "df = read(ds_files+inputZip,data,skip_coments=True)"
   ]
  },
  {
   "cell_type": "code",
   "execution_count": 148,
   "metadata": {},
   "outputs": [],
   "source": [
    "# gabarito\n",
    "gs = df[df.gold==1].iloc[:,[1,2]]\n",
    "\n",
    "colunas =  [ 'id','NAME','PHONENUMBER','ADDRESS' ]\n",
    "n_atibutos = len(colunas) -1\n",
    "\n",
    "inicio_atributos_ds1 = 3\n",
    "fim_atributos_ds1 = inicio_atributos_ds1 + n_atibutos\n",
    "\n",
    "\n",
    "atts = [1] + list(range(inicio_atributos_ds1,fim_atributos_ds1))\n",
    "ds1 = df.iloc[:,atts]\n",
    "\n",
    "atts = [2] + list(range(fim_atributos_ds1,fim_atributos_ds1+n_atibutos))\n",
    "ds2 = df.iloc[:,atts]\n",
    "\n",
    "ds1.columns = colunas\n",
    "ds2.columns = colunas"
   ]
  },
  {
   "cell_type": "code",
   "execution_count": 149,
   "metadata": {},
   "outputs": [],
   "source": [
    "ds1 = retornar_ds_limpo(ds1)\n",
    "ds2 = retornar_ds_limpo(ds2)"
   ]
  },
  {
   "cell_type": "markdown",
   "metadata": {},
   "source": [
    "#### Estatisticas"
   ]
  },
  {
   "cell_type": "code",
   "execution_count": 150,
   "metadata": {},
   "outputs": [
    {
     "data": {
      "text/html": [
       "<div>\n",
       "<style scoped>\n",
       "    .dataframe tbody tr th:only-of-type {\n",
       "        vertical-align: middle;\n",
       "    }\n",
       "\n",
       "    .dataframe tbody tr th {\n",
       "        vertical-align: top;\n",
       "    }\n",
       "\n",
       "    .dataframe thead th {\n",
       "        text-align: right;\n",
       "    }\n",
       "</style>\n",
       "<table border=\"1\" class=\"dataframe\">\n",
       "  <thead>\n",
       "    <tr style=\"text-align: right;\">\n",
       "      <th></th>\n",
       "      <th>NAME</th>\n",
       "      <th>PHONENUMBER</th>\n",
       "      <th>ADDRESS</th>\n",
       "      <th>ds</th>\n",
       "    </tr>\n",
       "    <tr>\n",
       "      <th>metrica</th>\n",
       "      <th></th>\n",
       "      <th></th>\n",
       "      <th></th>\n",
       "      <th></th>\n",
       "    </tr>\n",
       "  </thead>\n",
       "  <tbody>\n",
       "    <tr>\n",
       "      <th>count</th>\n",
       "      <td>304</td>\n",
       "      <td>303</td>\n",
       "      <td>303</td>\n",
       "      <td>fodors</td>\n",
       "    </tr>\n",
       "    <tr>\n",
       "      <th>unique</th>\n",
       "      <td>302</td>\n",
       "      <td>302</td>\n",
       "      <td>299</td>\n",
       "      <td>fodors</td>\n",
       "    </tr>\n",
       "    <tr>\n",
       "      <th>top</th>\n",
       "      <td>Harold's Chicken Shack</td>\n",
       "      <td>(608) 819-6319</td>\n",
       "      <td>100 State St, Madison, WI</td>\n",
       "      <td>fodors</td>\n",
       "    </tr>\n",
       "    <tr>\n",
       "      <th>freq</th>\n",
       "      <td>2</td>\n",
       "      <td>2</td>\n",
       "      <td>2</td>\n",
       "      <td>fodors</td>\n",
       "    </tr>\n",
       "    <tr>\n",
       "      <th>nan</th>\n",
       "      <td>0</td>\n",
       "      <td>0</td>\n",
       "      <td>1</td>\n",
       "      <td>fodors</td>\n",
       "    </tr>\n",
       "  </tbody>\n",
       "</table>\n",
       "</div>"
      ],
      "text/plain": [
       "                           NAME     PHONENUMBER                    ADDRESS  \\\n",
       "metrica                                                                      \n",
       "count                       304             303                        303   \n",
       "unique                      302             302                        299   \n",
       "top      Harold's Chicken Shack  (608) 819-6319  100 State St, Madison, WI   \n",
       "freq                          2               2                          2   \n",
       "nan                           0               0                          1   \n",
       "\n",
       "             ds  \n",
       "metrica          \n",
       "count    fodors  \n",
       "unique   fodors  \n",
       "top      fodors  \n",
       "freq     fodors  \n",
       "nan      fodors  "
      ]
     },
     "metadata": {},
     "output_type": "display_data"
    },
    {
     "data": {
      "text/html": [
       "<div>\n",
       "<style scoped>\n",
       "    .dataframe tbody tr th:only-of-type {\n",
       "        vertical-align: middle;\n",
       "    }\n",
       "\n",
       "    .dataframe tbody tr th {\n",
       "        vertical-align: top;\n",
       "    }\n",
       "\n",
       "    .dataframe thead th {\n",
       "        text-align: right;\n",
       "    }\n",
       "</style>\n",
       "<table border=\"1\" class=\"dataframe\">\n",
       "  <thead>\n",
       "    <tr style=\"text-align: right;\">\n",
       "      <th></th>\n",
       "      <th>NAME</th>\n",
       "      <th>PHONENUMBER</th>\n",
       "      <th>ADDRESS</th>\n",
       "      <th>ds</th>\n",
       "    </tr>\n",
       "    <tr>\n",
       "      <th>metrica</th>\n",
       "      <th></th>\n",
       "      <th></th>\n",
       "      <th></th>\n",
       "      <th></th>\n",
       "    </tr>\n",
       "  </thead>\n",
       "  <tbody>\n",
       "    <tr>\n",
       "      <th>count</th>\n",
       "      <td>324</td>\n",
       "      <td>324</td>\n",
       "      <td>324</td>\n",
       "      <td>zagats</td>\n",
       "    </tr>\n",
       "    <tr>\n",
       "      <th>unique</th>\n",
       "      <td>305</td>\n",
       "      <td>303</td>\n",
       "      <td>307</td>\n",
       "      <td>zagats</td>\n",
       "    </tr>\n",
       "    <tr>\n",
       "      <th>top</th>\n",
       "      <td>Lao Laan</td>\n",
       "      <td>1445980000000</td>\n",
       "      <td>1146 Williamson St, Madison, WI 53703</td>\n",
       "      <td>zagats</td>\n",
       "    </tr>\n",
       "    <tr>\n",
       "      <th>freq</th>\n",
       "      <td>5</td>\n",
       "      <td>8</td>\n",
       "      <td>3</td>\n",
       "      <td>zagats</td>\n",
       "    </tr>\n",
       "    <tr>\n",
       "      <th>nan</th>\n",
       "      <td>0</td>\n",
       "      <td>3</td>\n",
       "      <td>3</td>\n",
       "      <td>zagats</td>\n",
       "    </tr>\n",
       "  </tbody>\n",
       "</table>\n",
       "</div>"
      ],
      "text/plain": [
       "             NAME    PHONENUMBER                                ADDRESS  \\\n",
       "metrica                                                                   \n",
       "count         324            324                                    324   \n",
       "unique        305            303                                    307   \n",
       "top      Lao Laan  1445980000000  1146 Williamson St, Madison, WI 53703   \n",
       "freq            5              8                                      3   \n",
       "nan             0              3                                      3   \n",
       "\n",
       "             ds  \n",
       "metrica          \n",
       "count    zagats  \n",
       "unique   zagats  \n",
       "top      zagats  \n",
       "freq     zagats  \n",
       "nan      zagats  "
      ]
     },
     "metadata": {},
     "output_type": "display_data"
    }
   ],
   "source": [
    "nan_list1 = ds1.isnull().sum()\n",
    "nan_list2 = ds2.isnull().sum()\n",
    "\n",
    "estatiscas1 = ds1.describe(include='object')\n",
    "estatiscas2 = ds2.describe(include='object')\n",
    "\n",
    "sdf1 = gerar_estatiscas_df(nan_list1,estatiscas1)\n",
    "sdf1['ds'] = ds1_name\n",
    "\n",
    "sdf2 = gerar_estatiscas_df(nan_list2,estatiscas2)\n",
    "sdf2['ds'] = ds2_name\n",
    "\n",
    "estatiscas = pd.concat([sdf1,sdf2])#.to_csv(ds_files+'stats_abt-buy.csv',sep=';')\n",
    "\n",
    "display(sdf1)\n",
    "display(sdf2)"
   ]
  },
  {
   "cell_type": "markdown",
   "metadata": {},
   "source": [
    "#### Limpando os dados\n",
    "\n",
    "Sem valores nulos"
   ]
  },
  {
   "cell_type": "code",
   "execution_count": 151,
   "metadata": {},
   "outputs": [
    {
     "data": {
      "text/html": [
       "<div>\n",
       "<style scoped>\n",
       "    .dataframe tbody tr th:only-of-type {\n",
       "        vertical-align: middle;\n",
       "    }\n",
       "\n",
       "    .dataframe tbody tr th {\n",
       "        vertical-align: top;\n",
       "    }\n",
       "\n",
       "    .dataframe thead th {\n",
       "        text-align: right;\n",
       "    }\n",
       "</style>\n",
       "<table border=\"1\" class=\"dataframe\">\n",
       "  <thead>\n",
       "    <tr style=\"text-align: right;\">\n",
       "      <th></th>\n",
       "      <th>id1</th>\n",
       "      <th>id2</th>\n",
       "    </tr>\n",
       "  </thead>\n",
       "  <tbody>\n",
       "    <tr>\n",
       "      <th>45</th>\n",
       "      <td>334</td>\n",
       "      <td>641</td>\n",
       "    </tr>\n",
       "    <tr>\n",
       "      <th>46</th>\n",
       "      <td>334</td>\n",
       "      <td>642</td>\n",
       "    </tr>\n",
       "    <tr>\n",
       "      <th>277</th>\n",
       "      <td>1972</td>\n",
       "      <td>3764</td>\n",
       "    </tr>\n",
       "    <tr>\n",
       "      <th>278</th>\n",
       "      <td>1972</td>\n",
       "      <td>3765</td>\n",
       "    </tr>\n",
       "    <tr>\n",
       "      <th>372</th>\n",
       "      <td>2550</td>\n",
       "      <td>4878</td>\n",
       "    </tr>\n",
       "  </tbody>\n",
       "</table>\n",
       "</div>"
      ],
      "text/plain": [
       "      id1   id2\n",
       "45    334   641\n",
       "46    334   642\n",
       "277  1972  3764\n",
       "278  1972  3765\n",
       "372  2550  4878"
      ]
     },
     "metadata": {},
     "output_type": "display_data"
    },
    {
     "data": {
      "text/html": [
       "<div>\n",
       "<style scoped>\n",
       "    .dataframe tbody tr th:only-of-type {\n",
       "        vertical-align: middle;\n",
       "    }\n",
       "\n",
       "    .dataframe tbody tr th {\n",
       "        vertical-align: top;\n",
       "    }\n",
       "\n",
       "    .dataframe thead th {\n",
       "        text-align: right;\n",
       "    }\n",
       "</style>\n",
       "<table border=\"1\" class=\"dataframe\">\n",
       "  <thead>\n",
       "    <tr style=\"text-align: right;\">\n",
       "      <th></th>\n",
       "      <th>id1</th>\n",
       "      <th>id2</th>\n",
       "    </tr>\n",
       "  </thead>\n",
       "  <tbody>\n",
       "  </tbody>\n",
       "</table>\n",
       "</div>"
      ],
      "text/plain": [
       "Empty DataFrame\n",
       "Columns: [id1, id2]\n",
       "Index: []"
      ]
     },
     "metadata": {},
     "output_type": "display_data"
    }
   ],
   "source": [
    "gs.columns = ['id1','id2']\n",
    "gs.id1 = gs.id1.astype(str)\n",
    "gs.id2 = gs.id2.astype(str)\n",
    "da, db = verify_gg4cc(gs)\n",
    "display(da.head(5))\n",
    "display(db.head(5))"
   ]
  },
  {
   "cell_type": "code",
   "execution_count": 152,
   "metadata": {},
   "outputs": [
    {
     "name": "stdout",
     "output_type": "stream",
     "text": [
      "[]\n",
      "['642', '3765', '4879', '4891', '5500']\n"
     ]
    }
   ],
   "source": [
    "remover_da_lista2 = []\n",
    "remover_da_lista1 = []\n",
    "\n",
    "for i in da.id1.unique():\n",
    "    remover_da_lista2.append(da[da.id1 == i].id2.values[-1])\n",
    "\n",
    "for i in db.id2.unique():\n",
    "    remover_da_lista1.append(db[db.id2 == i].id1.values[-1])\n",
    "\n",
    "print(remover_da_lista1)\n",
    "print(remover_da_lista2)"
   ]
  },
  {
   "cell_type": "code",
   "execution_count": 153,
   "metadata": {},
   "outputs": [],
   "source": [
    "cds1 = ds1[~ds1.id.isin(remover_da_lista1)]\n",
    "cds2 = ds2[~ds2.id.isin(remover_da_lista2)]\n",
    "\n",
    "gs = gs[~gs.id1.isin(remover_da_lista1)]\n",
    "gs = gs[~gs.id2.isin(remover_da_lista2)]\n",
    "\n",
    "ds1 = cds1\n",
    "ds2 = cds2"
   ]
  },
  {
   "cell_type": "code",
   "execution_count": 154,
   "metadata": {},
   "outputs": [
    {
     "data": {
      "text/html": [
       "<div>\n",
       "<style scoped>\n",
       "    .dataframe tbody tr th:only-of-type {\n",
       "        vertical-align: middle;\n",
       "    }\n",
       "\n",
       "    .dataframe tbody tr th {\n",
       "        vertical-align: top;\n",
       "    }\n",
       "\n",
       "    .dataframe thead th {\n",
       "        text-align: right;\n",
       "    }\n",
       "</style>\n",
       "<table border=\"1\" class=\"dataframe\">\n",
       "  <thead>\n",
       "    <tr style=\"text-align: right;\">\n",
       "      <th></th>\n",
       "      <th>id1</th>\n",
       "      <th>id2</th>\n",
       "    </tr>\n",
       "  </thead>\n",
       "  <tbody>\n",
       "  </tbody>\n",
       "</table>\n",
       "</div>"
      ],
      "text/plain": [
       "Empty DataFrame\n",
       "Columns: [id1, id2]\n",
       "Index: []"
      ]
     },
     "metadata": {},
     "output_type": "display_data"
    },
    {
     "data": {
      "text/html": [
       "<div>\n",
       "<style scoped>\n",
       "    .dataframe tbody tr th:only-of-type {\n",
       "        vertical-align: middle;\n",
       "    }\n",
       "\n",
       "    .dataframe tbody tr th {\n",
       "        vertical-align: top;\n",
       "    }\n",
       "\n",
       "    .dataframe thead th {\n",
       "        text-align: right;\n",
       "    }\n",
       "</style>\n",
       "<table border=\"1\" class=\"dataframe\">\n",
       "  <thead>\n",
       "    <tr style=\"text-align: right;\">\n",
       "      <th></th>\n",
       "      <th>id1</th>\n",
       "      <th>id2</th>\n",
       "    </tr>\n",
       "  </thead>\n",
       "  <tbody>\n",
       "  </tbody>\n",
       "</table>\n",
       "</div>"
      ],
      "text/plain": [
       "Empty DataFrame\n",
       "Columns: [id1, id2]\n",
       "Index: []"
      ]
     },
     "metadata": {},
     "output_type": "display_data"
    }
   ],
   "source": [
    "da, db = verify_gg4cc(gs)\n",
    "display(da.head(5))\n",
    "display(db.head(5))"
   ]
  },
  {
   "cell_type": "markdown",
   "metadata": {},
   "source": [
    "Dataset clean-clean"
   ]
  },
  {
   "cell_type": "code",
   "execution_count": 155,
   "metadata": {},
   "outputs": [],
   "source": [
    "save_zip(ds1,ds2,gs,estatiscas,out_file + zip_file)"
   ]
  },
  {
   "cell_type": "markdown",
   "metadata": {},
   "source": [
    "## Books"
   ]
  },
  {
   "cell_type": "markdown",
   "metadata": {
    "heading_collapsed": true
   },
   "source": [
    "### Books1"
   ]
  },
  {
   "cell_type": "code",
   "execution_count": 187,
   "metadata": {
    "hidden": true
   },
   "outputs": [
    {
     "name": "stderr",
     "output_type": "stream",
     "text": [
      "b'Skipping line 6: expected 1 fields, saw 10\\nSkipping line 7: expected 1 fields, saw 10\\nSkipping line 8: expected 1 fields, saw 10\\nSkipping line 9: expected 1 fields, saw 10\\nSkipping line 10: expected 1 fields, saw 10\\nSkipping line 11: expected 1 fields, saw 10\\nSkipping line 12: expected 1 fields, saw 10\\nSkipping line 13: expected 1 fields, saw 10\\nSkipping line 14: expected 1 fields, saw 10\\nSkipping line 15: expected 1 fields, saw 10\\nSkipping line 16: expected 1 fields, saw 10\\nSkipping line 17: expected 1 fields, saw 10\\nSkipping line 18: expected 1 fields, saw 10\\nSkipping line 19: expected 1 fields, saw 10\\nSkipping line 20: expected 1 fields, saw 10\\nSkipping line 21: expected 1 fields, saw 10\\nSkipping line 22: expected 1 fields, saw 10\\nSkipping line 23: expected 1 fields, saw 10\\nSkipping line 24: expected 1 fields, saw 10\\nSkipping line 25: expected 1 fields, saw 10\\nSkipping line 26: expected 1 fields, saw 10\\nSkipping line 27: expected 1 fields, saw 10\\nSkipping line 28: expected 1 fields, saw 10\\nSkipping line 29: expected 1 fields, saw 10\\nSkipping line 30: expected 1 fields, saw 10\\nSkipping line 31: expected 1 fields, saw 10\\nSkipping line 32: expected 1 fields, saw 10\\nSkipping line 33: expected 1 fields, saw 10\\nSkipping line 34: expected 1 fields, saw 10\\nSkipping line 35: expected 1 fields, saw 10\\nSkipping line 36: expected 1 fields, saw 10\\nSkipping line 37: expected 1 fields, saw 10\\nSkipping line 38: expected 1 fields, saw 10\\nSkipping line 39: expected 1 fields, saw 10\\nSkipping line 40: expected 1 fields, saw 10\\nSkipping line 41: expected 1 fields, saw 10\\nSkipping line 42: expected 1 fields, saw 10\\nSkipping line 43: expected 1 fields, saw 10\\nSkipping line 44: expected 1 fields, saw 10\\nSkipping line 45: expected 1 fields, saw 10\\nSkipping line 46: expected 1 fields, saw 10\\nSkipping line 47: expected 1 fields, saw 10\\nSkipping line 48: expected 1 fields, saw 10\\nSkipping line 49: expected 1 fields, saw 10\\nSkipping line 50: expected 1 fields, saw 10\\nSkipping line 51: expected 1 fields, saw 10\\nSkipping line 52: expected 1 fields, saw 10\\nSkipping line 53: expected 1 fields, saw 10\\nSkipping line 54: expected 1 fields, saw 10\\nSkipping line 55: expected 1 fields, saw 10\\nSkipping line 56: expected 1 fields, saw 10\\nSkipping line 57: expected 1 fields, saw 10\\nSkipping line 58: expected 1 fields, saw 10\\nSkipping line 59: expected 1 fields, saw 10\\nSkipping line 60: expected 1 fields, saw 10\\nSkipping line 61: expected 1 fields, saw 10\\nSkipping line 62: expected 1 fields, saw 10\\nSkipping line 63: expected 1 fields, saw 10\\nSkipping line 64: expected 1 fields, saw 10\\nSkipping line 65: expected 1 fields, saw 10\\nSkipping line 66: expected 1 fields, saw 10\\nSkipping line 67: expected 1 fields, saw 10\\nSkipping line 68: expected 1 fields, saw 10\\nSkipping line 69: expected 1 fields, saw 10\\nSkipping line 70: expected 1 fields, saw 10\\nSkipping line 71: expected 1 fields, saw 10\\nSkipping line 72: expected 1 fields, saw 10\\nSkipping line 73: expected 1 fields, saw 10\\nSkipping line 74: expected 1 fields, saw 10\\nSkipping line 75: expected 1 fields, saw 10\\nSkipping line 76: expected 1 fields, saw 10\\nSkipping line 77: expected 1 fields, saw 10\\nSkipping line 78: expected 1 fields, saw 10\\nSkipping line 79: expected 1 fields, saw 10\\nSkipping line 80: expected 1 fields, saw 10\\nSkipping line 81: expected 1 fields, saw 10\\nSkipping line 82: expected 1 fields, saw 10\\nSkipping line 83: expected 1 fields, saw 10\\nSkipping line 84: expected 1 fields, saw 10\\nSkipping line 85: expected 1 fields, saw 10\\nSkipping line 86: expected 1 fields, saw 10\\nSkipping line 87: expected 1 fields, saw 10\\nSkipping line 88: expected 1 fields, saw 10\\nSkipping line 89: expected 1 fields, saw 10\\nSkipping line 90: expected 1 fields, saw 10\\nSkipping line 91: expected 1 fields, saw 10\\nSkipping line 92: expected 1 fields, saw 10\\nSkipping line 93: expected 1 fields, saw 10\\nSkipping line 94: expected 1 fields, saw 10\\nSkipping line 95: expected 1 fields, saw 10\\nSkipping line 96: expected 1 fields, saw 10\\nSkipping line 97: expected 1 fields, saw 10\\nSkipping line 98: expected 1 fields, saw 10\\nSkipping line 99: expected 1 fields, saw 10\\nSkipping line 100: expected 1 fields, saw 10\\nSkipping line 101: expected 1 fields, saw 10\\nSkipping line 102: expected 1 fields, saw 10\\nSkipping line 103: expected 1 fields, saw 10\\nSkipping line 104: expected 1 fields, saw 10\\nSkipping line 105: expected 1 fields, saw 10\\nSkipping line 106: expected 1 fields, saw 10\\nSkipping line 107: expected 1 fields, saw 10\\nSkipping line 108: expected 1 fields, saw 10\\nSkipping line 109: expected 1 fields, saw 10\\nSkipping line 110: expected 1 fields, saw 10\\nSkipping line 111: expected 1 fields, saw 10\\nSkipping line 112: expected 1 fields, saw 10\\nSkipping line 113: expected 1 fields, saw 10\\nSkipping line 114: expected 1 fields, saw 10\\nSkipping line 115: expected 1 fields, saw 10\\nSkipping line 116: expected 1 fields, saw 10\\nSkipping line 117: expected 1 fields, saw 10\\nSkipping line 118: expected 1 fields, saw 10\\nSkipping line 119: expected 1 fields, saw 10\\nSkipping line 120: expected 1 fields, saw 10\\nSkipping line 121: expected 1 fields, saw 10\\nSkipping line 122: expected 1 fields, saw 10\\nSkipping line 123: expected 1 fields, saw 10\\nSkipping line 124: expected 1 fields, saw 10\\nSkipping line 125: expected 1 fields, saw 10\\nSkipping line 126: expected 1 fields, saw 10\\nSkipping line 127: expected 1 fields, saw 10\\nSkipping line 128: expected 1 fields, saw 10\\nSkipping line 129: expected 1 fields, saw 10\\nSkipping line 130: expected 1 fields, saw 10\\nSkipping line 131: expected 1 fields, saw 10\\nSkipping line 132: expected 1 fields, saw 10\\nSkipping line 133: expected 1 fields, saw 10\\nSkipping line 134: expected 1 fields, saw 10\\nSkipping line 135: expected 1 fields, saw 10\\nSkipping line 136: expected 1 fields, saw 10\\nSkipping line 137: expected 1 fields, saw 10\\nSkipping line 138: expected 1 fields, saw 10\\nSkipping line 139: expected 1 fields, saw 10\\nSkipping line 140: expected 1 fields, saw 10\\nSkipping line 141: expected 1 fields, saw 10\\nSkipping line 142: expected 1 fields, saw 10\\nSkipping line 143: expected 1 fields, saw 10\\nSkipping line 144: expected 1 fields, saw 10\\nSkipping line 145: expected 1 fields, saw 10\\nSkipping line 146: expected 1 fields, saw 10\\nSkipping line 147: expected 1 fields, saw 10\\nSkipping line 148: expected 1 fields, saw 10\\nSkipping line 149: expected 1 fields, saw 10\\nSkipping line 150: expected 1 fields, saw 10\\nSkipping line 151: expected 1 fields, saw 10\\nSkipping line 152: expected 1 fields, saw 10\\nSkipping line 153: expected 1 fields, saw 10\\nSkipping line 154: expected 1 fields, saw 10\\nSkipping line 155: expected 1 fields, saw 10\\nSkipping line 156: expected 1 fields, saw 10\\nSkipping line 157: expected 1 fields, saw 10\\nSkipping line 158: expected 1 fields, saw 10\\nSkipping line 159: expected 1 fields, saw 10\\nSkipping line 160: expected 1 fields, saw 10\\nSkipping line 161: expected 1 fields, saw 10\\nSkipping line 162: expected 1 fields, saw 10\\nSkipping line 163: expected 1 fields, saw 10\\nSkipping line 164: expected 1 fields, saw 10\\nSkipping line 165: expected 1 fields, saw 10\\nSkipping line 166: expected 1 fields, saw 10\\nSkipping line 167: expected 1 fields, saw 10\\nSkipping line 168: expected 1 fields, saw 10\\nSkipping line 169: expected 1 fields, saw 10\\nSkipping line 170: expected 1 fields, saw 10\\nSkipping line 171: expected 1 fields, saw 10\\nSkipping line 172: expected 1 fields, saw 10\\nSkipping line 173: expected 1 fields, saw 10\\nSkipping line 174: expected 1 fields, saw 10\\nSkipping line 175: expected 1 fields, saw 10\\nSkipping line 176: expected 1 fields, saw 10\\nSkipping line 177: expected 1 fields, saw 10\\nSkipping line 178: expected 1 fields, saw 10\\nSkipping line 179: expected 1 fields, saw 10\\nSkipping line 180: expected 1 fields, saw 10\\nSkipping line 181: expected 1 fields, saw 10\\nSkipping line 182: expected 1 fields, saw 10\\nSkipping line 183: expected 1 fields, saw 10\\nSkipping line 184: expected 1 fields, saw 10\\nSkipping line 185: expected 1 fields, saw 10\\nSkipping line 186: expected 1 fields, saw 10\\nSkipping line 187: expected 1 fields, saw 10\\nSkipping line 188: expected 1 fields, saw 10\\nSkipping line 189: expected 1 fields, saw 10\\nSkipping line 190: expected 1 fields, saw 10\\nSkipping line 191: expected 1 fields, saw 10\\nSkipping line 192: expected 1 fields, saw 10\\nSkipping line 193: expected 1 fields, saw 10\\nSkipping line 194: expected 1 fields, saw 10\\nSkipping line 195: expected 1 fields, saw 10\\nSkipping line 196: expected 1 fields, saw 10\\nSkipping line 197: expected 1 fields, saw 10\\nSkipping line 198: expected 1 fields, saw 10\\nSkipping line 199: expected 1 fields, saw 10\\nSkipping line 200: expected 1 fields, saw 10\\nSkipping line 201: expected 1 fields, saw 10\\nSkipping line 202: expected 1 fields, saw 10\\nSkipping line 203: expected 1 fields, saw 10\\nSkipping line 204: expected 1 fields, saw 10\\nSkipping line 205: expected 1 fields, saw 10\\nSkipping line 206: expected 1 fields, saw 10\\nSkipping line 207: expected 1 fields, saw 10\\nSkipping line 208: expected 1 fields, saw 10\\nSkipping line 209: expected 1 fields, saw 10\\nSkipping line 210: expected 1 fields, saw 10\\nSkipping line 211: expected 1 fields, saw 10\\nSkipping line 212: expected 1 fields, saw 10\\nSkipping line 213: expected 1 fields, saw 10\\nSkipping line 214: expected 1 fields, saw 10\\nSkipping line 215: expected 1 fields, saw 10\\nSkipping line 216: expected 1 fields, saw 10\\nSkipping line 217: expected 1 fields, saw 10\\nSkipping line 218: expected 1 fields, saw 10\\nSkipping line 219: expected 1 fields, saw 10\\nSkipping line 220: expected 1 fields, saw 10\\nSkipping line 221: expected 1 fields, saw 10\\nSkipping line 222: expected 1 fields, saw 10\\nSkipping line 223: expected 1 fields, saw 10\\nSkipping line 224: expected 1 fields, saw 10\\nSkipping line 225: expected 1 fields, saw 10\\nSkipping line 226: expected 1 fields, saw 10\\nSkipping line 227: expected 1 fields, saw 10\\nSkipping line 228: expected 1 fields, saw 10\\nSkipping line 229: expected 1 fields, saw 10\\nSkipping line 230: expected 1 fields, saw 10\\nSkipping line 231: expected 1 fields, saw 10\\nSkipping line 232: expected 1 fields, saw 10\\nSkipping line 233: expected 1 fields, saw 10\\nSkipping line 234: expected 1 fields, saw 10\\nSkipping line 235: expected 1 fields, saw 10\\nSkipping line 236: expected 1 fields, saw 10\\nSkipping line 237: expected 1 fields, saw 10\\nSkipping line 238: expected 1 fields, saw 10\\nSkipping line 239: expected 1 fields, saw 10\\nSkipping line 240: expected 1 fields, saw 10\\nSkipping line 241: expected 1 fields, saw 10\\nSkipping line 242: expected 1 fields, saw 10\\nSkipping line 243: expected 1 fields, saw 10\\nSkipping line 244: expected 1 fields, saw 10\\nSkipping line 245: expected 1 fields, saw 10\\nSkipping line 246: expected 1 fields, saw 10\\nSkipping line 247: expected 1 fields, saw 10\\nSkipping line 248: expected 1 fields, saw 10\\nSkipping line 249: expected 1 fields, saw 10\\nSkipping line 250: expected 1 fields, saw 10\\nSkipping line 251: expected 1 fields, saw 10\\nSkipping line 252: expected 1 fields, saw 10\\nSkipping line 253: expected 1 fields, saw 10\\nSkipping line 254: expected 1 fields, saw 10\\nSkipping line 255: expected 1 fields, saw 10\\nSkipping line 256: expected 1 fields, saw 10\\nSkipping line 257: expected 1 fields, saw 10\\nSkipping line 258: expected 1 fields, saw 10\\nSkipping line 259: expected 1 fields, saw 10\\nSkipping line 260: expected 1 fields, saw 10\\nSkipping line 261: expected 1 fields, saw 10\\nSkipping line 262: expected 1 fields, saw 10\\nSkipping line 263: expected 1 fields, saw 10\\nSkipping line 264: expected 1 fields, saw 10\\nSkipping line 265: expected 1 fields, saw 10\\nSkipping line 266: expected 1 fields, saw 10\\nSkipping line 267: expected 1 fields, saw 10\\nSkipping line 268: expected 1 fields, saw 10\\nSkipping line 269: expected 1 fields, saw 10\\nSkipping line 270: expected 1 fields, saw 10\\nSkipping line 271: expected 1 fields, saw 10\\nSkipping line 272: expected 1 fields, saw 10\\nSkipping line 273: expected 1 fields, saw 10\\nSkipping line 274: expected 1 fields, saw 10\\nSkipping line 275: expected 1 fields, saw 10\\nSkipping line 276: expected 1 fields, saw 10\\nSkipping line 277: expected 1 fields, saw 10\\nSkipping line 278: expected 1 fields, saw 10\\nSkipping line 279: expected 1 fields, saw 10\\nSkipping line 280: expected 1 fields, saw 10\\nSkipping line 281: expected 1 fields, saw 10\\nSkipping line 282: expected 1 fields, saw 10\\nSkipping line 283: expected 1 fields, saw 10\\nSkipping line 284: expected 1 fields, saw 10\\nSkipping line 285: expected 1 fields, saw 10\\nSkipping line 286: expected 1 fields, saw 10\\nSkipping line 287: expected 1 fields, saw 10\\nSkipping line 288: expected 1 fields, saw 10\\nSkipping line 289: expected 1 fields, saw 10\\nSkipping line 290: expected 1 fields, saw 10\\nSkipping line 291: expected 1 fields, saw 10\\nSkipping line 292: expected 1 fields, saw 10\\nSkipping line 293: expected 1 fields, saw 10\\nSkipping line 294: expected 1 fields, saw 10\\nSkipping line 295: expected 1 fields, saw 10\\nSkipping line 296: expected 1 fields, saw 10\\nSkipping line 297: expected 1 fields, saw 10\\nSkipping line 298: expected 1 fields, saw 10\\nSkipping line 299: expected 1 fields, saw 10\\nSkipping line 300: expected 1 fields, saw 10\\nSkipping line 301: expected 1 fields, saw 10\\nSkipping line 302: expected 1 fields, saw 10\\nSkipping line 303: expected 1 fields, saw 10\\nSkipping line 304: expected 1 fields, saw 10\\nSkipping line 305: expected 1 fields, saw 10\\nSkipping line 306: expected 1 fields, saw 10\\nSkipping line 307: expected 1 fields, saw 10\\nSkipping line 308: expected 1 fields, saw 10\\nSkipping line 309: expected 1 fields, saw 10\\nSkipping line 310: expected 1 fields, saw 10\\nSkipping line 311: expected 1 fields, saw 10\\nSkipping line 312: expected 1 fields, saw 10\\nSkipping line 313: expected 1 fields, saw 10\\nSkipping line 314: expected 1 fields, saw 10\\nSkipping line 315: expected 1 fields, saw 10\\nSkipping line 316: expected 1 fields, saw 10\\nSkipping line 317: expected 1 fields, saw 10\\nSkipping line 318: expected 1 fields, saw 10\\nSkipping line 319: expected 1 fields, saw 10\\nSkipping line 320: expected 1 fields, saw 10\\nSkipping line 321: expected 1 fields, saw 10\\nSkipping line 322: expected 1 fields, saw 10\\nSkipping line 323: expected 1 fields, saw 10\\nSkipping line 324: expected 1 fields, saw 10\\nSkipping line 325: expected 1 fields, saw 10\\nSkipping line 326: expected 1 fields, saw 10\\nSkipping line 327: expected 1 fields, saw 10\\nSkipping line 328: expected 1 fields, saw 10\\nSkipping line 329: expected 1 fields, saw 10\\nSkipping line 330: expected 1 fields, saw 10\\nSkipping line 331: expected 1 fields, saw 10\\nSkipping line 332: expected 1 fields, saw 10\\nSkipping line 333: expected 1 fields, saw 10\\nSkipping line 334: expected 1 fields, saw 10\\nSkipping line 335: expected 1 fields, saw 10\\nSkipping line 336: expected 1 fields, saw 10\\nSkipping line 337: expected 1 fields, saw 10\\nSkipping line 338: expected 1 fields, saw 10\\nSkipping line 339: expected 1 fields, saw 10\\nSkipping line 340: expected 1 fields, saw 10\\nSkipping line 341: expected 1 fields, saw 10\\nSkipping line 342: expected 1 fields, saw 10\\nSkipping line 343: expected 1 fields, saw 10\\nSkipping line 344: expected 1 fields, saw 10\\nSkipping line 345: expected 1 fields, saw 10\\nSkipping line 346: expected 1 fields, saw 10\\nSkipping line 347: expected 1 fields, saw 10\\nSkipping line 348: expected 1 fields, saw 10\\nSkipping line 349: expected 1 fields, saw 10\\nSkipping line 350: expected 1 fields, saw 10\\nSkipping line 351: expected 1 fields, saw 10\\nSkipping line 352: expected 1 fields, saw 10\\nSkipping line 353: expected 1 fields, saw 10\\nSkipping line 354: expected 1 fields, saw 10\\nSkipping line 355: expected 1 fields, saw 10\\nSkipping line 356: expected 1 fields, saw 10\\nSkipping line 357: expected 1 fields, saw 10\\nSkipping line 358: expected 1 fields, saw 10\\nSkipping line 359: expected 1 fields, saw 10\\nSkipping line 360: expected 1 fields, saw 10\\nSkipping line 361: expected 1 fields, saw 10\\nSkipping line 362: expected 1 fields, saw 10\\nSkipping line 363: expected 1 fields, saw 10\\nSkipping line 364: expected 1 fields, saw 10\\nSkipping line 365: expected 1 fields, saw 10\\nSkipping line 366: expected 1 fields, saw 10\\nSkipping line 367: expected 1 fields, saw 10\\nSkipping line 368: expected 1 fields, saw 10\\nSkipping line 369: expected 1 fields, saw 10\\nSkipping line 370: expected 1 fields, saw 10\\nSkipping line 371: expected 1 fields, saw 10\\nSkipping line 372: expected 1 fields, saw 10\\nSkipping line 373: expected 1 fields, saw 10\\nSkipping line 374: expected 1 fields, saw 10\\nSkipping line 375: expected 1 fields, saw 10\\nSkipping line 376: expected 1 fields, saw 10\\nSkipping line 377: expected 1 fields, saw 10\\nSkipping line 378: expected 1 fields, saw 10\\nSkipping line 379: expected 1 fields, saw 10\\nSkipping line 380: expected 1 fields, saw 10\\n'\n"
     ]
    }
   ],
   "source": [
    "base_dir = 'D:'+os.sep+'Dados'+os.sep+'OneDrive'+os.sep+'Doutorado'+os.sep\n",
    "ds_files = base_dir + 'Datasets' + os.sep + 'Magellan Data Repository' + os.sep +'Magellan' + os.sep\n",
    "out_file = base_dir + 'workspace'+os.sep+'tl_pprl2'+os.sep+'datasets'+os.sep+'books'+os.sep\n",
    "\n",
    "inputZip = 'books1.zip'\n",
    "data = 'labeled_data'\n",
    "\n",
    "\n",
    "zip_file = 'processed_amazon-barnesnobel-small.zip'\n",
    "\n",
    "df = read(ds_files+inputZip,data,skip_coments=True)"
   ]
  },
  {
   "cell_type": "code",
   "execution_count": 188,
   "metadata": {
    "hidden": true
   },
   "outputs": [],
   "source": [
    "# gabarito\n",
    "gs = df[df.gold_label==1].iloc[:,[1,2]]\n",
    "\n",
    "colunas =  [ 'id','title','pubyear','pages' ]\n",
    "n_atibutos = len(colunas) -1\n",
    "\n",
    "inicio_atributos_ds1 = 3\n",
    "fim_atributos_ds1 = inicio_atributos_ds1 + n_atibutos\n",
    "\n",
    "\n",
    "atts = [1] + list(range(inicio_atributos_ds1,fim_atributos_ds1))\n",
    "ds1 = df.iloc[:,atts]\n",
    "\n",
    "atts = [2] + list(range(fim_atributos_ds1,fim_atributos_ds1+n_atibutos))\n",
    "ds2 = df.iloc[:,atts]\n",
    "\n",
    "ds1.columns = colunas\n",
    "ds2.columns = colunas"
   ]
  },
  {
   "cell_type": "code",
   "execution_count": 189,
   "metadata": {
    "hidden": true
   },
   "outputs": [
    {
     "name": "stderr",
     "output_type": "stream",
     "text": [
      "D:\\Programas\\Anaconda3\\envs\\utils\\lib\\site-packages\\pandas\\core\\generic.py:5303: SettingWithCopyWarning: \n",
      "A value is trying to be set on a copy of a slice from a DataFrame.\n",
      "Try using .loc[row_indexer,col_indexer] = value instead\n",
      "\n",
      "See the caveats in the documentation: https://pandas.pydata.org/pandas-docs/stable/user_guide/indexing.html#returning-a-view-versus-a-copy\n",
      "  self[name] = value\n"
     ]
    }
   ],
   "source": [
    "ds1.pages = ds1.pages.fillna(-1)\n",
    "ds1.pages = ds1.pages.astype(int)\n",
    "ds1.pages = ds1.pages.astype(str)\n",
    "ds1.pages = ds1.pages.replace('-1', np.nan)\n",
    "\n",
    "ds2.pages = ds2.pages.fillna(-1)\n",
    "ds2.pages = ds2.pages.astype(int)\n",
    "ds2.pages = ds2.pages.astype(str)\n",
    "ds2.pages = ds2.pages.replace('-1', np.nan)\n"
   ]
  },
  {
   "cell_type": "code",
   "execution_count": 190,
   "metadata": {
    "hidden": true
   },
   "outputs": [],
   "source": [
    "ds1 = retornar_ds_limpo(ds1)\n",
    "ds2 = retornar_ds_limpo(ds2)"
   ]
  },
  {
   "cell_type": "markdown",
   "metadata": {
    "hidden": true
   },
   "source": [
    "#### Estatisticas"
   ]
  },
  {
   "cell_type": "code",
   "execution_count": 191,
   "metadata": {
    "hidden": true
   },
   "outputs": [
    {
     "data": {
      "text/html": [
       "<div>\n",
       "<style scoped>\n",
       "    .dataframe tbody tr th:only-of-type {\n",
       "        vertical-align: middle;\n",
       "    }\n",
       "\n",
       "    .dataframe tbody tr th {\n",
       "        vertical-align: top;\n",
       "    }\n",
       "\n",
       "    .dataframe thead th {\n",
       "        text-align: right;\n",
       "    }\n",
       "</style>\n",
       "<table border=\"1\" class=\"dataframe\">\n",
       "  <thead>\n",
       "    <tr style=\"text-align: right;\">\n",
       "      <th></th>\n",
       "      <th>title</th>\n",
       "      <th>pages</th>\n",
       "      <th>ds</th>\n",
       "    </tr>\n",
       "    <tr>\n",
       "      <th>metrica</th>\n",
       "      <th></th>\n",
       "      <th></th>\n",
       "      <th></th>\n",
       "    </tr>\n",
       "  </thead>\n",
       "  <tbody>\n",
       "    <tr>\n",
       "      <th>count</th>\n",
       "      <td>360</td>\n",
       "      <td>341</td>\n",
       "      <td>fodors</td>\n",
       "    </tr>\n",
       "    <tr>\n",
       "      <th>unique</th>\n",
       "      <td>353</td>\n",
       "      <td>213</td>\n",
       "      <td>fodors</td>\n",
       "    </tr>\n",
       "    <tr>\n",
       "      <th>top</th>\n",
       "      <td>Data Warehousing</td>\n",
       "      <td>320</td>\n",
       "      <td>fodors</td>\n",
       "    </tr>\n",
       "    <tr>\n",
       "      <th>freq</th>\n",
       "      <td>4</td>\n",
       "      <td>8</td>\n",
       "      <td>fodors</td>\n",
       "    </tr>\n",
       "    <tr>\n",
       "      <th>nan</th>\n",
       "      <td>0</td>\n",
       "      <td>0</td>\n",
       "      <td>fodors</td>\n",
       "    </tr>\n",
       "  </tbody>\n",
       "</table>\n",
       "</div>"
      ],
      "text/plain": [
       "                    title pages      ds\n",
       "metrica                                \n",
       "count                 360   341  fodors\n",
       "unique                353   213  fodors\n",
       "top      Data Warehousing   320  fodors\n",
       "freq                    4     8  fodors\n",
       "nan                     0     0  fodors"
      ]
     },
     "metadata": {},
     "output_type": "display_data"
    },
    {
     "data": {
      "text/html": [
       "<div>\n",
       "<style scoped>\n",
       "    .dataframe tbody tr th:only-of-type {\n",
       "        vertical-align: middle;\n",
       "    }\n",
       "\n",
       "    .dataframe tbody tr th {\n",
       "        vertical-align: top;\n",
       "    }\n",
       "\n",
       "    .dataframe thead th {\n",
       "        text-align: right;\n",
       "    }\n",
       "</style>\n",
       "<table border=\"1\" class=\"dataframe\">\n",
       "  <thead>\n",
       "    <tr style=\"text-align: right;\">\n",
       "      <th></th>\n",
       "      <th>title</th>\n",
       "      <th>pages</th>\n",
       "      <th>ds</th>\n",
       "    </tr>\n",
       "    <tr>\n",
       "      <th>metrica</th>\n",
       "      <th></th>\n",
       "      <th></th>\n",
       "      <th></th>\n",
       "    </tr>\n",
       "  </thead>\n",
       "  <tbody>\n",
       "    <tr>\n",
       "      <th>count</th>\n",
       "      <td>351</td>\n",
       "      <td>341</td>\n",
       "      <td>zagats</td>\n",
       "    </tr>\n",
       "    <tr>\n",
       "      <th>unique</th>\n",
       "      <td>349</td>\n",
       "      <td>225</td>\n",
       "      <td>zagats</td>\n",
       "    </tr>\n",
       "    <tr>\n",
       "      <th>top</th>\n",
       "      <td>Microsoft Access 2000</td>\n",
       "      <td>400</td>\n",
       "      <td>zagats</td>\n",
       "    </tr>\n",
       "    <tr>\n",
       "      <th>freq</th>\n",
       "      <td>2</td>\n",
       "      <td>7</td>\n",
       "      <td>zagats</td>\n",
       "    </tr>\n",
       "    <tr>\n",
       "      <th>nan</th>\n",
       "      <td>0</td>\n",
       "      <td>3</td>\n",
       "      <td>zagats</td>\n",
       "    </tr>\n",
       "  </tbody>\n",
       "</table>\n",
       "</div>"
      ],
      "text/plain": [
       "                         title pages      ds\n",
       "metrica                                     \n",
       "count                      351   341  zagats\n",
       "unique                     349   225  zagats\n",
       "top      Microsoft Access 2000   400  zagats\n",
       "freq                         2     7  zagats\n",
       "nan                          0     3  zagats"
      ]
     },
     "metadata": {},
     "output_type": "display_data"
    }
   ],
   "source": [
    "nan_list1 = ds1.isnull().sum()\n",
    "nan_list2 = ds2.isnull().sum()\n",
    "\n",
    "estatiscas1 = ds1.describe(include='object')\n",
    "estatiscas2 = ds2.describe(include='object')\n",
    "\n",
    "sdf1 = gerar_estatiscas_df(nan_list1,estatiscas1)\n",
    "sdf1['ds'] = ds1_name\n",
    "\n",
    "sdf2 = gerar_estatiscas_df(nan_list2,estatiscas2)\n",
    "sdf2['ds'] = ds2_name\n",
    "\n",
    "estatiscas = pd.concat([sdf1,sdf2])#.to_csv(ds_files+'stats_abt-buy.csv',sep=';')\n",
    "\n",
    "display(sdf1)\n",
    "display(sdf2)"
   ]
  },
  {
   "cell_type": "markdown",
   "metadata": {
    "hidden": true
   },
   "source": [
    "#### Limpando os dados\n",
    "\n",
    "Sem valores nulos"
   ]
  },
  {
   "cell_type": "code",
   "execution_count": 192,
   "metadata": {
    "hidden": true
   },
   "outputs": [
    {
     "data": {
      "text/html": [
       "<div>\n",
       "<style scoped>\n",
       "    .dataframe tbody tr th:only-of-type {\n",
       "        vertical-align: middle;\n",
       "    }\n",
       "\n",
       "    .dataframe tbody tr th {\n",
       "        vertical-align: top;\n",
       "    }\n",
       "\n",
       "    .dataframe thead th {\n",
       "        text-align: right;\n",
       "    }\n",
       "</style>\n",
       "<table border=\"1\" class=\"dataframe\">\n",
       "  <thead>\n",
       "    <tr style=\"text-align: right;\">\n",
       "      <th></th>\n",
       "      <th>id1</th>\n",
       "      <th>id2</th>\n",
       "    </tr>\n",
       "  </thead>\n",
       "  <tbody>\n",
       "  </tbody>\n",
       "</table>\n",
       "</div>"
      ],
      "text/plain": [
       "Empty DataFrame\n",
       "Columns: [id1, id2]\n",
       "Index: []"
      ]
     },
     "metadata": {},
     "output_type": "display_data"
    },
    {
     "data": {
      "text/html": [
       "<div>\n",
       "<style scoped>\n",
       "    .dataframe tbody tr th:only-of-type {\n",
       "        vertical-align: middle;\n",
       "    }\n",
       "\n",
       "    .dataframe tbody tr th {\n",
       "        vertical-align: top;\n",
       "    }\n",
       "\n",
       "    .dataframe thead th {\n",
       "        text-align: right;\n",
       "    }\n",
       "</style>\n",
       "<table border=\"1\" class=\"dataframe\">\n",
       "  <thead>\n",
       "    <tr style=\"text-align: right;\">\n",
       "      <th></th>\n",
       "      <th>id1</th>\n",
       "      <th>id2</th>\n",
       "    </tr>\n",
       "  </thead>\n",
       "  <tbody>\n",
       "  </tbody>\n",
       "</table>\n",
       "</div>"
      ],
      "text/plain": [
       "Empty DataFrame\n",
       "Columns: [id1, id2]\n",
       "Index: []"
      ]
     },
     "metadata": {},
     "output_type": "display_data"
    }
   ],
   "source": [
    "gs.columns = ['id1','id2']\n",
    "gs.id1 = gs.id1.astype(str)\n",
    "gs.id2 = gs.id2.astype(str)\n",
    "da, db = verify_gg4cc(gs)\n",
    "display(da.head(5))\n",
    "display(db.head(5))"
   ]
  },
  {
   "cell_type": "markdown",
   "metadata": {
    "hidden": true
   },
   "source": [
    "Dataset clean-clean"
   ]
  },
  {
   "cell_type": "code",
   "execution_count": 193,
   "metadata": {
    "hidden": true
   },
   "outputs": [],
   "source": [
    "save_zip(ds1,ds2,gs,estatiscas,out_file + zip_file)"
   ]
  },
  {
   "cell_type": "markdown",
   "metadata": {},
   "source": [
    "### Books2"
   ]
  },
  {
   "cell_type": "code",
   "execution_count": 176,
   "metadata": {},
   "outputs": [
    {
     "name": "stderr",
     "output_type": "stream",
     "text": [
      "b'Skipping line 6: expected 1 fields, saw 21\\nSkipping line 7: expected 1 fields, saw 21\\nSkipping line 8: expected 1 fields, saw 21\\nSkipping line 9: expected 1 fields, saw 21\\nSkipping line 10: expected 1 fields, saw 21\\nSkipping line 11: expected 1 fields, saw 21\\nSkipping line 12: expected 1 fields, saw 21\\nSkipping line 13: expected 1 fields, saw 21\\nSkipping line 14: expected 1 fields, saw 21\\nSkipping line 15: expected 1 fields, saw 21\\nSkipping line 16: expected 1 fields, saw 21\\nSkipping line 17: expected 1 fields, saw 21\\nSkipping line 18: expected 1 fields, saw 21\\nSkipping line 19: expected 1 fields, saw 21\\nSkipping line 20: expected 1 fields, saw 21\\nSkipping line 21: expected 1 fields, saw 21\\nSkipping line 22: expected 1 fields, saw 21\\nSkipping line 23: expected 1 fields, saw 21\\nSkipping line 24: expected 1 fields, saw 21\\nSkipping line 25: expected 1 fields, saw 21\\nSkipping line 26: expected 1 fields, saw 21\\nSkipping line 27: expected 1 fields, saw 21\\nSkipping line 28: expected 1 fields, saw 21\\nSkipping line 29: expected 1 fields, saw 21\\nSkipping line 30: expected 1 fields, saw 21\\nSkipping line 31: expected 1 fields, saw 21\\nSkipping line 32: expected 1 fields, saw 21\\nSkipping line 33: expected 1 fields, saw 21\\nSkipping line 34: expected 1 fields, saw 21\\nSkipping line 35: expected 1 fields, saw 21\\nSkipping line 36: expected 1 fields, saw 21\\nSkipping line 37: expected 1 fields, saw 21\\nSkipping line 38: expected 1 fields, saw 21\\nSkipping line 39: expected 1 fields, saw 21\\nSkipping line 40: expected 1 fields, saw 21\\nSkipping line 41: expected 1 fields, saw 21\\nSkipping line 42: expected 1 fields, saw 21\\nSkipping line 43: expected 1 fields, saw 21\\nSkipping line 44: expected 1 fields, saw 21\\nSkipping line 45: expected 1 fields, saw 21\\nSkipping line 46: expected 1 fields, saw 21\\nSkipping line 47: expected 1 fields, saw 21\\nSkipping line 48: expected 1 fields, saw 21\\nSkipping line 49: expected 1 fields, saw 21\\nSkipping line 50: expected 1 fields, saw 21\\nSkipping line 51: expected 1 fields, saw 21\\nSkipping line 52: expected 1 fields, saw 21\\nSkipping line 53: expected 1 fields, saw 21\\nSkipping line 54: expected 1 fields, saw 21\\nSkipping line 55: expected 1 fields, saw 21\\nSkipping line 56: expected 1 fields, saw 21\\nSkipping line 57: expected 1 fields, saw 21\\nSkipping line 58: expected 1 fields, saw 21\\nSkipping line 59: expected 1 fields, saw 21\\nSkipping line 60: expected 1 fields, saw 21\\nSkipping line 61: expected 1 fields, saw 21\\nSkipping line 62: expected 1 fields, saw 21\\nSkipping line 63: expected 1 fields, saw 21\\nSkipping line 64: expected 1 fields, saw 21\\nSkipping line 65: expected 1 fields, saw 21\\nSkipping line 66: expected 1 fields, saw 21\\nSkipping line 67: expected 1 fields, saw 21\\nSkipping line 68: expected 1 fields, saw 21\\nSkipping line 69: expected 1 fields, saw 21\\nSkipping line 70: expected 1 fields, saw 21\\nSkipping line 71: expected 1 fields, saw 21\\nSkipping line 72: expected 1 fields, saw 21\\nSkipping line 73: expected 1 fields, saw 21\\nSkipping line 74: expected 1 fields, saw 21\\nSkipping line 75: expected 1 fields, saw 21\\nSkipping line 76: expected 1 fields, saw 21\\nSkipping line 77: expected 1 fields, saw 21\\nSkipping line 78: expected 1 fields, saw 21\\nSkipping line 79: expected 1 fields, saw 21\\nSkipping line 80: expected 1 fields, saw 21\\nSkipping line 81: expected 1 fields, saw 21\\nSkipping line 82: expected 1 fields, saw 21\\nSkipping line 83: expected 1 fields, saw 21\\nSkipping line 84: expected 1 fields, saw 21\\nSkipping line 85: expected 1 fields, saw 21\\nSkipping line 86: expected 1 fields, saw 21\\nSkipping line 87: expected 1 fields, saw 21\\nSkipping line 88: expected 1 fields, saw 21\\nSkipping line 89: expected 1 fields, saw 21\\nSkipping line 90: expected 1 fields, saw 21\\nSkipping line 91: expected 1 fields, saw 21\\nSkipping line 92: expected 1 fields, saw 21\\nSkipping line 93: expected 1 fields, saw 21\\nSkipping line 94: expected 1 fields, saw 21\\nSkipping line 95: expected 1 fields, saw 21\\nSkipping line 96: expected 1 fields, saw 21\\nSkipping line 97: expected 1 fields, saw 21\\nSkipping line 98: expected 1 fields, saw 21\\nSkipping line 99: expected 1 fields, saw 21\\nSkipping line 100: expected 1 fields, saw 21\\nSkipping line 101: expected 1 fields, saw 21\\nSkipping line 102: expected 1 fields, saw 21\\nSkipping line 103: expected 1 fields, saw 21\\nSkipping line 104: expected 1 fields, saw 21\\nSkipping line 105: expected 1 fields, saw 21\\nSkipping line 106: expected 1 fields, saw 21\\nSkipping line 107: expected 1 fields, saw 21\\nSkipping line 108: expected 1 fields, saw 21\\nSkipping line 109: expected 1 fields, saw 21\\nSkipping line 110: expected 1 fields, saw 21\\nSkipping line 111: expected 1 fields, saw 21\\nSkipping line 112: expected 1 fields, saw 21\\nSkipping line 113: expected 1 fields, saw 21\\nSkipping line 114: expected 1 fields, saw 21\\nSkipping line 115: expected 1 fields, saw 21\\nSkipping line 116: expected 1 fields, saw 21\\nSkipping line 117: expected 1 fields, saw 21\\nSkipping line 118: expected 1 fields, saw 21\\nSkipping line 119: expected 1 fields, saw 21\\nSkipping line 120: expected 1 fields, saw 21\\nSkipping line 121: expected 1 fields, saw 21\\nSkipping line 122: expected 1 fields, saw 21\\nSkipping line 123: expected 1 fields, saw 21\\nSkipping line 124: expected 1 fields, saw 21\\nSkipping line 125: expected 1 fields, saw 21\\nSkipping line 126: expected 1 fields, saw 21\\nSkipping line 127: expected 1 fields, saw 21\\nSkipping line 128: expected 1 fields, saw 21\\nSkipping line 129: expected 1 fields, saw 21\\nSkipping line 130: expected 1 fields, saw 21\\nSkipping line 131: expected 1 fields, saw 21\\nSkipping line 132: expected 1 fields, saw 21\\nSkipping line 133: expected 1 fields, saw 21\\nSkipping line 134: expected 1 fields, saw 21\\nSkipping line 135: expected 1 fields, saw 21\\nSkipping line 136: expected 1 fields, saw 21\\nSkipping line 137: expected 1 fields, saw 21\\nSkipping line 138: expected 1 fields, saw 21\\nSkipping line 139: expected 1 fields, saw 21\\nSkipping line 140: expected 1 fields, saw 21\\nSkipping line 141: expected 1 fields, saw 21\\nSkipping line 142: expected 1 fields, saw 21\\nSkipping line 143: expected 1 fields, saw 21\\nSkipping line 144: expected 1 fields, saw 21\\nSkipping line 145: expected 1 fields, saw 21\\nSkipping line 146: expected 1 fields, saw 21\\nSkipping line 147: expected 1 fields, saw 21\\nSkipping line 148: expected 1 fields, saw 21\\nSkipping line 149: expected 1 fields, saw 21\\nSkipping line 150: expected 1 fields, saw 21\\nSkipping line 151: expected 1 fields, saw 21\\nSkipping line 152: expected 1 fields, saw 21\\nSkipping line 153: expected 1 fields, saw 21\\nSkipping line 154: expected 1 fields, saw 21\\nSkipping line 155: expected 1 fields, saw 21\\nSkipping line 156: expected 1 fields, saw 21\\nSkipping line 157: expected 1 fields, saw 21\\nSkipping line 158: expected 1 fields, saw 21\\nSkipping line 159: expected 1 fields, saw 21\\nSkipping line 160: expected 1 fields, saw 21\\nSkipping line 161: expected 1 fields, saw 21\\nSkipping line 162: expected 1 fields, saw 21\\nSkipping line 163: expected 1 fields, saw 21\\nSkipping line 164: expected 1 fields, saw 21\\nSkipping line 165: expected 1 fields, saw 21\\nSkipping line 166: expected 1 fields, saw 21\\nSkipping line 167: expected 1 fields, saw 21\\nSkipping line 168: expected 1 fields, saw 21\\nSkipping line 169: expected 1 fields, saw 21\\nSkipping line 170: expected 1 fields, saw 21\\nSkipping line 171: expected 1 fields, saw 21\\nSkipping line 172: expected 1 fields, saw 21\\nSkipping line 173: expected 1 fields, saw 21\\nSkipping line 174: expected 1 fields, saw 21\\nSkipping line 175: expected 1 fields, saw 21\\nSkipping line 176: expected 1 fields, saw 21\\nSkipping line 177: expected 1 fields, saw 21\\nSkipping line 178: expected 1 fields, saw 21\\nSkipping line 179: expected 1 fields, saw 21\\nSkipping line 180: expected 1 fields, saw 21\\nSkipping line 181: expected 1 fields, saw 21\\nSkipping line 182: expected 1 fields, saw 21\\nSkipping line 183: expected 1 fields, saw 21\\nSkipping line 184: expected 1 fields, saw 21\\nSkipping line 185: expected 1 fields, saw 21\\nSkipping line 186: expected 1 fields, saw 21\\nSkipping line 187: expected 1 fields, saw 21\\nSkipping line 188: expected 1 fields, saw 21\\nSkipping line 189: expected 1 fields, saw 21\\nSkipping line 190: expected 1 fields, saw 21\\nSkipping line 191: expected 1 fields, saw 21\\nSkipping line 192: expected 1 fields, saw 21\\nSkipping line 193: expected 1 fields, saw 21\\nSkipping line 194: expected 1 fields, saw 21\\nSkipping line 195: expected 1 fields, saw 21\\nSkipping line 196: expected 1 fields, saw 21\\nSkipping line 197: expected 1 fields, saw 21\\nSkipping line 198: expected 1 fields, saw 21\\nSkipping line 199: expected 1 fields, saw 21\\nSkipping line 200: expected 1 fields, saw 21\\nSkipping line 201: expected 1 fields, saw 21\\nSkipping line 202: expected 1 fields, saw 21\\nSkipping line 203: expected 1 fields, saw 21\\nSkipping line 204: expected 1 fields, saw 21\\nSkipping line 205: expected 1 fields, saw 21\\nSkipping line 206: expected 1 fields, saw 21\\nSkipping line 207: expected 1 fields, saw 21\\nSkipping line 208: expected 1 fields, saw 21\\nSkipping line 209: expected 1 fields, saw 21\\nSkipping line 210: expected 1 fields, saw 21\\nSkipping line 211: expected 1 fields, saw 21\\nSkipping line 212: expected 1 fields, saw 21\\nSkipping line 213: expected 1 fields, saw 21\\nSkipping line 214: expected 1 fields, saw 21\\nSkipping line 215: expected 1 fields, saw 21\\nSkipping line 216: expected 1 fields, saw 21\\nSkipping line 217: expected 1 fields, saw 21\\nSkipping line 218: expected 1 fields, saw 21\\nSkipping line 219: expected 1 fields, saw 21\\nSkipping line 220: expected 1 fields, saw 21\\nSkipping line 221: expected 1 fields, saw 21\\nSkipping line 222: expected 1 fields, saw 21\\nSkipping line 223: expected 1 fields, saw 21\\nSkipping line 224: expected 1 fields, saw 21\\nSkipping line 225: expected 1 fields, saw 21\\nSkipping line 226: expected 1 fields, saw 21\\nSkipping line 227: expected 1 fields, saw 21\\nSkipping line 228: expected 1 fields, saw 21\\nSkipping line 229: expected 1 fields, saw 21\\nSkipping line 230: expected 1 fields, saw 21\\nSkipping line 231: expected 1 fields, saw 21\\nSkipping line 232: expected 1 fields, saw 21\\nSkipping line 233: expected 1 fields, saw 21\\nSkipping line 234: expected 1 fields, saw 21\\nSkipping line 235: expected 1 fields, saw 21\\nSkipping line 236: expected 1 fields, saw 21\\nSkipping line 237: expected 1 fields, saw 21\\nSkipping line 238: expected 1 fields, saw 21\\nSkipping line 239: expected 1 fields, saw 21\\nSkipping line 240: expected 1 fields, saw 21\\nSkipping line 241: expected 1 fields, saw 21\\nSkipping line 242: expected 1 fields, saw 21\\nSkipping line 243: expected 1 fields, saw 21\\nSkipping line 244: expected 1 fields, saw 21\\nSkipping line 245: expected 1 fields, saw 21\\nSkipping line 246: expected 1 fields, saw 21\\nSkipping line 247: expected 1 fields, saw 21\\nSkipping line 248: expected 1 fields, saw 21\\nSkipping line 249: expected 1 fields, saw 21\\nSkipping line 250: expected 1 fields, saw 21\\nSkipping line 251: expected 1 fields, saw 21\\nSkipping line 252: expected 1 fields, saw 21\\nSkipping line 253: expected 1 fields, saw 21\\nSkipping line 254: expected 1 fields, saw 21\\nSkipping line 255: expected 1 fields, saw 21\\nSkipping line 256: expected 1 fields, saw 21\\nSkipping line 257: expected 1 fields, saw 21\\nSkipping line 258: expected 1 fields, saw 21\\nSkipping line 259: expected 1 fields, saw 21\\nSkipping line 260: expected 1 fields, saw 21\\nSkipping line 261: expected 1 fields, saw 21\\nSkipping line 262: expected 1 fields, saw 21\\nSkipping line 263: expected 1 fields, saw 21\\nSkipping line 264: expected 1 fields, saw 21\\nSkipping line 265: expected 1 fields, saw 21\\nSkipping line 266: expected 1 fields, saw 21\\nSkipping line 267: expected 1 fields, saw 21\\nSkipping line 268: expected 1 fields, saw 21\\nSkipping line 269: expected 1 fields, saw 21\\nSkipping line 270: expected 1 fields, saw 21\\nSkipping line 271: expected 1 fields, saw 21\\nSkipping line 272: expected 1 fields, saw 21\\nSkipping line 273: expected 1 fields, saw 21\\nSkipping line 274: expected 1 fields, saw 21\\nSkipping line 275: expected 1 fields, saw 21\\nSkipping line 276: expected 1 fields, saw 21\\nSkipping line 277: expected 1 fields, saw 21\\nSkipping line 278: expected 1 fields, saw 21\\nSkipping line 279: expected 1 fields, saw 21\\nSkipping line 280: expected 1 fields, saw 21\\nSkipping line 281: expected 1 fields, saw 21\\nSkipping line 282: expected 1 fields, saw 21\\nSkipping line 283: expected 1 fields, saw 21\\nSkipping line 284: expected 1 fields, saw 21\\nSkipping line 285: expected 1 fields, saw 21\\nSkipping line 286: expected 1 fields, saw 21\\nSkipping line 287: expected 1 fields, saw 21\\nSkipping line 288: expected 1 fields, saw 21\\nSkipping line 289: expected 1 fields, saw 21\\nSkipping line 290: expected 1 fields, saw 21\\nSkipping line 291: expected 1 fields, saw 21\\nSkipping line 292: expected 1 fields, saw 21\\nSkipping line 293: expected 1 fields, saw 21\\nSkipping line 294: expected 1 fields, saw 21\\nSkipping line 295: expected 1 fields, saw 21\\nSkipping line 296: expected 1 fields, saw 21\\nSkipping line 297: expected 1 fields, saw 21\\nSkipping line 298: expected 1 fields, saw 21\\nSkipping line 299: expected 1 fields, saw 21\\nSkipping line 300: expected 1 fields, saw 21\\nSkipping line 301: expected 1 fields, saw 21\\nSkipping line 302: expected 1 fields, saw 21\\nSkipping line 303: expected 1 fields, saw 21\\nSkipping line 304: expected 1 fields, saw 21\\nSkipping line 305: expected 1 fields, saw 21\\nSkipping line 306: expected 1 fields, saw 21\\nSkipping line 307: expected 1 fields, saw 21\\nSkipping line 308: expected 1 fields, saw 21\\nSkipping line 309: expected 1 fields, saw 21\\nSkipping line 310: expected 1 fields, saw 21\\nSkipping line 311: expected 1 fields, saw 21\\nSkipping line 312: expected 1 fields, saw 21\\nSkipping line 313: expected 1 fields, saw 21\\nSkipping line 314: expected 1 fields, saw 21\\nSkipping line 315: expected 1 fields, saw 21\\nSkipping line 316: expected 1 fields, saw 21\\nSkipping line 317: expected 1 fields, saw 21\\nSkipping line 318: expected 1 fields, saw 21\\nSkipping line 319: expected 1 fields, saw 21\\nSkipping line 320: expected 1 fields, saw 21\\nSkipping line 321: expected 1 fields, saw 21\\nSkipping line 322: expected 1 fields, saw 21\\nSkipping line 323: expected 1 fields, saw 21\\nSkipping line 324: expected 1 fields, saw 21\\nSkipping line 325: expected 1 fields, saw 21\\nSkipping line 326: expected 1 fields, saw 21\\nSkipping line 327: expected 1 fields, saw 21\\nSkipping line 328: expected 1 fields, saw 21\\nSkipping line 329: expected 1 fields, saw 21\\nSkipping line 330: expected 1 fields, saw 21\\nSkipping line 331: expected 1 fields, saw 21\\nSkipping line 332: expected 1 fields, saw 21\\nSkipping line 333: expected 1 fields, saw 21\\nSkipping line 334: expected 1 fields, saw 21\\nSkipping line 335: expected 1 fields, saw 21\\nSkipping line 336: expected 1 fields, saw 21\\nSkipping line 337: expected 1 fields, saw 21\\nSkipping line 338: expected 1 fields, saw 21\\nSkipping line 339: expected 1 fields, saw 21\\nSkipping line 340: expected 1 fields, saw 21\\nSkipping line 341: expected 1 fields, saw 21\\nSkipping line 342: expected 1 fields, saw 21\\nSkipping line 343: expected 1 fields, saw 21\\nSkipping line 344: expected 1 fields, saw 21\\nSkipping line 345: expected 1 fields, saw 21\\nSkipping line 346: expected 1 fields, saw 21\\nSkipping line 347: expected 1 fields, saw 21\\nSkipping line 348: expected 1 fields, saw 21\\nSkipping line 349: expected 1 fields, saw 21\\nSkipping line 350: expected 1 fields, saw 21\\nSkipping line 351: expected 1 fields, saw 21\\nSkipping line 352: expected 1 fields, saw 21\\nSkipping line 353: expected 1 fields, saw 21\\nSkipping line 354: expected 1 fields, saw 21\\nSkipping line 355: expected 1 fields, saw 21\\nSkipping line 356: expected 1 fields, saw 21\\nSkipping line 357: expected 1 fields, saw 21\\nSkipping line 358: expected 1 fields, saw 21\\nSkipping line 359: expected 1 fields, saw 21\\nSkipping line 360: expected 1 fields, saw 21\\nSkipping line 361: expected 1 fields, saw 21\\nSkipping line 362: expected 1 fields, saw 21\\nSkipping line 363: expected 1 fields, saw 21\\nSkipping line 364: expected 1 fields, saw 21\\nSkipping line 365: expected 1 fields, saw 21\\nSkipping line 366: expected 1 fields, saw 21\\nSkipping line 367: expected 1 fields, saw 21\\nSkipping line 368: expected 1 fields, saw 21\\nSkipping line 369: expected 1 fields, saw 21\\nSkipping line 370: expected 1 fields, saw 21\\nSkipping line 371: expected 1 fields, saw 21\\nSkipping line 372: expected 1 fields, saw 21\\nSkipping line 373: expected 1 fields, saw 21\\nSkipping line 374: expected 1 fields, saw 21\\nSkipping line 375: expected 1 fields, saw 21\\nSkipping line 376: expected 1 fields, saw 21\\nSkipping line 377: expected 1 fields, saw 21\\nSkipping line 378: expected 1 fields, saw 21\\nSkipping line 379: expected 1 fields, saw 21\\nSkipping line 380: expected 1 fields, saw 21\\nSkipping line 381: expected 1 fields, saw 21\\nSkipping line 382: expected 1 fields, saw 21\\nSkipping line 383: expected 1 fields, saw 21\\nSkipping line 384: expected 1 fields, saw 21\\nSkipping line 385: expected 1 fields, saw 21\\nSkipping line 386: expected 1 fields, saw 21\\nSkipping line 387: expected 1 fields, saw 21\\nSkipping line 388: expected 1 fields, saw 21\\nSkipping line 389: expected 1 fields, saw 21\\nSkipping line 390: expected 1 fields, saw 21\\nSkipping line 391: expected 1 fields, saw 21\\nSkipping line 392: expected 1 fields, saw 21\\nSkipping line 393: expected 1 fields, saw 21\\nSkipping line 394: expected 1 fields, saw 21\\nSkipping line 395: expected 1 fields, saw 21\\nSkipping line 396: expected 1 fields, saw 21\\nSkipping line 397: expected 1 fields, saw 21\\nSkipping line 398: expected 1 fields, saw 21\\nSkipping line 399: expected 1 fields, saw 21\\nSkipping line 400: expected 1 fields, saw 21\\nSkipping line 401: expected 1 fields, saw 21\\nSkipping line 402: expected 1 fields, saw 21\\nSkipping line 403: expected 1 fields, saw 21\\n'\n"
     ]
    }
   ],
   "source": [
    "base_dir = 'D:'+os.sep+'Dados'+os.sep+'OneDrive'+os.sep+'Doutorado'+os.sep\n",
    "ds_files = base_dir + 'Datasets' + os.sep + 'Magellan Data Repository' + os.sep +'Magellan' + os.sep\n",
    "out_file = base_dir + 'workspace'+os.sep+'tl_pprl2'+os.sep+'datasets'+os.sep+'books'+os.sep\n",
    "\n",
    "inputZip = 'books2.zip'\n",
    "data = 'labeled_data'\n",
    "\n",
    "\n",
    "zip_file = 'processed_goodreads-barnesnobel.zip'\n",
    "\n",
    "df = read(ds_files+inputZip,data,skip_coments=True)"
   ]
  },
  {
   "cell_type": "code",
   "execution_count": 177,
   "metadata": {},
   "outputs": [
    {
     "data": {
      "text/plain": [
       "Index(['_id', 'ltable.ID', 'rtable.ID', 'ltable.FirstAuthor', 'ltable.ISBN',\n",
       "       'ltable.ISBN13', 'ltable.PageCount', 'ltable.PublishDate',\n",
       "       'ltable.Publisher', 'ltable.SecondAuthor', 'ltable.ThirdAuthor',\n",
       "       'ltable.Title', 'rtable.FirstAuthor', 'rtable.SecondAuthor',\n",
       "       'rtable.ThirdAuthor', 'rtable.ISBN13', 'rtable.PageCount',\n",
       "       'rtable.PublishDate', 'rtable.Publisher', 'rtable.Title',\n",
       "       'match_label'],\n",
       "      dtype='object')"
      ]
     },
     "execution_count": 177,
     "metadata": {},
     "output_type": "execute_result"
    }
   ],
   "source": [
    "df.columns"
   ]
  },
  {
   "cell_type": "code",
   "execution_count": 178,
   "metadata": {},
   "outputs": [],
   "source": [
    "# gabarito\n",
    "gs = df[df.match_label==1].iloc[:,[1,2]]\n",
    "\n",
    "colunas_1 =  [ 'id', 'FirstAuthor', 'ISBN',\n",
    "       'ISBN13', 'PageCount', 'PublishDate',\n",
    "       'Publisher', 'SecondAuthor', 'ThirdAuthor',\n",
    "       'Title' ]\n",
    "\n",
    "colunas_2 =  [ 'id', 'FirstAuthor', 'SecondAuthor',\n",
    "       'ThirdAuthor', 'ISBN13', 'PageCount',\n",
    "       'PublishDate', 'Publisher', 'Title' ]\n",
    "\n",
    "n_atibutos = len(colunas_1) -1\n",
    "\n",
    "inicio_atributos_ds1 = 3\n",
    "fim_atributos_ds1 = inicio_atributos_ds1 + n_atibutos\n",
    "\n",
    "\n",
    "atts = [1] + list(range(inicio_atributos_ds1,fim_atributos_ds1))\n",
    "ds1 = df.iloc[:,atts]\n",
    "\n",
    "n_atibutos = len(colunas_2) -1\n",
    "atts = [2] + list(range(fim_atributos_ds1,fim_atributos_ds1+n_atibutos))\n",
    "ds2 = df.iloc[:,atts]\n",
    "\n",
    "ds1.columns = colunas_1\n",
    "ds2.columns = colunas_2"
   ]
  },
  {
   "cell_type": "code",
   "execution_count": 179,
   "metadata": {},
   "outputs": [],
   "source": [
    "ds1 = retornar_ds_limpo(ds1)\n",
    "ds2 = retornar_ds_limpo(ds2)"
   ]
  },
  {
   "cell_type": "markdown",
   "metadata": {},
   "source": [
    "#### Estatisticas"
   ]
  },
  {
   "cell_type": "code",
   "execution_count": 180,
   "metadata": {},
   "outputs": [
    {
     "data": {
      "text/html": [
       "<div>\n",
       "<style scoped>\n",
       "    .dataframe tbody tr th:only-of-type {\n",
       "        vertical-align: middle;\n",
       "    }\n",
       "\n",
       "    .dataframe tbody tr th {\n",
       "        vertical-align: top;\n",
       "    }\n",
       "\n",
       "    .dataframe thead th {\n",
       "        text-align: right;\n",
       "    }\n",
       "</style>\n",
       "<table border=\"1\" class=\"dataframe\">\n",
       "  <thead>\n",
       "    <tr style=\"text-align: right;\">\n",
       "      <th></th>\n",
       "      <th>FirstAuthor</th>\n",
       "      <th>ISBN</th>\n",
       "      <th>PublishDate</th>\n",
       "      <th>Publisher</th>\n",
       "      <th>SecondAuthor</th>\n",
       "      <th>ThirdAuthor</th>\n",
       "      <th>Title</th>\n",
       "      <th>ds</th>\n",
       "    </tr>\n",
       "    <tr>\n",
       "      <th>metrica</th>\n",
       "      <th></th>\n",
       "      <th></th>\n",
       "      <th></th>\n",
       "      <th></th>\n",
       "      <th></th>\n",
       "      <th></th>\n",
       "      <th></th>\n",
       "      <th></th>\n",
       "    </tr>\n",
       "  </thead>\n",
       "  <tbody>\n",
       "    <tr>\n",
       "      <th>count</th>\n",
       "      <td>286</td>\n",
       "      <td>227</td>\n",
       "      <td>244</td>\n",
       "      <td>258</td>\n",
       "      <td>77</td>\n",
       "      <td>23</td>\n",
       "      <td>286</td>\n",
       "      <td>fodors</td>\n",
       "    </tr>\n",
       "    <tr>\n",
       "      <th>unique</th>\n",
       "      <td>223</td>\n",
       "      <td>223</td>\n",
       "      <td>228</td>\n",
       "      <td>196</td>\n",
       "      <td>74</td>\n",
       "      <td>22</td>\n",
       "      <td>275</td>\n",
       "      <td>fodors</td>\n",
       "    </tr>\n",
       "    <tr>\n",
       "      <th>top</th>\n",
       "      <td>Mark Twain</td>\n",
       "      <td>8132016939</td>\n",
       "      <td>September 1st 2011</td>\n",
       "      <td>Nabu Press</td>\n",
       "      <td>Harriet E. Smith</td>\n",
       "      <td>Grover Gardner</td>\n",
       "      <td>Autobiography</td>\n",
       "      <td>fodors</td>\n",
       "    </tr>\n",
       "    <tr>\n",
       "      <th>freq</th>\n",
       "      <td>17</td>\n",
       "      <td>2</td>\n",
       "      <td>2</td>\n",
       "      <td>6</td>\n",
       "      <td>3</td>\n",
       "      <td>2</td>\n",
       "      <td>4</td>\n",
       "      <td>fodors</td>\n",
       "    </tr>\n",
       "    <tr>\n",
       "      <th>nan</th>\n",
       "      <td>0</td>\n",
       "      <td>0</td>\n",
       "      <td>59</td>\n",
       "      <td>63</td>\n",
       "      <td>0</td>\n",
       "      <td>42</td>\n",
       "      <td>28</td>\n",
       "      <td>fodors</td>\n",
       "    </tr>\n",
       "  </tbody>\n",
       "</table>\n",
       "</div>"
      ],
      "text/plain": [
       "        FirstAuthor        ISBN         PublishDate   Publisher  \\\n",
       "metrica                                                           \n",
       "count           286         227                 244         258   \n",
       "unique          223         223                 228         196   \n",
       "top      Mark Twain  8132016939  September 1st 2011  Nabu Press   \n",
       "freq             17           2                   2           6   \n",
       "nan               0           0                  59          63   \n",
       "\n",
       "             SecondAuthor     ThirdAuthor          Title      ds  \n",
       "metrica                                                           \n",
       "count                  77              23            286  fodors  \n",
       "unique                 74              22            275  fodors  \n",
       "top      Harriet E. Smith  Grover Gardner  Autobiography  fodors  \n",
       "freq                    3               2              4  fodors  \n",
       "nan                     0              42             28  fodors  "
      ]
     },
     "metadata": {},
     "output_type": "display_data"
    },
    {
     "data": {
      "text/html": [
       "<div>\n",
       "<style scoped>\n",
       "    .dataframe tbody tr th:only-of-type {\n",
       "        vertical-align: middle;\n",
       "    }\n",
       "\n",
       "    .dataframe tbody tr th {\n",
       "        vertical-align: top;\n",
       "    }\n",
       "\n",
       "    .dataframe thead th {\n",
       "        text-align: right;\n",
       "    }\n",
       "</style>\n",
       "<table border=\"1\" class=\"dataframe\">\n",
       "  <thead>\n",
       "    <tr style=\"text-align: right;\">\n",
       "      <th></th>\n",
       "      <th>FirstAuthor</th>\n",
       "      <th>SecondAuthor</th>\n",
       "      <th>ThirdAuthor</th>\n",
       "      <th>PublishDate</th>\n",
       "      <th>Publisher</th>\n",
       "      <th>Title</th>\n",
       "      <th>ds</th>\n",
       "    </tr>\n",
       "    <tr>\n",
       "      <th>metrica</th>\n",
       "      <th></th>\n",
       "      <th></th>\n",
       "      <th></th>\n",
       "      <th></th>\n",
       "      <th></th>\n",
       "      <th></th>\n",
       "      <th></th>\n",
       "    </tr>\n",
       "  </thead>\n",
       "  <tbody>\n",
       "    <tr>\n",
       "      <th>count</th>\n",
       "      <td>317</td>\n",
       "      <td>41</td>\n",
       "      <td>7</td>\n",
       "      <td>270</td>\n",
       "      <td>317</td>\n",
       "      <td>317</td>\n",
       "      <td>zagats</td>\n",
       "    </tr>\n",
       "    <tr>\n",
       "      <th>unique</th>\n",
       "      <td>227</td>\n",
       "      <td>40</td>\n",
       "      <td>7</td>\n",
       "      <td>249</td>\n",
       "      <td>211</td>\n",
       "      <td>311</td>\n",
       "      <td>zagats</td>\n",
       "    </tr>\n",
       "    <tr>\n",
       "      <th>top</th>\n",
       "      <td>Benjamin Franklin</td>\n",
       "      <td>Grover Gardner</td>\n",
       "      <td>Published By Northpointe Classics</td>\n",
       "      <td>1/28/13</td>\n",
       "      <td>CreateSpace Publishing</td>\n",
       "      <td>An Autobiography Volume 2</td>\n",
       "      <td>zagats</td>\n",
       "    </tr>\n",
       "    <tr>\n",
       "      <th>freq</th>\n",
       "      <td>28</td>\n",
       "      <td>2</td>\n",
       "      <td>1</td>\n",
       "      <td>4</td>\n",
       "      <td>12</td>\n",
       "      <td>2</td>\n",
       "      <td>zagats</td>\n",
       "    </tr>\n",
       "    <tr>\n",
       "      <th>nan</th>\n",
       "      <td>0</td>\n",
       "      <td>10</td>\n",
       "      <td>286</td>\n",
       "      <td>320</td>\n",
       "      <td>10</td>\n",
       "      <td>107</td>\n",
       "      <td>zagats</td>\n",
       "    </tr>\n",
       "  </tbody>\n",
       "</table>\n",
       "</div>"
      ],
      "text/plain": [
       "               FirstAuthor    SecondAuthor                        ThirdAuthor  \\\n",
       "metrica                                                                         \n",
       "count                  317              41                                  7   \n",
       "unique                 227              40                                  7   \n",
       "top      Benjamin Franklin  Grover Gardner  Published By Northpointe Classics   \n",
       "freq                    28               2                                  1   \n",
       "nan                      0              10                                286   \n",
       "\n",
       "        PublishDate               Publisher                      Title      ds  \n",
       "metrica                                                                         \n",
       "count           270                     317                        317  zagats  \n",
       "unique          249                     211                        311  zagats  \n",
       "top         1/28/13  CreateSpace Publishing  An Autobiography Volume 2  zagats  \n",
       "freq              4                      12                          2  zagats  \n",
       "nan             320                      10                        107  zagats  "
      ]
     },
     "metadata": {},
     "output_type": "display_data"
    }
   ],
   "source": [
    "nan_list1 = ds1.isnull().sum()\n",
    "nan_list2 = ds2.isnull().sum()\n",
    "\n",
    "estatiscas1 = ds1.describe(include='object')\n",
    "estatiscas2 = ds2.describe(include='object')\n",
    "\n",
    "sdf1 = gerar_estatiscas_df(nan_list1,estatiscas1)\n",
    "sdf1['ds'] = ds1_name\n",
    "\n",
    "sdf2 = gerar_estatiscas_df(nan_list2,estatiscas2)\n",
    "sdf2['ds'] = ds2_name\n",
    "\n",
    "estatiscas = pd.concat([sdf1,sdf2])#.to_csv(ds_files+'stats_abt-buy.csv',sep=';')\n",
    "\n",
    "display(sdf1)\n",
    "display(sdf2)"
   ]
  },
  {
   "cell_type": "markdown",
   "metadata": {},
   "source": [
    "#### Limpando os dados\n",
    "\n",
    "Sem valores nulos"
   ]
  },
  {
   "cell_type": "code",
   "execution_count": 181,
   "metadata": {},
   "outputs": [
    {
     "data": {
      "text/html": [
       "<div>\n",
       "<style scoped>\n",
       "    .dataframe tbody tr th:only-of-type {\n",
       "        vertical-align: middle;\n",
       "    }\n",
       "\n",
       "    .dataframe tbody tr th {\n",
       "        vertical-align: top;\n",
       "    }\n",
       "\n",
       "    .dataframe thead th {\n",
       "        text-align: right;\n",
       "    }\n",
       "</style>\n",
       "<table border=\"1\" class=\"dataframe\">\n",
       "  <thead>\n",
       "    <tr style=\"text-align: right;\">\n",
       "      <th></th>\n",
       "      <th>id1</th>\n",
       "      <th>id2</th>\n",
       "    </tr>\n",
       "  </thead>\n",
       "  <tbody>\n",
       "  </tbody>\n",
       "</table>\n",
       "</div>"
      ],
      "text/plain": [
       "Empty DataFrame\n",
       "Columns: [id1, id2]\n",
       "Index: []"
      ]
     },
     "metadata": {},
     "output_type": "display_data"
    },
    {
     "data": {
      "text/html": [
       "<div>\n",
       "<style scoped>\n",
       "    .dataframe tbody tr th:only-of-type {\n",
       "        vertical-align: middle;\n",
       "    }\n",
       "\n",
       "    .dataframe tbody tr th {\n",
       "        vertical-align: top;\n",
       "    }\n",
       "\n",
       "    .dataframe thead th {\n",
       "        text-align: right;\n",
       "    }\n",
       "</style>\n",
       "<table border=\"1\" class=\"dataframe\">\n",
       "  <thead>\n",
       "    <tr style=\"text-align: right;\">\n",
       "      <th></th>\n",
       "      <th>id1</th>\n",
       "      <th>id2</th>\n",
       "    </tr>\n",
       "  </thead>\n",
       "  <tbody>\n",
       "    <tr>\n",
       "      <th>6</th>\n",
       "      <td>113</td>\n",
       "      <td>63</td>\n",
       "    </tr>\n",
       "    <tr>\n",
       "      <th>239</th>\n",
       "      <td>2473</td>\n",
       "      <td>63</td>\n",
       "    </tr>\n",
       "    <tr>\n",
       "      <th>244</th>\n",
       "      <td>2519</td>\n",
       "      <td>2981</td>\n",
       "    </tr>\n",
       "    <tr>\n",
       "      <th>253</th>\n",
       "      <td>2704</td>\n",
       "      <td>2981</td>\n",
       "    </tr>\n",
       "  </tbody>\n",
       "</table>\n",
       "</div>"
      ],
      "text/plain": [
       "      id1   id2\n",
       "6     113    63\n",
       "239  2473    63\n",
       "244  2519  2981\n",
       "253  2704  2981"
      ]
     },
     "metadata": {},
     "output_type": "display_data"
    }
   ],
   "source": [
    "gs.columns = ['id1','id2']\n",
    "gs.id1 = gs.id1.astype(str)\n",
    "gs.id2 = gs.id2.astype(str)\n",
    "da, db = verify_gg4cc(gs)\n",
    "display(da.head(5))\n",
    "display(db.head(5))"
   ]
  },
  {
   "cell_type": "code",
   "execution_count": 182,
   "metadata": {},
   "outputs": [
    {
     "name": "stdout",
     "output_type": "stream",
     "text": [
      "['2473', '2704']\n",
      "[]\n"
     ]
    }
   ],
   "source": [
    "remover_da_lista2 = []\n",
    "remover_da_lista1 = []\n",
    "\n",
    "for i in da.id1.unique():\n",
    "    remover_da_lista2.append(da[da.id1 == i].id2.values[-1])\n",
    "\n",
    "for i in db.id2.unique():\n",
    "    remover_da_lista1.append(db[db.id2 == i].id1.values[-1])\n",
    "\n",
    "print(remover_da_lista1)\n",
    "print(remover_da_lista2)"
   ]
  },
  {
   "cell_type": "code",
   "execution_count": 183,
   "metadata": {},
   "outputs": [],
   "source": [
    "cds1 = ds1[~ds1.id.isin(remover_da_lista1)]\n",
    "cds2 = ds2[~ds2.id.isin(remover_da_lista2)]\n",
    "\n",
    "gs = gs[~gs.id1.isin(remover_da_lista1)]\n",
    "gs = gs[~gs.id2.isin(remover_da_lista2)]\n",
    "\n",
    "ds1 = cds1\n",
    "ds2 = cds2"
   ]
  },
  {
   "cell_type": "code",
   "execution_count": 184,
   "metadata": {},
   "outputs": [
    {
     "data": {
      "text/html": [
       "<div>\n",
       "<style scoped>\n",
       "    .dataframe tbody tr th:only-of-type {\n",
       "        vertical-align: middle;\n",
       "    }\n",
       "\n",
       "    .dataframe tbody tr th {\n",
       "        vertical-align: top;\n",
       "    }\n",
       "\n",
       "    .dataframe thead th {\n",
       "        text-align: right;\n",
       "    }\n",
       "</style>\n",
       "<table border=\"1\" class=\"dataframe\">\n",
       "  <thead>\n",
       "    <tr style=\"text-align: right;\">\n",
       "      <th></th>\n",
       "      <th>id1</th>\n",
       "      <th>id2</th>\n",
       "    </tr>\n",
       "  </thead>\n",
       "  <tbody>\n",
       "  </tbody>\n",
       "</table>\n",
       "</div>"
      ],
      "text/plain": [
       "Empty DataFrame\n",
       "Columns: [id1, id2]\n",
       "Index: []"
      ]
     },
     "metadata": {},
     "output_type": "display_data"
    },
    {
     "data": {
      "text/html": [
       "<div>\n",
       "<style scoped>\n",
       "    .dataframe tbody tr th:only-of-type {\n",
       "        vertical-align: middle;\n",
       "    }\n",
       "\n",
       "    .dataframe tbody tr th {\n",
       "        vertical-align: top;\n",
       "    }\n",
       "\n",
       "    .dataframe thead th {\n",
       "        text-align: right;\n",
       "    }\n",
       "</style>\n",
       "<table border=\"1\" class=\"dataframe\">\n",
       "  <thead>\n",
       "    <tr style=\"text-align: right;\">\n",
       "      <th></th>\n",
       "      <th>id1</th>\n",
       "      <th>id2</th>\n",
       "    </tr>\n",
       "  </thead>\n",
       "  <tbody>\n",
       "  </tbody>\n",
       "</table>\n",
       "</div>"
      ],
      "text/plain": [
       "Empty DataFrame\n",
       "Columns: [id1, id2]\n",
       "Index: []"
      ]
     },
     "metadata": {},
     "output_type": "display_data"
    }
   ],
   "source": [
    "da, db = verify_gg4cc(gs)\n",
    "display(da.head(5))\n",
    "display(db.head(5))"
   ]
  },
  {
   "cell_type": "markdown",
   "metadata": {},
   "source": [
    "Dataset clean-clean"
   ]
  },
  {
   "cell_type": "code",
   "execution_count": 185,
   "metadata": {
    "run_control": {
     "marked": true
    }
   },
   "outputs": [],
   "source": [
    "save_zip(ds1,ds2,gs,estatiscas,out_file + zip_file)"
   ]
  },
  {
   "cell_type": "markdown",
   "metadata": {},
   "source": [
    "### Books4"
   ]
  },
  {
   "cell_type": "code",
   "execution_count": 201,
   "metadata": {},
   "outputs": [
    {
     "name": "stderr",
     "output_type": "stream",
     "text": [
      "b'Skipping line 6: expected 1 fields, saw 12\\nSkipping line 7: expected 1 fields, saw 12\\nSkipping line 8: expected 1 fields, saw 12\\nSkipping line 9: expected 1 fields, saw 12\\nSkipping line 10: expected 1 fields, saw 12\\nSkipping line 11: expected 1 fields, saw 12\\nSkipping line 12: expected 1 fields, saw 12\\nSkipping line 13: expected 1 fields, saw 12\\nSkipping line 14: expected 1 fields, saw 12\\nSkipping line 15: expected 1 fields, saw 12\\nSkipping line 16: expected 1 fields, saw 12\\nSkipping line 17: expected 1 fields, saw 12\\nSkipping line 18: expected 1 fields, saw 12\\nSkipping line 19: expected 1 fields, saw 12\\nSkipping line 20: expected 1 fields, saw 12\\nSkipping line 21: expected 1 fields, saw 12\\nSkipping line 22: expected 1 fields, saw 12\\nSkipping line 23: expected 1 fields, saw 12\\nSkipping line 24: expected 1 fields, saw 12\\nSkipping line 25: expected 1 fields, saw 12\\nSkipping line 26: expected 1 fields, saw 12\\nSkipping line 27: expected 1 fields, saw 12\\nSkipping line 28: expected 1 fields, saw 12\\nSkipping line 29: expected 1 fields, saw 12\\nSkipping line 30: expected 1 fields, saw 12\\nSkipping line 31: expected 1 fields, saw 12\\nSkipping line 32: expected 1 fields, saw 12\\nSkipping line 33: expected 1 fields, saw 12\\nSkipping line 34: expected 1 fields, saw 12\\nSkipping line 35: expected 1 fields, saw 12\\nSkipping line 36: expected 1 fields, saw 12\\nSkipping line 37: expected 1 fields, saw 12\\nSkipping line 38: expected 1 fields, saw 12\\nSkipping line 39: expected 1 fields, saw 12\\nSkipping line 40: expected 1 fields, saw 12\\nSkipping line 41: expected 1 fields, saw 12\\nSkipping line 42: expected 1 fields, saw 12\\nSkipping line 43: expected 1 fields, saw 12\\nSkipping line 44: expected 1 fields, saw 12\\nSkipping line 45: expected 1 fields, saw 12\\nSkipping line 46: expected 1 fields, saw 12\\nSkipping line 47: expected 1 fields, saw 12\\nSkipping line 48: expected 1 fields, saw 12\\nSkipping line 49: expected 1 fields, saw 12\\nSkipping line 50: expected 1 fields, saw 12\\nSkipping line 51: expected 1 fields, saw 12\\nSkipping line 52: expected 1 fields, saw 12\\nSkipping line 53: expected 1 fields, saw 12\\nSkipping line 54: expected 1 fields, saw 12\\nSkipping line 55: expected 1 fields, saw 12\\nSkipping line 56: expected 1 fields, saw 12\\nSkipping line 57: expected 1 fields, saw 12\\nSkipping line 58: expected 1 fields, saw 12\\nSkipping line 59: expected 1 fields, saw 12\\nSkipping line 60: expected 1 fields, saw 12\\nSkipping line 61: expected 1 fields, saw 12\\nSkipping line 62: expected 1 fields, saw 12\\nSkipping line 63: expected 1 fields, saw 12\\nSkipping line 64: expected 1 fields, saw 12\\nSkipping line 65: expected 1 fields, saw 12\\nSkipping line 66: expected 1 fields, saw 12\\nSkipping line 67: expected 1 fields, saw 12\\nSkipping line 68: expected 1 fields, saw 12\\nSkipping line 69: expected 1 fields, saw 12\\nSkipping line 70: expected 1 fields, saw 12\\nSkipping line 71: expected 1 fields, saw 12\\nSkipping line 72: expected 1 fields, saw 12\\nSkipping line 73: expected 1 fields, saw 12\\nSkipping line 74: expected 1 fields, saw 12\\nSkipping line 75: expected 1 fields, saw 12\\nSkipping line 76: expected 1 fields, saw 12\\nSkipping line 77: expected 1 fields, saw 12\\nSkipping line 78: expected 1 fields, saw 12\\nSkipping line 79: expected 1 fields, saw 12\\nSkipping line 80: expected 1 fields, saw 12\\nSkipping line 81: expected 1 fields, saw 12\\nSkipping line 82: expected 1 fields, saw 12\\nSkipping line 83: expected 1 fields, saw 12\\nSkipping line 84: expected 1 fields, saw 12\\nSkipping line 85: expected 1 fields, saw 12\\nSkipping line 86: expected 1 fields, saw 12\\nSkipping line 87: expected 1 fields, saw 12\\nSkipping line 88: expected 1 fields, saw 12\\nSkipping line 89: expected 1 fields, saw 12\\nSkipping line 90: expected 1 fields, saw 12\\nSkipping line 91: expected 1 fields, saw 12\\nSkipping line 92: expected 1 fields, saw 12\\nSkipping line 93: expected 1 fields, saw 12\\nSkipping line 94: expected 1 fields, saw 12\\nSkipping line 95: expected 1 fields, saw 12\\nSkipping line 96: expected 1 fields, saw 12\\nSkipping line 97: expected 1 fields, saw 12\\nSkipping line 98: expected 1 fields, saw 12\\nSkipping line 99: expected 1 fields, saw 12\\nSkipping line 100: expected 1 fields, saw 12\\nSkipping line 101: expected 1 fields, saw 12\\nSkipping line 102: expected 1 fields, saw 12\\nSkipping line 103: expected 1 fields, saw 12\\nSkipping line 104: expected 1 fields, saw 12\\nSkipping line 105: expected 1 fields, saw 12\\nSkipping line 106: expected 1 fields, saw 12\\nSkipping line 107: expected 1 fields, saw 12\\nSkipping line 108: expected 1 fields, saw 12\\nSkipping line 109: expected 1 fields, saw 12\\nSkipping line 110: expected 1 fields, saw 12\\nSkipping line 111: expected 1 fields, saw 12\\nSkipping line 112: expected 1 fields, saw 12\\nSkipping line 113: expected 1 fields, saw 12\\nSkipping line 114: expected 1 fields, saw 12\\nSkipping line 115: expected 1 fields, saw 12\\nSkipping line 116: expected 1 fields, saw 12\\nSkipping line 117: expected 1 fields, saw 12\\nSkipping line 118: expected 1 fields, saw 12\\nSkipping line 119: expected 1 fields, saw 12\\nSkipping line 120: expected 1 fields, saw 12\\nSkipping line 121: expected 1 fields, saw 12\\nSkipping line 122: expected 1 fields, saw 12\\nSkipping line 123: expected 1 fields, saw 12\\nSkipping line 124: expected 1 fields, saw 12\\nSkipping line 125: expected 1 fields, saw 12\\nSkipping line 126: expected 1 fields, saw 12\\nSkipping line 127: expected 1 fields, saw 12\\nSkipping line 128: expected 1 fields, saw 12\\nSkipping line 129: expected 1 fields, saw 12\\nSkipping line 130: expected 1 fields, saw 12\\nSkipping line 131: expected 1 fields, saw 12\\nSkipping line 132: expected 1 fields, saw 12\\nSkipping line 133: expected 1 fields, saw 12\\nSkipping line 134: expected 1 fields, saw 12\\nSkipping line 135: expected 1 fields, saw 12\\nSkipping line 136: expected 1 fields, saw 12\\nSkipping line 137: expected 1 fields, saw 12\\nSkipping line 138: expected 1 fields, saw 12\\nSkipping line 139: expected 1 fields, saw 12\\nSkipping line 140: expected 1 fields, saw 12\\nSkipping line 141: expected 1 fields, saw 12\\nSkipping line 142: expected 1 fields, saw 12\\nSkipping line 143: expected 1 fields, saw 12\\nSkipping line 144: expected 1 fields, saw 12\\nSkipping line 145: expected 1 fields, saw 12\\nSkipping line 146: expected 1 fields, saw 12\\nSkipping line 147: expected 1 fields, saw 12\\nSkipping line 148: expected 1 fields, saw 12\\nSkipping line 149: expected 1 fields, saw 12\\nSkipping line 150: expected 1 fields, saw 12\\nSkipping line 151: expected 1 fields, saw 12\\nSkipping line 152: expected 1 fields, saw 12\\nSkipping line 153: expected 1 fields, saw 12\\nSkipping line 154: expected 1 fields, saw 12\\nSkipping line 155: expected 1 fields, saw 12\\nSkipping line 156: expected 1 fields, saw 12\\nSkipping line 157: expected 1 fields, saw 12\\nSkipping line 158: expected 1 fields, saw 12\\nSkipping line 159: expected 1 fields, saw 12\\nSkipping line 160: expected 1 fields, saw 12\\nSkipping line 161: expected 1 fields, saw 12\\nSkipping line 162: expected 1 fields, saw 12\\nSkipping line 163: expected 1 fields, saw 12\\nSkipping line 164: expected 1 fields, saw 12\\nSkipping line 165: expected 1 fields, saw 12\\nSkipping line 166: expected 1 fields, saw 12\\nSkipping line 167: expected 1 fields, saw 12\\nSkipping line 168: expected 1 fields, saw 12\\nSkipping line 169: expected 1 fields, saw 12\\nSkipping line 170: expected 1 fields, saw 12\\nSkipping line 171: expected 1 fields, saw 12\\nSkipping line 172: expected 1 fields, saw 12\\nSkipping line 173: expected 1 fields, saw 12\\nSkipping line 174: expected 1 fields, saw 12\\nSkipping line 175: expected 1 fields, saw 12\\nSkipping line 176: expected 1 fields, saw 12\\nSkipping line 177: expected 1 fields, saw 12\\nSkipping line 178: expected 1 fields, saw 12\\nSkipping line 179: expected 1 fields, saw 12\\nSkipping line 180: expected 1 fields, saw 12\\nSkipping line 181: expected 1 fields, saw 12\\nSkipping line 182: expected 1 fields, saw 12\\nSkipping line 183: expected 1 fields, saw 12\\nSkipping line 184: expected 1 fields, saw 12\\nSkipping line 185: expected 1 fields, saw 12\\nSkipping line 186: expected 1 fields, saw 12\\nSkipping line 187: expected 1 fields, saw 12\\nSkipping line 188: expected 1 fields, saw 12\\nSkipping line 189: expected 1 fields, saw 12\\nSkipping line 190: expected 1 fields, saw 12\\nSkipping line 191: expected 1 fields, saw 12\\nSkipping line 192: expected 1 fields, saw 12\\nSkipping line 193: expected 1 fields, saw 12\\nSkipping line 194: expected 1 fields, saw 12\\nSkipping line 195: expected 1 fields, saw 12\\nSkipping line 196: expected 1 fields, saw 12\\nSkipping line 197: expected 1 fields, saw 12\\nSkipping line 198: expected 1 fields, saw 12\\nSkipping line 199: expected 1 fields, saw 12\\nSkipping line 200: expected 1 fields, saw 12\\nSkipping line 201: expected 1 fields, saw 12\\nSkipping line 202: expected 1 fields, saw 12\\nSkipping line 203: expected 1 fields, saw 12\\nSkipping line 204: expected 1 fields, saw 12\\nSkipping line 205: expected 1 fields, saw 12\\nSkipping line 206: expected 1 fields, saw 12\\nSkipping line 207: expected 1 fields, saw 12\\nSkipping line 208: expected 1 fields, saw 12\\nSkipping line 209: expected 1 fields, saw 12\\nSkipping line 210: expected 1 fields, saw 12\\nSkipping line 211: expected 1 fields, saw 12\\nSkipping line 212: expected 1 fields, saw 12\\nSkipping line 213: expected 1 fields, saw 12\\nSkipping line 214: expected 1 fields, saw 12\\nSkipping line 215: expected 1 fields, saw 12\\nSkipping line 216: expected 1 fields, saw 12\\nSkipping line 217: expected 1 fields, saw 12\\nSkipping line 218: expected 1 fields, saw 12\\nSkipping line 219: expected 1 fields, saw 12\\nSkipping line 220: expected 1 fields, saw 12\\nSkipping line 221: expected 1 fields, saw 12\\nSkipping line 222: expected 1 fields, saw 12\\nSkipping line 223: expected 1 fields, saw 12\\nSkipping line 224: expected 1 fields, saw 12\\nSkipping line 225: expected 1 fields, saw 12\\nSkipping line 226: expected 1 fields, saw 12\\nSkipping line 227: expected 1 fields, saw 12\\nSkipping line 228: expected 1 fields, saw 12\\nSkipping line 229: expected 1 fields, saw 12\\nSkipping line 230: expected 1 fields, saw 12\\nSkipping line 231: expected 1 fields, saw 12\\nSkipping line 232: expected 1 fields, saw 12\\nSkipping line 233: expected 1 fields, saw 12\\nSkipping line 234: expected 1 fields, saw 12\\nSkipping line 235: expected 1 fields, saw 12\\nSkipping line 236: expected 1 fields, saw 12\\nSkipping line 237: expected 1 fields, saw 12\\nSkipping line 238: expected 1 fields, saw 12\\nSkipping line 239: expected 1 fields, saw 12\\nSkipping line 240: expected 1 fields, saw 12\\nSkipping line 241: expected 1 fields, saw 12\\nSkipping line 242: expected 1 fields, saw 12\\nSkipping line 243: expected 1 fields, saw 12\\nSkipping line 244: expected 1 fields, saw 12\\nSkipping line 245: expected 1 fields, saw 12\\nSkipping line 246: expected 1 fields, saw 12\\nSkipping line 247: expected 1 fields, saw 12\\nSkipping line 248: expected 1 fields, saw 12\\nSkipping line 249: expected 1 fields, saw 12\\nSkipping line 250: expected 1 fields, saw 12\\nSkipping line 251: expected 1 fields, saw 12\\nSkipping line 252: expected 1 fields, saw 12\\nSkipping line 253: expected 1 fields, saw 12\\nSkipping line 254: expected 1 fields, saw 12\\nSkipping line 255: expected 1 fields, saw 12\\nSkipping line 256: expected 1 fields, saw 12\\nSkipping line 257: expected 1 fields, saw 12\\nSkipping line 258: expected 1 fields, saw 12\\nSkipping line 259: expected 1 fields, saw 12\\nSkipping line 260: expected 1 fields, saw 12\\nSkipping line 261: expected 1 fields, saw 12\\nSkipping line 262: expected 1 fields, saw 12\\nSkipping line 263: expected 1 fields, saw 12\\nSkipping line 264: expected 1 fields, saw 12\\nSkipping line 265: expected 1 fields, saw 12\\nSkipping line 266: expected 1 fields, saw 12\\nSkipping line 267: expected 1 fields, saw 12\\nSkipping line 268: expected 1 fields, saw 12\\nSkipping line 269: expected 1 fields, saw 12\\nSkipping line 270: expected 1 fields, saw 12\\nSkipping line 271: expected 1 fields, saw 12\\nSkipping line 272: expected 1 fields, saw 12\\nSkipping line 273: expected 1 fields, saw 12\\nSkipping line 274: expected 1 fields, saw 12\\nSkipping line 275: expected 1 fields, saw 12\\nSkipping line 276: expected 1 fields, saw 12\\nSkipping line 277: expected 1 fields, saw 12\\nSkipping line 278: expected 1 fields, saw 12\\nSkipping line 279: expected 1 fields, saw 12\\nSkipping line 280: expected 1 fields, saw 12\\nSkipping line 281: expected 1 fields, saw 12\\nSkipping line 282: expected 1 fields, saw 12\\nSkipping line 283: expected 1 fields, saw 12\\nSkipping line 284: expected 1 fields, saw 12\\nSkipping line 285: expected 1 fields, saw 12\\nSkipping line 286: expected 1 fields, saw 12\\nSkipping line 287: expected 1 fields, saw 12\\nSkipping line 288: expected 1 fields, saw 12\\nSkipping line 289: expected 1 fields, saw 12\\nSkipping line 290: expected 1 fields, saw 12\\nSkipping line 291: expected 1 fields, saw 12\\nSkipping line 292: expected 1 fields, saw 12\\nSkipping line 293: expected 1 fields, saw 12\\nSkipping line 294: expected 1 fields, saw 12\\nSkipping line 295: expected 1 fields, saw 12\\nSkipping line 296: expected 1 fields, saw 12\\nSkipping line 297: expected 1 fields, saw 12\\nSkipping line 298: expected 1 fields, saw 12\\nSkipping line 299: expected 1 fields, saw 12\\nSkipping line 300: expected 1 fields, saw 12\\nSkipping line 301: expected 1 fields, saw 12\\nSkipping line 302: expected 1 fields, saw 12\\nSkipping line 303: expected 1 fields, saw 12\\nSkipping line 304: expected 1 fields, saw 12\\nSkipping line 305: expected 1 fields, saw 12\\nSkipping line 306: expected 1 fields, saw 12\\nSkipping line 307: expected 1 fields, saw 12\\nSkipping line 308: expected 1 fields, saw 12\\nSkipping line 309: expected 1 fields, saw 12\\nSkipping line 310: expected 1 fields, saw 12\\nSkipping line 311: expected 1 fields, saw 12\\nSkipping line 312: expected 1 fields, saw 12\\nSkipping line 313: expected 1 fields, saw 12\\nSkipping line 314: expected 1 fields, saw 12\\nSkipping line 315: expected 1 fields, saw 12\\nSkipping line 316: expected 1 fields, saw 12\\nSkipping line 317: expected 1 fields, saw 12\\nSkipping line 318: expected 1 fields, saw 12\\nSkipping line 319: expected 1 fields, saw 12\\nSkipping line 320: expected 1 fields, saw 12\\nSkipping line 321: expected 1 fields, saw 12\\nSkipping line 322: expected 1 fields, saw 12\\nSkipping line 323: expected 1 fields, saw 12\\nSkipping line 324: expected 1 fields, saw 12\\nSkipping line 325: expected 1 fields, saw 12\\nSkipping line 326: expected 1 fields, saw 12\\nSkipping line 327: expected 1 fields, saw 12\\nSkipping line 328: expected 1 fields, saw 12\\nSkipping line 329: expected 1 fields, saw 12\\nSkipping line 330: expected 1 fields, saw 12\\nSkipping line 331: expected 1 fields, saw 12\\nSkipping line 332: expected 1 fields, saw 12\\nSkipping line 333: expected 1 fields, saw 12\\nSkipping line 334: expected 1 fields, saw 12\\nSkipping line 335: expected 1 fields, saw 12\\nSkipping line 336: expected 1 fields, saw 12\\nSkipping line 337: expected 1 fields, saw 12\\nSkipping line 338: expected 1 fields, saw 12\\nSkipping line 339: expected 1 fields, saw 12\\nSkipping line 340: expected 1 fields, saw 12\\nSkipping line 341: expected 1 fields, saw 12\\nSkipping line 342: expected 1 fields, saw 12\\nSkipping line 343: expected 1 fields, saw 12\\nSkipping line 344: expected 1 fields, saw 12\\nSkipping line 345: expected 1 fields, saw 12\\nSkipping line 346: expected 1 fields, saw 12\\nSkipping line 347: expected 1 fields, saw 12\\nSkipping line 348: expected 1 fields, saw 12\\nSkipping line 349: expected 1 fields, saw 12\\nSkipping line 350: expected 1 fields, saw 12\\nSkipping line 351: expected 1 fields, saw 12\\nSkipping line 352: expected 1 fields, saw 12\\nSkipping line 353: expected 1 fields, saw 12\\nSkipping line 354: expected 1 fields, saw 12\\nSkipping line 355: expected 1 fields, saw 12\\nSkipping line 356: expected 1 fields, saw 12\\nSkipping line 357: expected 1 fields, saw 12\\nSkipping line 358: expected 1 fields, saw 12\\nSkipping line 359: expected 1 fields, saw 12\\nSkipping line 360: expected 1 fields, saw 12\\nSkipping line 361: expected 1 fields, saw 12\\nSkipping line 362: expected 1 fields, saw 12\\nSkipping line 363: expected 1 fields, saw 12\\nSkipping line 364: expected 1 fields, saw 12\\nSkipping line 365: expected 1 fields, saw 12\\nSkipping line 366: expected 1 fields, saw 12\\nSkipping line 367: expected 1 fields, saw 12\\nSkipping line 368: expected 1 fields, saw 12\\nSkipping line 369: expected 1 fields, saw 12\\nSkipping line 370: expected 1 fields, saw 12\\nSkipping line 371: expected 1 fields, saw 12\\nSkipping line 372: expected 1 fields, saw 12\\nSkipping line 373: expected 1 fields, saw 12\\nSkipping line 374: expected 1 fields, saw 12\\nSkipping line 375: expected 1 fields, saw 12\\nSkipping line 376: expected 1 fields, saw 12\\nSkipping line 377: expected 1 fields, saw 12\\nSkipping line 378: expected 1 fields, saw 12\\nSkipping line 379: expected 1 fields, saw 12\\nSkipping line 380: expected 1 fields, saw 12\\nSkipping line 381: expected 1 fields, saw 12\\nSkipping line 382: expected 1 fields, saw 12\\nSkipping line 383: expected 1 fields, saw 12\\nSkipping line 384: expected 1 fields, saw 12\\nSkipping line 385: expected 1 fields, saw 12\\nSkipping line 386: expected 1 fields, saw 12\\nSkipping line 387: expected 1 fields, saw 12\\nSkipping line 388: expected 1 fields, saw 12\\nSkipping line 389: expected 1 fields, saw 12\\nSkipping line 390: expected 1 fields, saw 12\\nSkipping line 391: expected 1 fields, saw 12\\nSkipping line 392: expected 1 fields, saw 12\\nSkipping line 393: expected 1 fields, saw 12\\nSkipping line 394: expected 1 fields, saw 12\\nSkipping line 395: expected 1 fields, saw 12\\nSkipping line 396: expected 1 fields, saw 12\\nSkipping line 397: expected 1 fields, saw 12\\nSkipping line 398: expected 1 fields, saw 12\\nSkipping line 399: expected 1 fields, saw 12\\nSkipping line 400: expected 1 fields, saw 12\\nSkipping line 401: expected 1 fields, saw 12\\nSkipping line 402: expected 1 fields, saw 12\\nSkipping line 403: expected 1 fields, saw 12\\nSkipping line 404: expected 1 fields, saw 12\\nSkipping line 405: expected 1 fields, saw 12\\nSkipping line 406: expected 1 fields, saw 12\\nSkipping line 407: expected 1 fields, saw 12\\nSkipping line 408: expected 1 fields, saw 12\\nSkipping line 409: expected 1 fields, saw 12\\nSkipping line 410: expected 1 fields, saw 12\\nSkipping line 411: expected 1 fields, saw 12\\nSkipping line 412: expected 1 fields, saw 12\\nSkipping line 413: expected 1 fields, saw 12\\nSkipping line 414: expected 1 fields, saw 12\\nSkipping line 415: expected 1 fields, saw 12\\nSkipping line 416: expected 1 fields, saw 12\\nSkipping line 417: expected 1 fields, saw 12\\nSkipping line 418: expected 1 fields, saw 12\\nSkipping line 419: expected 1 fields, saw 12\\nSkipping line 420: expected 1 fields, saw 12\\nSkipping line 421: expected 1 fields, saw 12\\nSkipping line 422: expected 1 fields, saw 12\\nSkipping line 423: expected 1 fields, saw 12\\nSkipping line 424: expected 1 fields, saw 12\\nSkipping line 425: expected 1 fields, saw 12\\nSkipping line 426: expected 1 fields, saw 12\\nSkipping line 427: expected 1 fields, saw 12\\nSkipping line 428: expected 1 fields, saw 12\\nSkipping line 429: expected 1 fields, saw 12\\nSkipping line 430: expected 1 fields, saw 12\\nSkipping line 431: expected 1 fields, saw 12\\nSkipping line 432: expected 1 fields, saw 12\\nSkipping line 433: expected 1 fields, saw 12\\nSkipping line 434: expected 1 fields, saw 12\\nSkipping line 435: expected 1 fields, saw 12\\nSkipping line 436: expected 1 fields, saw 12\\nSkipping line 437: expected 1 fields, saw 12\\nSkipping line 438: expected 1 fields, saw 12\\nSkipping line 439: expected 1 fields, saw 12\\nSkipping line 440: expected 1 fields, saw 12\\nSkipping line 441: expected 1 fields, saw 12\\nSkipping line 442: expected 1 fields, saw 12\\nSkipping line 443: expected 1 fields, saw 12\\nSkipping line 444: expected 1 fields, saw 12\\nSkipping line 445: expected 1 fields, saw 12\\nSkipping line 446: expected 1 fields, saw 12\\nSkipping line 447: expected 1 fields, saw 12\\nSkipping line 448: expected 1 fields, saw 12\\nSkipping line 449: expected 1 fields, saw 12\\nSkipping line 450: expected 1 fields, saw 12\\nSkipping line 451: expected 1 fields, saw 12\\nSkipping line 452: expected 1 fields, saw 12\\nSkipping line 453: expected 1 fields, saw 12\\nSkipping line 454: expected 1 fields, saw 12\\nSkipping line 455: expected 1 fields, saw 12\\nSkipping line 456: expected 1 fields, saw 12\\n'\n"
     ]
    }
   ],
   "source": [
    "base_dir = 'D:'+os.sep+'Dados'+os.sep+'OneDrive'+os.sep+'Doutorado'+os.sep\n",
    "ds_files = base_dir + 'Datasets' + os.sep + 'Magellan Data Repository' + os.sep +'Magellan' + os.sep\n",
    "out_file = base_dir + 'workspace'+os.sep+'tl_pprl2'+os.sep+'datasets'+os.sep+'restaurants'+os.sep\n",
    "\n",
    "inputZip = 'books4.zip'\n",
    "data = 'labeled_data'\n",
    "\n",
    "\n",
    "zip_file = 'processed_amazon-barnesnobel.zip'\n",
    "\n",
    "df = read(ds_files+inputZip,data,skip_coments=True)"
   ]
  },
  {
   "cell_type": "code",
   "execution_count": 202,
   "metadata": {},
   "outputs": [
    {
     "data": {
      "text/plain": [
       "Index(['_id', 'ltable.ID', 'rtable.ID', 'ltable.Title', 'ltable.Author',\n",
       "       'ltable.ISBN_13', 'ltable.Publisher', 'rtable.Title', 'rtable.Author',\n",
       "       'rtable.ISBN_13', 'rtable.Publisher', 'gold'],\n",
       "      dtype='object')"
      ]
     },
     "execution_count": 202,
     "metadata": {},
     "output_type": "execute_result"
    }
   ],
   "source": [
    "df.columns"
   ]
  },
  {
   "cell_type": "code",
   "execution_count": 203,
   "metadata": {},
   "outputs": [],
   "source": [
    "# gabarito\n",
    "gs = df[df.gold==1].iloc[:,[1,2]]\n",
    "\n",
    "colunas_1 =  [ 'id', 'Title', 'Author', 'ISBN_13', 'Publisher' ]\n",
    "\n",
    "colunas_2 =  colunas_1\n",
    "\n",
    "n_atibutos = len(colunas_1) -1\n",
    "\n",
    "inicio_atributos_ds1 = 3\n",
    "fim_atributos_ds1 = inicio_atributos_ds1 + n_atibutos\n",
    "\n",
    "\n",
    "atts = [1] + list(range(inicio_atributos_ds1,fim_atributos_ds1))\n",
    "ds1 = df.iloc[:,atts]\n",
    "\n",
    "n_atibutos = len(colunas_2) -1\n",
    "atts = [2] + list(range(fim_atributos_ds1,fim_atributos_ds1+n_atibutos))\n",
    "ds2 = df.iloc[:,atts]\n",
    "\n",
    "ds1.columns = colunas_1\n",
    "ds2.columns = colunas_2"
   ]
  },
  {
   "cell_type": "code",
   "execution_count": 204,
   "metadata": {},
   "outputs": [],
   "source": [
    "ds1 = retornar_ds_limpo(ds1)\n",
    "ds2 = retornar_ds_limpo(ds2)"
   ]
  },
  {
   "cell_type": "markdown",
   "metadata": {},
   "source": [
    "#### Estatisticas"
   ]
  },
  {
   "cell_type": "code",
   "execution_count": 205,
   "metadata": {},
   "outputs": [
    {
     "data": {
      "text/html": [
       "<div>\n",
       "<style scoped>\n",
       "    .dataframe tbody tr th:only-of-type {\n",
       "        vertical-align: middle;\n",
       "    }\n",
       "\n",
       "    .dataframe tbody tr th {\n",
       "        vertical-align: top;\n",
       "    }\n",
       "\n",
       "    .dataframe thead th {\n",
       "        text-align: right;\n",
       "    }\n",
       "</style>\n",
       "<table border=\"1\" class=\"dataframe\">\n",
       "  <thead>\n",
       "    <tr style=\"text-align: right;\">\n",
       "      <th></th>\n",
       "      <th>Title</th>\n",
       "      <th>Author</th>\n",
       "      <th>ISBN_13</th>\n",
       "      <th>Publisher</th>\n",
       "      <th>ds</th>\n",
       "    </tr>\n",
       "    <tr>\n",
       "      <th>metrica</th>\n",
       "      <th></th>\n",
       "      <th></th>\n",
       "      <th></th>\n",
       "      <th></th>\n",
       "      <th></th>\n",
       "    </tr>\n",
       "  </thead>\n",
       "  <tbody>\n",
       "    <tr>\n",
       "      <th>count</th>\n",
       "      <td>342</td>\n",
       "      <td>341</td>\n",
       "      <td>143</td>\n",
       "      <td>162</td>\n",
       "      <td>fodors</td>\n",
       "    </tr>\n",
       "    <tr>\n",
       "      <th>unique</th>\n",
       "      <td>334</td>\n",
       "      <td>237</td>\n",
       "      <td>143</td>\n",
       "      <td>48</td>\n",
       "      <td>fodors</td>\n",
       "    </tr>\n",
       "    <tr>\n",
       "      <th>top</th>\n",
       "      <td>iPod: The Missing Manual</td>\n",
       "      <td>David D. Busch</td>\n",
       "      <td>978-0596005818</td>\n",
       "      <td>O'Reilly Media</td>\n",
       "      <td>fodors</td>\n",
       "    </tr>\n",
       "    <tr>\n",
       "      <th>freq</th>\n",
       "      <td>3</td>\n",
       "      <td>13</td>\n",
       "      <td>1</td>\n",
       "      <td>21</td>\n",
       "      <td>fodors</td>\n",
       "    </tr>\n",
       "    <tr>\n",
       "      <th>nan</th>\n",
       "      <td>0</td>\n",
       "      <td>0</td>\n",
       "      <td>1</td>\n",
       "      <td>199</td>\n",
       "      <td>fodors</td>\n",
       "    </tr>\n",
       "  </tbody>\n",
       "</table>\n",
       "</div>"
      ],
      "text/plain": [
       "                            Title          Author         ISBN_13  \\\n",
       "metrica                                                             \n",
       "count                         342             341             143   \n",
       "unique                        334             237             143   \n",
       "top      iPod: The Missing Manual  David D. Busch  978-0596005818   \n",
       "freq                            3              13               1   \n",
       "nan                             0               0               1   \n",
       "\n",
       "              Publisher      ds  \n",
       "metrica                          \n",
       "count               162  fodors  \n",
       "unique               48  fodors  \n",
       "top      O'Reilly Media  fodors  \n",
       "freq                 21  fodors  \n",
       "nan                 199  fodors  "
      ]
     },
     "metadata": {},
     "output_type": "display_data"
    },
    {
     "data": {
      "text/html": [
       "<div>\n",
       "<style scoped>\n",
       "    .dataframe tbody tr th:only-of-type {\n",
       "        vertical-align: middle;\n",
       "    }\n",
       "\n",
       "    .dataframe tbody tr th {\n",
       "        vertical-align: top;\n",
       "    }\n",
       "\n",
       "    .dataframe thead th {\n",
       "        text-align: right;\n",
       "    }\n",
       "</style>\n",
       "<table border=\"1\" class=\"dataframe\">\n",
       "  <thead>\n",
       "    <tr style=\"text-align: right;\">\n",
       "      <th></th>\n",
       "      <th>Title</th>\n",
       "      <th>Author</th>\n",
       "      <th>ISBN_13</th>\n",
       "      <th>Publisher</th>\n",
       "      <th>ds</th>\n",
       "    </tr>\n",
       "    <tr>\n",
       "      <th>metrica</th>\n",
       "      <th></th>\n",
       "      <th></th>\n",
       "      <th></th>\n",
       "      <th></th>\n",
       "      <th></th>\n",
       "    </tr>\n",
       "  </thead>\n",
       "  <tbody>\n",
       "    <tr>\n",
       "      <th>count</th>\n",
       "      <td>244</td>\n",
       "      <td>240</td>\n",
       "      <td>199</td>\n",
       "      <td>199</td>\n",
       "      <td>zagats</td>\n",
       "    </tr>\n",
       "    <tr>\n",
       "      <th>unique</th>\n",
       "      <td>242</td>\n",
       "      <td>157</td>\n",
       "      <td>199</td>\n",
       "      <td>47</td>\n",
       "      <td>zagats</td>\n",
       "    </tr>\n",
       "    <tr>\n",
       "      <th>top</th>\n",
       "      <td>C</td>\n",
       "      <td>David D. Busch</td>\n",
       "      <td>978-1285843285</td>\n",
       "      <td>Cengage Learning</td>\n",
       "      <td>zagats</td>\n",
       "    </tr>\n",
       "    <tr>\n",
       "      <th>freq</th>\n",
       "      <td>2</td>\n",
       "      <td>23</td>\n",
       "      <td>1</td>\n",
       "      <td>38</td>\n",
       "      <td>zagats</td>\n",
       "    </tr>\n",
       "    <tr>\n",
       "      <th>nan</th>\n",
       "      <td>0</td>\n",
       "      <td>144</td>\n",
       "      <td>148</td>\n",
       "      <td>189</td>\n",
       "      <td>zagats</td>\n",
       "    </tr>\n",
       "  </tbody>\n",
       "</table>\n",
       "</div>"
      ],
      "text/plain": [
       "        Title          Author         ISBN_13         Publisher      ds\n",
       "metrica                                                                \n",
       "count     244             240             199               199  zagats\n",
       "unique    242             157             199                47  zagats\n",
       "top         C  David D. Busch  978-1285843285  Cengage Learning  zagats\n",
       "freq        2              23               1                38  zagats\n",
       "nan         0             144             148               189  zagats"
      ]
     },
     "metadata": {},
     "output_type": "display_data"
    }
   ],
   "source": [
    "nan_list1 = ds1.isnull().sum()\n",
    "nan_list2 = ds2.isnull().sum()\n",
    "\n",
    "estatiscas1 = ds1.describe(include='object')\n",
    "estatiscas2 = ds2.describe(include='object')\n",
    "\n",
    "sdf1 = gerar_estatiscas_df(nan_list1,estatiscas1)\n",
    "sdf1['ds'] = ds1_name\n",
    "\n",
    "sdf2 = gerar_estatiscas_df(nan_list2,estatiscas2)\n",
    "sdf2['ds'] = ds2_name\n",
    "\n",
    "estatiscas = pd.concat([sdf1,sdf2])#.to_csv(ds_files+'stats_abt-buy.csv',sep=';')\n",
    "\n",
    "display(sdf1)\n",
    "display(sdf2)"
   ]
  },
  {
   "cell_type": "markdown",
   "metadata": {},
   "source": [
    "#### Limpando os dados\n",
    "\n",
    "Sem valores nulos"
   ]
  },
  {
   "cell_type": "code",
   "execution_count": 206,
   "metadata": {},
   "outputs": [
    {
     "data": {
      "text/html": [
       "<div>\n",
       "<style scoped>\n",
       "    .dataframe tbody tr th:only-of-type {\n",
       "        vertical-align: middle;\n",
       "    }\n",
       "\n",
       "    .dataframe tbody tr th {\n",
       "        vertical-align: top;\n",
       "    }\n",
       "\n",
       "    .dataframe thead th {\n",
       "        text-align: right;\n",
       "    }\n",
       "</style>\n",
       "<table border=\"1\" class=\"dataframe\">\n",
       "  <thead>\n",
       "    <tr style=\"text-align: right;\">\n",
       "      <th></th>\n",
       "      <th>id1</th>\n",
       "      <th>id2</th>\n",
       "    </tr>\n",
       "  </thead>\n",
       "  <tbody>\n",
       "  </tbody>\n",
       "</table>\n",
       "</div>"
      ],
      "text/plain": [
       "Empty DataFrame\n",
       "Columns: [id1, id2]\n",
       "Index: []"
      ]
     },
     "metadata": {},
     "output_type": "display_data"
    },
    {
     "data": {
      "text/html": [
       "<div>\n",
       "<style scoped>\n",
       "    .dataframe tbody tr th:only-of-type {\n",
       "        vertical-align: middle;\n",
       "    }\n",
       "\n",
       "    .dataframe tbody tr th {\n",
       "        vertical-align: top;\n",
       "    }\n",
       "\n",
       "    .dataframe thead th {\n",
       "        text-align: right;\n",
       "    }\n",
       "</style>\n",
       "<table border=\"1\" class=\"dataframe\">\n",
       "  <thead>\n",
       "    <tr style=\"text-align: right;\">\n",
       "      <th></th>\n",
       "      <th>id1</th>\n",
       "      <th>id2</th>\n",
       "    </tr>\n",
       "  </thead>\n",
       "  <tbody>\n",
       "    <tr>\n",
       "      <th>140</th>\n",
       "      <td>1996</td>\n",
       "      <td>1008</td>\n",
       "    </tr>\n",
       "    <tr>\n",
       "      <th>148</th>\n",
       "      <td>2058</td>\n",
       "      <td>1008</td>\n",
       "    </tr>\n",
       "  </tbody>\n",
       "</table>\n",
       "</div>"
      ],
      "text/plain": [
       "      id1   id2\n",
       "140  1996  1008\n",
       "148  2058  1008"
      ]
     },
     "metadata": {},
     "output_type": "display_data"
    }
   ],
   "source": [
    "gs.columns = ['id1','id2']\n",
    "gs.id1 = gs.id1.astype(str)\n",
    "gs.id2 = gs.id2.astype(str)\n",
    "da, db = verify_gg4cc(gs)\n",
    "display(da.head(5))\n",
    "display(db.head(5))"
   ]
  },
  {
   "cell_type": "code",
   "execution_count": 207,
   "metadata": {},
   "outputs": [
    {
     "name": "stdout",
     "output_type": "stream",
     "text": [
      "['2058']\n",
      "[]\n"
     ]
    }
   ],
   "source": [
    "remover_da_lista2 = []\n",
    "remover_da_lista1 = []\n",
    "\n",
    "for i in da.id1.unique():\n",
    "    remover_da_lista2.append(da[da.id1 == i].id2.values[-1])\n",
    "\n",
    "for i in db.id2.unique():\n",
    "    remover_da_lista1.append(db[db.id2 == i].id1.values[-1])\n",
    "\n",
    "print(remover_da_lista1)\n",
    "print(remover_da_lista2)"
   ]
  },
  {
   "cell_type": "code",
   "execution_count": 208,
   "metadata": {},
   "outputs": [],
   "source": [
    "cds1 = ds1[~ds1.id.isin(remover_da_lista1)]\n",
    "cds2 = ds2[~ds2.id.isin(remover_da_lista2)]\n",
    "\n",
    "gs = gs[~gs.id1.isin(remover_da_lista1)]\n",
    "gs = gs[~gs.id2.isin(remover_da_lista2)]\n",
    "\n",
    "ds1 = cds1\n",
    "ds2 = cds2"
   ]
  },
  {
   "cell_type": "code",
   "execution_count": 209,
   "metadata": {},
   "outputs": [
    {
     "data": {
      "text/html": [
       "<div>\n",
       "<style scoped>\n",
       "    .dataframe tbody tr th:only-of-type {\n",
       "        vertical-align: middle;\n",
       "    }\n",
       "\n",
       "    .dataframe tbody tr th {\n",
       "        vertical-align: top;\n",
       "    }\n",
       "\n",
       "    .dataframe thead th {\n",
       "        text-align: right;\n",
       "    }\n",
       "</style>\n",
       "<table border=\"1\" class=\"dataframe\">\n",
       "  <thead>\n",
       "    <tr style=\"text-align: right;\">\n",
       "      <th></th>\n",
       "      <th>id1</th>\n",
       "      <th>id2</th>\n",
       "    </tr>\n",
       "  </thead>\n",
       "  <tbody>\n",
       "  </tbody>\n",
       "</table>\n",
       "</div>"
      ],
      "text/plain": [
       "Empty DataFrame\n",
       "Columns: [id1, id2]\n",
       "Index: []"
      ]
     },
     "metadata": {},
     "output_type": "display_data"
    },
    {
     "data": {
      "text/html": [
       "<div>\n",
       "<style scoped>\n",
       "    .dataframe tbody tr th:only-of-type {\n",
       "        vertical-align: middle;\n",
       "    }\n",
       "\n",
       "    .dataframe tbody tr th {\n",
       "        vertical-align: top;\n",
       "    }\n",
       "\n",
       "    .dataframe thead th {\n",
       "        text-align: right;\n",
       "    }\n",
       "</style>\n",
       "<table border=\"1\" class=\"dataframe\">\n",
       "  <thead>\n",
       "    <tr style=\"text-align: right;\">\n",
       "      <th></th>\n",
       "      <th>id1</th>\n",
       "      <th>id2</th>\n",
       "    </tr>\n",
       "  </thead>\n",
       "  <tbody>\n",
       "  </tbody>\n",
       "</table>\n",
       "</div>"
      ],
      "text/plain": [
       "Empty DataFrame\n",
       "Columns: [id1, id2]\n",
       "Index: []"
      ]
     },
     "metadata": {},
     "output_type": "display_data"
    }
   ],
   "source": [
    "da, db = verify_gg4cc(gs)\n",
    "display(da.head(5))\n",
    "display(db.head(5))"
   ]
  },
  {
   "cell_type": "markdown",
   "metadata": {},
   "source": [
    "Dataset clean-clean"
   ]
  },
  {
   "cell_type": "code",
   "execution_count": 210,
   "metadata": {
    "run_control": {
     "marked": true
    }
   },
   "outputs": [],
   "source": [
    "save_zip(ds1,ds2,gs,estatiscas,out_file + zip_file)"
   ]
  },
  {
   "cell_type": "markdown",
   "metadata": {},
   "source": [
    "## Movies"
   ]
  },
  {
   "cell_type": "markdown",
   "metadata": {},
   "source": [
    "### Movies1"
   ]
  },
  {
   "cell_type": "code",
   "execution_count": 238,
   "metadata": {},
   "outputs": [
    {
     "name": "stderr",
     "output_type": "stream",
     "text": [
      "b'Skipping line 6: expected 1 fields, saw 10\\nSkipping line 7: expected 1 fields, saw 10\\nSkipping line 8: expected 1 fields, saw 10\\nSkipping line 9: expected 1 fields, saw 10\\nSkipping line 10: expected 1 fields, saw 10\\nSkipping line 11: expected 1 fields, saw 10\\nSkipping line 12: expected 1 fields, saw 10\\nSkipping line 13: expected 1 fields, saw 10\\nSkipping line 14: expected 1 fields, saw 10\\nSkipping line 15: expected 1 fields, saw 10\\nSkipping line 16: expected 1 fields, saw 10\\nSkipping line 17: expected 1 fields, saw 10\\nSkipping line 18: expected 1 fields, saw 10\\nSkipping line 19: expected 1 fields, saw 10\\nSkipping line 20: expected 1 fields, saw 10\\nSkipping line 21: expected 1 fields, saw 10\\nSkipping line 22: expected 1 fields, saw 10\\nSkipping line 23: expected 1 fields, saw 10\\nSkipping line 24: expected 1 fields, saw 10\\nSkipping line 25: expected 1 fields, saw 10\\nSkipping line 26: expected 1 fields, saw 10\\nSkipping line 27: expected 1 fields, saw 10\\nSkipping line 28: expected 1 fields, saw 10\\nSkipping line 29: expected 1 fields, saw 10\\nSkipping line 30: expected 1 fields, saw 10\\nSkipping line 31: expected 1 fields, saw 10\\nSkipping line 32: expected 1 fields, saw 10\\nSkipping line 33: expected 1 fields, saw 10\\nSkipping line 34: expected 1 fields, saw 10\\nSkipping line 35: expected 1 fields, saw 10\\nSkipping line 36: expected 1 fields, saw 10\\nSkipping line 37: expected 1 fields, saw 10\\nSkipping line 38: expected 1 fields, saw 10\\nSkipping line 39: expected 1 fields, saw 10\\nSkipping line 40: expected 1 fields, saw 10\\nSkipping line 41: expected 1 fields, saw 10\\nSkipping line 42: expected 1 fields, saw 10\\nSkipping line 43: expected 1 fields, saw 10\\nSkipping line 44: expected 1 fields, saw 10\\nSkipping line 45: expected 1 fields, saw 10\\nSkipping line 46: expected 1 fields, saw 10\\nSkipping line 47: expected 1 fields, saw 10\\nSkipping line 48: expected 1 fields, saw 10\\nSkipping line 49: expected 1 fields, saw 10\\nSkipping line 50: expected 1 fields, saw 10\\nSkipping line 51: expected 1 fields, saw 10\\nSkipping line 52: expected 1 fields, saw 10\\nSkipping line 53: expected 1 fields, saw 10\\nSkipping line 54: expected 1 fields, saw 10\\nSkipping line 55: expected 1 fields, saw 10\\nSkipping line 56: expected 1 fields, saw 10\\nSkipping line 57: expected 1 fields, saw 10\\nSkipping line 58: expected 1 fields, saw 10\\nSkipping line 59: expected 1 fields, saw 10\\nSkipping line 60: expected 1 fields, saw 10\\nSkipping line 61: expected 1 fields, saw 10\\nSkipping line 62: expected 1 fields, saw 10\\nSkipping line 63: expected 1 fields, saw 10\\nSkipping line 64: expected 1 fields, saw 10\\nSkipping line 65: expected 1 fields, saw 10\\nSkipping line 66: expected 1 fields, saw 10\\nSkipping line 67: expected 1 fields, saw 10\\nSkipping line 68: expected 1 fields, saw 10\\nSkipping line 69: expected 1 fields, saw 10\\nSkipping line 70: expected 1 fields, saw 10\\nSkipping line 71: expected 1 fields, saw 10\\nSkipping line 72: expected 1 fields, saw 10\\nSkipping line 73: expected 1 fields, saw 10\\nSkipping line 74: expected 1 fields, saw 10\\nSkipping line 75: expected 1 fields, saw 10\\nSkipping line 76: expected 1 fields, saw 10\\nSkipping line 77: expected 1 fields, saw 10\\nSkipping line 78: expected 1 fields, saw 10\\nSkipping line 79: expected 1 fields, saw 10\\nSkipping line 80: expected 1 fields, saw 10\\nSkipping line 81: expected 1 fields, saw 10\\nSkipping line 82: expected 1 fields, saw 10\\nSkipping line 83: expected 1 fields, saw 10\\nSkipping line 84: expected 1 fields, saw 10\\nSkipping line 85: expected 1 fields, saw 10\\nSkipping line 86: expected 1 fields, saw 10\\nSkipping line 87: expected 1 fields, saw 10\\nSkipping line 88: expected 1 fields, saw 10\\nSkipping line 89: expected 1 fields, saw 10\\nSkipping line 90: expected 1 fields, saw 10\\nSkipping line 91: expected 1 fields, saw 10\\nSkipping line 92: expected 1 fields, saw 10\\nSkipping line 93: expected 1 fields, saw 10\\nSkipping line 94: expected 1 fields, saw 10\\nSkipping line 95: expected 1 fields, saw 10\\nSkipping line 96: expected 1 fields, saw 10\\nSkipping line 97: expected 1 fields, saw 10\\nSkipping line 98: expected 1 fields, saw 10\\nSkipping line 99: expected 1 fields, saw 10\\nSkipping line 100: expected 1 fields, saw 10\\nSkipping line 101: expected 1 fields, saw 10\\nSkipping line 102: expected 1 fields, saw 10\\nSkipping line 103: expected 1 fields, saw 10\\nSkipping line 104: expected 1 fields, saw 10\\nSkipping line 105: expected 1 fields, saw 10\\nSkipping line 106: expected 1 fields, saw 10\\nSkipping line 107: expected 1 fields, saw 10\\nSkipping line 108: expected 1 fields, saw 10\\nSkipping line 109: expected 1 fields, saw 10\\nSkipping line 110: expected 1 fields, saw 10\\nSkipping line 111: expected 1 fields, saw 10\\nSkipping line 112: expected 1 fields, saw 10\\nSkipping line 113: expected 1 fields, saw 10\\nSkipping line 114: expected 1 fields, saw 10\\nSkipping line 115: expected 1 fields, saw 10\\nSkipping line 116: expected 1 fields, saw 10\\nSkipping line 117: expected 1 fields, saw 10\\nSkipping line 118: expected 1 fields, saw 10\\nSkipping line 119: expected 1 fields, saw 10\\nSkipping line 120: expected 1 fields, saw 10\\nSkipping line 121: expected 1 fields, saw 10\\nSkipping line 122: expected 1 fields, saw 10\\nSkipping line 123: expected 1 fields, saw 10\\nSkipping line 124: expected 1 fields, saw 10\\nSkipping line 125: expected 1 fields, saw 10\\nSkipping line 126: expected 1 fields, saw 10\\nSkipping line 127: expected 1 fields, saw 10\\nSkipping line 128: expected 1 fields, saw 10\\nSkipping line 129: expected 1 fields, saw 10\\nSkipping line 130: expected 1 fields, saw 10\\nSkipping line 131: expected 1 fields, saw 10\\nSkipping line 132: expected 1 fields, saw 10\\nSkipping line 133: expected 1 fields, saw 10\\nSkipping line 134: expected 1 fields, saw 10\\nSkipping line 135: expected 1 fields, saw 10\\nSkipping line 136: expected 1 fields, saw 10\\nSkipping line 137: expected 1 fields, saw 10\\nSkipping line 138: expected 1 fields, saw 10\\nSkipping line 139: expected 1 fields, saw 10\\nSkipping line 140: expected 1 fields, saw 10\\nSkipping line 141: expected 1 fields, saw 10\\nSkipping line 142: expected 1 fields, saw 10\\nSkipping line 143: expected 1 fields, saw 10\\nSkipping line 144: expected 1 fields, saw 10\\nSkipping line 145: expected 1 fields, saw 10\\nSkipping line 146: expected 1 fields, saw 10\\nSkipping line 147: expected 1 fields, saw 10\\nSkipping line 148: expected 1 fields, saw 10\\nSkipping line 149: expected 1 fields, saw 10\\nSkipping line 150: expected 1 fields, saw 10\\nSkipping line 151: expected 1 fields, saw 10\\nSkipping line 152: expected 1 fields, saw 10\\nSkipping line 153: expected 1 fields, saw 10\\nSkipping line 154: expected 1 fields, saw 10\\nSkipping line 155: expected 1 fields, saw 10\\nSkipping line 156: expected 1 fields, saw 10\\nSkipping line 157: expected 1 fields, saw 10\\nSkipping line 158: expected 1 fields, saw 10\\nSkipping line 159: expected 1 fields, saw 10\\nSkipping line 160: expected 1 fields, saw 10\\nSkipping line 161: expected 1 fields, saw 10\\nSkipping line 162: expected 1 fields, saw 10\\nSkipping line 163: expected 1 fields, saw 10\\nSkipping line 164: expected 1 fields, saw 10\\nSkipping line 165: expected 1 fields, saw 10\\nSkipping line 166: expected 1 fields, saw 10\\nSkipping line 167: expected 1 fields, saw 10\\nSkipping line 168: expected 1 fields, saw 10\\nSkipping line 169: expected 1 fields, saw 10\\nSkipping line 170: expected 1 fields, saw 10\\nSkipping line 171: expected 1 fields, saw 10\\nSkipping line 172: expected 1 fields, saw 10\\nSkipping line 173: expected 1 fields, saw 10\\nSkipping line 174: expected 1 fields, saw 10\\nSkipping line 175: expected 1 fields, saw 10\\nSkipping line 176: expected 1 fields, saw 10\\nSkipping line 177: expected 1 fields, saw 10\\nSkipping line 178: expected 1 fields, saw 10\\nSkipping line 179: expected 1 fields, saw 10\\nSkipping line 180: expected 1 fields, saw 10\\nSkipping line 181: expected 1 fields, saw 10\\nSkipping line 182: expected 1 fields, saw 10\\nSkipping line 183: expected 1 fields, saw 10\\nSkipping line 184: expected 1 fields, saw 10\\nSkipping line 185: expected 1 fields, saw 10\\nSkipping line 186: expected 1 fields, saw 10\\nSkipping line 187: expected 1 fields, saw 10\\nSkipping line 188: expected 1 fields, saw 10\\nSkipping line 189: expected 1 fields, saw 10\\nSkipping line 190: expected 1 fields, saw 10\\nSkipping line 191: expected 1 fields, saw 10\\nSkipping line 192: expected 1 fields, saw 10\\nSkipping line 193: expected 1 fields, saw 10\\nSkipping line 194: expected 1 fields, saw 10\\nSkipping line 195: expected 1 fields, saw 10\\nSkipping line 196: expected 1 fields, saw 10\\nSkipping line 197: expected 1 fields, saw 10\\nSkipping line 198: expected 1 fields, saw 10\\nSkipping line 199: expected 1 fields, saw 10\\nSkipping line 200: expected 1 fields, saw 10\\nSkipping line 201: expected 1 fields, saw 10\\nSkipping line 202: expected 1 fields, saw 10\\nSkipping line 203: expected 1 fields, saw 10\\nSkipping line 204: expected 1 fields, saw 10\\nSkipping line 205: expected 1 fields, saw 10\\nSkipping line 206: expected 1 fields, saw 10\\nSkipping line 207: expected 1 fields, saw 10\\nSkipping line 208: expected 1 fields, saw 10\\nSkipping line 209: expected 1 fields, saw 10\\nSkipping line 210: expected 1 fields, saw 10\\nSkipping line 211: expected 1 fields, saw 10\\nSkipping line 212: expected 1 fields, saw 10\\nSkipping line 213: expected 1 fields, saw 10\\nSkipping line 214: expected 1 fields, saw 10\\nSkipping line 215: expected 1 fields, saw 10\\nSkipping line 216: expected 1 fields, saw 10\\nSkipping line 217: expected 1 fields, saw 10\\nSkipping line 218: expected 1 fields, saw 10\\nSkipping line 219: expected 1 fields, saw 10\\nSkipping line 220: expected 1 fields, saw 10\\nSkipping line 221: expected 1 fields, saw 10\\nSkipping line 222: expected 1 fields, saw 10\\nSkipping line 223: expected 1 fields, saw 10\\nSkipping line 224: expected 1 fields, saw 10\\nSkipping line 225: expected 1 fields, saw 10\\nSkipping line 226: expected 1 fields, saw 10\\nSkipping line 227: expected 1 fields, saw 10\\nSkipping line 228: expected 1 fields, saw 10\\nSkipping line 229: expected 1 fields, saw 10\\nSkipping line 230: expected 1 fields, saw 10\\nSkipping line 231: expected 1 fields, saw 10\\nSkipping line 232: expected 1 fields, saw 10\\nSkipping line 233: expected 1 fields, saw 10\\nSkipping line 234: expected 1 fields, saw 10\\nSkipping line 235: expected 1 fields, saw 10\\nSkipping line 236: expected 1 fields, saw 10\\nSkipping line 237: expected 1 fields, saw 10\\nSkipping line 238: expected 1 fields, saw 10\\nSkipping line 239: expected 1 fields, saw 10\\nSkipping line 240: expected 1 fields, saw 10\\nSkipping line 241: expected 1 fields, saw 10\\nSkipping line 242: expected 1 fields, saw 10\\nSkipping line 243: expected 1 fields, saw 10\\nSkipping line 244: expected 1 fields, saw 10\\nSkipping line 245: expected 1 fields, saw 10\\nSkipping line 246: expected 1 fields, saw 10\\nSkipping line 247: expected 1 fields, saw 10\\nSkipping line 248: expected 1 fields, saw 10\\nSkipping line 249: expected 1 fields, saw 10\\nSkipping line 250: expected 1 fields, saw 10\\nSkipping line 251: expected 1 fields, saw 10\\nSkipping line 252: expected 1 fields, saw 10\\nSkipping line 253: expected 1 fields, saw 10\\nSkipping line 254: expected 1 fields, saw 10\\nSkipping line 255: expected 1 fields, saw 10\\nSkipping line 256: expected 1 fields, saw 10\\nSkipping line 257: expected 1 fields, saw 10\\nSkipping line 258: expected 1 fields, saw 10\\nSkipping line 259: expected 1 fields, saw 10\\nSkipping line 260: expected 1 fields, saw 10\\nSkipping line 261: expected 1 fields, saw 10\\nSkipping line 262: expected 1 fields, saw 10\\nSkipping line 263: expected 1 fields, saw 10\\nSkipping line 264: expected 1 fields, saw 10\\nSkipping line 265: expected 1 fields, saw 10\\nSkipping line 266: expected 1 fields, saw 10\\nSkipping line 267: expected 1 fields, saw 10\\nSkipping line 268: expected 1 fields, saw 10\\nSkipping line 269: expected 1 fields, saw 10\\nSkipping line 270: expected 1 fields, saw 10\\nSkipping line 271: expected 1 fields, saw 10\\nSkipping line 272: expected 1 fields, saw 10\\nSkipping line 273: expected 1 fields, saw 10\\nSkipping line 274: expected 1 fields, saw 10\\nSkipping line 275: expected 1 fields, saw 10\\nSkipping line 276: expected 1 fields, saw 10\\nSkipping line 277: expected 1 fields, saw 10\\nSkipping line 278: expected 1 fields, saw 10\\nSkipping line 279: expected 1 fields, saw 10\\nSkipping line 280: expected 1 fields, saw 10\\nSkipping line 281: expected 1 fields, saw 10\\nSkipping line 282: expected 1 fields, saw 10\\nSkipping line 283: expected 1 fields, saw 10\\nSkipping line 284: expected 1 fields, saw 10\\nSkipping line 285: expected 1 fields, saw 10\\nSkipping line 286: expected 1 fields, saw 10\\nSkipping line 287: expected 1 fields, saw 10\\nSkipping line 288: expected 1 fields, saw 10\\nSkipping line 289: expected 1 fields, saw 10\\nSkipping line 290: expected 1 fields, saw 10\\nSkipping line 291: expected 1 fields, saw 10\\nSkipping line 292: expected 1 fields, saw 10\\nSkipping line 293: expected 1 fields, saw 10\\nSkipping line 294: expected 1 fields, saw 10\\nSkipping line 295: expected 1 fields, saw 10\\nSkipping line 296: expected 1 fields, saw 10\\nSkipping line 297: expected 1 fields, saw 10\\nSkipping line 298: expected 1 fields, saw 10\\nSkipping line 299: expected 1 fields, saw 10\\nSkipping line 300: expected 1 fields, saw 10\\nSkipping line 301: expected 1 fields, saw 10\\nSkipping line 302: expected 1 fields, saw 10\\nSkipping line 303: expected 1 fields, saw 10\\nSkipping line 304: expected 1 fields, saw 10\\nSkipping line 305: expected 1 fields, saw 10\\nSkipping line 306: expected 1 fields, saw 10\\nSkipping line 307: expected 1 fields, saw 10\\nSkipping line 308: expected 1 fields, saw 10\\nSkipping line 309: expected 1 fields, saw 10\\nSkipping line 310: expected 1 fields, saw 10\\nSkipping line 311: expected 1 fields, saw 10\\nSkipping line 312: expected 1 fields, saw 10\\nSkipping line 313: expected 1 fields, saw 10\\nSkipping line 314: expected 1 fields, saw 10\\nSkipping line 315: expected 1 fields, saw 10\\nSkipping line 316: expected 1 fields, saw 10\\nSkipping line 317: expected 1 fields, saw 10\\nSkipping line 318: expected 1 fields, saw 10\\nSkipping line 319: expected 1 fields, saw 10\\nSkipping line 320: expected 1 fields, saw 10\\nSkipping line 321: expected 1 fields, saw 10\\nSkipping line 322: expected 1 fields, saw 10\\nSkipping line 323: expected 1 fields, saw 10\\nSkipping line 324: expected 1 fields, saw 10\\nSkipping line 325: expected 1 fields, saw 10\\nSkipping line 326: expected 1 fields, saw 10\\nSkipping line 327: expected 1 fields, saw 10\\nSkipping line 328: expected 1 fields, saw 10\\nSkipping line 329: expected 1 fields, saw 10\\nSkipping line 330: expected 1 fields, saw 10\\nSkipping line 331: expected 1 fields, saw 10\\nSkipping line 332: expected 1 fields, saw 10\\nSkipping line 333: expected 1 fields, saw 10\\nSkipping line 334: expected 1 fields, saw 10\\nSkipping line 335: expected 1 fields, saw 10\\nSkipping line 336: expected 1 fields, saw 10\\nSkipping line 337: expected 1 fields, saw 10\\nSkipping line 338: expected 1 fields, saw 10\\nSkipping line 339: expected 1 fields, saw 10\\nSkipping line 340: expected 1 fields, saw 10\\nSkipping line 341: expected 1 fields, saw 10\\nSkipping line 342: expected 1 fields, saw 10\\nSkipping line 343: expected 1 fields, saw 10\\nSkipping line 344: expected 1 fields, saw 10\\nSkipping line 345: expected 1 fields, saw 10\\nSkipping line 346: expected 1 fields, saw 10\\nSkipping line 347: expected 1 fields, saw 10\\nSkipping line 348: expected 1 fields, saw 10\\nSkipping line 349: expected 1 fields, saw 10\\nSkipping line 350: expected 1 fields, saw 10\\nSkipping line 351: expected 1 fields, saw 10\\nSkipping line 352: expected 1 fields, saw 10\\nSkipping line 353: expected 1 fields, saw 10\\nSkipping line 354: expected 1 fields, saw 10\\nSkipping line 355: expected 1 fields, saw 10\\nSkipping line 356: expected 1 fields, saw 10\\nSkipping line 357: expected 1 fields, saw 10\\nSkipping line 358: expected 1 fields, saw 10\\nSkipping line 359: expected 1 fields, saw 10\\nSkipping line 360: expected 1 fields, saw 10\\nSkipping line 361: expected 1 fields, saw 10\\nSkipping line 362: expected 1 fields, saw 10\\nSkipping line 363: expected 1 fields, saw 10\\nSkipping line 364: expected 1 fields, saw 10\\nSkipping line 365: expected 1 fields, saw 10\\nSkipping line 366: expected 1 fields, saw 10\\nSkipping line 367: expected 1 fields, saw 10\\nSkipping line 368: expected 1 fields, saw 10\\nSkipping line 369: expected 1 fields, saw 10\\nSkipping line 370: expected 1 fields, saw 10\\nSkipping line 371: expected 1 fields, saw 10\\nSkipping line 372: expected 1 fields, saw 10\\nSkipping line 373: expected 1 fields, saw 10\\nSkipping line 374: expected 1 fields, saw 10\\nSkipping line 375: expected 1 fields, saw 10\\nSkipping line 376: expected 1 fields, saw 10\\nSkipping line 377: expected 1 fields, saw 10\\nSkipping line 378: expected 1 fields, saw 10\\nSkipping line 379: expected 1 fields, saw 10\\nSkipping line 380: expected 1 fields, saw 10\\nSkipping line 381: expected 1 fields, saw 10\\nSkipping line 382: expected 1 fields, saw 10\\nSkipping line 383: expected 1 fields, saw 10\\nSkipping line 384: expected 1 fields, saw 10\\nSkipping line 385: expected 1 fields, saw 10\\nSkipping line 386: expected 1 fields, saw 10\\nSkipping line 387: expected 1 fields, saw 10\\nSkipping line 388: expected 1 fields, saw 10\\nSkipping line 389: expected 1 fields, saw 10\\nSkipping line 390: expected 1 fields, saw 10\\nSkipping line 391: expected 1 fields, saw 10\\nSkipping line 392: expected 1 fields, saw 10\\nSkipping line 393: expected 1 fields, saw 10\\nSkipping line 394: expected 1 fields, saw 10\\nSkipping line 395: expected 1 fields, saw 10\\nSkipping line 396: expected 1 fields, saw 10\\nSkipping line 397: expected 1 fields, saw 10\\nSkipping line 398: expected 1 fields, saw 10\\nSkipping line 399: expected 1 fields, saw 10\\nSkipping line 400: expected 1 fields, saw 10\\nSkipping line 401: expected 1 fields, saw 10\\nSkipping line 402: expected 1 fields, saw 10\\nSkipping line 403: expected 1 fields, saw 10\\nSkipping line 404: expected 1 fields, saw 10\\nSkipping line 405: expected 1 fields, saw 10\\nSkipping line 406: expected 1 fields, saw 10\\nSkipping line 407: expected 1 fields, saw 10\\nSkipping line 408: expected 1 fields, saw 10\\nSkipping line 409: expected 1 fields, saw 10\\nSkipping line 410: expected 1 fields, saw 10\\nSkipping line 411: expected 1 fields, saw 10\\nSkipping line 412: expected 1 fields, saw 10\\nSkipping line 413: expected 1 fields, saw 10\\nSkipping line 414: expected 1 fields, saw 10\\nSkipping line 415: expected 1 fields, saw 10\\nSkipping line 416: expected 1 fields, saw 10\\nSkipping line 417: expected 1 fields, saw 10\\nSkipping line 418: expected 1 fields, saw 10\\nSkipping line 419: expected 1 fields, saw 10\\nSkipping line 420: expected 1 fields, saw 10\\nSkipping line 421: expected 1 fields, saw 10\\nSkipping line 422: expected 1 fields, saw 10\\nSkipping line 423: expected 1 fields, saw 10\\nSkipping line 424: expected 1 fields, saw 10\\nSkipping line 425: expected 1 fields, saw 10\\nSkipping line 426: expected 1 fields, saw 10\\nSkipping line 427: expected 1 fields, saw 10\\nSkipping line 428: expected 1 fields, saw 10\\nSkipping line 429: expected 1 fields, saw 10\\nSkipping line 430: expected 1 fields, saw 10\\nSkipping line 431: expected 1 fields, saw 10\\nSkipping line 432: expected 1 fields, saw 10\\nSkipping line 433: expected 1 fields, saw 10\\nSkipping line 434: expected 1 fields, saw 10\\nSkipping line 435: expected 1 fields, saw 10\\nSkipping line 436: expected 1 fields, saw 10\\nSkipping line 437: expected 1 fields, saw 10\\nSkipping line 438: expected 1 fields, saw 10\\nSkipping line 439: expected 1 fields, saw 10\\nSkipping line 440: expected 1 fields, saw 10\\nSkipping line 441: expected 1 fields, saw 10\\nSkipping line 442: expected 1 fields, saw 10\\nSkipping line 443: expected 1 fields, saw 10\\nSkipping line 444: expected 1 fields, saw 10\\nSkipping line 445: expected 1 fields, saw 10\\nSkipping line 446: expected 1 fields, saw 10\\nSkipping line 447: expected 1 fields, saw 10\\nSkipping line 448: expected 1 fields, saw 10\\nSkipping line 449: expected 1 fields, saw 10\\nSkipping line 450: expected 1 fields, saw 10\\nSkipping line 451: expected 1 fields, saw 10\\nSkipping line 452: expected 1 fields, saw 10\\nSkipping line 453: expected 1 fields, saw 10\\nSkipping line 454: expected 1 fields, saw 10\\nSkipping line 455: expected 1 fields, saw 10\\nSkipping line 456: expected 1 fields, saw 10\\nSkipping line 457: expected 1 fields, saw 10\\nSkipping line 458: expected 1 fields, saw 10\\nSkipping line 459: expected 1 fields, saw 10\\nSkipping line 460: expected 1 fields, saw 10\\nSkipping line 461: expected 1 fields, saw 10\\nSkipping line 462: expected 1 fields, saw 10\\nSkipping line 463: expected 1 fields, saw 10\\nSkipping line 464: expected 1 fields, saw 10\\nSkipping line 465: expected 1 fields, saw 10\\nSkipping line 466: expected 1 fields, saw 10\\nSkipping line 467: expected 1 fields, saw 10\\nSkipping line 468: expected 1 fields, saw 10\\nSkipping line 469: expected 1 fields, saw 10\\nSkipping line 470: expected 1 fields, saw 10\\nSkipping line 471: expected 1 fields, saw 10\\nSkipping line 472: expected 1 fields, saw 10\\nSkipping line 473: expected 1 fields, saw 10\\nSkipping line 474: expected 1 fields, saw 10\\nSkipping line 475: expected 1 fields, saw 10\\nSkipping line 476: expected 1 fields, saw 10\\nSkipping line 477: expected 1 fields, saw 10\\nSkipping line 478: expected 1 fields, saw 10\\nSkipping line 479: expected 1 fields, saw 10\\nSkipping line 480: expected 1 fields, saw 10\\nSkipping line 481: expected 1 fields, saw 10\\nSkipping line 482: expected 1 fields, saw 10\\nSkipping line 483: expected 1 fields, saw 10\\nSkipping line 484: expected 1 fields, saw 10\\nSkipping line 485: expected 1 fields, saw 10\\nSkipping line 486: expected 1 fields, saw 10\\nSkipping line 487: expected 1 fields, saw 10\\nSkipping line 488: expected 1 fields, saw 10\\nSkipping line 489: expected 1 fields, saw 10\\nSkipping line 490: expected 1 fields, saw 10\\nSkipping line 491: expected 1 fields, saw 10\\nSkipping line 492: expected 1 fields, saw 10\\nSkipping line 493: expected 1 fields, saw 10\\nSkipping line 494: expected 1 fields, saw 10\\nSkipping line 495: expected 1 fields, saw 10\\nSkipping line 496: expected 1 fields, saw 10\\nSkipping line 497: expected 1 fields, saw 10\\nSkipping line 498: expected 1 fields, saw 10\\nSkipping line 499: expected 1 fields, saw 10\\nSkipping line 500: expected 1 fields, saw 10\\nSkipping line 501: expected 1 fields, saw 10\\nSkipping line 502: expected 1 fields, saw 10\\nSkipping line 503: expected 1 fields, saw 10\\nSkipping line 504: expected 1 fields, saw 10\\nSkipping line 505: expected 1 fields, saw 10\\nSkipping line 506: expected 1 fields, saw 10\\nSkipping line 507: expected 1 fields, saw 10\\nSkipping line 508: expected 1 fields, saw 10\\nSkipping line 509: expected 1 fields, saw 10\\nSkipping line 510: expected 1 fields, saw 10\\nSkipping line 511: expected 1 fields, saw 10\\nSkipping line 512: expected 1 fields, saw 10\\nSkipping line 513: expected 1 fields, saw 10\\nSkipping line 514: expected 1 fields, saw 10\\nSkipping line 515: expected 1 fields, saw 10\\nSkipping line 516: expected 1 fields, saw 10\\nSkipping line 517: expected 1 fields, saw 10\\nSkipping line 518: expected 1 fields, saw 10\\nSkipping line 519: expected 1 fields, saw 10\\nSkipping line 520: expected 1 fields, saw 10\\nSkipping line 521: expected 1 fields, saw 10\\nSkipping line 522: expected 1 fields, saw 10\\nSkipping line 523: expected 1 fields, saw 10\\nSkipping line 524: expected 1 fields, saw 10\\nSkipping line 525: expected 1 fields, saw 10\\nSkipping line 526: expected 1 fields, saw 10\\nSkipping line 527: expected 1 fields, saw 10\\nSkipping line 528: expected 1 fields, saw 10\\nSkipping line 529: expected 1 fields, saw 10\\nSkipping line 530: expected 1 fields, saw 10\\nSkipping line 531: expected 1 fields, saw 10\\nSkipping line 532: expected 1 fields, saw 10\\nSkipping line 533: expected 1 fields, saw 10\\nSkipping line 534: expected 1 fields, saw 10\\nSkipping line 535: expected 1 fields, saw 10\\nSkipping line 536: expected 1 fields, saw 10\\nSkipping line 537: expected 1 fields, saw 10\\nSkipping line 538: expected 1 fields, saw 10\\nSkipping line 539: expected 1 fields, saw 10\\nSkipping line 540: expected 1 fields, saw 10\\nSkipping line 541: expected 1 fields, saw 10\\nSkipping line 542: expected 1 fields, saw 10\\nSkipping line 543: expected 1 fields, saw 10\\nSkipping line 544: expected 1 fields, saw 10\\nSkipping line 545: expected 1 fields, saw 10\\nSkipping line 546: expected 1 fields, saw 10\\nSkipping line 547: expected 1 fields, saw 10\\nSkipping line 548: expected 1 fields, saw 10\\nSkipping line 549: expected 1 fields, saw 10\\nSkipping line 550: expected 1 fields, saw 10\\nSkipping line 551: expected 1 fields, saw 10\\nSkipping line 552: expected 1 fields, saw 10\\nSkipping line 553: expected 1 fields, saw 10\\nSkipping line 554: expected 1 fields, saw 10\\nSkipping line 555: expected 1 fields, saw 10\\nSkipping line 556: expected 1 fields, saw 10\\nSkipping line 557: expected 1 fields, saw 10\\nSkipping line 558: expected 1 fields, saw 10\\nSkipping line 559: expected 1 fields, saw 10\\nSkipping line 560: expected 1 fields, saw 10\\nSkipping line 561: expected 1 fields, saw 10\\nSkipping line 562: expected 1 fields, saw 10\\nSkipping line 563: expected 1 fields, saw 10\\nSkipping line 564: expected 1 fields, saw 10\\nSkipping line 565: expected 1 fields, saw 10\\nSkipping line 566: expected 1 fields, saw 10\\nSkipping line 567: expected 1 fields, saw 10\\nSkipping line 568: expected 1 fields, saw 10\\nSkipping line 569: expected 1 fields, saw 10\\nSkipping line 570: expected 1 fields, saw 10\\nSkipping line 571: expected 1 fields, saw 10\\nSkipping line 572: expected 1 fields, saw 10\\nSkipping line 573: expected 1 fields, saw 10\\nSkipping line 574: expected 1 fields, saw 10\\nSkipping line 575: expected 1 fields, saw 10\\nSkipping line 576: expected 1 fields, saw 10\\nSkipping line 577: expected 1 fields, saw 10\\nSkipping line 578: expected 1 fields, saw 10\\nSkipping line 579: expected 1 fields, saw 10\\nSkipping line 580: expected 1 fields, saw 10\\nSkipping line 581: expected 1 fields, saw 10\\nSkipping line 582: expected 1 fields, saw 10\\nSkipping line 583: expected 1 fields, saw 10\\nSkipping line 584: expected 1 fields, saw 10\\nSkipping line 585: expected 1 fields, saw 10\\nSkipping line 586: expected 1 fields, saw 10\\nSkipping line 587: expected 1 fields, saw 10\\nSkipping line 588: expected 1 fields, saw 10\\nSkipping line 589: expected 1 fields, saw 10\\nSkipping line 590: expected 1 fields, saw 10\\nSkipping line 591: expected 1 fields, saw 10\\nSkipping line 592: expected 1 fields, saw 10\\nSkipping line 593: expected 1 fields, saw 10\\nSkipping line 594: expected 1 fields, saw 10\\nSkipping line 595: expected 1 fields, saw 10\\nSkipping line 596: expected 1 fields, saw 10\\nSkipping line 597: expected 1 fields, saw 10\\nSkipping line 598: expected 1 fields, saw 10\\nSkipping line 599: expected 1 fields, saw 10\\nSkipping line 600: expected 1 fields, saw 10\\nSkipping line 601: expected 1 fields, saw 10\\nSkipping line 602: expected 1 fields, saw 10\\nSkipping line 603: expected 1 fields, saw 10\\nSkipping line 604: expected 1 fields, saw 10\\nSkipping line 605: expected 1 fields, saw 10\\nSkipping line 606: expected 1 fields, saw 10\\n'\n"
     ]
    }
   ],
   "source": [
    "base_dir = 'D:'+os.sep+'Dados'+os.sep+'OneDrive'+os.sep+'Doutorado'+os.sep\n",
    "ds_files = base_dir + 'Datasets' + os.sep + 'Magellan Data Repository' + os.sep +'Magellan' + os.sep\n",
    "out_file = base_dir + 'workspace'+os.sep+'tl_pprl2'+os.sep+'datasets'+os.sep+'movies'+os.sep\n",
    "\n",
    "inputZip = 'movies1.zip'\n",
    "data = 'labeled_data'\n",
    "\n",
    "\n",
    "zip_file = 'processed_imdb-rottentomatos.zip'\n",
    "\n",
    "df = read(ds_files+inputZip,data,skip_coments=True)"
   ]
  },
  {
   "cell_type": "code",
   "execution_count": 239,
   "metadata": {},
   "outputs": [
    {
     "data": {
      "text/plain": [
       "Index(['_id', 'ltable.Id', 'rtable.Id', 'ltable.Director', 'ltable.Name',\n",
       "       'ltable.Year', 'rtable.Director', 'rtable.Name', 'rtable.YearRange',\n",
       "       'gold'],\n",
       "      dtype='object')"
      ]
     },
     "execution_count": 239,
     "metadata": {},
     "output_type": "execute_result"
    }
   ],
   "source": [
    "df.columns"
   ]
  },
  {
   "cell_type": "code",
   "execution_count": 240,
   "metadata": {},
   "outputs": [],
   "source": [
    "# gabarito\n",
    "gs = df[df.gold==1].iloc[:,[1,2]]\n",
    "\n",
    "colunas_1 =  [ 'id', 'Director', 'Name', 'Year' ]\n",
    "\n",
    "colunas_2 =  colunas_1\n",
    "\n",
    "n_atibutos = len(colunas_1) -1\n",
    "\n",
    "inicio_atributos_ds1 = 3\n",
    "fim_atributos_ds1 = inicio_atributos_ds1 + n_atibutos\n",
    "\n",
    "\n",
    "atts = [1] + list(range(inicio_atributos_ds1,fim_atributos_ds1))\n",
    "ds1 = df.iloc[:,atts]\n",
    "\n",
    "n_atibutos = len(colunas_2) -1\n",
    "atts = [2] + list(range(fim_atributos_ds1,fim_atributos_ds1+n_atibutos))\n",
    "ds2 = df.iloc[:,atts]\n",
    "\n",
    "ds1.columns = colunas_1\n",
    "ds2.columns = colunas_2"
   ]
  },
  {
   "cell_type": "code",
   "execution_count": 241,
   "metadata": {},
   "outputs": [
    {
     "name": "stderr",
     "output_type": "stream",
     "text": [
      "D:\\Programas\\Anaconda3\\envs\\utils\\lib\\site-packages\\pandas\\core\\generic.py:5303: SettingWithCopyWarning: \n",
      "A value is trying to be set on a copy of a slice from a DataFrame.\n",
      "Try using .loc[row_indexer,col_indexer] = value instead\n",
      "\n",
      "See the caveats in the documentation: https://pandas.pydata.org/pandas-docs/stable/user_guide/indexing.html#returning-a-view-versus-a-copy\n",
      "  self[name] = value\n"
     ]
    }
   ],
   "source": [
    "ds1.Year = ds1.Year.astype(str)\n",
    "ds2.Year = ds2.Year.astype(str)"
   ]
  },
  {
   "cell_type": "code",
   "execution_count": 242,
   "metadata": {},
   "outputs": [],
   "source": [
    "ds1 = retornar_ds_limpo(ds1)\n",
    "ds2 = retornar_ds_limpo(ds2)"
   ]
  },
  {
   "cell_type": "markdown",
   "metadata": {},
   "source": [
    "#### Estatisticas"
   ]
  },
  {
   "cell_type": "code",
   "execution_count": 243,
   "metadata": {},
   "outputs": [
    {
     "data": {
      "text/html": [
       "<div>\n",
       "<style scoped>\n",
       "    .dataframe tbody tr th:only-of-type {\n",
       "        vertical-align: middle;\n",
       "    }\n",
       "\n",
       "    .dataframe tbody tr th {\n",
       "        vertical-align: top;\n",
       "    }\n",
       "\n",
       "    .dataframe thead th {\n",
       "        text-align: right;\n",
       "    }\n",
       "</style>\n",
       "<table border=\"1\" class=\"dataframe\">\n",
       "  <thead>\n",
       "    <tr style=\"text-align: right;\">\n",
       "      <th></th>\n",
       "      <th>id</th>\n",
       "      <th>Director</th>\n",
       "      <th>Name</th>\n",
       "      <th>Year</th>\n",
       "      <th>ds</th>\n",
       "    </tr>\n",
       "    <tr>\n",
       "      <th>metrica</th>\n",
       "      <th></th>\n",
       "      <th></th>\n",
       "      <th></th>\n",
       "      <th></th>\n",
       "      <th></th>\n",
       "    </tr>\n",
       "  </thead>\n",
       "  <tbody>\n",
       "    <tr>\n",
       "      <th>count</th>\n",
       "      <td>558</td>\n",
       "      <td>558</td>\n",
       "      <td>558</td>\n",
       "      <td>558</td>\n",
       "      <td>fodors</td>\n",
       "    </tr>\n",
       "    <tr>\n",
       "      <th>unique</th>\n",
       "      <td>558</td>\n",
       "      <td>476</td>\n",
       "      <td>554</td>\n",
       "      <td>78</td>\n",
       "      <td>fodors</td>\n",
       "    </tr>\n",
       "    <tr>\n",
       "      <th>top</th>\n",
       "      <td>tt0046269</td>\n",
       "      <td>Roger Corman</td>\n",
       "      <td>Beauty and the Beast</td>\n",
       "      <td>2013</td>\n",
       "      <td>fodors</td>\n",
       "    </tr>\n",
       "    <tr>\n",
       "      <th>freq</th>\n",
       "      <td>1</td>\n",
       "      <td>5</td>\n",
       "      <td>2</td>\n",
       "      <td>42</td>\n",
       "      <td>fodors</td>\n",
       "    </tr>\n",
       "    <tr>\n",
       "      <th>nan</th>\n",
       "      <td>0</td>\n",
       "      <td>0</td>\n",
       "      <td>0</td>\n",
       "      <td>0</td>\n",
       "      <td>fodors</td>\n",
       "    </tr>\n",
       "  </tbody>\n",
       "</table>\n",
       "</div>"
      ],
      "text/plain": [
       "                id      Director                  Name  Year      ds\n",
       "metrica                                                             \n",
       "count          558           558                   558   558  fodors\n",
       "unique         558           476                   554    78  fodors\n",
       "top      tt0046269  Roger Corman  Beauty and the Beast  2013  fodors\n",
       "freq             1             5                     2    42  fodors\n",
       "nan              0             0                     0     0  fodors"
      ]
     },
     "metadata": {},
     "output_type": "display_data"
    },
    {
     "data": {
      "text/html": [
       "<div>\n",
       "<style scoped>\n",
       "    .dataframe tbody tr th:only-of-type {\n",
       "        vertical-align: middle;\n",
       "    }\n",
       "\n",
       "    .dataframe tbody tr th {\n",
       "        vertical-align: top;\n",
       "    }\n",
       "\n",
       "    .dataframe thead th {\n",
       "        text-align: right;\n",
       "    }\n",
       "</style>\n",
       "<table border=\"1\" class=\"dataframe\">\n",
       "  <thead>\n",
       "    <tr style=\"text-align: right;\">\n",
       "      <th></th>\n",
       "      <th>id</th>\n",
       "      <th>Director</th>\n",
       "      <th>Name</th>\n",
       "      <th>Year</th>\n",
       "      <th>ds</th>\n",
       "    </tr>\n",
       "    <tr>\n",
       "      <th>metrica</th>\n",
       "      <th></th>\n",
       "      <th></th>\n",
       "      <th></th>\n",
       "      <th></th>\n",
       "      <th></th>\n",
       "    </tr>\n",
       "  </thead>\n",
       "  <tbody>\n",
       "    <tr>\n",
       "      <th>count</th>\n",
       "      <td>556</td>\n",
       "      <td>556</td>\n",
       "      <td>556</td>\n",
       "      <td>556</td>\n",
       "      <td>zagats</td>\n",
       "    </tr>\n",
       "    <tr>\n",
       "      <th>unique</th>\n",
       "      <td>556</td>\n",
       "      <td>481</td>\n",
       "      <td>549</td>\n",
       "      <td>76</td>\n",
       "      <td>zagats</td>\n",
       "    </tr>\n",
       "    <tr>\n",
       "      <th>top</th>\n",
       "      <td>racing_extinction</td>\n",
       "      <td>Roger Corman</td>\n",
       "      <td>The Hive</td>\n",
       "      <td>2014 2015 2016</td>\n",
       "      <td>zagats</td>\n",
       "    </tr>\n",
       "    <tr>\n",
       "      <th>freq</th>\n",
       "      <td>1</td>\n",
       "      <td>6</td>\n",
       "      <td>2</td>\n",
       "      <td>47</td>\n",
       "      <td>zagats</td>\n",
       "    </tr>\n",
       "    <tr>\n",
       "      <th>nan</th>\n",
       "      <td>0</td>\n",
       "      <td>0</td>\n",
       "      <td>0</td>\n",
       "      <td>0</td>\n",
       "      <td>zagats</td>\n",
       "    </tr>\n",
       "  </tbody>\n",
       "</table>\n",
       "</div>"
      ],
      "text/plain": [
       "                        id      Director      Name            Year      ds\n",
       "metrica                                                                   \n",
       "count                  556           556       556             556  zagats\n",
       "unique                 556           481       549              76  zagats\n",
       "top      racing_extinction  Roger Corman  The Hive  2014 2015 2016  zagats\n",
       "freq                     1             6         2              47  zagats\n",
       "nan                      0             0         0               0  zagats"
      ]
     },
     "metadata": {},
     "output_type": "display_data"
    }
   ],
   "source": [
    "nan_list1 = ds1.isnull().sum()\n",
    "nan_list2 = ds2.isnull().sum()\n",
    "\n",
    "estatiscas1 = ds1.describe(include='object')\n",
    "estatiscas2 = ds2.describe(include='object')\n",
    "\n",
    "sdf1 = gerar_estatiscas_df(nan_list1,estatiscas1)\n",
    "sdf1['ds'] = ds1_name\n",
    "\n",
    "sdf2 = gerar_estatiscas_df(nan_list2,estatiscas2)\n",
    "sdf2['ds'] = ds2_name\n",
    "\n",
    "estatiscas = pd.concat([sdf1,sdf2])#.to_csv(ds_files+'stats_abt-buy.csv',sep=';')\n",
    "\n",
    "display(sdf1)\n",
    "display(sdf2)"
   ]
  },
  {
   "cell_type": "markdown",
   "metadata": {},
   "source": [
    "#### Limpando os dados\n",
    "\n",
    "Sem valores nulos"
   ]
  },
  {
   "cell_type": "code",
   "execution_count": 244,
   "metadata": {},
   "outputs": [
    {
     "data": {
      "text/html": [
       "<div>\n",
       "<style scoped>\n",
       "    .dataframe tbody tr th:only-of-type {\n",
       "        vertical-align: middle;\n",
       "    }\n",
       "\n",
       "    .dataframe tbody tr th {\n",
       "        vertical-align: top;\n",
       "    }\n",
       "\n",
       "    .dataframe thead th {\n",
       "        text-align: right;\n",
       "    }\n",
       "</style>\n",
       "<table border=\"1\" class=\"dataframe\">\n",
       "  <thead>\n",
       "    <tr style=\"text-align: right;\">\n",
       "      <th></th>\n",
       "      <th>id1</th>\n",
       "      <th>id2</th>\n",
       "    </tr>\n",
       "  </thead>\n",
       "  <tbody>\n",
       "  </tbody>\n",
       "</table>\n",
       "</div>"
      ],
      "text/plain": [
       "Empty DataFrame\n",
       "Columns: [id1, id2]\n",
       "Index: []"
      ]
     },
     "metadata": {},
     "output_type": "display_data"
    },
    {
     "data": {
      "text/html": [
       "<div>\n",
       "<style scoped>\n",
       "    .dataframe tbody tr th:only-of-type {\n",
       "        vertical-align: middle;\n",
       "    }\n",
       "\n",
       "    .dataframe tbody tr th {\n",
       "        vertical-align: top;\n",
       "    }\n",
       "\n",
       "    .dataframe thead th {\n",
       "        text-align: right;\n",
       "    }\n",
       "</style>\n",
       "<table border=\"1\" class=\"dataframe\">\n",
       "  <thead>\n",
       "    <tr style=\"text-align: right;\">\n",
       "      <th></th>\n",
       "      <th>id1</th>\n",
       "      <th>id2</th>\n",
       "    </tr>\n",
       "  </thead>\n",
       "  <tbody>\n",
       "  </tbody>\n",
       "</table>\n",
       "</div>"
      ],
      "text/plain": [
       "Empty DataFrame\n",
       "Columns: [id1, id2]\n",
       "Index: []"
      ]
     },
     "metadata": {},
     "output_type": "display_data"
    }
   ],
   "source": [
    "gs.columns = ['id1','id2']\n",
    "gs.id1 = gs.id1.astype(str)\n",
    "gs.id2 = gs.id2.astype(str)\n",
    "da, db = verify_gg4cc(gs)\n",
    "display(da.head(5))\n",
    "display(db.head(5))"
   ]
  },
  {
   "cell_type": "code",
   "execution_count": 222,
   "metadata": {},
   "outputs": [
    {
     "name": "stdout",
     "output_type": "stream",
     "text": [
      "[]\n",
      "[]\n"
     ]
    }
   ],
   "source": [
    "remover_da_lista2 = []\n",
    "remover_da_lista1 = []\n",
    "\n",
    "for i in da.id1.unique():\n",
    "    remover_da_lista2.append(da[da.id1 == i].id2.values[-1])\n",
    "\n",
    "for i in db.id2.unique():\n",
    "    remover_da_lista1.append(db[db.id2 == i].id1.values[-1])\n",
    "\n",
    "print(remover_da_lista1)\n",
    "print(remover_da_lista2)"
   ]
  },
  {
   "cell_type": "code",
   "execution_count": 223,
   "metadata": {},
   "outputs": [],
   "source": [
    "cds1 = ds1[~ds1.id.isin(remover_da_lista1)]\n",
    "cds2 = ds2[~ds2.id.isin(remover_da_lista2)]\n",
    "\n",
    "gs = gs[~gs.id1.isin(remover_da_lista1)]\n",
    "gs = gs[~gs.id2.isin(remover_da_lista2)]\n",
    "\n",
    "ds1 = cds1\n",
    "ds2 = cds2"
   ]
  },
  {
   "cell_type": "code",
   "execution_count": 224,
   "metadata": {},
   "outputs": [
    {
     "data": {
      "text/html": [
       "<div>\n",
       "<style scoped>\n",
       "    .dataframe tbody tr th:only-of-type {\n",
       "        vertical-align: middle;\n",
       "    }\n",
       "\n",
       "    .dataframe tbody tr th {\n",
       "        vertical-align: top;\n",
       "    }\n",
       "\n",
       "    .dataframe thead th {\n",
       "        text-align: right;\n",
       "    }\n",
       "</style>\n",
       "<table border=\"1\" class=\"dataframe\">\n",
       "  <thead>\n",
       "    <tr style=\"text-align: right;\">\n",
       "      <th></th>\n",
       "      <th>id1</th>\n",
       "      <th>id2</th>\n",
       "    </tr>\n",
       "  </thead>\n",
       "  <tbody>\n",
       "  </tbody>\n",
       "</table>\n",
       "</div>"
      ],
      "text/plain": [
       "Empty DataFrame\n",
       "Columns: [id1, id2]\n",
       "Index: []"
      ]
     },
     "metadata": {},
     "output_type": "display_data"
    },
    {
     "data": {
      "text/html": [
       "<div>\n",
       "<style scoped>\n",
       "    .dataframe tbody tr th:only-of-type {\n",
       "        vertical-align: middle;\n",
       "    }\n",
       "\n",
       "    .dataframe tbody tr th {\n",
       "        vertical-align: top;\n",
       "    }\n",
       "\n",
       "    .dataframe thead th {\n",
       "        text-align: right;\n",
       "    }\n",
       "</style>\n",
       "<table border=\"1\" class=\"dataframe\">\n",
       "  <thead>\n",
       "    <tr style=\"text-align: right;\">\n",
       "      <th></th>\n",
       "      <th>id1</th>\n",
       "      <th>id2</th>\n",
       "    </tr>\n",
       "  </thead>\n",
       "  <tbody>\n",
       "  </tbody>\n",
       "</table>\n",
       "</div>"
      ],
      "text/plain": [
       "Empty DataFrame\n",
       "Columns: [id1, id2]\n",
       "Index: []"
      ]
     },
     "metadata": {},
     "output_type": "display_data"
    }
   ],
   "source": [
    "da, db = verify_gg4cc(gs)\n",
    "display(da.head(5))\n",
    "display(db.head(5))"
   ]
  },
  {
   "cell_type": "markdown",
   "metadata": {},
   "source": [
    "Dataset clean-clean"
   ]
  },
  {
   "cell_type": "code",
   "execution_count": 245,
   "metadata": {
    "run_control": {
     "marked": true
    }
   },
   "outputs": [],
   "source": [
    "save_zip(ds1,ds2,gs,estatiscas,out_file + zip_file)"
   ]
  },
  {
   "cell_type": "markdown",
   "metadata": {},
   "source": [
    "### Movies2"
   ]
  },
  {
   "cell_type": "code",
   "execution_count": 246,
   "metadata": {},
   "outputs": [
    {
     "name": "stderr",
     "output_type": "stream",
     "text": [
      "b'Skipping line 6: expected 1 fields, saw 8\\nSkipping line 7: expected 1 fields, saw 8\\nSkipping line 8: expected 1 fields, saw 8\\nSkipping line 9: expected 1 fields, saw 8\\nSkipping line 10: expected 1 fields, saw 8\\nSkipping line 11: expected 1 fields, saw 8\\nSkipping line 12: expected 1 fields, saw 8\\nSkipping line 13: expected 1 fields, saw 8\\nSkipping line 14: expected 1 fields, saw 8\\nSkipping line 15: expected 1 fields, saw 8\\nSkipping line 16: expected 1 fields, saw 8\\nSkipping line 17: expected 1 fields, saw 8\\nSkipping line 18: expected 1 fields, saw 8\\nSkipping line 19: expected 1 fields, saw 8\\nSkipping line 20: expected 1 fields, saw 8\\nSkipping line 21: expected 1 fields, saw 8\\nSkipping line 22: expected 1 fields, saw 8\\nSkipping line 23: expected 1 fields, saw 8\\nSkipping line 24: expected 1 fields, saw 8\\nSkipping line 25: expected 1 fields, saw 8\\nSkipping line 26: expected 1 fields, saw 8\\nSkipping line 27: expected 1 fields, saw 8\\nSkipping line 28: expected 1 fields, saw 8\\nSkipping line 29: expected 1 fields, saw 8\\nSkipping line 30: expected 1 fields, saw 8\\nSkipping line 31: expected 1 fields, saw 8\\nSkipping line 32: expected 1 fields, saw 8\\nSkipping line 33: expected 1 fields, saw 8\\nSkipping line 34: expected 1 fields, saw 8\\nSkipping line 35: expected 1 fields, saw 8\\nSkipping line 36: expected 1 fields, saw 8\\nSkipping line 37: expected 1 fields, saw 8\\nSkipping line 38: expected 1 fields, saw 8\\nSkipping line 39: expected 1 fields, saw 8\\nSkipping line 40: expected 1 fields, saw 8\\nSkipping line 41: expected 1 fields, saw 8\\nSkipping line 42: expected 1 fields, saw 8\\nSkipping line 43: expected 1 fields, saw 8\\nSkipping line 44: expected 1 fields, saw 8\\nSkipping line 45: expected 1 fields, saw 8\\nSkipping line 46: expected 1 fields, saw 8\\nSkipping line 47: expected 1 fields, saw 8\\nSkipping line 48: expected 1 fields, saw 8\\nSkipping line 49: expected 1 fields, saw 8\\nSkipping line 50: expected 1 fields, saw 8\\nSkipping line 51: expected 1 fields, saw 8\\nSkipping line 52: expected 1 fields, saw 8\\nSkipping line 53: expected 1 fields, saw 8\\nSkipping line 54: expected 1 fields, saw 8\\nSkipping line 55: expected 1 fields, saw 8\\nSkipping line 56: expected 1 fields, saw 8\\nSkipping line 57: expected 1 fields, saw 8\\nSkipping line 58: expected 1 fields, saw 8\\nSkipping line 59: expected 1 fields, saw 8\\nSkipping line 60: expected 1 fields, saw 8\\nSkipping line 61: expected 1 fields, saw 8\\nSkipping line 62: expected 1 fields, saw 8\\nSkipping line 63: expected 1 fields, saw 8\\nSkipping line 64: expected 1 fields, saw 8\\nSkipping line 65: expected 1 fields, saw 8\\nSkipping line 66: expected 1 fields, saw 8\\nSkipping line 67: expected 1 fields, saw 8\\nSkipping line 68: expected 1 fields, saw 8\\nSkipping line 69: expected 1 fields, saw 8\\nSkipping line 70: expected 1 fields, saw 8\\nSkipping line 71: expected 1 fields, saw 8\\nSkipping line 72: expected 1 fields, saw 8\\nSkipping line 73: expected 1 fields, saw 8\\nSkipping line 74: expected 1 fields, saw 8\\nSkipping line 75: expected 1 fields, saw 8\\nSkipping line 76: expected 1 fields, saw 8\\nSkipping line 77: expected 1 fields, saw 8\\nSkipping line 78: expected 1 fields, saw 8\\nSkipping line 79: expected 1 fields, saw 8\\nSkipping line 80: expected 1 fields, saw 8\\nSkipping line 81: expected 1 fields, saw 8\\nSkipping line 82: expected 1 fields, saw 8\\nSkipping line 83: expected 1 fields, saw 8\\nSkipping line 84: expected 1 fields, saw 8\\nSkipping line 85: expected 1 fields, saw 8\\nSkipping line 86: expected 1 fields, saw 8\\nSkipping line 87: expected 1 fields, saw 8\\nSkipping line 88: expected 1 fields, saw 8\\nSkipping line 89: expected 1 fields, saw 8\\nSkipping line 90: expected 1 fields, saw 8\\nSkipping line 91: expected 1 fields, saw 8\\nSkipping line 92: expected 1 fields, saw 8\\nSkipping line 93: expected 1 fields, saw 8\\nSkipping line 94: expected 1 fields, saw 8\\nSkipping line 95: expected 1 fields, saw 8\\nSkipping line 96: expected 1 fields, saw 8\\nSkipping line 97: expected 1 fields, saw 8\\nSkipping line 98: expected 1 fields, saw 8\\nSkipping line 99: expected 1 fields, saw 8\\nSkipping line 100: expected 1 fields, saw 8\\nSkipping line 101: expected 1 fields, saw 8\\nSkipping line 102: expected 1 fields, saw 8\\nSkipping line 103: expected 1 fields, saw 8\\nSkipping line 104: expected 1 fields, saw 8\\nSkipping line 105: expected 1 fields, saw 8\\nSkipping line 106: expected 1 fields, saw 8\\nSkipping line 107: expected 1 fields, saw 8\\nSkipping line 108: expected 1 fields, saw 8\\nSkipping line 109: expected 1 fields, saw 8\\nSkipping line 110: expected 1 fields, saw 8\\nSkipping line 111: expected 1 fields, saw 8\\nSkipping line 112: expected 1 fields, saw 8\\nSkipping line 113: expected 1 fields, saw 8\\nSkipping line 114: expected 1 fields, saw 8\\nSkipping line 115: expected 1 fields, saw 8\\nSkipping line 116: expected 1 fields, saw 8\\nSkipping line 117: expected 1 fields, saw 8\\nSkipping line 118: expected 1 fields, saw 8\\nSkipping line 119: expected 1 fields, saw 8\\nSkipping line 120: expected 1 fields, saw 8\\nSkipping line 121: expected 1 fields, saw 8\\nSkipping line 122: expected 1 fields, saw 8\\nSkipping line 123: expected 1 fields, saw 8\\nSkipping line 124: expected 1 fields, saw 8\\nSkipping line 125: expected 1 fields, saw 8\\nSkipping line 126: expected 1 fields, saw 8\\nSkipping line 127: expected 1 fields, saw 8\\nSkipping line 128: expected 1 fields, saw 8\\nSkipping line 129: expected 1 fields, saw 8\\nSkipping line 130: expected 1 fields, saw 8\\nSkipping line 131: expected 1 fields, saw 8\\nSkipping line 132: expected 1 fields, saw 8\\nSkipping line 133: expected 1 fields, saw 8\\nSkipping line 134: expected 1 fields, saw 8\\nSkipping line 135: expected 1 fields, saw 8\\nSkipping line 136: expected 1 fields, saw 8\\nSkipping line 137: expected 1 fields, saw 8\\nSkipping line 138: expected 1 fields, saw 8\\nSkipping line 139: expected 1 fields, saw 8\\nSkipping line 140: expected 1 fields, saw 8\\nSkipping line 141: expected 1 fields, saw 8\\nSkipping line 142: expected 1 fields, saw 8\\nSkipping line 143: expected 1 fields, saw 8\\nSkipping line 144: expected 1 fields, saw 8\\nSkipping line 145: expected 1 fields, saw 8\\nSkipping line 146: expected 1 fields, saw 8\\nSkipping line 147: expected 1 fields, saw 8\\nSkipping line 148: expected 1 fields, saw 8\\nSkipping line 149: expected 1 fields, saw 8\\nSkipping line 150: expected 1 fields, saw 8\\nSkipping line 151: expected 1 fields, saw 8\\nSkipping line 152: expected 1 fields, saw 8\\nSkipping line 153: expected 1 fields, saw 8\\nSkipping line 154: expected 1 fields, saw 8\\nSkipping line 155: expected 1 fields, saw 8\\nSkipping line 156: expected 1 fields, saw 8\\nSkipping line 157: expected 1 fields, saw 8\\nSkipping line 158: expected 1 fields, saw 8\\nSkipping line 159: expected 1 fields, saw 8\\nSkipping line 160: expected 1 fields, saw 8\\nSkipping line 161: expected 1 fields, saw 8\\nSkipping line 162: expected 1 fields, saw 8\\nSkipping line 163: expected 1 fields, saw 8\\nSkipping line 164: expected 1 fields, saw 8\\nSkipping line 165: expected 1 fields, saw 8\\nSkipping line 166: expected 1 fields, saw 8\\nSkipping line 167: expected 1 fields, saw 8\\nSkipping line 168: expected 1 fields, saw 8\\nSkipping line 169: expected 1 fields, saw 8\\nSkipping line 170: expected 1 fields, saw 8\\nSkipping line 171: expected 1 fields, saw 8\\nSkipping line 172: expected 1 fields, saw 8\\nSkipping line 173: expected 1 fields, saw 8\\nSkipping line 174: expected 1 fields, saw 8\\nSkipping line 175: expected 1 fields, saw 8\\nSkipping line 176: expected 1 fields, saw 8\\nSkipping line 177: expected 1 fields, saw 8\\nSkipping line 178: expected 1 fields, saw 8\\nSkipping line 179: expected 1 fields, saw 8\\nSkipping line 180: expected 1 fields, saw 8\\nSkipping line 181: expected 1 fields, saw 8\\nSkipping line 182: expected 1 fields, saw 8\\nSkipping line 183: expected 1 fields, saw 8\\nSkipping line 184: expected 1 fields, saw 8\\nSkipping line 185: expected 1 fields, saw 8\\nSkipping line 186: expected 1 fields, saw 8\\nSkipping line 187: expected 1 fields, saw 8\\nSkipping line 188: expected 1 fields, saw 8\\nSkipping line 189: expected 1 fields, saw 8\\nSkipping line 190: expected 1 fields, saw 8\\nSkipping line 191: expected 1 fields, saw 8\\nSkipping line 192: expected 1 fields, saw 8\\nSkipping line 193: expected 1 fields, saw 8\\nSkipping line 194: expected 1 fields, saw 8\\nSkipping line 195: expected 1 fields, saw 8\\nSkipping line 196: expected 1 fields, saw 8\\nSkipping line 197: expected 1 fields, saw 8\\nSkipping line 198: expected 1 fields, saw 8\\nSkipping line 199: expected 1 fields, saw 8\\nSkipping line 200: expected 1 fields, saw 8\\nSkipping line 201: expected 1 fields, saw 8\\nSkipping line 202: expected 1 fields, saw 8\\nSkipping line 203: expected 1 fields, saw 8\\nSkipping line 204: expected 1 fields, saw 8\\nSkipping line 205: expected 1 fields, saw 8\\nSkipping line 206: expected 1 fields, saw 8\\nSkipping line 207: expected 1 fields, saw 8\\nSkipping line 208: expected 1 fields, saw 8\\nSkipping line 209: expected 1 fields, saw 8\\nSkipping line 210: expected 1 fields, saw 8\\nSkipping line 211: expected 1 fields, saw 8\\nSkipping line 212: expected 1 fields, saw 8\\nSkipping line 213: expected 1 fields, saw 8\\nSkipping line 214: expected 1 fields, saw 8\\nSkipping line 215: expected 1 fields, saw 8\\nSkipping line 216: expected 1 fields, saw 8\\nSkipping line 217: expected 1 fields, saw 8\\nSkipping line 218: expected 1 fields, saw 8\\nSkipping line 219: expected 1 fields, saw 8\\nSkipping line 220: expected 1 fields, saw 8\\nSkipping line 221: expected 1 fields, saw 8\\nSkipping line 222: expected 1 fields, saw 8\\nSkipping line 223: expected 1 fields, saw 8\\nSkipping line 224: expected 1 fields, saw 8\\nSkipping line 225: expected 1 fields, saw 8\\nSkipping line 226: expected 1 fields, saw 8\\nSkipping line 227: expected 1 fields, saw 8\\nSkipping line 228: expected 1 fields, saw 8\\nSkipping line 229: expected 1 fields, saw 8\\nSkipping line 230: expected 1 fields, saw 8\\nSkipping line 231: expected 1 fields, saw 8\\nSkipping line 232: expected 1 fields, saw 8\\nSkipping line 233: expected 1 fields, saw 8\\nSkipping line 234: expected 1 fields, saw 8\\nSkipping line 235: expected 1 fields, saw 8\\nSkipping line 236: expected 1 fields, saw 8\\nSkipping line 237: expected 1 fields, saw 8\\nSkipping line 238: expected 1 fields, saw 8\\nSkipping line 239: expected 1 fields, saw 8\\nSkipping line 240: expected 1 fields, saw 8\\nSkipping line 241: expected 1 fields, saw 8\\nSkipping line 242: expected 1 fields, saw 8\\nSkipping line 243: expected 1 fields, saw 8\\nSkipping line 244: expected 1 fields, saw 8\\nSkipping line 245: expected 1 fields, saw 8\\nSkipping line 246: expected 1 fields, saw 8\\nSkipping line 247: expected 1 fields, saw 8\\nSkipping line 248: expected 1 fields, saw 8\\nSkipping line 249: expected 1 fields, saw 8\\nSkipping line 250: expected 1 fields, saw 8\\nSkipping line 251: expected 1 fields, saw 8\\nSkipping line 252: expected 1 fields, saw 8\\nSkipping line 253: expected 1 fields, saw 8\\nSkipping line 254: expected 1 fields, saw 8\\nSkipping line 255: expected 1 fields, saw 8\\nSkipping line 256: expected 1 fields, saw 8\\nSkipping line 257: expected 1 fields, saw 8\\nSkipping line 258: expected 1 fields, saw 8\\nSkipping line 259: expected 1 fields, saw 8\\nSkipping line 260: expected 1 fields, saw 8\\nSkipping line 261: expected 1 fields, saw 8\\nSkipping line 262: expected 1 fields, saw 8\\nSkipping line 263: expected 1 fields, saw 8\\nSkipping line 264: expected 1 fields, saw 8\\nSkipping line 265: expected 1 fields, saw 8\\nSkipping line 266: expected 1 fields, saw 8\\nSkipping line 267: expected 1 fields, saw 8\\nSkipping line 268: expected 1 fields, saw 8\\nSkipping line 269: expected 1 fields, saw 8\\nSkipping line 270: expected 1 fields, saw 8\\nSkipping line 271: expected 1 fields, saw 8\\nSkipping line 272: expected 1 fields, saw 8\\nSkipping line 273: expected 1 fields, saw 8\\nSkipping line 274: expected 1 fields, saw 8\\nSkipping line 275: expected 1 fields, saw 8\\nSkipping line 276: expected 1 fields, saw 8\\nSkipping line 277: expected 1 fields, saw 8\\nSkipping line 278: expected 1 fields, saw 8\\nSkipping line 279: expected 1 fields, saw 8\\nSkipping line 280: expected 1 fields, saw 8\\nSkipping line 281: expected 1 fields, saw 8\\nSkipping line 282: expected 1 fields, saw 8\\nSkipping line 283: expected 1 fields, saw 8\\nSkipping line 284: expected 1 fields, saw 8\\nSkipping line 285: expected 1 fields, saw 8\\nSkipping line 286: expected 1 fields, saw 8\\nSkipping line 287: expected 1 fields, saw 8\\nSkipping line 288: expected 1 fields, saw 8\\nSkipping line 289: expected 1 fields, saw 8\\nSkipping line 290: expected 1 fields, saw 8\\nSkipping line 291: expected 1 fields, saw 8\\nSkipping line 292: expected 1 fields, saw 8\\nSkipping line 293: expected 1 fields, saw 8\\nSkipping line 294: expected 1 fields, saw 8\\nSkipping line 295: expected 1 fields, saw 8\\nSkipping line 296: expected 1 fields, saw 8\\nSkipping line 297: expected 1 fields, saw 8\\nSkipping line 298: expected 1 fields, saw 8\\nSkipping line 299: expected 1 fields, saw 8\\nSkipping line 300: expected 1 fields, saw 8\\nSkipping line 301: expected 1 fields, saw 8\\nSkipping line 302: expected 1 fields, saw 8\\nSkipping line 303: expected 1 fields, saw 8\\nSkipping line 304: expected 1 fields, saw 8\\nSkipping line 305: expected 1 fields, saw 8\\nSkipping line 306: expected 1 fields, saw 8\\nSkipping line 307: expected 1 fields, saw 8\\nSkipping line 308: expected 1 fields, saw 8\\nSkipping line 309: expected 1 fields, saw 8\\nSkipping line 310: expected 1 fields, saw 8\\nSkipping line 311: expected 1 fields, saw 8\\nSkipping line 312: expected 1 fields, saw 8\\nSkipping line 313: expected 1 fields, saw 8\\nSkipping line 314: expected 1 fields, saw 8\\nSkipping line 315: expected 1 fields, saw 8\\nSkipping line 316: expected 1 fields, saw 8\\nSkipping line 317: expected 1 fields, saw 8\\nSkipping line 318: expected 1 fields, saw 8\\nSkipping line 319: expected 1 fields, saw 8\\nSkipping line 320: expected 1 fields, saw 8\\nSkipping line 321: expected 1 fields, saw 8\\nSkipping line 322: expected 1 fields, saw 8\\nSkipping line 323: expected 1 fields, saw 8\\nSkipping line 324: expected 1 fields, saw 8\\nSkipping line 325: expected 1 fields, saw 8\\nSkipping line 326: expected 1 fields, saw 8\\nSkipping line 327: expected 1 fields, saw 8\\nSkipping line 328: expected 1 fields, saw 8\\nSkipping line 329: expected 1 fields, saw 8\\nSkipping line 330: expected 1 fields, saw 8\\nSkipping line 331: expected 1 fields, saw 8\\nSkipping line 332: expected 1 fields, saw 8\\nSkipping line 333: expected 1 fields, saw 8\\nSkipping line 334: expected 1 fields, saw 8\\nSkipping line 335: expected 1 fields, saw 8\\nSkipping line 336: expected 1 fields, saw 8\\nSkipping line 337: expected 1 fields, saw 8\\nSkipping line 338: expected 1 fields, saw 8\\nSkipping line 339: expected 1 fields, saw 8\\nSkipping line 340: expected 1 fields, saw 8\\nSkipping line 341: expected 1 fields, saw 8\\nSkipping line 342: expected 1 fields, saw 8\\nSkipping line 343: expected 1 fields, saw 8\\nSkipping line 344: expected 1 fields, saw 8\\nSkipping line 345: expected 1 fields, saw 8\\nSkipping line 346: expected 1 fields, saw 8\\nSkipping line 347: expected 1 fields, saw 8\\nSkipping line 348: expected 1 fields, saw 8\\nSkipping line 349: expected 1 fields, saw 8\\nSkipping line 350: expected 1 fields, saw 8\\nSkipping line 351: expected 1 fields, saw 8\\nSkipping line 352: expected 1 fields, saw 8\\nSkipping line 353: expected 1 fields, saw 8\\nSkipping line 354: expected 1 fields, saw 8\\nSkipping line 355: expected 1 fields, saw 8\\nSkipping line 356: expected 1 fields, saw 8\\nSkipping line 357: expected 1 fields, saw 8\\nSkipping line 358: expected 1 fields, saw 8\\nSkipping line 359: expected 1 fields, saw 8\\nSkipping line 360: expected 1 fields, saw 8\\nSkipping line 361: expected 1 fields, saw 8\\nSkipping line 362: expected 1 fields, saw 8\\nSkipping line 363: expected 1 fields, saw 8\\nSkipping line 364: expected 1 fields, saw 8\\nSkipping line 365: expected 1 fields, saw 8\\nSkipping line 366: expected 1 fields, saw 8\\nSkipping line 367: expected 1 fields, saw 8\\nSkipping line 368: expected 1 fields, saw 8\\nSkipping line 369: expected 1 fields, saw 8\\nSkipping line 370: expected 1 fields, saw 8\\nSkipping line 371: expected 1 fields, saw 8\\nSkipping line 372: expected 1 fields, saw 8\\nSkipping line 373: expected 1 fields, saw 8\\nSkipping line 374: expected 1 fields, saw 8\\nSkipping line 375: expected 1 fields, saw 8\\nSkipping line 376: expected 1 fields, saw 8\\nSkipping line 377: expected 1 fields, saw 8\\nSkipping line 378: expected 1 fields, saw 8\\nSkipping line 379: expected 1 fields, saw 8\\nSkipping line 380: expected 1 fields, saw 8\\nSkipping line 381: expected 1 fields, saw 8\\nSkipping line 382: expected 1 fields, saw 8\\nSkipping line 383: expected 1 fields, saw 8\\nSkipping line 384: expected 1 fields, saw 8\\nSkipping line 385: expected 1 fields, saw 8\\nSkipping line 386: expected 1 fields, saw 8\\nSkipping line 387: expected 1 fields, saw 8\\nSkipping line 388: expected 1 fields, saw 8\\nSkipping line 389: expected 1 fields, saw 8\\nSkipping line 390: expected 1 fields, saw 8\\nSkipping line 391: expected 1 fields, saw 8\\nSkipping line 392: expected 1 fields, saw 8\\nSkipping line 393: expected 1 fields, saw 8\\nSkipping line 394: expected 1 fields, saw 8\\nSkipping line 395: expected 1 fields, saw 8\\nSkipping line 396: expected 1 fields, saw 8\\nSkipping line 397: expected 1 fields, saw 8\\nSkipping line 398: expected 1 fields, saw 8\\nSkipping line 399: expected 1 fields, saw 8\\nSkipping line 400: expected 1 fields, saw 8\\nSkipping line 401: expected 1 fields, saw 8\\nSkipping line 402: expected 1 fields, saw 8\\nSkipping line 403: expected 1 fields, saw 8\\nSkipping line 404: expected 1 fields, saw 8\\nSkipping line 405: expected 1 fields, saw 8\\nSkipping line 406: expected 1 fields, saw 8\\n'\n"
     ]
    }
   ],
   "source": [
    "base_dir = 'D:'+os.sep+'Dados'+os.sep+'OneDrive'+os.sep+'Doutorado'+os.sep\n",
    "ds_files = base_dir + 'Datasets' + os.sep + 'Magellan Data Repository' + os.sep +'Magellan' + os.sep\n",
    "out_file = base_dir + 'workspace'+os.sep+'tl_pprl2'+os.sep+'datasets'+os.sep+'movies'+os.sep\n",
    "\n",
    "inputZip = 'movies2.zip'\n",
    "data = 'labeled_data'\n",
    "\n",
    "\n",
    "zip_file = 'processed_imdb-tmd.zip'\n",
    "\n",
    "df = read(ds_files+inputZip,data,skip_coments=True)"
   ]
  },
  {
   "cell_type": "code",
   "execution_count": 247,
   "metadata": {},
   "outputs": [
    {
     "data": {
      "text/plain": [
       "Index(['_id', 'ltable.ID', 'rtable.ID', 'ltable.title', 'ltable.year',\n",
       "       'rtable.title', 'rtable.year', 'class_label'],\n",
       "      dtype='object')"
      ]
     },
     "execution_count": 247,
     "metadata": {},
     "output_type": "execute_result"
    }
   ],
   "source": [
    "df.columns"
   ]
  },
  {
   "cell_type": "code",
   "execution_count": 248,
   "metadata": {},
   "outputs": [],
   "source": [
    "# gabarito\n",
    "gs = df[df.class_label==1].iloc[:,[1,2]]\n",
    "\n",
    "colunas_1 =  [ 'id', 'title', 'year' ]\n",
    "\n",
    "colunas_2 =  colunas_1\n",
    "\n",
    "n_atibutos = len(colunas_1) -1\n",
    "\n",
    "inicio_atributos_ds1 = 3\n",
    "fim_atributos_ds1 = inicio_atributos_ds1 + n_atibutos\n",
    "\n",
    "\n",
    "atts = [1] + list(range(inicio_atributos_ds1,fim_atributos_ds1))\n",
    "ds1 = df.iloc[:,atts]\n",
    "\n",
    "n_atibutos = len(colunas_2) -1\n",
    "atts = [2] + list(range(fim_atributos_ds1,fim_atributos_ds1+n_atibutos))\n",
    "ds2 = df.iloc[:,atts]\n",
    "\n",
    "ds1.columns = colunas_1\n",
    "ds2.columns = colunas_2"
   ]
  },
  {
   "cell_type": "code",
   "execution_count": 218,
   "metadata": {},
   "outputs": [
    {
     "name": "stderr",
     "output_type": "stream",
     "text": [
      "D:\\Programas\\Anaconda3\\envs\\utils\\lib\\site-packages\\pandas\\core\\generic.py:5303: SettingWithCopyWarning: \n",
      "A value is trying to be set on a copy of a slice from a DataFrame.\n",
      "Try using .loc[row_indexer,col_indexer] = value instead\n",
      "\n",
      "See the caveats in the documentation: https://pandas.pydata.org/pandas-docs/stable/user_guide/indexing.html#returning-a-view-versus-a-copy\n",
      "  self[name] = value\n"
     ]
    }
   ],
   "source": [
    "ds2.Year = ds2.Year.astype(str)\n",
    "ds2.Year = ds2.Year.astype(str)"
   ]
  },
  {
   "cell_type": "code",
   "execution_count": 251,
   "metadata": {},
   "outputs": [],
   "source": [
    "ds1 = retornar_ds_limpo(ds1)\n",
    "ds2 = retornar_ds_limpo(ds2)"
   ]
  },
  {
   "cell_type": "markdown",
   "metadata": {},
   "source": [
    "#### Estatisticas"
   ]
  },
  {
   "cell_type": "code",
   "execution_count": 252,
   "metadata": {},
   "outputs": [
    {
     "data": {
      "text/html": [
       "<div>\n",
       "<style scoped>\n",
       "    .dataframe tbody tr th:only-of-type {\n",
       "        vertical-align: middle;\n",
       "    }\n",
       "\n",
       "    .dataframe tbody tr th {\n",
       "        vertical-align: top;\n",
       "    }\n",
       "\n",
       "    .dataframe thead th {\n",
       "        text-align: right;\n",
       "    }\n",
       "</style>\n",
       "<table border=\"1\" class=\"dataframe\">\n",
       "  <thead>\n",
       "    <tr style=\"text-align: right;\">\n",
       "      <th></th>\n",
       "      <th>title</th>\n",
       "      <th>ds</th>\n",
       "    </tr>\n",
       "    <tr>\n",
       "      <th>metrica</th>\n",
       "      <th></th>\n",
       "      <th></th>\n",
       "    </tr>\n",
       "  </thead>\n",
       "  <tbody>\n",
       "    <tr>\n",
       "      <th>count</th>\n",
       "      <td>359</td>\n",
       "      <td>fodors</td>\n",
       "    </tr>\n",
       "    <tr>\n",
       "      <th>unique</th>\n",
       "      <td>359</td>\n",
       "      <td>fodors</td>\n",
       "    </tr>\n",
       "    <tr>\n",
       "      <th>top</th>\n",
       "      <td>End of Watch</td>\n",
       "      <td>fodors</td>\n",
       "    </tr>\n",
       "    <tr>\n",
       "      <th>freq</th>\n",
       "      <td>1</td>\n",
       "      <td>fodors</td>\n",
       "    </tr>\n",
       "    <tr>\n",
       "      <th>nan</th>\n",
       "      <td>0</td>\n",
       "      <td>fodors</td>\n",
       "    </tr>\n",
       "  </tbody>\n",
       "</table>\n",
       "</div>"
      ],
      "text/plain": [
       "                title      ds\n",
       "metrica                      \n",
       "count             359  fodors\n",
       "unique            359  fodors\n",
       "top      End of Watch  fodors\n",
       "freq                1  fodors\n",
       "nan                 0  fodors"
      ]
     },
     "metadata": {},
     "output_type": "display_data"
    },
    {
     "data": {
      "text/html": [
       "<div>\n",
       "<style scoped>\n",
       "    .dataframe tbody tr th:only-of-type {\n",
       "        vertical-align: middle;\n",
       "    }\n",
       "\n",
       "    .dataframe tbody tr th {\n",
       "        vertical-align: top;\n",
       "    }\n",
       "\n",
       "    .dataframe thead th {\n",
       "        text-align: right;\n",
       "    }\n",
       "</style>\n",
       "<table border=\"1\" class=\"dataframe\">\n",
       "  <thead>\n",
       "    <tr style=\"text-align: right;\">\n",
       "      <th></th>\n",
       "      <th>title</th>\n",
       "      <th>ds</th>\n",
       "    </tr>\n",
       "    <tr>\n",
       "      <th>metrica</th>\n",
       "      <th></th>\n",
       "      <th></th>\n",
       "    </tr>\n",
       "  </thead>\n",
       "  <tbody>\n",
       "    <tr>\n",
       "      <th>count</th>\n",
       "      <td>354</td>\n",
       "      <td>zagats</td>\n",
       "    </tr>\n",
       "    <tr>\n",
       "      <th>unique</th>\n",
       "      <td>354</td>\n",
       "      <td>zagats</td>\n",
       "    </tr>\n",
       "    <tr>\n",
       "      <th>top</th>\n",
       "      <td>The Seeker: The Dark Is Rising</td>\n",
       "      <td>zagats</td>\n",
       "    </tr>\n",
       "    <tr>\n",
       "      <th>freq</th>\n",
       "      <td>1</td>\n",
       "      <td>zagats</td>\n",
       "    </tr>\n",
       "    <tr>\n",
       "      <th>nan</th>\n",
       "      <td>0</td>\n",
       "      <td>zagats</td>\n",
       "    </tr>\n",
       "  </tbody>\n",
       "</table>\n",
       "</div>"
      ],
      "text/plain": [
       "                                  title      ds\n",
       "metrica                                        \n",
       "count                               354  zagats\n",
       "unique                              354  zagats\n",
       "top      The Seeker: The Dark Is Rising  zagats\n",
       "freq                                  1  zagats\n",
       "nan                                   0  zagats"
      ]
     },
     "metadata": {},
     "output_type": "display_data"
    }
   ],
   "source": [
    "nan_list1 = ds1.isnull().sum()\n",
    "nan_list2 = ds2.isnull().sum()\n",
    "\n",
    "estatiscas1 = ds1.describe(include='object')\n",
    "estatiscas2 = ds2.describe(include='object')\n",
    "\n",
    "sdf1 = gerar_estatiscas_df(nan_list1,estatiscas1)\n",
    "sdf1['ds'] = ds1_name\n",
    "\n",
    "sdf2 = gerar_estatiscas_df(nan_list2,estatiscas2)\n",
    "sdf2['ds'] = ds2_name\n",
    "\n",
    "estatiscas = pd.concat([sdf1,sdf2])#.to_csv(ds_files+'stats_abt-buy.csv',sep=';')\n",
    "\n",
    "display(sdf1)\n",
    "display(sdf2)"
   ]
  },
  {
   "cell_type": "markdown",
   "metadata": {},
   "source": [
    "#### Limpando os dados\n",
    "\n",
    "Sem valores nulos"
   ]
  },
  {
   "cell_type": "code",
   "execution_count": 253,
   "metadata": {},
   "outputs": [
    {
     "data": {
      "text/html": [
       "<div>\n",
       "<style scoped>\n",
       "    .dataframe tbody tr th:only-of-type {\n",
       "        vertical-align: middle;\n",
       "    }\n",
       "\n",
       "    .dataframe tbody tr th {\n",
       "        vertical-align: top;\n",
       "    }\n",
       "\n",
       "    .dataframe thead th {\n",
       "        text-align: right;\n",
       "    }\n",
       "</style>\n",
       "<table border=\"1\" class=\"dataframe\">\n",
       "  <thead>\n",
       "    <tr style=\"text-align: right;\">\n",
       "      <th></th>\n",
       "      <th>id1</th>\n",
       "      <th>id2</th>\n",
       "    </tr>\n",
       "  </thead>\n",
       "  <tbody>\n",
       "  </tbody>\n",
       "</table>\n",
       "</div>"
      ],
      "text/plain": [
       "Empty DataFrame\n",
       "Columns: [id1, id2]\n",
       "Index: []"
      ]
     },
     "metadata": {},
     "output_type": "display_data"
    },
    {
     "data": {
      "text/html": [
       "<div>\n",
       "<style scoped>\n",
       "    .dataframe tbody tr th:only-of-type {\n",
       "        vertical-align: middle;\n",
       "    }\n",
       "\n",
       "    .dataframe tbody tr th {\n",
       "        vertical-align: top;\n",
       "    }\n",
       "\n",
       "    .dataframe thead th {\n",
       "        text-align: right;\n",
       "    }\n",
       "</style>\n",
       "<table border=\"1\" class=\"dataframe\">\n",
       "  <thead>\n",
       "    <tr style=\"text-align: right;\">\n",
       "      <th></th>\n",
       "      <th>id1</th>\n",
       "      <th>id2</th>\n",
       "    </tr>\n",
       "  </thead>\n",
       "  <tbody>\n",
       "  </tbody>\n",
       "</table>\n",
       "</div>"
      ],
      "text/plain": [
       "Empty DataFrame\n",
       "Columns: [id1, id2]\n",
       "Index: []"
      ]
     },
     "metadata": {},
     "output_type": "display_data"
    }
   ],
   "source": [
    "gs.columns = ['id1','id2']\n",
    "gs.id1 = gs.id1.astype(str)\n",
    "gs.id2 = gs.id2.astype(str)\n",
    "da, db = verify_gg4cc(gs)\n",
    "display(da.head(5))\n",
    "display(db.head(5))"
   ]
  },
  {
   "cell_type": "code",
   "execution_count": 222,
   "metadata": {},
   "outputs": [
    {
     "name": "stdout",
     "output_type": "stream",
     "text": [
      "[]\n",
      "[]\n"
     ]
    }
   ],
   "source": [
    "remover_da_lista2 = []\n",
    "remover_da_lista1 = []\n",
    "\n",
    "for i in da.id1.unique():\n",
    "    remover_da_lista2.append(da[da.id1 == i].id2.values[-1])\n",
    "\n",
    "for i in db.id2.unique():\n",
    "    remover_da_lista1.append(db[db.id2 == i].id1.values[-1])\n",
    "\n",
    "print(remover_da_lista1)\n",
    "print(remover_da_lista2)"
   ]
  },
  {
   "cell_type": "code",
   "execution_count": 223,
   "metadata": {},
   "outputs": [],
   "source": [
    "cds1 = ds1[~ds1.id.isin(remover_da_lista1)]\n",
    "cds2 = ds2[~ds2.id.isin(remover_da_lista2)]\n",
    "\n",
    "gs = gs[~gs.id1.isin(remover_da_lista1)]\n",
    "gs = gs[~gs.id2.isin(remover_da_lista2)]\n",
    "\n",
    "ds1 = cds1\n",
    "ds2 = cds2"
   ]
  },
  {
   "cell_type": "code",
   "execution_count": 224,
   "metadata": {},
   "outputs": [
    {
     "data": {
      "text/html": [
       "<div>\n",
       "<style scoped>\n",
       "    .dataframe tbody tr th:only-of-type {\n",
       "        vertical-align: middle;\n",
       "    }\n",
       "\n",
       "    .dataframe tbody tr th {\n",
       "        vertical-align: top;\n",
       "    }\n",
       "\n",
       "    .dataframe thead th {\n",
       "        text-align: right;\n",
       "    }\n",
       "</style>\n",
       "<table border=\"1\" class=\"dataframe\">\n",
       "  <thead>\n",
       "    <tr style=\"text-align: right;\">\n",
       "      <th></th>\n",
       "      <th>id1</th>\n",
       "      <th>id2</th>\n",
       "    </tr>\n",
       "  </thead>\n",
       "  <tbody>\n",
       "  </tbody>\n",
       "</table>\n",
       "</div>"
      ],
      "text/plain": [
       "Empty DataFrame\n",
       "Columns: [id1, id2]\n",
       "Index: []"
      ]
     },
     "metadata": {},
     "output_type": "display_data"
    },
    {
     "data": {
      "text/html": [
       "<div>\n",
       "<style scoped>\n",
       "    .dataframe tbody tr th:only-of-type {\n",
       "        vertical-align: middle;\n",
       "    }\n",
       "\n",
       "    .dataframe tbody tr th {\n",
       "        vertical-align: top;\n",
       "    }\n",
       "\n",
       "    .dataframe thead th {\n",
       "        text-align: right;\n",
       "    }\n",
       "</style>\n",
       "<table border=\"1\" class=\"dataframe\">\n",
       "  <thead>\n",
       "    <tr style=\"text-align: right;\">\n",
       "      <th></th>\n",
       "      <th>id1</th>\n",
       "      <th>id2</th>\n",
       "    </tr>\n",
       "  </thead>\n",
       "  <tbody>\n",
       "  </tbody>\n",
       "</table>\n",
       "</div>"
      ],
      "text/plain": [
       "Empty DataFrame\n",
       "Columns: [id1, id2]\n",
       "Index: []"
      ]
     },
     "metadata": {},
     "output_type": "display_data"
    }
   ],
   "source": [
    "da, db = verify_gg4cc(gs)\n",
    "display(da.head(5))\n",
    "display(db.head(5))"
   ]
  },
  {
   "cell_type": "markdown",
   "metadata": {},
   "source": [
    "Dataset clean-clean"
   ]
  },
  {
   "cell_type": "code",
   "execution_count": 254,
   "metadata": {
    "run_control": {
     "marked": true
    }
   },
   "outputs": [],
   "source": [
    "save_zip(ds1,ds2,gs,estatiscas,out_file + zip_file)"
   ]
  },
  {
   "cell_type": "markdown",
   "metadata": {},
   "source": [
    "### Movies2"
   ]
  },
  {
   "cell_type": "code",
   "execution_count": 246,
   "metadata": {},
   "outputs": [
    {
     "name": "stderr",
     "output_type": "stream",
     "text": [
      "b'Skipping line 6: expected 1 fields, saw 8\\nSkipping line 7: expected 1 fields, saw 8\\nSkipping line 8: expected 1 fields, saw 8\\nSkipping line 9: expected 1 fields, saw 8\\nSkipping line 10: expected 1 fields, saw 8\\nSkipping line 11: expected 1 fields, saw 8\\nSkipping line 12: expected 1 fields, saw 8\\nSkipping line 13: expected 1 fields, saw 8\\nSkipping line 14: expected 1 fields, saw 8\\nSkipping line 15: expected 1 fields, saw 8\\nSkipping line 16: expected 1 fields, saw 8\\nSkipping line 17: expected 1 fields, saw 8\\nSkipping line 18: expected 1 fields, saw 8\\nSkipping line 19: expected 1 fields, saw 8\\nSkipping line 20: expected 1 fields, saw 8\\nSkipping line 21: expected 1 fields, saw 8\\nSkipping line 22: expected 1 fields, saw 8\\nSkipping line 23: expected 1 fields, saw 8\\nSkipping line 24: expected 1 fields, saw 8\\nSkipping line 25: expected 1 fields, saw 8\\nSkipping line 26: expected 1 fields, saw 8\\nSkipping line 27: expected 1 fields, saw 8\\nSkipping line 28: expected 1 fields, saw 8\\nSkipping line 29: expected 1 fields, saw 8\\nSkipping line 30: expected 1 fields, saw 8\\nSkipping line 31: expected 1 fields, saw 8\\nSkipping line 32: expected 1 fields, saw 8\\nSkipping line 33: expected 1 fields, saw 8\\nSkipping line 34: expected 1 fields, saw 8\\nSkipping line 35: expected 1 fields, saw 8\\nSkipping line 36: expected 1 fields, saw 8\\nSkipping line 37: expected 1 fields, saw 8\\nSkipping line 38: expected 1 fields, saw 8\\nSkipping line 39: expected 1 fields, saw 8\\nSkipping line 40: expected 1 fields, saw 8\\nSkipping line 41: expected 1 fields, saw 8\\nSkipping line 42: expected 1 fields, saw 8\\nSkipping line 43: expected 1 fields, saw 8\\nSkipping line 44: expected 1 fields, saw 8\\nSkipping line 45: expected 1 fields, saw 8\\nSkipping line 46: expected 1 fields, saw 8\\nSkipping line 47: expected 1 fields, saw 8\\nSkipping line 48: expected 1 fields, saw 8\\nSkipping line 49: expected 1 fields, saw 8\\nSkipping line 50: expected 1 fields, saw 8\\nSkipping line 51: expected 1 fields, saw 8\\nSkipping line 52: expected 1 fields, saw 8\\nSkipping line 53: expected 1 fields, saw 8\\nSkipping line 54: expected 1 fields, saw 8\\nSkipping line 55: expected 1 fields, saw 8\\nSkipping line 56: expected 1 fields, saw 8\\nSkipping line 57: expected 1 fields, saw 8\\nSkipping line 58: expected 1 fields, saw 8\\nSkipping line 59: expected 1 fields, saw 8\\nSkipping line 60: expected 1 fields, saw 8\\nSkipping line 61: expected 1 fields, saw 8\\nSkipping line 62: expected 1 fields, saw 8\\nSkipping line 63: expected 1 fields, saw 8\\nSkipping line 64: expected 1 fields, saw 8\\nSkipping line 65: expected 1 fields, saw 8\\nSkipping line 66: expected 1 fields, saw 8\\nSkipping line 67: expected 1 fields, saw 8\\nSkipping line 68: expected 1 fields, saw 8\\nSkipping line 69: expected 1 fields, saw 8\\nSkipping line 70: expected 1 fields, saw 8\\nSkipping line 71: expected 1 fields, saw 8\\nSkipping line 72: expected 1 fields, saw 8\\nSkipping line 73: expected 1 fields, saw 8\\nSkipping line 74: expected 1 fields, saw 8\\nSkipping line 75: expected 1 fields, saw 8\\nSkipping line 76: expected 1 fields, saw 8\\nSkipping line 77: expected 1 fields, saw 8\\nSkipping line 78: expected 1 fields, saw 8\\nSkipping line 79: expected 1 fields, saw 8\\nSkipping line 80: expected 1 fields, saw 8\\nSkipping line 81: expected 1 fields, saw 8\\nSkipping line 82: expected 1 fields, saw 8\\nSkipping line 83: expected 1 fields, saw 8\\nSkipping line 84: expected 1 fields, saw 8\\nSkipping line 85: expected 1 fields, saw 8\\nSkipping line 86: expected 1 fields, saw 8\\nSkipping line 87: expected 1 fields, saw 8\\nSkipping line 88: expected 1 fields, saw 8\\nSkipping line 89: expected 1 fields, saw 8\\nSkipping line 90: expected 1 fields, saw 8\\nSkipping line 91: expected 1 fields, saw 8\\nSkipping line 92: expected 1 fields, saw 8\\nSkipping line 93: expected 1 fields, saw 8\\nSkipping line 94: expected 1 fields, saw 8\\nSkipping line 95: expected 1 fields, saw 8\\nSkipping line 96: expected 1 fields, saw 8\\nSkipping line 97: expected 1 fields, saw 8\\nSkipping line 98: expected 1 fields, saw 8\\nSkipping line 99: expected 1 fields, saw 8\\nSkipping line 100: expected 1 fields, saw 8\\nSkipping line 101: expected 1 fields, saw 8\\nSkipping line 102: expected 1 fields, saw 8\\nSkipping line 103: expected 1 fields, saw 8\\nSkipping line 104: expected 1 fields, saw 8\\nSkipping line 105: expected 1 fields, saw 8\\nSkipping line 106: expected 1 fields, saw 8\\nSkipping line 107: expected 1 fields, saw 8\\nSkipping line 108: expected 1 fields, saw 8\\nSkipping line 109: expected 1 fields, saw 8\\nSkipping line 110: expected 1 fields, saw 8\\nSkipping line 111: expected 1 fields, saw 8\\nSkipping line 112: expected 1 fields, saw 8\\nSkipping line 113: expected 1 fields, saw 8\\nSkipping line 114: expected 1 fields, saw 8\\nSkipping line 115: expected 1 fields, saw 8\\nSkipping line 116: expected 1 fields, saw 8\\nSkipping line 117: expected 1 fields, saw 8\\nSkipping line 118: expected 1 fields, saw 8\\nSkipping line 119: expected 1 fields, saw 8\\nSkipping line 120: expected 1 fields, saw 8\\nSkipping line 121: expected 1 fields, saw 8\\nSkipping line 122: expected 1 fields, saw 8\\nSkipping line 123: expected 1 fields, saw 8\\nSkipping line 124: expected 1 fields, saw 8\\nSkipping line 125: expected 1 fields, saw 8\\nSkipping line 126: expected 1 fields, saw 8\\nSkipping line 127: expected 1 fields, saw 8\\nSkipping line 128: expected 1 fields, saw 8\\nSkipping line 129: expected 1 fields, saw 8\\nSkipping line 130: expected 1 fields, saw 8\\nSkipping line 131: expected 1 fields, saw 8\\nSkipping line 132: expected 1 fields, saw 8\\nSkipping line 133: expected 1 fields, saw 8\\nSkipping line 134: expected 1 fields, saw 8\\nSkipping line 135: expected 1 fields, saw 8\\nSkipping line 136: expected 1 fields, saw 8\\nSkipping line 137: expected 1 fields, saw 8\\nSkipping line 138: expected 1 fields, saw 8\\nSkipping line 139: expected 1 fields, saw 8\\nSkipping line 140: expected 1 fields, saw 8\\nSkipping line 141: expected 1 fields, saw 8\\nSkipping line 142: expected 1 fields, saw 8\\nSkipping line 143: expected 1 fields, saw 8\\nSkipping line 144: expected 1 fields, saw 8\\nSkipping line 145: expected 1 fields, saw 8\\nSkipping line 146: expected 1 fields, saw 8\\nSkipping line 147: expected 1 fields, saw 8\\nSkipping line 148: expected 1 fields, saw 8\\nSkipping line 149: expected 1 fields, saw 8\\nSkipping line 150: expected 1 fields, saw 8\\nSkipping line 151: expected 1 fields, saw 8\\nSkipping line 152: expected 1 fields, saw 8\\nSkipping line 153: expected 1 fields, saw 8\\nSkipping line 154: expected 1 fields, saw 8\\nSkipping line 155: expected 1 fields, saw 8\\nSkipping line 156: expected 1 fields, saw 8\\nSkipping line 157: expected 1 fields, saw 8\\nSkipping line 158: expected 1 fields, saw 8\\nSkipping line 159: expected 1 fields, saw 8\\nSkipping line 160: expected 1 fields, saw 8\\nSkipping line 161: expected 1 fields, saw 8\\nSkipping line 162: expected 1 fields, saw 8\\nSkipping line 163: expected 1 fields, saw 8\\nSkipping line 164: expected 1 fields, saw 8\\nSkipping line 165: expected 1 fields, saw 8\\nSkipping line 166: expected 1 fields, saw 8\\nSkipping line 167: expected 1 fields, saw 8\\nSkipping line 168: expected 1 fields, saw 8\\nSkipping line 169: expected 1 fields, saw 8\\nSkipping line 170: expected 1 fields, saw 8\\nSkipping line 171: expected 1 fields, saw 8\\nSkipping line 172: expected 1 fields, saw 8\\nSkipping line 173: expected 1 fields, saw 8\\nSkipping line 174: expected 1 fields, saw 8\\nSkipping line 175: expected 1 fields, saw 8\\nSkipping line 176: expected 1 fields, saw 8\\nSkipping line 177: expected 1 fields, saw 8\\nSkipping line 178: expected 1 fields, saw 8\\nSkipping line 179: expected 1 fields, saw 8\\nSkipping line 180: expected 1 fields, saw 8\\nSkipping line 181: expected 1 fields, saw 8\\nSkipping line 182: expected 1 fields, saw 8\\nSkipping line 183: expected 1 fields, saw 8\\nSkipping line 184: expected 1 fields, saw 8\\nSkipping line 185: expected 1 fields, saw 8\\nSkipping line 186: expected 1 fields, saw 8\\nSkipping line 187: expected 1 fields, saw 8\\nSkipping line 188: expected 1 fields, saw 8\\nSkipping line 189: expected 1 fields, saw 8\\nSkipping line 190: expected 1 fields, saw 8\\nSkipping line 191: expected 1 fields, saw 8\\nSkipping line 192: expected 1 fields, saw 8\\nSkipping line 193: expected 1 fields, saw 8\\nSkipping line 194: expected 1 fields, saw 8\\nSkipping line 195: expected 1 fields, saw 8\\nSkipping line 196: expected 1 fields, saw 8\\nSkipping line 197: expected 1 fields, saw 8\\nSkipping line 198: expected 1 fields, saw 8\\nSkipping line 199: expected 1 fields, saw 8\\nSkipping line 200: expected 1 fields, saw 8\\nSkipping line 201: expected 1 fields, saw 8\\nSkipping line 202: expected 1 fields, saw 8\\nSkipping line 203: expected 1 fields, saw 8\\nSkipping line 204: expected 1 fields, saw 8\\nSkipping line 205: expected 1 fields, saw 8\\nSkipping line 206: expected 1 fields, saw 8\\nSkipping line 207: expected 1 fields, saw 8\\nSkipping line 208: expected 1 fields, saw 8\\nSkipping line 209: expected 1 fields, saw 8\\nSkipping line 210: expected 1 fields, saw 8\\nSkipping line 211: expected 1 fields, saw 8\\nSkipping line 212: expected 1 fields, saw 8\\nSkipping line 213: expected 1 fields, saw 8\\nSkipping line 214: expected 1 fields, saw 8\\nSkipping line 215: expected 1 fields, saw 8\\nSkipping line 216: expected 1 fields, saw 8\\nSkipping line 217: expected 1 fields, saw 8\\nSkipping line 218: expected 1 fields, saw 8\\nSkipping line 219: expected 1 fields, saw 8\\nSkipping line 220: expected 1 fields, saw 8\\nSkipping line 221: expected 1 fields, saw 8\\nSkipping line 222: expected 1 fields, saw 8\\nSkipping line 223: expected 1 fields, saw 8\\nSkipping line 224: expected 1 fields, saw 8\\nSkipping line 225: expected 1 fields, saw 8\\nSkipping line 226: expected 1 fields, saw 8\\nSkipping line 227: expected 1 fields, saw 8\\nSkipping line 228: expected 1 fields, saw 8\\nSkipping line 229: expected 1 fields, saw 8\\nSkipping line 230: expected 1 fields, saw 8\\nSkipping line 231: expected 1 fields, saw 8\\nSkipping line 232: expected 1 fields, saw 8\\nSkipping line 233: expected 1 fields, saw 8\\nSkipping line 234: expected 1 fields, saw 8\\nSkipping line 235: expected 1 fields, saw 8\\nSkipping line 236: expected 1 fields, saw 8\\nSkipping line 237: expected 1 fields, saw 8\\nSkipping line 238: expected 1 fields, saw 8\\nSkipping line 239: expected 1 fields, saw 8\\nSkipping line 240: expected 1 fields, saw 8\\nSkipping line 241: expected 1 fields, saw 8\\nSkipping line 242: expected 1 fields, saw 8\\nSkipping line 243: expected 1 fields, saw 8\\nSkipping line 244: expected 1 fields, saw 8\\nSkipping line 245: expected 1 fields, saw 8\\nSkipping line 246: expected 1 fields, saw 8\\nSkipping line 247: expected 1 fields, saw 8\\nSkipping line 248: expected 1 fields, saw 8\\nSkipping line 249: expected 1 fields, saw 8\\nSkipping line 250: expected 1 fields, saw 8\\nSkipping line 251: expected 1 fields, saw 8\\nSkipping line 252: expected 1 fields, saw 8\\nSkipping line 253: expected 1 fields, saw 8\\nSkipping line 254: expected 1 fields, saw 8\\nSkipping line 255: expected 1 fields, saw 8\\nSkipping line 256: expected 1 fields, saw 8\\nSkipping line 257: expected 1 fields, saw 8\\nSkipping line 258: expected 1 fields, saw 8\\nSkipping line 259: expected 1 fields, saw 8\\nSkipping line 260: expected 1 fields, saw 8\\nSkipping line 261: expected 1 fields, saw 8\\nSkipping line 262: expected 1 fields, saw 8\\nSkipping line 263: expected 1 fields, saw 8\\nSkipping line 264: expected 1 fields, saw 8\\nSkipping line 265: expected 1 fields, saw 8\\nSkipping line 266: expected 1 fields, saw 8\\nSkipping line 267: expected 1 fields, saw 8\\nSkipping line 268: expected 1 fields, saw 8\\nSkipping line 269: expected 1 fields, saw 8\\nSkipping line 270: expected 1 fields, saw 8\\nSkipping line 271: expected 1 fields, saw 8\\nSkipping line 272: expected 1 fields, saw 8\\nSkipping line 273: expected 1 fields, saw 8\\nSkipping line 274: expected 1 fields, saw 8\\nSkipping line 275: expected 1 fields, saw 8\\nSkipping line 276: expected 1 fields, saw 8\\nSkipping line 277: expected 1 fields, saw 8\\nSkipping line 278: expected 1 fields, saw 8\\nSkipping line 279: expected 1 fields, saw 8\\nSkipping line 280: expected 1 fields, saw 8\\nSkipping line 281: expected 1 fields, saw 8\\nSkipping line 282: expected 1 fields, saw 8\\nSkipping line 283: expected 1 fields, saw 8\\nSkipping line 284: expected 1 fields, saw 8\\nSkipping line 285: expected 1 fields, saw 8\\nSkipping line 286: expected 1 fields, saw 8\\nSkipping line 287: expected 1 fields, saw 8\\nSkipping line 288: expected 1 fields, saw 8\\nSkipping line 289: expected 1 fields, saw 8\\nSkipping line 290: expected 1 fields, saw 8\\nSkipping line 291: expected 1 fields, saw 8\\nSkipping line 292: expected 1 fields, saw 8\\nSkipping line 293: expected 1 fields, saw 8\\nSkipping line 294: expected 1 fields, saw 8\\nSkipping line 295: expected 1 fields, saw 8\\nSkipping line 296: expected 1 fields, saw 8\\nSkipping line 297: expected 1 fields, saw 8\\nSkipping line 298: expected 1 fields, saw 8\\nSkipping line 299: expected 1 fields, saw 8\\nSkipping line 300: expected 1 fields, saw 8\\nSkipping line 301: expected 1 fields, saw 8\\nSkipping line 302: expected 1 fields, saw 8\\nSkipping line 303: expected 1 fields, saw 8\\nSkipping line 304: expected 1 fields, saw 8\\nSkipping line 305: expected 1 fields, saw 8\\nSkipping line 306: expected 1 fields, saw 8\\nSkipping line 307: expected 1 fields, saw 8\\nSkipping line 308: expected 1 fields, saw 8\\nSkipping line 309: expected 1 fields, saw 8\\nSkipping line 310: expected 1 fields, saw 8\\nSkipping line 311: expected 1 fields, saw 8\\nSkipping line 312: expected 1 fields, saw 8\\nSkipping line 313: expected 1 fields, saw 8\\nSkipping line 314: expected 1 fields, saw 8\\nSkipping line 315: expected 1 fields, saw 8\\nSkipping line 316: expected 1 fields, saw 8\\nSkipping line 317: expected 1 fields, saw 8\\nSkipping line 318: expected 1 fields, saw 8\\nSkipping line 319: expected 1 fields, saw 8\\nSkipping line 320: expected 1 fields, saw 8\\nSkipping line 321: expected 1 fields, saw 8\\nSkipping line 322: expected 1 fields, saw 8\\nSkipping line 323: expected 1 fields, saw 8\\nSkipping line 324: expected 1 fields, saw 8\\nSkipping line 325: expected 1 fields, saw 8\\nSkipping line 326: expected 1 fields, saw 8\\nSkipping line 327: expected 1 fields, saw 8\\nSkipping line 328: expected 1 fields, saw 8\\nSkipping line 329: expected 1 fields, saw 8\\nSkipping line 330: expected 1 fields, saw 8\\nSkipping line 331: expected 1 fields, saw 8\\nSkipping line 332: expected 1 fields, saw 8\\nSkipping line 333: expected 1 fields, saw 8\\nSkipping line 334: expected 1 fields, saw 8\\nSkipping line 335: expected 1 fields, saw 8\\nSkipping line 336: expected 1 fields, saw 8\\nSkipping line 337: expected 1 fields, saw 8\\nSkipping line 338: expected 1 fields, saw 8\\nSkipping line 339: expected 1 fields, saw 8\\nSkipping line 340: expected 1 fields, saw 8\\nSkipping line 341: expected 1 fields, saw 8\\nSkipping line 342: expected 1 fields, saw 8\\nSkipping line 343: expected 1 fields, saw 8\\nSkipping line 344: expected 1 fields, saw 8\\nSkipping line 345: expected 1 fields, saw 8\\nSkipping line 346: expected 1 fields, saw 8\\nSkipping line 347: expected 1 fields, saw 8\\nSkipping line 348: expected 1 fields, saw 8\\nSkipping line 349: expected 1 fields, saw 8\\nSkipping line 350: expected 1 fields, saw 8\\nSkipping line 351: expected 1 fields, saw 8\\nSkipping line 352: expected 1 fields, saw 8\\nSkipping line 353: expected 1 fields, saw 8\\nSkipping line 354: expected 1 fields, saw 8\\nSkipping line 355: expected 1 fields, saw 8\\nSkipping line 356: expected 1 fields, saw 8\\nSkipping line 357: expected 1 fields, saw 8\\nSkipping line 358: expected 1 fields, saw 8\\nSkipping line 359: expected 1 fields, saw 8\\nSkipping line 360: expected 1 fields, saw 8\\nSkipping line 361: expected 1 fields, saw 8\\nSkipping line 362: expected 1 fields, saw 8\\nSkipping line 363: expected 1 fields, saw 8\\nSkipping line 364: expected 1 fields, saw 8\\nSkipping line 365: expected 1 fields, saw 8\\nSkipping line 366: expected 1 fields, saw 8\\nSkipping line 367: expected 1 fields, saw 8\\nSkipping line 368: expected 1 fields, saw 8\\nSkipping line 369: expected 1 fields, saw 8\\nSkipping line 370: expected 1 fields, saw 8\\nSkipping line 371: expected 1 fields, saw 8\\nSkipping line 372: expected 1 fields, saw 8\\nSkipping line 373: expected 1 fields, saw 8\\nSkipping line 374: expected 1 fields, saw 8\\nSkipping line 375: expected 1 fields, saw 8\\nSkipping line 376: expected 1 fields, saw 8\\nSkipping line 377: expected 1 fields, saw 8\\nSkipping line 378: expected 1 fields, saw 8\\nSkipping line 379: expected 1 fields, saw 8\\nSkipping line 380: expected 1 fields, saw 8\\nSkipping line 381: expected 1 fields, saw 8\\nSkipping line 382: expected 1 fields, saw 8\\nSkipping line 383: expected 1 fields, saw 8\\nSkipping line 384: expected 1 fields, saw 8\\nSkipping line 385: expected 1 fields, saw 8\\nSkipping line 386: expected 1 fields, saw 8\\nSkipping line 387: expected 1 fields, saw 8\\nSkipping line 388: expected 1 fields, saw 8\\nSkipping line 389: expected 1 fields, saw 8\\nSkipping line 390: expected 1 fields, saw 8\\nSkipping line 391: expected 1 fields, saw 8\\nSkipping line 392: expected 1 fields, saw 8\\nSkipping line 393: expected 1 fields, saw 8\\nSkipping line 394: expected 1 fields, saw 8\\nSkipping line 395: expected 1 fields, saw 8\\nSkipping line 396: expected 1 fields, saw 8\\nSkipping line 397: expected 1 fields, saw 8\\nSkipping line 398: expected 1 fields, saw 8\\nSkipping line 399: expected 1 fields, saw 8\\nSkipping line 400: expected 1 fields, saw 8\\nSkipping line 401: expected 1 fields, saw 8\\nSkipping line 402: expected 1 fields, saw 8\\nSkipping line 403: expected 1 fields, saw 8\\nSkipping line 404: expected 1 fields, saw 8\\nSkipping line 405: expected 1 fields, saw 8\\nSkipping line 406: expected 1 fields, saw 8\\n'\n"
     ]
    }
   ],
   "source": [
    "base_dir = 'D:'+os.sep+'Dados'+os.sep+'OneDrive'+os.sep+'Doutorado'+os.sep\n",
    "ds_files = base_dir + 'Datasets' + os.sep + 'Magellan Data Repository' + os.sep +'Magellan' + os.sep\n",
    "out_file = base_dir + 'workspace'+os.sep+'tl_pprl2'+os.sep+'datasets'+os.sep+'movies'+os.sep\n",
    "\n",
    "inputZip = 'movies2.zip'\n",
    "data = 'labeled_data'\n",
    "\n",
    "\n",
    "zip_file = 'processed_imdb-tmd.zip'\n",
    "\n",
    "df = read(ds_files+inputZip,data,skip_coments=True)"
   ]
  },
  {
   "cell_type": "code",
   "execution_count": 247,
   "metadata": {},
   "outputs": [
    {
     "data": {
      "text/plain": [
       "Index(['_id', 'ltable.ID', 'rtable.ID', 'ltable.title', 'ltable.year',\n",
       "       'rtable.title', 'rtable.year', 'class_label'],\n",
       "      dtype='object')"
      ]
     },
     "execution_count": 247,
     "metadata": {},
     "output_type": "execute_result"
    }
   ],
   "source": [
    "df.columns"
   ]
  },
  {
   "cell_type": "code",
   "execution_count": 248,
   "metadata": {},
   "outputs": [],
   "source": [
    "# gabarito\n",
    "gs = df[df.class_label==1].iloc[:,[1,2]]\n",
    "\n",
    "colunas_1 =  [ 'id', 'title', 'year' ]\n",
    "\n",
    "colunas_2 =  colunas_1\n",
    "\n",
    "n_atibutos = len(colunas_1) -1\n",
    "\n",
    "inicio_atributos_ds1 = 3\n",
    "fim_atributos_ds1 = inicio_atributos_ds1 + n_atibutos\n",
    "\n",
    "\n",
    "atts = [1] + list(range(inicio_atributos_ds1,fim_atributos_ds1))\n",
    "ds1 = df.iloc[:,atts]\n",
    "\n",
    "n_atibutos = len(colunas_2) -1\n",
    "atts = [2] + list(range(fim_atributos_ds1,fim_atributos_ds1+n_atibutos))\n",
    "ds2 = df.iloc[:,atts]\n",
    "\n",
    "ds1.columns = colunas_1\n",
    "ds2.columns = colunas_2"
   ]
  },
  {
   "cell_type": "code",
   "execution_count": 218,
   "metadata": {},
   "outputs": [
    {
     "name": "stderr",
     "output_type": "stream",
     "text": [
      "D:\\Programas\\Anaconda3\\envs\\utils\\lib\\site-packages\\pandas\\core\\generic.py:5303: SettingWithCopyWarning: \n",
      "A value is trying to be set on a copy of a slice from a DataFrame.\n",
      "Try using .loc[row_indexer,col_indexer] = value instead\n",
      "\n",
      "See the caveats in the documentation: https://pandas.pydata.org/pandas-docs/stable/user_guide/indexing.html#returning-a-view-versus-a-copy\n",
      "  self[name] = value\n"
     ]
    }
   ],
   "source": [
    "ds2.Year = ds2.Year.astype(str)\n",
    "ds2.Year = ds2.Year.astype(str)"
   ]
  },
  {
   "cell_type": "code",
   "execution_count": 251,
   "metadata": {},
   "outputs": [],
   "source": [
    "ds1 = retornar_ds_limpo(ds1)\n",
    "ds2 = retornar_ds_limpo(ds2)"
   ]
  },
  {
   "cell_type": "markdown",
   "metadata": {},
   "source": [
    "#### Estatisticas"
   ]
  },
  {
   "cell_type": "code",
   "execution_count": 252,
   "metadata": {},
   "outputs": [
    {
     "data": {
      "text/html": [
       "<div>\n",
       "<style scoped>\n",
       "    .dataframe tbody tr th:only-of-type {\n",
       "        vertical-align: middle;\n",
       "    }\n",
       "\n",
       "    .dataframe tbody tr th {\n",
       "        vertical-align: top;\n",
       "    }\n",
       "\n",
       "    .dataframe thead th {\n",
       "        text-align: right;\n",
       "    }\n",
       "</style>\n",
       "<table border=\"1\" class=\"dataframe\">\n",
       "  <thead>\n",
       "    <tr style=\"text-align: right;\">\n",
       "      <th></th>\n",
       "      <th>title</th>\n",
       "      <th>ds</th>\n",
       "    </tr>\n",
       "    <tr>\n",
       "      <th>metrica</th>\n",
       "      <th></th>\n",
       "      <th></th>\n",
       "    </tr>\n",
       "  </thead>\n",
       "  <tbody>\n",
       "    <tr>\n",
       "      <th>count</th>\n",
       "      <td>359</td>\n",
       "      <td>fodors</td>\n",
       "    </tr>\n",
       "    <tr>\n",
       "      <th>unique</th>\n",
       "      <td>359</td>\n",
       "      <td>fodors</td>\n",
       "    </tr>\n",
       "    <tr>\n",
       "      <th>top</th>\n",
       "      <td>End of Watch</td>\n",
       "      <td>fodors</td>\n",
       "    </tr>\n",
       "    <tr>\n",
       "      <th>freq</th>\n",
       "      <td>1</td>\n",
       "      <td>fodors</td>\n",
       "    </tr>\n",
       "    <tr>\n",
       "      <th>nan</th>\n",
       "      <td>0</td>\n",
       "      <td>fodors</td>\n",
       "    </tr>\n",
       "  </tbody>\n",
       "</table>\n",
       "</div>"
      ],
      "text/plain": [
       "                title      ds\n",
       "metrica                      \n",
       "count             359  fodors\n",
       "unique            359  fodors\n",
       "top      End of Watch  fodors\n",
       "freq                1  fodors\n",
       "nan                 0  fodors"
      ]
     },
     "metadata": {},
     "output_type": "display_data"
    },
    {
     "data": {
      "text/html": [
       "<div>\n",
       "<style scoped>\n",
       "    .dataframe tbody tr th:only-of-type {\n",
       "        vertical-align: middle;\n",
       "    }\n",
       "\n",
       "    .dataframe tbody tr th {\n",
       "        vertical-align: top;\n",
       "    }\n",
       "\n",
       "    .dataframe thead th {\n",
       "        text-align: right;\n",
       "    }\n",
       "</style>\n",
       "<table border=\"1\" class=\"dataframe\">\n",
       "  <thead>\n",
       "    <tr style=\"text-align: right;\">\n",
       "      <th></th>\n",
       "      <th>title</th>\n",
       "      <th>ds</th>\n",
       "    </tr>\n",
       "    <tr>\n",
       "      <th>metrica</th>\n",
       "      <th></th>\n",
       "      <th></th>\n",
       "    </tr>\n",
       "  </thead>\n",
       "  <tbody>\n",
       "    <tr>\n",
       "      <th>count</th>\n",
       "      <td>354</td>\n",
       "      <td>zagats</td>\n",
       "    </tr>\n",
       "    <tr>\n",
       "      <th>unique</th>\n",
       "      <td>354</td>\n",
       "      <td>zagats</td>\n",
       "    </tr>\n",
       "    <tr>\n",
       "      <th>top</th>\n",
       "      <td>The Seeker: The Dark Is Rising</td>\n",
       "      <td>zagats</td>\n",
       "    </tr>\n",
       "    <tr>\n",
       "      <th>freq</th>\n",
       "      <td>1</td>\n",
       "      <td>zagats</td>\n",
       "    </tr>\n",
       "    <tr>\n",
       "      <th>nan</th>\n",
       "      <td>0</td>\n",
       "      <td>zagats</td>\n",
       "    </tr>\n",
       "  </tbody>\n",
       "</table>\n",
       "</div>"
      ],
      "text/plain": [
       "                                  title      ds\n",
       "metrica                                        \n",
       "count                               354  zagats\n",
       "unique                              354  zagats\n",
       "top      The Seeker: The Dark Is Rising  zagats\n",
       "freq                                  1  zagats\n",
       "nan                                   0  zagats"
      ]
     },
     "metadata": {},
     "output_type": "display_data"
    }
   ],
   "source": [
    "nan_list1 = ds1.isnull().sum()\n",
    "nan_list2 = ds2.isnull().sum()\n",
    "\n",
    "estatiscas1 = ds1.describe(include='object')\n",
    "estatiscas2 = ds2.describe(include='object')\n",
    "\n",
    "sdf1 = gerar_estatiscas_df(nan_list1,estatiscas1)\n",
    "sdf1['ds'] = ds1_name\n",
    "\n",
    "sdf2 = gerar_estatiscas_df(nan_list2,estatiscas2)\n",
    "sdf2['ds'] = ds2_name\n",
    "\n",
    "estatiscas = pd.concat([sdf1,sdf2])#.to_csv(ds_files+'stats_abt-buy.csv',sep=';')\n",
    "\n",
    "display(sdf1)\n",
    "display(sdf2)"
   ]
  },
  {
   "cell_type": "markdown",
   "metadata": {},
   "source": [
    "#### Limpando os dados\n",
    "\n",
    "Sem valores nulos"
   ]
  },
  {
   "cell_type": "code",
   "execution_count": 253,
   "metadata": {},
   "outputs": [
    {
     "data": {
      "text/html": [
       "<div>\n",
       "<style scoped>\n",
       "    .dataframe tbody tr th:only-of-type {\n",
       "        vertical-align: middle;\n",
       "    }\n",
       "\n",
       "    .dataframe tbody tr th {\n",
       "        vertical-align: top;\n",
       "    }\n",
       "\n",
       "    .dataframe thead th {\n",
       "        text-align: right;\n",
       "    }\n",
       "</style>\n",
       "<table border=\"1\" class=\"dataframe\">\n",
       "  <thead>\n",
       "    <tr style=\"text-align: right;\">\n",
       "      <th></th>\n",
       "      <th>id1</th>\n",
       "      <th>id2</th>\n",
       "    </tr>\n",
       "  </thead>\n",
       "  <tbody>\n",
       "  </tbody>\n",
       "</table>\n",
       "</div>"
      ],
      "text/plain": [
       "Empty DataFrame\n",
       "Columns: [id1, id2]\n",
       "Index: []"
      ]
     },
     "metadata": {},
     "output_type": "display_data"
    },
    {
     "data": {
      "text/html": [
       "<div>\n",
       "<style scoped>\n",
       "    .dataframe tbody tr th:only-of-type {\n",
       "        vertical-align: middle;\n",
       "    }\n",
       "\n",
       "    .dataframe tbody tr th {\n",
       "        vertical-align: top;\n",
       "    }\n",
       "\n",
       "    .dataframe thead th {\n",
       "        text-align: right;\n",
       "    }\n",
       "</style>\n",
       "<table border=\"1\" class=\"dataframe\">\n",
       "  <thead>\n",
       "    <tr style=\"text-align: right;\">\n",
       "      <th></th>\n",
       "      <th>id1</th>\n",
       "      <th>id2</th>\n",
       "    </tr>\n",
       "  </thead>\n",
       "  <tbody>\n",
       "  </tbody>\n",
       "</table>\n",
       "</div>"
      ],
      "text/plain": [
       "Empty DataFrame\n",
       "Columns: [id1, id2]\n",
       "Index: []"
      ]
     },
     "metadata": {},
     "output_type": "display_data"
    }
   ],
   "source": [
    "gs.columns = ['id1','id2']\n",
    "gs.id1 = gs.id1.astype(str)\n",
    "gs.id2 = gs.id2.astype(str)\n",
    "da, db = verify_gg4cc(gs)\n",
    "display(da.head(5))\n",
    "display(db.head(5))"
   ]
  },
  {
   "cell_type": "code",
   "execution_count": 222,
   "metadata": {},
   "outputs": [
    {
     "name": "stdout",
     "output_type": "stream",
     "text": [
      "[]\n",
      "[]\n"
     ]
    }
   ],
   "source": [
    "remover_da_lista2 = []\n",
    "remover_da_lista1 = []\n",
    "\n",
    "for i in da.id1.unique():\n",
    "    remover_da_lista2.append(da[da.id1 == i].id2.values[-1])\n",
    "\n",
    "for i in db.id2.unique():\n",
    "    remover_da_lista1.append(db[db.id2 == i].id1.values[-1])\n",
    "\n",
    "print(remover_da_lista1)\n",
    "print(remover_da_lista2)"
   ]
  },
  {
   "cell_type": "code",
   "execution_count": 223,
   "metadata": {},
   "outputs": [],
   "source": [
    "cds1 = ds1[~ds1.id.isin(remover_da_lista1)]\n",
    "cds2 = ds2[~ds2.id.isin(remover_da_lista2)]\n",
    "\n",
    "gs = gs[~gs.id1.isin(remover_da_lista1)]\n",
    "gs = gs[~gs.id2.isin(remover_da_lista2)]\n",
    "\n",
    "ds1 = cds1\n",
    "ds2 = cds2"
   ]
  },
  {
   "cell_type": "code",
   "execution_count": 224,
   "metadata": {},
   "outputs": [
    {
     "data": {
      "text/html": [
       "<div>\n",
       "<style scoped>\n",
       "    .dataframe tbody tr th:only-of-type {\n",
       "        vertical-align: middle;\n",
       "    }\n",
       "\n",
       "    .dataframe tbody tr th {\n",
       "        vertical-align: top;\n",
       "    }\n",
       "\n",
       "    .dataframe thead th {\n",
       "        text-align: right;\n",
       "    }\n",
       "</style>\n",
       "<table border=\"1\" class=\"dataframe\">\n",
       "  <thead>\n",
       "    <tr style=\"text-align: right;\">\n",
       "      <th></th>\n",
       "      <th>id1</th>\n",
       "      <th>id2</th>\n",
       "    </tr>\n",
       "  </thead>\n",
       "  <tbody>\n",
       "  </tbody>\n",
       "</table>\n",
       "</div>"
      ],
      "text/plain": [
       "Empty DataFrame\n",
       "Columns: [id1, id2]\n",
       "Index: []"
      ]
     },
     "metadata": {},
     "output_type": "display_data"
    },
    {
     "data": {
      "text/html": [
       "<div>\n",
       "<style scoped>\n",
       "    .dataframe tbody tr th:only-of-type {\n",
       "        vertical-align: middle;\n",
       "    }\n",
       "\n",
       "    .dataframe tbody tr th {\n",
       "        vertical-align: top;\n",
       "    }\n",
       "\n",
       "    .dataframe thead th {\n",
       "        text-align: right;\n",
       "    }\n",
       "</style>\n",
       "<table border=\"1\" class=\"dataframe\">\n",
       "  <thead>\n",
       "    <tr style=\"text-align: right;\">\n",
       "      <th></th>\n",
       "      <th>id1</th>\n",
       "      <th>id2</th>\n",
       "    </tr>\n",
       "  </thead>\n",
       "  <tbody>\n",
       "  </tbody>\n",
       "</table>\n",
       "</div>"
      ],
      "text/plain": [
       "Empty DataFrame\n",
       "Columns: [id1, id2]\n",
       "Index: []"
      ]
     },
     "metadata": {},
     "output_type": "display_data"
    }
   ],
   "source": [
    "da, db = verify_gg4cc(gs)\n",
    "display(da.head(5))\n",
    "display(db.head(5))"
   ]
  },
  {
   "cell_type": "markdown",
   "metadata": {},
   "source": [
    "Dataset clean-clean"
   ]
  },
  {
   "cell_type": "code",
   "execution_count": 254,
   "metadata": {
    "run_control": {
     "marked": true
    }
   },
   "outputs": [],
   "source": [
    "save_zip(ds1,ds2,gs,estatiscas,out_file + zip_file)"
   ]
  },
  {
   "cell_type": "markdown",
   "metadata": {
    "heading_collapsed": true
   },
   "source": [
    "# Corleone"
   ]
  },
  {
   "cell_type": "markdown",
   "metadata": {
    "heading_collapsed": true,
    "hidden": true
   },
   "source": [
    "## restaurants fodors-zagats"
   ]
  },
  {
   "cell_type": "code",
   "execution_count": 21,
   "metadata": {
    "hidden": true
   },
   "outputs": [],
   "source": [
    "base_dir = 'D:'+os.sep+'Dados'+os.sep+'OneDrive'+os.sep+'Doutorado'+os.sep\n",
    "ds_files = base_dir + 'Datasets' + os.sep + 'Magellan Data Repository' + os.sep +'Corleone' + os.sep\n",
    "out_file = base_dir + 'workspace'+os.sep+'tl_pprl2'+os.sep+'datasets'+os.sep+'restaurants'+os.sep\n",
    "\n",
    "inputZip = 'restaurants.zip'\n",
    "ds1_name = 'fodors'\n",
    "ds2_name = 'zagats'\n",
    "gs_name ='matches_fodors_zagats'\n",
    "\n",
    "\n",
    "zip_file = 'processed_fodors-zagats.zip'\n",
    "\n",
    "ds1 = read(ds_files+inputZip,ds1_name,quote=\"'\")\n",
    "ds2 = read(ds_files+inputZip,ds2_name,quote=\"'\")\n",
    "gs = read(ds_files+inputZip,gs_name)"
   ]
  },
  {
   "cell_type": "markdown",
   "metadata": {
    "hidden": true
   },
   "source": [
    "### Limpando"
   ]
  },
  {
   "cell_type": "code",
   "execution_count": 25,
   "metadata": {
    "hidden": true
   },
   "outputs": [],
   "source": [
    "# ds1.pop('title')\n",
    "# z = ds2.pop('title')\n",
    "# del z\n",
    "\n",
    "ds1.name = ds1.name.astype(str)\n",
    "ds1.addr = ds1.addr.astype(str)\n",
    "ds1.city = ds1.city.astype(str)\n",
    "ds1.phone = ds1.phone.astype(str)\n",
    "\n",
    "ds2.name = ds2.name.astype(str)\n",
    "ds2.addr = ds2.addr.astype(str)\n",
    "ds2.city = ds2.city.astype(str)\n",
    "ds2.phone = ds2.phone.astype(str)"
   ]
  },
  {
   "cell_type": "markdown",
   "metadata": {
    "hidden": true
   },
   "source": [
    "### Estatisticas"
   ]
  },
  {
   "cell_type": "code",
   "execution_count": 26,
   "metadata": {
    "hidden": true
   },
   "outputs": [
    {
     "data": {
      "text/html": [
       "<div>\n",
       "<style scoped>\n",
       "    .dataframe tbody tr th:only-of-type {\n",
       "        vertical-align: middle;\n",
       "    }\n",
       "\n",
       "    .dataframe tbody tr th {\n",
       "        vertical-align: top;\n",
       "    }\n",
       "\n",
       "    .dataframe thead th {\n",
       "        text-align: right;\n",
       "    }\n",
       "</style>\n",
       "<table border=\"1\" class=\"dataframe\">\n",
       "  <thead>\n",
       "    <tr style=\"text-align: right;\">\n",
       "      <th></th>\n",
       "      <th>name</th>\n",
       "      <th>addr</th>\n",
       "      <th>city</th>\n",
       "      <th>phone</th>\n",
       "      <th>type</th>\n",
       "      <th>ds</th>\n",
       "    </tr>\n",
       "    <tr>\n",
       "      <th>metrica</th>\n",
       "      <th></th>\n",
       "      <th></th>\n",
       "      <th></th>\n",
       "      <th></th>\n",
       "      <th></th>\n",
       "      <th></th>\n",
       "    </tr>\n",
       "  </thead>\n",
       "  <tbody>\n",
       "    <tr>\n",
       "      <th>count</th>\n",
       "      <td>533</td>\n",
       "      <td>533</td>\n",
       "      <td>533</td>\n",
       "      <td>533</td>\n",
       "      <td>532</td>\n",
       "      <td>fodors</td>\n",
       "    </tr>\n",
       "    <tr>\n",
       "      <th>unique</th>\n",
       "      <td>528</td>\n",
       "      <td>519</td>\n",
       "      <td>17</td>\n",
       "      <td>528</td>\n",
       "      <td>40</td>\n",
       "      <td>fodors</td>\n",
       "    </tr>\n",
       "    <tr>\n",
       "      <th>top</th>\n",
       "      <td>morton\\s'</td>\n",
       "      <td>3570 las vegas blvd. s</td>\n",
       "      <td>new york</td>\n",
       "      <td>702/731-7547</td>\n",
       "      <td>american</td>\n",
       "      <td>fodors</td>\n",
       "    </tr>\n",
       "    <tr>\n",
       "      <th>freq</th>\n",
       "      <td>2</td>\n",
       "      <td>5</td>\n",
       "      <td>250</td>\n",
       "      <td>2</td>\n",
       "      <td>137</td>\n",
       "      <td>fodors</td>\n",
       "    </tr>\n",
       "    <tr>\n",
       "      <th>nan</th>\n",
       "      <td>0</td>\n",
       "      <td>0</td>\n",
       "      <td>0</td>\n",
       "      <td>0</td>\n",
       "      <td>0</td>\n",
       "      <td>fodors</td>\n",
       "    </tr>\n",
       "  </tbody>\n",
       "</table>\n",
       "</div>"
      ],
      "text/plain": [
       "              name                    addr      city         phone      type  \\\n",
       "metrica                                                                        \n",
       "count          533                     533       533           533       532   \n",
       "unique         528                     519        17           528        40   \n",
       "top      morton\\s'  3570 las vegas blvd. s  new york  702/731-7547  american   \n",
       "freq             2                       5       250             2       137   \n",
       "nan              0                       0         0             0         0   \n",
       "\n",
       "             ds  \n",
       "metrica          \n",
       "count    fodors  \n",
       "unique   fodors  \n",
       "top      fodors  \n",
       "freq     fodors  \n",
       "nan      fodors  "
      ]
     },
     "metadata": {},
     "output_type": "display_data"
    },
    {
     "data": {
      "text/html": [
       "<div>\n",
       "<style scoped>\n",
       "    .dataframe tbody tr th:only-of-type {\n",
       "        vertical-align: middle;\n",
       "    }\n",
       "\n",
       "    .dataframe tbody tr th {\n",
       "        vertical-align: top;\n",
       "    }\n",
       "\n",
       "    .dataframe thead th {\n",
       "        text-align: right;\n",
       "    }\n",
       "</style>\n",
       "<table border=\"1\" class=\"dataframe\">\n",
       "  <thead>\n",
       "    <tr style=\"text-align: right;\">\n",
       "      <th></th>\n",
       "      <th>name</th>\n",
       "      <th>addr</th>\n",
       "      <th>city</th>\n",
       "      <th>phone</th>\n",
       "      <th>type</th>\n",
       "      <th>ds</th>\n",
       "    </tr>\n",
       "    <tr>\n",
       "      <th>metrica</th>\n",
       "      <th></th>\n",
       "      <th></th>\n",
       "      <th></th>\n",
       "      <th></th>\n",
       "      <th></th>\n",
       "      <th></th>\n",
       "    </tr>\n",
       "  </thead>\n",
       "  <tbody>\n",
       "    <tr>\n",
       "      <th>count</th>\n",
       "      <td>331</td>\n",
       "      <td>331</td>\n",
       "      <td>331</td>\n",
       "      <td>331</td>\n",
       "      <td>331</td>\n",
       "      <td>zagats</td>\n",
       "    </tr>\n",
       "    <tr>\n",
       "      <th>unique</th>\n",
       "      <td>331</td>\n",
       "      <td>322</td>\n",
       "      <td>46</td>\n",
       "      <td>329</td>\n",
       "      <td>58</td>\n",
       "      <td>zagats</td>\n",
       "    </tr>\n",
       "    <tr>\n",
       "      <th>top</th>\n",
       "      <td>piero\\s restaurant'</td>\n",
       "      <td>3799 las vegas blvd. s.</td>\n",
       "      <td>new york city</td>\n",
       "      <td>404-659-0400</td>\n",
       "      <td>american (new)</td>\n",
       "      <td>zagats</td>\n",
       "    </tr>\n",
       "    <tr>\n",
       "      <th>freq</th>\n",
       "      <td>1</td>\n",
       "      <td>3</td>\n",
       "      <td>88</td>\n",
       "      <td>2</td>\n",
       "      <td>25</td>\n",
       "      <td>zagats</td>\n",
       "    </tr>\n",
       "    <tr>\n",
       "      <th>nan</th>\n",
       "      <td>0</td>\n",
       "      <td>0</td>\n",
       "      <td>0</td>\n",
       "      <td>0</td>\n",
       "      <td>0</td>\n",
       "      <td>zagats</td>\n",
       "    </tr>\n",
       "  </tbody>\n",
       "</table>\n",
       "</div>"
      ],
      "text/plain": [
       "                        name                     addr           city  \\\n",
       "metrica                                                                \n",
       "count                    331                      331            331   \n",
       "unique                   331                      322             46   \n",
       "top      piero\\s restaurant'  3799 las vegas blvd. s.  new york city   \n",
       "freq                       1                        3             88   \n",
       "nan                        0                        0              0   \n",
       "\n",
       "                phone            type      ds  \n",
       "metrica                                        \n",
       "count             331             331  zagats  \n",
       "unique            329              58  zagats  \n",
       "top      404-659-0400  american (new)  zagats  \n",
       "freq                2              25  zagats  \n",
       "nan                 0               0  zagats  "
      ]
     },
     "metadata": {},
     "output_type": "display_data"
    }
   ],
   "source": [
    "nan_list1 = ds1.isnull().sum()\n",
    "nan_list2 = ds2.isnull().sum()\n",
    "\n",
    "estatiscas1 = ds1.describe(include='object')\n",
    "estatiscas2 = ds2.describe(include='object')\n",
    "\n",
    "sdf1 = gerar_estatiscas_df(nan_list1,estatiscas1)\n",
    "sdf1['ds'] = ds1_name\n",
    "\n",
    "sdf2 = gerar_estatiscas_df(nan_list2,estatiscas2)\n",
    "sdf2['ds'] = ds2_name\n",
    "\n",
    "estatiscas = pd.concat([sdf1,sdf2])#.to_csv(ds_files+'stats_abt-buy.csv',sep=';')\n",
    "\n",
    "display(sdf1)\n",
    "display(sdf2)"
   ]
  },
  {
   "cell_type": "markdown",
   "metadata": {
    "hidden": true
   },
   "source": [
    "### Limpando os dados\n",
    "\n",
    "Sem valores nulos"
   ]
  },
  {
   "cell_type": "code",
   "execution_count": 27,
   "metadata": {
    "hidden": true
   },
   "outputs": [
    {
     "data": {
      "text/html": [
       "<div>\n",
       "<style scoped>\n",
       "    .dataframe tbody tr th:only-of-type {\n",
       "        vertical-align: middle;\n",
       "    }\n",
       "\n",
       "    .dataframe tbody tr th {\n",
       "        vertical-align: top;\n",
       "    }\n",
       "\n",
       "    .dataframe thead th {\n",
       "        text-align: right;\n",
       "    }\n",
       "</style>\n",
       "<table border=\"1\" class=\"dataframe\">\n",
       "  <thead>\n",
       "    <tr style=\"text-align: right;\">\n",
       "      <th></th>\n",
       "      <th>id1</th>\n",
       "      <th>id2</th>\n",
       "    </tr>\n",
       "  </thead>\n",
       "  <tbody>\n",
       "  </tbody>\n",
       "</table>\n",
       "</div>"
      ],
      "text/plain": [
       "Empty DataFrame\n",
       "Columns: [id1, id2]\n",
       "Index: []"
      ]
     },
     "metadata": {},
     "output_type": "display_data"
    },
    {
     "data": {
      "text/html": [
       "<div>\n",
       "<style scoped>\n",
       "    .dataframe tbody tr th:only-of-type {\n",
       "        vertical-align: middle;\n",
       "    }\n",
       "\n",
       "    .dataframe tbody tr th {\n",
       "        vertical-align: top;\n",
       "    }\n",
       "\n",
       "    .dataframe thead th {\n",
       "        text-align: right;\n",
       "    }\n",
       "</style>\n",
       "<table border=\"1\" class=\"dataframe\">\n",
       "  <thead>\n",
       "    <tr style=\"text-align: right;\">\n",
       "      <th></th>\n",
       "      <th>id1</th>\n",
       "      <th>id2</th>\n",
       "    </tr>\n",
       "  </thead>\n",
       "  <tbody>\n",
       "  </tbody>\n",
       "</table>\n",
       "</div>"
      ],
      "text/plain": [
       "Empty DataFrame\n",
       "Columns: [id1, id2]\n",
       "Index: []"
      ]
     },
     "metadata": {},
     "output_type": "display_data"
    }
   ],
   "source": [
    "gs.columns = ['id1','id2']\n",
    "gs.id1 = gs.id1.astype(str)\n",
    "gs.id2 = gs.id2.astype(str)\n",
    "da, db = verify_gg4cc(gs)\n",
    "display(da.head(5))\n",
    "display(db.head(5))"
   ]
  },
  {
   "cell_type": "markdown",
   "metadata": {
    "hidden": true
   },
   "source": [
    "Dataset clean-clean"
   ]
  },
  {
   "cell_type": "markdown",
   "metadata": {
    "hidden": true
   },
   "source": [
    "### Salvando os dados"
   ]
  },
  {
   "cell_type": "code",
   "execution_count": 28,
   "metadata": {
    "hidden": true
   },
   "outputs": [],
   "source": [
    "save_zip(ds1,ds2,gs,estatiscas,out_file + zip_file)"
   ]
  },
  {
   "cell_type": "code",
   "execution_count": null,
   "metadata": {
    "hidden": true
   },
   "outputs": [],
   "source": []
  }
 ],
 "metadata": {
  "kernelspec": {
   "display_name": "Python 3",
   "language": "python",
   "name": "python3"
  },
  "language_info": {
   "codemirror_mode": {
    "name": "ipython",
    "version": 3
   },
   "file_extension": ".py",
   "mimetype": "text/x-python",
   "name": "python",
   "nbconvert_exporter": "python",
   "pygments_lexer": "ipython3",
   "version": "3.7.7"
  },
  "latex_envs": {
   "LaTeX_envs_menu_present": true,
   "autoclose": false,
   "autocomplete": true,
   "bibliofile": "biblio.bib",
   "cite_by": "apalike",
   "current_citInitial": 1,
   "eqLabelWithNumbers": true,
   "eqNumInitial": 1,
   "hotkeys": {
    "equation": "Ctrl-E",
    "itemize": "Ctrl-I"
   },
   "labels_anchors": false,
   "latex_user_defs": false,
   "report_style_numbering": false,
   "user_envs_cfg": false
  },
  "toc": {
   "base_numbering": 1,
   "nav_menu": {},
   "number_sections": true,
   "sideBar": true,
   "skip_h1_title": false,
   "title_cell": "Table of Contents",
   "title_sidebar": "Contents",
   "toc_cell": false,
   "toc_position": {},
   "toc_section_display": true,
   "toc_window_display": true
  }
 },
 "nbformat": 4,
 "nbformat_minor": 1
}
