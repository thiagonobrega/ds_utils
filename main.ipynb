{
 "cells": [
  {
   "cell_type": "code",
   "execution_count": 2,
   "metadata": {},
   "outputs": [],
   "source": [
    "import pandas as pd\n",
    "import zipfile\n",
    "import os"
   ]
  },
  {
   "cell_type": "code",
   "execution_count": null,
   "metadata": {
    "pycharm": {
     "is_executing": true
    }
   },
   "outputs": [],
   "source": []
  },
  {
   "cell_type": "code",
   "execution_count": 5,
   "metadata": {
    "pycharm": {
     "is_executing": true
    }
   },
   "outputs": [],
   "source": [
    "def read_data(ano,ds_files):\n",
    "    zipf = 'consulta_cand_'+ano+'.zip' #2012\n",
    "    zf = zipfile.ZipFile(ds_files+zipf) \n",
    "    first = True\n",
    "\n",
    "    nl = zipfile.ZipFile.namelist(zf)\n",
    "    for i in range(0,len(nl)):\n",
    "        fn = nl[i]\n",
    "        if 'txt' in fn:\n",
    "            if not 'BRASIL' in fn:\n",
    "                print(fn)\n",
    "                z = pd.read_csv(zf.open(fn),header=None,encoding=\"iso-8859-1\",sep=\";\",\n",
    "                    error_bad_lines=False)\n",
    "                if first:\n",
    "                    first = False\n",
    "                    df = z\n",
    "                else:\n",
    "                    df = pd.concat([df, z])\n",
    "    return df"
   ]
  },
  {
   "cell_type": "code",
   "execution_count": 111,
   "metadata": {},
   "outputs": [],
   "source": [
    "ds_files = 'D:\\Dados\\OneDrive\\Doutorado\\Datasets\\\\tse\\\\'"
   ]
  },
  {
   "cell_type": "code",
   "execution_count": 112,
   "metadata": {},
   "outputs": [
    {
     "data": {
      "text/plain": [
       "39520"
      ]
     },
     "execution_count": 112,
     "metadata": {},
     "output_type": "execute_result"
    }
   ],
   "source": [
    "len(df)"
   ]
  },
  {
   "cell_type": "code",
   "execution_count": 113,
   "metadata": {},
   "outputs": [
    {
     "name": "stdout",
     "output_type": "stream",
     "text": [
      "consulta_cand_2008_AC.txt\n",
      "consulta_cand_2008_AL.txt\n",
      "consulta_cand_2008_AM.txt\n",
      "consulta_cand_2008_AP.txt\n",
      "consulta_cand_2008_BA.txt\n",
      "consulta_cand_2008_CE.txt\n",
      "consulta_cand_2008_ES.txt\n",
      "consulta_cand_2008_GO.txt\n",
      "consulta_cand_2008_MA.txt\n",
      "consulta_cand_2008_MG.txt\n",
      "consulta_cand_2008_MS.txt\n",
      "consulta_cand_2008_MT.txt\n",
      "consulta_cand_2008_PA.txt\n",
      "consulta_cand_2008_PB.txt\n",
      "consulta_cand_2008_PE.txt\n",
      "consulta_cand_2008_PI.txt\n",
      "consulta_cand_2008_PR.txt\n"
     ]
    },
    {
     "name": "stderr",
     "output_type": "stream",
     "text": [
      "D:\\Programas\\Anaconda3\\envs\\utils\\lib\\site-packages\\IPython\\core\\interactiveshell.py:3254: DtypeWarning: Columns (15,17,20,24,29,31,33,35,38,41) have mixed types.Specify dtype option on import or set low_memory=False.\n",
      "  if (await self.run_code(code, result,  async_=asy)):\n"
     ]
    },
    {
     "name": "stdout",
     "output_type": "stream",
     "text": [
      "consulta_cand_2008_RJ.txt\n",
      "consulta_cand_2008_RN.txt\n",
      "consulta_cand_2008_RO.txt\n",
      "consulta_cand_2008_RR.txt\n",
      "consulta_cand_2008_RS.txt\n",
      "consulta_cand_2008_SC.txt\n",
      "consulta_cand_2008_SE.txt\n",
      "consulta_cand_2008_SP.txt\n"
     ]
    },
    {
     "name": "stderr",
     "output_type": "stream",
     "text": [
      "D:\\Programas\\Anaconda3\\envs\\utils\\lib\\site-packages\\IPython\\core\\interactiveshell.py:3254: DtypeWarning: Columns (13,15,17,20,24,29,31,33,35,38,41) have mixed types.Specify dtype option on import or set low_memory=False.\n",
      "  if (await self.run_code(code, result,  async_=asy)):\n"
     ]
    },
    {
     "name": "stdout",
     "output_type": "stream",
     "text": [
      "consulta_cand_2008_TO.txt\n"
     ]
    },
    {
     "data": {
      "text/plain": [
       "384532"
      ]
     },
     "execution_count": 113,
     "metadata": {},
     "output_type": "execute_result"
    }
   ],
   "source": [
    "df08 = read_data('2008',ds_files)\n",
    "len(df08)"
   ]
  },
  {
   "cell_type": "code",
   "execution_count": 114,
   "metadata": {},
   "outputs": [
    {
     "name": "stdout",
     "output_type": "stream",
     "text": [
      "consulta_cand_2012_AC.txt\n",
      "consulta_cand_2012_AL.txt\n",
      "consulta_cand_2012_AM.txt\n",
      "consulta_cand_2012_AP.txt\n",
      "consulta_cand_2012_BA.txt\n",
      "consulta_cand_2012_CE.txt\n",
      "consulta_cand_2012_ES.txt\n",
      "consulta_cand_2012_GO.txt\n",
      "consulta_cand_2012_MA.txt\n",
      "consulta_cand_2012_MG.txt\n",
      "consulta_cand_2012_MS.txt\n",
      "consulta_cand_2012_MT.txt\n",
      "consulta_cand_2012_PA.txt\n",
      "consulta_cand_2012_PB.txt\n",
      "consulta_cand_2012_PE.txt\n",
      "consulta_cand_2012_PI.txt\n",
      "consulta_cand_2012_PR.txt\n",
      "consulta_cand_2012_RJ.txt\n",
      "consulta_cand_2012_RN.txt\n",
      "consulta_cand_2012_RO.txt\n",
      "consulta_cand_2012_RR.txt\n",
      "consulta_cand_2012_RS.txt\n",
      "consulta_cand_2012_SC.txt\n",
      "consulta_cand_2012_SE.txt\n",
      "consulta_cand_2012_SP.txt\n",
      "consulta_cand_2012_TO.txt\n"
     ]
    },
    {
     "data": {
      "text/plain": [
       "483825"
      ]
     },
     "execution_count": 114,
     "metadata": {},
     "output_type": "execute_result"
    }
   ],
   "source": [
    "df12 = read_data('2012',ds_files)\n",
    "len(df12)"
   ]
  },
  {
   "cell_type": "markdown",
   "metadata": {},
   "source": [
    "# nc"
   ]
  },
  {
   "cell_type": "code",
   "execution_count": 3,
   "metadata": {},
   "outputs": [],
   "source": [
    "ds_files = 'D:\\Dados\\OneDrive\\Doutorado\\Datasets\\\\NCVR\\\\'\n",
    "file = '18102016'"
   ]
  },
  {
   "cell_type": "code",
   "execution_count": 4,
   "metadata": {},
   "outputs": [],
   "source": [
    "def read_data(ano,ds_files,nrow=None):\n",
    "    zipf = 'ncvoter_Statewide_'+ano+'.zip'\n",
    "    zf = zipfile.ZipFile(ds_files+zipf) \n",
    "    first = True\n",
    "\n",
    "    fn = zipfile.ZipFile.namelist(zf)[0]\n",
    "\n",
    "    if nrow is None:\n",
    "        df_chunk = pd.read_csv(zf.open(fn),header=0,encoding=\"iso-8859-1\",sep=\"\\t\",\n",
    "                        usecols=[68,9,10,11,13,14,15,16,29],\n",
    "                        chunksize=640000000,\n",
    "                        error_bad_lines=False)\n",
    "        chunk_list = []  # append each chunk df here \n",
    "    \n",
    "        # Each chunk is in df format\n",
    "        for chunk in df_chunk:  \n",
    "            # Once the data filtering is done, append the chunk to list\n",
    "            chunk_list.append(chunk)\n",
    "\n",
    "        # concat the list into dataframe \n",
    "        z = pd.concat(chunk_list)\n",
    "    else:\n",
    "        z = pd.read_csv(zf.open(fn),header=0,encoding=\"iso-8859-1\",sep=\"\\t\",\n",
    "                        usecols=[68,9,10,11,13,14,15,16,29],\n",
    "                        error_bad_lines=False,nrows=nrow)\n",
    "    return z"
   ]
  },
  {
   "cell_type": "code",
   "execution_count": 53,
   "metadata": {},
   "outputs": [],
   "source": [
    "del df"
   ]
  },
  {
   "cell_type": "code",
   "execution_count": 5,
   "metadata": {},
   "outputs": [],
   "source": [
    "df = read_data(file,ds_files,nrow=10)\n",
    "# df = read_data(file,ds_files)"
   ]
  },
  {
   "cell_type": "code",
   "execution_count": 6,
   "metadata": {},
   "outputs": [
    {
     "data": {
      "text/plain": [
       "10"
      ]
     },
     "execution_count": 6,
     "metadata": {},
     "output_type": "execute_result"
    }
   ],
   "source": [
    "len(df)"
   ]
  },
  {
   "cell_type": "code",
   "execution_count": 7,
   "metadata": {},
   "outputs": [
    {
     "data": {
      "text/html": [
       "<div>\n",
       "<style scoped>\n",
       "    .dataframe tbody tr th:only-of-type {\n",
       "        vertical-align: middle;\n",
       "    }\n",
       "\n",
       "    .dataframe tbody tr th {\n",
       "        vertical-align: top;\n",
       "    }\n",
       "\n",
       "    .dataframe thead th {\n",
       "        text-align: right;\n",
       "    }\n",
       "</style>\n",
       "<table border=\"1\" class=\"dataframe\">\n",
       "  <thead>\n",
       "    <tr style=\"text-align: right;\">\n",
       "      <th></th>\n",
       "      <th>last_name</th>\n",
       "      <th>first_name</th>\n",
       "      <th>middle_name</th>\n",
       "      <th>res_street_address</th>\n",
       "      <th>res_city_desc</th>\n",
       "      <th>state_cd</th>\n",
       "      <th>zip_code</th>\n",
       "      <th>birth_age</th>\n",
       "      <th>ncid</th>\n",
       "    </tr>\n",
       "  </thead>\n",
       "  <tbody>\n",
       "    <tr>\n",
       "      <th>0</th>\n",
       "      <td>AABEL</td>\n",
       "      <td>EVELYN</td>\n",
       "      <td>LARSEN</td>\n",
       "      <td>4430 E GREENSBORO-CHAPEL HILL RD</td>\n",
       "      <td>GRAHAM</td>\n",
       "      <td>NC</td>\n",
       "      <td>27253</td>\n",
       "      <td>80</td>\n",
       "      <td>AA56273</td>\n",
       "    </tr>\n",
       "    <tr>\n",
       "      <th>1</th>\n",
       "      <td>AARON</td>\n",
       "      <td>CHRISTINA</td>\n",
       "      <td>CASTAGNA</td>\n",
       "      <td>421  WHITT AVE</td>\n",
       "      <td>BURLINGTON</td>\n",
       "      <td>NC</td>\n",
       "      <td>27215</td>\n",
       "      <td>40</td>\n",
       "      <td>AA98377</td>\n",
       "    </tr>\n",
       "    <tr>\n",
       "      <th>2</th>\n",
       "      <td>AARON</td>\n",
       "      <td>CLAUDIA</td>\n",
       "      <td>HAYDEN</td>\n",
       "      <td>1013  EDITH ST</td>\n",
       "      <td>BURLINGTON</td>\n",
       "      <td>NC</td>\n",
       "      <td>27215</td>\n",
       "      <td>71</td>\n",
       "      <td>AA69747</td>\n",
       "    </tr>\n",
       "    <tr>\n",
       "      <th>3</th>\n",
       "      <td>AARON</td>\n",
       "      <td>JAMES</td>\n",
       "      <td>MICHAEL</td>\n",
       "      <td>5608  OLD CHEROKEE LN</td>\n",
       "      <td>GRAHAM</td>\n",
       "      <td>NC</td>\n",
       "      <td>27253</td>\n",
       "      <td>68</td>\n",
       "      <td>AA170513</td>\n",
       "    </tr>\n",
       "    <tr>\n",
       "      <th>4</th>\n",
       "      <td>AARON</td>\n",
       "      <td>NATHAN</td>\n",
       "      <td>EDWARD</td>\n",
       "      <td>421  WHITT AVE</td>\n",
       "      <td>BURLINGTON</td>\n",
       "      <td>NC</td>\n",
       "      <td>27215</td>\n",
       "      <td>40</td>\n",
       "      <td>AA91549</td>\n",
       "    </tr>\n",
       "    <tr>\n",
       "      <th>5</th>\n",
       "      <td>AARON</td>\n",
       "      <td>RICHARD</td>\n",
       "      <td>BRIAN</td>\n",
       "      <td>1013  EDITH ST</td>\n",
       "      <td>BURLINGTON</td>\n",
       "      <td>NC</td>\n",
       "      <td>27215</td>\n",
       "      <td>43</td>\n",
       "      <td>AA125250</td>\n",
       "    </tr>\n",
       "    <tr>\n",
       "      <th>6</th>\n",
       "      <td>AARON</td>\n",
       "      <td>SANDRA</td>\n",
       "      <td>ESCOBAR</td>\n",
       "      <td>1013  EDITH ST</td>\n",
       "      <td>BURLINGTON</td>\n",
       "      <td>NC</td>\n",
       "      <td>27215</td>\n",
       "      <td>41</td>\n",
       "      <td>AA181361</td>\n",
       "    </tr>\n",
       "    <tr>\n",
       "      <th>7</th>\n",
       "      <td>AARON</td>\n",
       "      <td>WILLIE</td>\n",
       "      <td>DALE</td>\n",
       "      <td>1013  EDITH ST</td>\n",
       "      <td>BURLINGTON</td>\n",
       "      <td>NC</td>\n",
       "      <td>27215</td>\n",
       "      <td>72</td>\n",
       "      <td>AA71983</td>\n",
       "    </tr>\n",
       "    <tr>\n",
       "      <th>8</th>\n",
       "      <td>AARONSON</td>\n",
       "      <td>GENA</td>\n",
       "      <td>HOLT</td>\n",
       "      <td>107  TERRYWOOD CT</td>\n",
       "      <td>HAW RIVER</td>\n",
       "      <td>NC</td>\n",
       "      <td>27258</td>\n",
       "      <td>44</td>\n",
       "      <td>AA111384</td>\n",
       "    </tr>\n",
       "    <tr>\n",
       "      <th>9</th>\n",
       "      <td>AARONSON</td>\n",
       "      <td>MICHAEL</td>\n",
       "      <td>CHARLES</td>\n",
       "      <td>107  TERRYWOOD CT</td>\n",
       "      <td>HAW RIVER</td>\n",
       "      <td>NC</td>\n",
       "      <td>27258</td>\n",
       "      <td>54</td>\n",
       "      <td>AA145641</td>\n",
       "    </tr>\n",
       "  </tbody>\n",
       "</table>\n",
       "</div>"
      ],
      "text/plain": [
       "  last_name first_name middle_name                   res_street_address  \\\n",
       "0     AABEL     EVELYN      LARSEN  4430 E GREENSBORO-CHAPEL HILL RD      \n",
       "1     AARON  CHRISTINA    CASTAGNA                    421  WHITT AVE      \n",
       "2     AARON    CLAUDIA      HAYDEN                    1013  EDITH ST      \n",
       "3     AARON      JAMES     MICHAEL             5608  OLD CHEROKEE LN      \n",
       "4     AARON     NATHAN      EDWARD                    421  WHITT AVE      \n",
       "5     AARON    RICHARD       BRIAN                    1013  EDITH ST      \n",
       "6     AARON     SANDRA     ESCOBAR                    1013  EDITH ST      \n",
       "7     AARON     WILLIE        DALE                    1013  EDITH ST      \n",
       "8  AARONSON       GENA        HOLT                 107  TERRYWOOD CT      \n",
       "9  AARONSON    MICHAEL     CHARLES                 107  TERRYWOOD CT      \n",
       "\n",
       "  res_city_desc state_cd  zip_code  birth_age      ncid  \n",
       "0        GRAHAM       NC     27253         80   AA56273  \n",
       "1    BURLINGTON       NC     27215         40   AA98377  \n",
       "2    BURLINGTON       NC     27215         71   AA69747  \n",
       "3        GRAHAM       NC     27253         68  AA170513  \n",
       "4    BURLINGTON       NC     27215         40   AA91549  \n",
       "5    BURLINGTON       NC     27215         43  AA125250  \n",
       "6    BURLINGTON       NC     27215         41  AA181361  \n",
       "7    BURLINGTON       NC     27215         72   AA71983  \n",
       "8     HAW RIVER       NC     27258         44  AA111384  \n",
       "9     HAW RIVER       NC     27258         54  AA145641  "
      ]
     },
     "execution_count": 7,
     "metadata": {},
     "output_type": "execute_result"
    }
   ],
   "source": [
    "df"
   ]
  },
  {
   "cell_type": "code",
   "execution_count": 57,
   "metadata": {},
   "outputs": [
    {
     "name": "stdout",
     "output_type": "stream",
     "text": [
      "<class 'pandas.core.frame.DataFrame'>\n",
      "RangeIndex: 7696365 entries, 0 to 7696364\n",
      "Data columns (total 9 columns):\n",
      " #   Column              Dtype  \n",
      "---  ------              -----  \n",
      " 0   last_name           object \n",
      " 1   first_name          object \n",
      " 2   middle_name         object \n",
      " 3   res_street_address  object \n",
      " 4   res_city_desc       object \n",
      " 5   state_cd            object \n",
      " 6   zip_code            float64\n",
      " 7   birth_age           int64  \n",
      " 8   ncid                object \n",
      "dtypes: float64(1), int64(1), object(7)\n",
      "memory usage: 528.5+ MB\n"
     ]
    }
   ],
   "source": [
    "df.dtypes\n",
    "df.info()"
   ]
  },
  {
   "cell_type": "code",
   "execution_count": 14,
   "metadata": {},
   "outputs": [
    {
     "data": {
      "text/plain": [
       "Index                       128\n",
       "last_name             488009978\n",
       "first_name            484950678\n",
       "middle_name           467005332\n",
       "res_street_address    600051384\n",
       "res_city_desc         507363369\n",
       "state_cd              454080135\n",
       "zip_code               61570920\n",
       "age                   523427718\n",
       "ncid                  496502364\n",
       "dtype: int64"
      ]
     },
     "execution_count": 14,
     "metadata": {},
     "output_type": "execute_result"
    }
   ],
   "source": [
    "df.memory_usage(deep=True)"
   ]
  },
  {
   "cell_type": "code",
   "execution_count": 59,
   "metadata": {},
   "outputs": [
    {
     "data": {
      "text/plain": [
       "Index(['last_name', 'first_name', 'middle_name', 'res_street_address',\n",
       "       'res_city_desc', 'state_cd', 'zip_code', 'birth_age', 'ncid'],\n",
       "      dtype='object')"
      ]
     },
     "execution_count": 59,
     "metadata": {},
     "output_type": "execute_result"
    }
   ],
   "source": [
    "df.columns"
   ]
  },
  {
   "cell_type": "code",
   "execution_count": null,
   "metadata": {},
   "outputs": [],
   "source": [
    "['last_name', 'first_name', 'middle_name', 'res_street_address',\n",
    "       'res_city_desc', 'state_cd', 'zip_code', 'birth_age', 'ncid']"
   ]
  },
  {
   "cell_type": "code",
   "execution_count": 16,
   "metadata": {
    "pycharm": {
     "name": "#%%\n"
    }
   },
   "outputs": [],
   "source": [
    "zdf = df.iloc[:, [8,1,0,3,4,6,7]]"
   ]
  },
  {
   "cell_type": "code",
   "execution_count": 13,
   "metadata": {
    "pycharm": {
     "name": "#%%\n"
    }
   },
   "outputs": [
    {
     "name": "stdout",
     "output_type": "stream",
     "text": [
      "last_name\n",
      "first_name\n",
      "middle_name\n",
      "res_street_address\n",
      "res_city_desc\n",
      "state_cd\n",
      "zip_code\n",
      "birth_age\n",
      "ncid\n"
     ]
    }
   ],
   "source": [
    "for x in df.it:\n",
    "    print(x)"
   ]
  },
  {
   "cell_type": "code",
   "execution_count": 17,
   "metadata": {},
   "outputs": [
    {
     "data": {
      "text/html": [
       "<div>\n",
       "<style scoped>\n",
       "    .dataframe tbody tr th:only-of-type {\n",
       "        vertical-align: middle;\n",
       "    }\n",
       "\n",
       "    .dataframe tbody tr th {\n",
       "        vertical-align: top;\n",
       "    }\n",
       "\n",
       "    .dataframe thead th {\n",
       "        text-align: right;\n",
       "    }\n",
       "</style>\n",
       "<table border=\"1\" class=\"dataframe\">\n",
       "  <thead>\n",
       "    <tr style=\"text-align: right;\">\n",
       "      <th></th>\n",
       "      <th>ncid</th>\n",
       "      <th>first_name</th>\n",
       "      <th>last_name</th>\n",
       "      <th>res_street_address</th>\n",
       "      <th>res_city_desc</th>\n",
       "      <th>zip_code</th>\n",
       "      <th>birth_age</th>\n",
       "    </tr>\n",
       "  </thead>\n",
       "  <tbody>\n",
       "    <tr>\n",
       "      <th>0</th>\n",
       "      <td>AA56273</td>\n",
       "      <td>EVELYN</td>\n",
       "      <td>AABEL</td>\n",
       "      <td>4430 E GREENSBORO-CHAPEL HILL RD</td>\n",
       "      <td>GRAHAM</td>\n",
       "      <td>27253</td>\n",
       "      <td>80</td>\n",
       "    </tr>\n",
       "    <tr>\n",
       "      <th>1</th>\n",
       "      <td>AA98377</td>\n",
       "      <td>CHRISTINA</td>\n",
       "      <td>AARON</td>\n",
       "      <td>421  WHITT AVE</td>\n",
       "      <td>BURLINGTON</td>\n",
       "      <td>27215</td>\n",
       "      <td>40</td>\n",
       "    </tr>\n",
       "    <tr>\n",
       "      <th>2</th>\n",
       "      <td>AA69747</td>\n",
       "      <td>CLAUDIA</td>\n",
       "      <td>AARON</td>\n",
       "      <td>1013  EDITH ST</td>\n",
       "      <td>BURLINGTON</td>\n",
       "      <td>27215</td>\n",
       "      <td>71</td>\n",
       "    </tr>\n",
       "    <tr>\n",
       "      <th>3</th>\n",
       "      <td>AA170513</td>\n",
       "      <td>JAMES</td>\n",
       "      <td>AARON</td>\n",
       "      <td>5608  OLD CHEROKEE LN</td>\n",
       "      <td>GRAHAM</td>\n",
       "      <td>27253</td>\n",
       "      <td>68</td>\n",
       "    </tr>\n",
       "    <tr>\n",
       "      <th>4</th>\n",
       "      <td>AA91549</td>\n",
       "      <td>NATHAN</td>\n",
       "      <td>AARON</td>\n",
       "      <td>421  WHITT AVE</td>\n",
       "      <td>BURLINGTON</td>\n",
       "      <td>27215</td>\n",
       "      <td>40</td>\n",
       "    </tr>\n",
       "    <tr>\n",
       "      <th>5</th>\n",
       "      <td>AA125250</td>\n",
       "      <td>RICHARD</td>\n",
       "      <td>AARON</td>\n",
       "      <td>1013  EDITH ST</td>\n",
       "      <td>BURLINGTON</td>\n",
       "      <td>27215</td>\n",
       "      <td>43</td>\n",
       "    </tr>\n",
       "    <tr>\n",
       "      <th>6</th>\n",
       "      <td>AA181361</td>\n",
       "      <td>SANDRA</td>\n",
       "      <td>AARON</td>\n",
       "      <td>1013  EDITH ST</td>\n",
       "      <td>BURLINGTON</td>\n",
       "      <td>27215</td>\n",
       "      <td>41</td>\n",
       "    </tr>\n",
       "    <tr>\n",
       "      <th>7</th>\n",
       "      <td>AA71983</td>\n",
       "      <td>WILLIE</td>\n",
       "      <td>AARON</td>\n",
       "      <td>1013  EDITH ST</td>\n",
       "      <td>BURLINGTON</td>\n",
       "      <td>27215</td>\n",
       "      <td>72</td>\n",
       "    </tr>\n",
       "    <tr>\n",
       "      <th>8</th>\n",
       "      <td>AA111384</td>\n",
       "      <td>GENA</td>\n",
       "      <td>AARONSON</td>\n",
       "      <td>107  TERRYWOOD CT</td>\n",
       "      <td>HAW RIVER</td>\n",
       "      <td>27258</td>\n",
       "      <td>44</td>\n",
       "    </tr>\n",
       "    <tr>\n",
       "      <th>9</th>\n",
       "      <td>AA145641</td>\n",
       "      <td>MICHAEL</td>\n",
       "      <td>AARONSON</td>\n",
       "      <td>107  TERRYWOOD CT</td>\n",
       "      <td>HAW RIVER</td>\n",
       "      <td>27258</td>\n",
       "      <td>54</td>\n",
       "    </tr>\n",
       "  </tbody>\n",
       "</table>\n",
       "</div>"
      ],
      "text/plain": [
       "       ncid first_name last_name                   res_street_address  \\\n",
       "0   AA56273     EVELYN     AABEL  4430 E GREENSBORO-CHAPEL HILL RD      \n",
       "1   AA98377  CHRISTINA     AARON                    421  WHITT AVE      \n",
       "2   AA69747    CLAUDIA     AARON                    1013  EDITH ST      \n",
       "3  AA170513      JAMES     AARON             5608  OLD CHEROKEE LN      \n",
       "4   AA91549     NATHAN     AARON                    421  WHITT AVE      \n",
       "5  AA125250    RICHARD     AARON                    1013  EDITH ST      \n",
       "6  AA181361     SANDRA     AARON                    1013  EDITH ST      \n",
       "7   AA71983     WILLIE     AARON                    1013  EDITH ST      \n",
       "8  AA111384       GENA  AARONSON                 107  TERRYWOOD CT      \n",
       "9  AA145641    MICHAEL  AARONSON                 107  TERRYWOOD CT      \n",
       "\n",
       "  res_city_desc  zip_code  birth_age  \n",
       "0        GRAHAM     27253         80  \n",
       "1    BURLINGTON     27215         40  \n",
       "2    BURLINGTON     27215         71  \n",
       "3        GRAHAM     27253         68  \n",
       "4    BURLINGTON     27215         40  \n",
       "5    BURLINGTON     27215         43  \n",
       "6    BURLINGTON     27215         41  \n",
       "7    BURLINGTON     27215         72  \n",
       "8     HAW RIVER     27258         44  \n",
       "9     HAW RIVER     27258         54  "
      ]
     },
     "execution_count": 17,
     "metadata": {},
     "output_type": "execute_result"
    }
   ],
   "source": [
    "zdf"
   ]
  },
  {
   "cell_type": "code",
   "execution_count": 26,
   "metadata": {},
   "outputs": [
    {
     "name": "stdout",
     "output_type": "stream",
     "text": [
      "EVELYNAABEL\n",
      "CHRISTINAAARON\n",
      "CLAUDIAAARON\n",
      "JAMESAARON\n",
      "NATHANAARON\n",
      "RICHARDAARON\n",
      "SANDRAAARON\n",
      "WILLIEAARON\n",
      "GENAAARONSON\n",
      "MICHAELAARONSON\n"
     ]
    }
   ],
   "source": [
    "for i in range(len(zdf)):\n",
    "    concat_str = ''\n",
    "    for token in zdf.iloc[i, [1,2]]:\n",
    "        concat_str+=str(token)\n",
    "    print(concat_str)"
   ]
  },
  {
   "cell_type": "code",
   "execution_count": null,
   "metadata": {},
   "outputs": [],
   "source": []
  }
 ],
 "metadata": {
  "kernelspec": {
   "display_name": "Python 3",
   "language": "python",
   "name": "python3"
  },
  "language_info": {
   "codemirror_mode": {
    "name": "ipython",
    "version": 3
   },
   "file_extension": ".py",
   "mimetype": "text/x-python",
   "name": "python",
   "nbconvert_exporter": "python",
   "pygments_lexer": "ipython3",
   "version": "3.7.7"
  }
 },
 "nbformat": 4,
 "nbformat_minor": 1
}
